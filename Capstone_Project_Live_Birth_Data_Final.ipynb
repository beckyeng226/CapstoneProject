{
 "cells": [
  {
   "cell_type": "markdown",
   "id": "8b917eff",
   "metadata": {},
   "source": [
    "# DTSC 691 Machine Learning Capstone Project:\n",
    "# Predictive Ability of Paternal Characteristics on Prenatal and Perinatal Outcomes\n",
    "## Rebecca Eng\n",
    "## Spring 1 2023"
   ]
  },
  {
   "cell_type": "markdown",
   "id": "17d71123",
   "metadata": {},
   "source": [
    "## Goals of the project\n",
    "\n",
    "Most of the research on prenatal and perinatal outcomes for mothers and infants focuses on maternal characteristics and demographics, and research on the impact of paternal characteristics and demographics is scarce (Mutsaerts et al., 2014).  However, the potential emotional and physical support fathers provide for the mother during the prenatal period may also play a role in outcomes for both the mother and the child.  Therefore, the intent of this project was to take a closer look at what paternal demographic characteristics can predict with regard to characteristics of the pregnancy and delivery and outcomes of the infant at birth.\n",
    "\n",
    "A study by Mutsaerts et al. (2014) examined paternal and maternal lifestyle characteristics and the effect those had on the mother’s health during pregnancy.  Specifically, the study considered paternal age, height, weight, smoking habits, alcohol consumption, level of physical activity, educational level, number of hours worked per week, and household income as predictors of complications during pregnancy or delivery, such as issues related to hypertension, and gestational diabetes, preterm birth, infants born small for gestational age (Mutsaerts et al., 2014).  Results indicated that paternal factors were correlated with maternal factors and were not associated with the measured pregnancy outcomes after controlling for maternal factors (Mutsaerts et al., 2014).  \n",
    "\n",
    "These results were not surprising given that the mother’s behaviors and lifestyle choices would be expected to have better predictive ability with these physical outcomes of the mother (hypertension, gestational diabetes, etc.) because they are more directly related to the mother’s physical health.  The present project attempted to examine social and environmental factors related to pregnancy and birth outcomes because fathers may have a more significant contribution to outcomes in those areas rather than on the physical health outcomes of the mother.  \n",
    "\n",
    "Using the 2021 Natality Public Use File from the CDC (https://www.cdc.gov/nchs/data_access/VitalStatsOnline.htm#Births), the  project examined the predictive ability of paternal characteristics to pregnancy outcomes for the mother and infant.  Specifically, machine learning models were used to measure how the demographic characteristics of the father (race, age, marital status, and education) predict: \n",
    "\n",
    "Characteristics of the pregnancy and delivery:\n",
    "* Number of prenatal care visits\n",
    "* WIC\n",
    "* Method of delivery (vaginal or cesarean)\n",
    "* Trial of labor was attempted (if delivery was via cesarean)\n",
    "\n",
    "Infant:\n",
    "* Period of gestation\n",
    "* Birth weight\n",
    "* Infant breastfed at discharge\n",
    "\n",
    "In addition, to determine how valuable the contribution of paternal characteristics is to predicting maternal and infant outcomes, the paternal results were compared with the predictive ability of the maternal demographics on the same variables, and the combination of the maternal and paternal characteristics was examined to see if this improved the predictive ability of the model.  It was hypothesized that paternal demographic characteristics would be predictive of the characteristics of the pregnancy and delivery and infant outcomes at birth and that inclusion of these paternal characteristics would improve the predictive ability of the maternal characteristics model when both sets of characteristics were combined."
   ]
  },
  {
   "cell_type": "code",
   "execution_count": 57,
   "id": "e440de4f",
   "metadata": {},
   "outputs": [],
   "source": [
    "#import standard libraries\n",
    "\n",
    "import numpy as np\n",
    "import pandas as pd\n",
    "import joblib\n",
    "\n",
    "import matplotlib.pyplot as plt\n",
    "import matplotlib as mpl\n",
    "from matplotlib import cm, figure\n",
    "\n",
    "from sklearn.impute import KNNImputer\n",
    "from sklearn.preprocessing import OneHotEncoder\n",
    "from sklearn.model_selection import train_test_split\n",
    "from sklearn.ensemble import RandomForestClassifier\n",
    "from sklearn.multioutput import MultiOutputClassifier\n",
    "from sklearn.ensemble import RandomForestRegressor\n",
    "from sklearn.multioutput import MultiOutputRegressor\n",
    "from sklearn.model_selection import GridSearchCV\n",
    "from sklearn.model_selection import RandomizedSearchCV\n",
    "from sklearn.inspection import permutation_importance\n",
    "from sklearn.metrics import confusion_matrix, ConfusionMatrixDisplay\n",
    "from sklearn.metrics import accuracy_score, precision_score, recall_score, f1_score\n",
    "from sklearn.metrics import mean_squared_error\n",
    "\n",
    "%matplotlib inline\n",
    "mpl.rc('axes', titlesize=20)\n",
    "mpl.rc('axes', labelsize=14)\n",
    "mpl.rc('xtick', labelsize=12)\n",
    "mpl.rc('ytick', labelsize=12)"
   ]
  },
  {
   "cell_type": "markdown",
   "id": "54d9b049",
   "metadata": {},
   "source": [
    "## Data Description\n",
    "\n",
    "The full dataset consists of 3,669,928 records of live births of US residents born in the United States from the 50 states, New York City, and Washington DC during the year 2021.  Data were reported to the Centers for Disease Control and Prevention’s (CDC) National Center for Health Statistics (NCHS) by each state’s and city’s Vital Statistics Cooperative Program and aggregated at a national level.  Data includes all births occurring in the US to both US residents and non-residents, but does not include births to residents living in other countries.\n",
    "\n",
    "The full dataset includes 225 variables, some of which are re-coded versions of other variables.  For example, mother’s race is reported in 31 potential categories, but then this information is re-coded into a 6 category variable and a 15 category variable.  Also, the data include variables indicating if data for variables was imputed or not reported.  The current project used 16 variables: mother’s age, race, Hispanic origin, marital status, and education level, father’s age, race, Hispanic origin, and education level, number of prenatal visits, whether or not WIC (support for Women, Infants and Children) benefits were received during pregnancy, trial of labor attempted (if delivered by cesarean), delivery method (vaginal or cesarean), number of weeks of gestation, birth weight, and report of whether or not the infant was breastfed at discharge.\n",
    "\n",
    "Data files and the User’s Guide can be downloaded from https://www.cdc.gov/nchs/data_access/VitalStatsOnline.htm "
   ]
  },
  {
   "cell_type": "code",
   "execution_count": 58,
   "id": "3d039c46",
   "metadata": {
    "scrolled": true
   },
   "outputs": [
    {
     "data": {
      "text/html": [
       "<div>\n",
       "<style scoped>\n",
       "    .dataframe tbody tr th:only-of-type {\n",
       "        vertical-align: middle;\n",
       "    }\n",
       "\n",
       "    .dataframe tbody tr th {\n",
       "        vertical-align: top;\n",
       "    }\n",
       "\n",
       "    .dataframe thead th {\n",
       "        text-align: right;\n",
       "    }\n",
       "</style>\n",
       "<table border=\"1\" class=\"dataframe\">\n",
       "  <thead>\n",
       "    <tr style=\"text-align: right;\">\n",
       "      <th></th>\n",
       "      <th>MAGER</th>\n",
       "      <th>MRACE31</th>\n",
       "      <th>MHISP_R</th>\n",
       "      <th>DMAR</th>\n",
       "      <th>MEDUC</th>\n",
       "      <th>FAGECOMB</th>\n",
       "      <th>FRACE31</th>\n",
       "      <th>FHISP_R</th>\n",
       "      <th>FEDUC</th>\n",
       "      <th>PREVIS</th>\n",
       "      <th>WIC</th>\n",
       "      <th>ME_TRIAL</th>\n",
       "      <th>DMETH_REC</th>\n",
       "      <th>OEGEST_COMB</th>\n",
       "      <th>OEGEST_R3</th>\n",
       "      <th>DBWT</th>\n",
       "      <th>BFED</th>\n",
       "    </tr>\n",
       "  </thead>\n",
       "  <tbody>\n",
       "    <tr>\n",
       "      <th>0</th>\n",
       "      <td>22</td>\n",
       "      <td>1</td>\n",
       "      <td>4</td>\n",
       "      <td>1.0</td>\n",
       "      <td>3</td>\n",
       "      <td>23</td>\n",
       "      <td>99</td>\n",
       "      <td>2</td>\n",
       "      <td>4</td>\n",
       "      <td>99</td>\n",
       "      <td>Y</td>\n",
       "      <td>X</td>\n",
       "      <td>1</td>\n",
       "      <td>40</td>\n",
       "      <td>2</td>\n",
       "      <td>3670</td>\n",
       "      <td>Y</td>\n",
       "    </tr>\n",
       "    <tr>\n",
       "      <th>1</th>\n",
       "      <td>31</td>\n",
       "      <td>22</td>\n",
       "      <td>0</td>\n",
       "      <td>2.0</td>\n",
       "      <td>4</td>\n",
       "      <td>27</td>\n",
       "      <td>5</td>\n",
       "      <td>0</td>\n",
       "      <td>3</td>\n",
       "      <td>99</td>\n",
       "      <td>N</td>\n",
       "      <td>X</td>\n",
       "      <td>1</td>\n",
       "      <td>39</td>\n",
       "      <td>2</td>\n",
       "      <td>3210</td>\n",
       "      <td>Y</td>\n",
       "    </tr>\n",
       "    <tr>\n",
       "      <th>2</th>\n",
       "      <td>29</td>\n",
       "      <td>1</td>\n",
       "      <td>0</td>\n",
       "      <td>2.0</td>\n",
       "      <td>4</td>\n",
       "      <td>29</td>\n",
       "      <td>1</td>\n",
       "      <td>0</td>\n",
       "      <td>4</td>\n",
       "      <td>8</td>\n",
       "      <td>N</td>\n",
       "      <td>X</td>\n",
       "      <td>1</td>\n",
       "      <td>40</td>\n",
       "      <td>2</td>\n",
       "      <td>3997</td>\n",
       "      <td>Y</td>\n",
       "    </tr>\n",
       "    <tr>\n",
       "      <th>3</th>\n",
       "      <td>39</td>\n",
       "      <td>1</td>\n",
       "      <td>3</td>\n",
       "      <td>2.0</td>\n",
       "      <td>6</td>\n",
       "      <td>40</td>\n",
       "      <td>1</td>\n",
       "      <td>0</td>\n",
       "      <td>5</td>\n",
       "      <td>10</td>\n",
       "      <td>N</td>\n",
       "      <td>X</td>\n",
       "      <td>1</td>\n",
       "      <td>39</td>\n",
       "      <td>2</td>\n",
       "      <td>3510</td>\n",
       "      <td>Y</td>\n",
       "    </tr>\n",
       "    <tr>\n",
       "      <th>4</th>\n",
       "      <td>20</td>\n",
       "      <td>5</td>\n",
       "      <td>0</td>\n",
       "      <td>2.0</td>\n",
       "      <td>3</td>\n",
       "      <td>28</td>\n",
       "      <td>5</td>\n",
       "      <td>0</td>\n",
       "      <td>3</td>\n",
       "      <td>11</td>\n",
       "      <td>N</td>\n",
       "      <td>X</td>\n",
       "      <td>1</td>\n",
       "      <td>38</td>\n",
       "      <td>2</td>\n",
       "      <td>3100</td>\n",
       "      <td>N</td>\n",
       "    </tr>\n",
       "  </tbody>\n",
       "</table>\n",
       "</div>"
      ],
      "text/plain": [
       "   MAGER  MRACE31  MHISP_R  DMAR  MEDUC  FAGECOMB  FRACE31  FHISP_R  FEDUC  \\\n",
       "0     22        1        4   1.0      3        23       99        2      4   \n",
       "1     31       22        0   2.0      4        27        5        0      3   \n",
       "2     29        1        0   2.0      4        29        1        0      4   \n",
       "3     39        1        3   2.0      6        40        1        0      5   \n",
       "4     20        5        0   2.0      3        28        5        0      3   \n",
       "\n",
       "   PREVIS WIC ME_TRIAL  DMETH_REC  OEGEST_COMB  OEGEST_R3  DBWT BFED  \n",
       "0      99   Y        X          1           40          2  3670    Y  \n",
       "1      99   N        X          1           39          2  3210    Y  \n",
       "2       8   N        X          1           40          2  3997    Y  \n",
       "3      10   N        X          1           39          2  3510    Y  \n",
       "4      11   N        X          1           38          2  3100    N  "
      ]
     },
     "execution_count": 58,
     "metadata": {},
     "output_type": "execute_result"
    }
   ],
   "source": [
    "#import data\n",
    "\n",
    "colspecs = [(74, 76), (104, 106), (114, 115), (119, 120), (123, 124), (146, 148), (150, 152), (159, 160), \n",
    "            (162, 163), (237, 239), (250, 251), (402, 403), (407, 408), (498, 500), (502, 503), (503, 507), (568, 569)]\n",
    "colnames = ['MAGER', 'MRACE31', 'MHISP_R', 'DMAR', 'MEDUC', 'FAGECOMB', 'FRACE31', 'FHISP_R', 'FEDUC', 'PREVIS', \n",
    "           'WIC', 'ME_TRIAL', 'DMETH_REC', 'OEGEST_COMB', 'OEGEST_R3', 'DBWT', 'BFED']\n",
    "\n",
    "data = pd.read_fwf('Nat2021US.txt', colspecs=colspecs, names=colnames)\n",
    "data.head()"
   ]
  },
  {
   "cell_type": "markdown",
   "id": "4688cbfa",
   "metadata": {},
   "source": [
    "## Descriptive and Exploratory Analyses"
   ]
  },
  {
   "cell_type": "code",
   "execution_count": 59,
   "id": "d693bb15",
   "metadata": {},
   "outputs": [
    {
     "name": "stdout",
     "output_type": "stream",
     "text": [
      "<class 'pandas.core.frame.DataFrame'>\n",
      "RangeIndex: 3669928 entries, 0 to 3669927\n",
      "Data columns (total 17 columns):\n",
      " #   Column       Dtype  \n",
      "---  ------       -----  \n",
      " 0   MAGER        int64  \n",
      " 1   MRACE31      int64  \n",
      " 2   MHISP_R      int64  \n",
      " 3   DMAR         float64\n",
      " 4   MEDUC        int64  \n",
      " 5   FAGECOMB     int64  \n",
      " 6   FRACE31      int64  \n",
      " 7   FHISP_R      int64  \n",
      " 8   FEDUC        int64  \n",
      " 9   PREVIS       int64  \n",
      " 10  WIC          object \n",
      " 11  ME_TRIAL     object \n",
      " 12  DMETH_REC    int64  \n",
      " 13  OEGEST_COMB  int64  \n",
      " 14  OEGEST_R3    int64  \n",
      " 15  DBWT         int64  \n",
      " 16  BFED         object \n",
      "dtypes: float64(1), int64(13), object(3)\n",
      "memory usage: 476.0+ MB\n"
     ]
    }
   ],
   "source": [
    "data.info()"
   ]
  },
  {
   "cell_type": "code",
   "execution_count": 60,
   "id": "cecd2f2e",
   "metadata": {},
   "outputs": [
    {
     "data": {
      "text/html": [
       "<div>\n",
       "<style scoped>\n",
       "    .dataframe tbody tr th:only-of-type {\n",
       "        vertical-align: middle;\n",
       "    }\n",
       "\n",
       "    .dataframe tbody tr th {\n",
       "        vertical-align: top;\n",
       "    }\n",
       "\n",
       "    .dataframe thead th {\n",
       "        text-align: right;\n",
       "    }\n",
       "</style>\n",
       "<table border=\"1\" class=\"dataframe\">\n",
       "  <thead>\n",
       "    <tr style=\"text-align: right;\">\n",
       "      <th></th>\n",
       "      <th>MAGER</th>\n",
       "      <th>MRACE31</th>\n",
       "      <th>MHISP_R</th>\n",
       "      <th>DMAR</th>\n",
       "      <th>MEDUC</th>\n",
       "      <th>FAGECOMB</th>\n",
       "      <th>FRACE31</th>\n",
       "      <th>FHISP_R</th>\n",
       "      <th>FEDUC</th>\n",
       "      <th>PREVIS</th>\n",
       "      <th>DMETH_REC</th>\n",
       "      <th>OEGEST_COMB</th>\n",
       "      <th>OEGEST_R3</th>\n",
       "      <th>DBWT</th>\n",
       "    </tr>\n",
       "  </thead>\n",
       "  <tbody>\n",
       "    <tr>\n",
       "      <th>count</th>\n",
       "      <td>3.669928e+06</td>\n",
       "      <td>3.669928e+06</td>\n",
       "      <td>3.669928e+06</td>\n",
       "      <td>3.248840e+06</td>\n",
       "      <td>3.669928e+06</td>\n",
       "      <td>3.669928e+06</td>\n",
       "      <td>3.669928e+06</td>\n",
       "      <td>3.669928e+06</td>\n",
       "      <td>3.669928e+06</td>\n",
       "      <td>3.669928e+06</td>\n",
       "      <td>3.669928e+06</td>\n",
       "      <td>3.669928e+06</td>\n",
       "      <td>3.669928e+06</td>\n",
       "      <td>3.669928e+06</td>\n",
       "    </tr>\n",
       "    <tr>\n",
       "      <th>mean</th>\n",
       "      <td>2.940777e+01</td>\n",
       "      <td>1.632705e+00</td>\n",
       "      <td>6.498057e-01</td>\n",
       "      <td>1.401112e+00</td>\n",
       "      <td>4.520693e+00</td>\n",
       "      <td>3.953426e+01</td>\n",
       "      <td>1.946897e+01</td>\n",
       "      <td>1.616333e+00</td>\n",
       "      <td>4.950681e+00</td>\n",
       "      <td>1.278668e+01</td>\n",
       "      <td>1.327051e+00</td>\n",
       "      <td>3.838317e+01</td>\n",
       "      <td>1.896093e+00</td>\n",
       "      <td>3.256086e+03</td>\n",
       "    </tr>\n",
       "    <tr>\n",
       "      <th>std</th>\n",
       "      <td>5.771910e+00</td>\n",
       "      <td>1.836997e+00</td>\n",
       "      <td>1.517602e+00</td>\n",
       "      <td>4.901238e-01</td>\n",
       "      <td>1.823082e+00</td>\n",
       "      <td>2.207427e+01</td>\n",
       "      <td>3.771031e+01</td>\n",
       "      <td>3.045347e+00</td>\n",
       "      <td>2.285996e+00</td>\n",
       "      <td>1.305470e+01</td>\n",
       "      <td>5.152668e-01</td>\n",
       "      <td>2.741673e+00</td>\n",
       "      <td>3.079186e-01</td>\n",
       "      <td>6.239533e+02</td>\n",
       "    </tr>\n",
       "    <tr>\n",
       "      <th>min</th>\n",
       "      <td>1.200000e+01</td>\n",
       "      <td>1.000000e+00</td>\n",
       "      <td>0.000000e+00</td>\n",
       "      <td>1.000000e+00</td>\n",
       "      <td>1.000000e+00</td>\n",
       "      <td>9.000000e+00</td>\n",
       "      <td>1.000000e+00</td>\n",
       "      <td>0.000000e+00</td>\n",
       "      <td>1.000000e+00</td>\n",
       "      <td>0.000000e+00</td>\n",
       "      <td>1.000000e+00</td>\n",
       "      <td>1.700000e+01</td>\n",
       "      <td>1.000000e+00</td>\n",
       "      <td>2.270000e+02</td>\n",
       "    </tr>\n",
       "    <tr>\n",
       "      <th>25%</th>\n",
       "      <td>2.500000e+01</td>\n",
       "      <td>1.000000e+00</td>\n",
       "      <td>0.000000e+00</td>\n",
       "      <td>1.000000e+00</td>\n",
       "      <td>3.000000e+00</td>\n",
       "      <td>2.800000e+01</td>\n",
       "      <td>1.000000e+00</td>\n",
       "      <td>0.000000e+00</td>\n",
       "      <td>3.000000e+00</td>\n",
       "      <td>9.000000e+00</td>\n",
       "      <td>1.000000e+00</td>\n",
       "      <td>3.800000e+01</td>\n",
       "      <td>2.000000e+00</td>\n",
       "      <td>2.948000e+03</td>\n",
       "    </tr>\n",
       "    <tr>\n",
       "      <th>50%</th>\n",
       "      <td>3.000000e+01</td>\n",
       "      <td>1.000000e+00</td>\n",
       "      <td>0.000000e+00</td>\n",
       "      <td>1.000000e+00</td>\n",
       "      <td>4.000000e+00</td>\n",
       "      <td>3.300000e+01</td>\n",
       "      <td>1.000000e+00</td>\n",
       "      <td>0.000000e+00</td>\n",
       "      <td>4.000000e+00</td>\n",
       "      <td>1.100000e+01</td>\n",
       "      <td>1.000000e+00</td>\n",
       "      <td>3.900000e+01</td>\n",
       "      <td>2.000000e+00</td>\n",
       "      <td>3.290000e+03</td>\n",
       "    </tr>\n",
       "    <tr>\n",
       "      <th>75%</th>\n",
       "      <td>3.400000e+01</td>\n",
       "      <td>2.000000e+00</td>\n",
       "      <td>1.000000e+00</td>\n",
       "      <td>2.000000e+00</td>\n",
       "      <td>6.000000e+00</td>\n",
       "      <td>3.800000e+01</td>\n",
       "      <td>4.000000e+00</td>\n",
       "      <td>1.000000e+00</td>\n",
       "      <td>6.000000e+00</td>\n",
       "      <td>1.300000e+01</td>\n",
       "      <td>2.000000e+00</td>\n",
       "      <td>3.900000e+01</td>\n",
       "      <td>2.000000e+00</td>\n",
       "      <td>3.620000e+03</td>\n",
       "    </tr>\n",
       "    <tr>\n",
       "      <th>max</th>\n",
       "      <td>5.000000e+01</td>\n",
       "      <td>3.100000e+01</td>\n",
       "      <td>9.000000e+00</td>\n",
       "      <td>2.000000e+00</td>\n",
       "      <td>9.000000e+00</td>\n",
       "      <td>9.900000e+01</td>\n",
       "      <td>9.900000e+01</td>\n",
       "      <td>9.000000e+00</td>\n",
       "      <td>9.000000e+00</td>\n",
       "      <td>9.900000e+01</td>\n",
       "      <td>9.000000e+00</td>\n",
       "      <td>9.900000e+01</td>\n",
       "      <td>3.000000e+00</td>\n",
       "      <td>9.999000e+03</td>\n",
       "    </tr>\n",
       "  </tbody>\n",
       "</table>\n",
       "</div>"
      ],
      "text/plain": [
       "              MAGER       MRACE31       MHISP_R          DMAR         MEDUC  \\\n",
       "count  3.669928e+06  3.669928e+06  3.669928e+06  3.248840e+06  3.669928e+06   \n",
       "mean   2.940777e+01  1.632705e+00  6.498057e-01  1.401112e+00  4.520693e+00   \n",
       "std    5.771910e+00  1.836997e+00  1.517602e+00  4.901238e-01  1.823082e+00   \n",
       "min    1.200000e+01  1.000000e+00  0.000000e+00  1.000000e+00  1.000000e+00   \n",
       "25%    2.500000e+01  1.000000e+00  0.000000e+00  1.000000e+00  3.000000e+00   \n",
       "50%    3.000000e+01  1.000000e+00  0.000000e+00  1.000000e+00  4.000000e+00   \n",
       "75%    3.400000e+01  2.000000e+00  1.000000e+00  2.000000e+00  6.000000e+00   \n",
       "max    5.000000e+01  3.100000e+01  9.000000e+00  2.000000e+00  9.000000e+00   \n",
       "\n",
       "           FAGECOMB       FRACE31       FHISP_R         FEDUC        PREVIS  \\\n",
       "count  3.669928e+06  3.669928e+06  3.669928e+06  3.669928e+06  3.669928e+06   \n",
       "mean   3.953426e+01  1.946897e+01  1.616333e+00  4.950681e+00  1.278668e+01   \n",
       "std    2.207427e+01  3.771031e+01  3.045347e+00  2.285996e+00  1.305470e+01   \n",
       "min    9.000000e+00  1.000000e+00  0.000000e+00  1.000000e+00  0.000000e+00   \n",
       "25%    2.800000e+01  1.000000e+00  0.000000e+00  3.000000e+00  9.000000e+00   \n",
       "50%    3.300000e+01  1.000000e+00  0.000000e+00  4.000000e+00  1.100000e+01   \n",
       "75%    3.800000e+01  4.000000e+00  1.000000e+00  6.000000e+00  1.300000e+01   \n",
       "max    9.900000e+01  9.900000e+01  9.000000e+00  9.000000e+00  9.900000e+01   \n",
       "\n",
       "          DMETH_REC   OEGEST_COMB     OEGEST_R3          DBWT  \n",
       "count  3.669928e+06  3.669928e+06  3.669928e+06  3.669928e+06  \n",
       "mean   1.327051e+00  3.838317e+01  1.896093e+00  3.256086e+03  \n",
       "std    5.152668e-01  2.741673e+00  3.079186e-01  6.239533e+02  \n",
       "min    1.000000e+00  1.700000e+01  1.000000e+00  2.270000e+02  \n",
       "25%    1.000000e+00  3.800000e+01  2.000000e+00  2.948000e+03  \n",
       "50%    1.000000e+00  3.900000e+01  2.000000e+00  3.290000e+03  \n",
       "75%    2.000000e+00  3.900000e+01  2.000000e+00  3.620000e+03  \n",
       "max    9.000000e+00  9.900000e+01  3.000000e+00  9.999000e+03  "
      ]
     },
     "execution_count": 60,
     "metadata": {},
     "output_type": "execute_result"
    }
   ],
   "source": [
    "data.describe()"
   ]
  },
  {
   "cell_type": "code",
   "execution_count": 61,
   "id": "847cda1b",
   "metadata": {},
   "outputs": [],
   "source": [
    "corr = data.corr()"
   ]
  },
  {
   "cell_type": "code",
   "execution_count": 62,
   "id": "5dacac4f",
   "metadata": {},
   "outputs": [
    {
     "data": {
      "text/html": [
       "<style  type=\"text/css\" >\n",
       "#T_03e18_row0_col0,#T_03e18_row1_col1,#T_03e18_row2_col2,#T_03e18_row3_col3,#T_03e18_row4_col4,#T_03e18_row5_col5,#T_03e18_row6_col6,#T_03e18_row7_col7,#T_03e18_row8_col8,#T_03e18_row9_col9,#T_03e18_row10_col10,#T_03e18_row11_col11,#T_03e18_row12_col12,#T_03e18_row13_col13{\n",
       "            background-color:  #b40426;\n",
       "            color:  #f1f1f1;\n",
       "        }#T_03e18_row0_col1,#T_03e18_row0_col7,#T_03e18_row1_col13,#T_03e18_row2_col11,#T_03e18_row9_col8,#T_03e18_row13_col9{\n",
       "            background-color:  #4c66d6;\n",
       "            color:  #000000;\n",
       "        }#T_03e18_row0_col2,#T_03e18_row12_col1,#T_03e18_row12_col9{\n",
       "            background-color:  #465ecf;\n",
       "            color:  #f1f1f1;\n",
       "        }#T_03e18_row0_col3,#T_03e18_row10_col1{\n",
       "            background-color:  #4961d2;\n",
       "            color:  #f1f1f1;\n",
       "        }#T_03e18_row0_col4,#T_03e18_row6_col3{\n",
       "            background-color:  #edd1c2;\n",
       "            color:  #000000;\n",
       "        }#T_03e18_row0_col5,#T_03e18_row0_col8,#T_03e18_row9_col10,#T_03e18_row12_col6{\n",
       "            background-color:  #6c8ff1;\n",
       "            color:  #000000;\n",
       "        }#T_03e18_row0_col6,#T_03e18_row4_col1{\n",
       "            background-color:  #4f69d9;\n",
       "            color:  #000000;\n",
       "        }#T_03e18_row0_col9,#T_03e18_row8_col11{\n",
       "            background-color:  #485fd1;\n",
       "            color:  #f1f1f1;\n",
       "        }#T_03e18_row0_col10{\n",
       "            background-color:  #81a4fb;\n",
       "            color:  #000000;\n",
       "        }#T_03e18_row0_col11,#T_03e18_row6_col9{\n",
       "            background-color:  #3e51c5;\n",
       "            color:  #f1f1f1;\n",
       "        }#T_03e18_row0_col12,#T_03e18_row3_col8,#T_03e18_row11_col5,#T_03e18_row11_col9{\n",
       "            background-color:  #5572df;\n",
       "            color:  #000000;\n",
       "        }#T_03e18_row0_col13,#T_03e18_row2_col5,#T_03e18_row13_col6{\n",
       "            background-color:  #6384eb;\n",
       "            color:  #000000;\n",
       "        }#T_03e18_row1_col0,#T_03e18_row11_col3{\n",
       "            background-color:  #94b6ff;\n",
       "            color:  #000000;\n",
       "        }#T_03e18_row1_col2,#T_03e18_row8_col2,#T_03e18_row10_col11{\n",
       "            background-color:  #4055c8;\n",
       "            color:  #f1f1f1;\n",
       "        }#T_03e18_row1_col3{\n",
       "            background-color:  #aac7fd;\n",
       "            color:  #000000;\n",
       "        }#T_03e18_row1_col4{\n",
       "            background-color:  #a3c2fe;\n",
       "            color:  #000000;\n",
       "        }#T_03e18_row1_col5,#T_03e18_row6_col0,#T_03e18_row12_col7{\n",
       "            background-color:  #6b8df0;\n",
       "            color:  #000000;\n",
       "        }#T_03e18_row1_col6{\n",
       "            background-color:  #7da0f9;\n",
       "            color:  #000000;\n",
       "        }#T_03e18_row1_col7,#T_03e18_row10_col6{\n",
       "            background-color:  #799cf8;\n",
       "            color:  #000000;\n",
       "        }#T_03e18_row1_col8,#T_03e18_row3_col1,#T_03e18_row8_col1,#T_03e18_row13_col10{\n",
       "            background-color:  #5875e1;\n",
       "            color:  #000000;\n",
       "        }#T_03e18_row1_col9,#T_03e18_row1_col11,#T_03e18_row5_col13,#T_03e18_row7_col13,#T_03e18_row13_col8{\n",
       "            background-color:  #4358cb;\n",
       "            color:  #f1f1f1;\n",
       "        }#T_03e18_row1_col10,#T_03e18_row9_col5{\n",
       "            background-color:  #5d7ce6;\n",
       "            color:  #000000;\n",
       "        }#T_03e18_row1_col12,#T_03e18_row8_col12,#T_03e18_row9_col11{\n",
       "            background-color:  #5a78e4;\n",
       "            color:  #000000;\n",
       "        }#T_03e18_row2_col0{\n",
       "            background-color:  #89acfd;\n",
       "            color:  #000000;\n",
       "        }#T_03e18_row2_col1,#T_03e18_row2_col8,#T_03e18_row3_col0,#T_03e18_row3_col4,#T_03e18_row3_col9,#T_03e18_row3_col11,#T_03e18_row3_col13,#T_03e18_row4_col2,#T_03e18_row4_col3,#T_03e18_row4_col5,#T_03e18_row4_col6,#T_03e18_row4_col7,#T_03e18_row5_col11,#T_03e18_row10_col12,#T_03e18_row12_col10{\n",
       "            background-color:  #3b4cc0;\n",
       "            color:  #f1f1f1;\n",
       "        }#T_03e18_row2_col3{\n",
       "            background-color:  #b7cff9;\n",
       "            color:  #000000;\n",
       "        }#T_03e18_row2_col4{\n",
       "            background-color:  #8caffe;\n",
       "            color:  #000000;\n",
       "        }#T_03e18_row2_col6{\n",
       "            background-color:  #bcd2f7;\n",
       "            color:  #000000;\n",
       "        }#T_03e18_row2_col7{\n",
       "            background-color:  #cfdaea;\n",
       "            color:  #000000;\n",
       "        }#T_03e18_row2_col9,#T_03e18_row8_col9{\n",
       "            background-color:  #445acc;\n",
       "            color:  #f1f1f1;\n",
       "        }#T_03e18_row2_col10,#T_03e18_row9_col12,#T_03e18_row13_col7{\n",
       "            background-color:  #6282ea;\n",
       "            color:  #000000;\n",
       "        }#T_03e18_row2_col12,#T_03e18_row6_col10{\n",
       "            background-color:  #5e7de7;\n",
       "            color:  #000000;\n",
       "        }#T_03e18_row2_col13{\n",
       "            background-color:  #5977e3;\n",
       "            color:  #000000;\n",
       "        }#T_03e18_row3_col2{\n",
       "            background-color:  #6f92f3;\n",
       "            color:  #000000;\n",
       "        }#T_03e18_row3_col5{\n",
       "            background-color:  #c3d5f4;\n",
       "            color:  #000000;\n",
       "        }#T_03e18_row3_col6{\n",
       "            background-color:  #dedcdb;\n",
       "            color:  #000000;\n",
       "        }#T_03e18_row3_col7,#T_03e18_row8_col4{\n",
       "            background-color:  #e5d8d1;\n",
       "            color:  #000000;\n",
       "        }#T_03e18_row3_col10{\n",
       "            background-color:  #5b7ae5;\n",
       "            color:  #000000;\n",
       "        }#T_03e18_row3_col12,#T_03e18_row7_col12,#T_03e18_row10_col9,#T_03e18_row12_col2,#T_03e18_row13_col2{\n",
       "            background-color:  #506bda;\n",
       "            color:  #000000;\n",
       "        }#T_03e18_row4_col0{\n",
       "            background-color:  #e9d5cb;\n",
       "            color:  #000000;\n",
       "        }#T_03e18_row4_col8,#T_03e18_row7_col2{\n",
       "            background-color:  #b6cefa;\n",
       "            color:  #000000;\n",
       "        }#T_03e18_row4_col9,#T_03e18_row5_col12,#T_03e18_row6_col1{\n",
       "            background-color:  #4e68d8;\n",
       "            color:  #000000;\n",
       "        }#T_03e18_row4_col10{\n",
       "            background-color:  #6687ed;\n",
       "            color:  #000000;\n",
       "        }#T_03e18_row4_col11,#T_03e18_row5_col1,#T_03e18_row8_col13{\n",
       "            background-color:  #536edd;\n",
       "            color:  #000000;\n",
       "        }#T_03e18_row4_col12{\n",
       "            background-color:  #6788ee;\n",
       "            color:  #000000;\n",
       "        }#T_03e18_row4_col13{\n",
       "            background-color:  #6e90f2;\n",
       "            color:  #000000;\n",
       "        }#T_03e18_row5_col0,#T_03e18_row13_col0{\n",
       "            background-color:  #9bbcff;\n",
       "            color:  #000000;\n",
       "        }#T_03e18_row5_col2,#T_03e18_row6_col12,#T_03e18_row9_col2,#T_03e18_row12_col5{\n",
       "            background-color:  #516ddb;\n",
       "            color:  #000000;\n",
       "        }#T_03e18_row5_col3{\n",
       "            background-color:  #e3d9d3;\n",
       "            color:  #000000;\n",
       "        }#T_03e18_row5_col4{\n",
       "            background-color:  #7b9ff9;\n",
       "            color:  #000000;\n",
       "        }#T_03e18_row5_col6{\n",
       "            background-color:  #f39475;\n",
       "            color:  #000000;\n",
       "        }#T_03e18_row5_col7{\n",
       "            background-color:  #e67259;\n",
       "            color:  #000000;\n",
       "        }#T_03e18_row5_col8,#T_03e18_row11_col12{\n",
       "            background-color:  #f7b89c;\n",
       "            color:  #000000;\n",
       "        }#T_03e18_row5_col9,#T_03e18_row7_col9{\n",
       "            background-color:  #3d50c3;\n",
       "            color:  #f1f1f1;\n",
       "        }#T_03e18_row5_col10,#T_03e18_row6_col4,#T_03e18_row7_col4,#T_03e18_row9_col13{\n",
       "            background-color:  #6485ec;\n",
       "            color:  #000000;\n",
       "        }#T_03e18_row6_col2{\n",
       "            background-color:  #9ebeff;\n",
       "            color:  #000000;\n",
       "        }#T_03e18_row6_col5{\n",
       "            background-color:  #f59c7d;\n",
       "            color:  #000000;\n",
       "        }#T_03e18_row6_col7,#T_03e18_row7_col6{\n",
       "            background-color:  #e57058;\n",
       "            color:  #000000;\n",
       "        }#T_03e18_row6_col8{\n",
       "            background-color:  #d8dce2;\n",
       "            color:  #000000;\n",
       "        }#T_03e18_row6_col11,#T_03e18_row7_col11{\n",
       "            background-color:  #3f53c6;\n",
       "            color:  #f1f1f1;\n",
       "        }#T_03e18_row6_col13,#T_03e18_row11_col1,#T_03e18_row12_col8{\n",
       "            background-color:  #455cce;\n",
       "            color:  #f1f1f1;\n",
       "        }#T_03e18_row7_col0,#T_03e18_row10_col5{\n",
       "            background-color:  #688aef;\n",
       "            color:  #000000;\n",
       "        }#T_03e18_row7_col1{\n",
       "            background-color:  #4a63d3;\n",
       "            color:  #f1f1f1;\n",
       "        }#T_03e18_row7_col3{\n",
       "            background-color:  #f1ccb8;\n",
       "            color:  #000000;\n",
       "        }#T_03e18_row7_col5{\n",
       "            background-color:  #e9785d;\n",
       "            color:  #000000;\n",
       "        }#T_03e18_row7_col8{\n",
       "            background-color:  #e8d6cc;\n",
       "            color:  #000000;\n",
       "        }#T_03e18_row7_col10,#T_03e18_row8_col10{\n",
       "            background-color:  #5f7fe8;\n",
       "            color:  #000000;\n",
       "        }#T_03e18_row8_col0,#T_03e18_row10_col0,#T_03e18_row13_col4{\n",
       "            background-color:  #afcafc;\n",
       "            color:  #000000;\n",
       "        }#T_03e18_row8_col3{\n",
       "            background-color:  #a7c5fe;\n",
       "            color:  #000000;\n",
       "        }#T_03e18_row8_col5{\n",
       "            background-color:  #f7af91;\n",
       "            color:  #000000;\n",
       "        }#T_03e18_row8_col6,#T_03e18_row13_col12{\n",
       "            background-color:  #ebd3c6;\n",
       "            color:  #000000;\n",
       "        }#T_03e18_row8_col7{\n",
       "            background-color:  #f3c8b2;\n",
       "            color:  #000000;\n",
       "        }#T_03e18_row9_col0{\n",
       "            background-color:  #97b8ff;\n",
       "            color:  #000000;\n",
       "        }#T_03e18_row9_col1,#T_03e18_row10_col8,#T_03e18_row11_col8,#T_03e18_row13_col5{\n",
       "            background-color:  #4b64d5;\n",
       "            color:  #f1f1f1;\n",
       "        }#T_03e18_row9_col3{\n",
       "            background-color:  #98b9ff;\n",
       "            color:  #000000;\n",
       "        }#T_03e18_row9_col4,#T_03e18_row11_col4{\n",
       "            background-color:  #a9c6fd;\n",
       "            color:  #000000;\n",
       "        }#T_03e18_row9_col6,#T_03e18_row9_col7{\n",
       "            background-color:  #7597f6;\n",
       "            color:  #000000;\n",
       "        }#T_03e18_row10_col2,#T_03e18_row10_col13{\n",
       "            background-color:  #5470de;\n",
       "            color:  #000000;\n",
       "        }#T_03e18_row10_col3{\n",
       "            background-color:  #9dbdff;\n",
       "            color:  #000000;\n",
       "        }#T_03e18_row10_col4{\n",
       "            background-color:  #a5c3fe;\n",
       "            color:  #000000;\n",
       "        }#T_03e18_row10_col7{\n",
       "            background-color:  #7a9df8;\n",
       "            color:  #000000;\n",
       "        }#T_03e18_row11_col0,#T_03e18_row12_col0{\n",
       "            background-color:  #8badfd;\n",
       "            color:  #000000;\n",
       "        }#T_03e18_row11_col2,#T_03e18_row11_col10{\n",
       "            background-color:  #5673e0;\n",
       "            color:  #000000;\n",
       "        }#T_03e18_row11_col6{\n",
       "            background-color:  #7295f4;\n",
       "            color:  #000000;\n",
       "        }#T_03e18_row11_col7{\n",
       "            background-color:  #7093f3;\n",
       "            color:  #000000;\n",
       "        }#T_03e18_row11_col13{\n",
       "            background-color:  #efcebd;\n",
       "            color:  #000000;\n",
       "        }#T_03e18_row12_col3{\n",
       "            background-color:  #93b5fe;\n",
       "            color:  #000000;\n",
       "        }#T_03e18_row12_col4{\n",
       "            background-color:  #a6c4fe;\n",
       "            color:  #000000;\n",
       "        }#T_03e18_row12_col11{\n",
       "            background-color:  #f5c0a7;\n",
       "            color:  #000000;\n",
       "        }#T_03e18_row12_col13,#T_03e18_row13_col11{\n",
       "            background-color:  #ead4c8;\n",
       "            color:  #000000;\n",
       "        }#T_03e18_row13_col1{\n",
       "            background-color:  #3c4ec2;\n",
       "            color:  #f1f1f1;\n",
       "        }#T_03e18_row13_col3{\n",
       "            background-color:  #82a6fb;\n",
       "            color:  #000000;\n",
       "        }</style><table id=\"T_03e18_\" ><thead>    <tr>        <th class=\"blank level0\" ></th>        <th class=\"col_heading level0 col0\" >MAGER</th>        <th class=\"col_heading level0 col1\" >MRACE31</th>        <th class=\"col_heading level0 col2\" >MHISP_R</th>        <th class=\"col_heading level0 col3\" >DMAR</th>        <th class=\"col_heading level0 col4\" >MEDUC</th>        <th class=\"col_heading level0 col5\" >FAGECOMB</th>        <th class=\"col_heading level0 col6\" >FRACE31</th>        <th class=\"col_heading level0 col7\" >FHISP_R</th>        <th class=\"col_heading level0 col8\" >FEDUC</th>        <th class=\"col_heading level0 col9\" >PREVIS</th>        <th class=\"col_heading level0 col10\" >DMETH_REC</th>        <th class=\"col_heading level0 col11\" >OEGEST_COMB</th>        <th class=\"col_heading level0 col12\" >OEGEST_R3</th>        <th class=\"col_heading level0 col13\" >DBWT</th>    </tr></thead><tbody>\n",
       "                <tr>\n",
       "                        <th id=\"T_03e18_level0_row0\" class=\"row_heading level0 row0\" >MAGER</th>\n",
       "                        <td id=\"T_03e18_row0_col0\" class=\"data row0 col0\" >1.000000</td>\n",
       "                        <td id=\"T_03e18_row0_col1\" class=\"data row0 col1\" >0.012027</td>\n",
       "                        <td id=\"T_03e18_row0_col2\" class=\"data row0 col2\" >-0.032528</td>\n",
       "                        <td id=\"T_03e18_row0_col3\" class=\"data row0 col3\" >-0.358230</td>\n",
       "                        <td id=\"T_03e18_row0_col4\" class=\"data row0 col4\" >0.389519</td>\n",
       "                        <td id=\"T_03e18_row0_col5\" class=\"data row0 col5\" >0.038594</td>\n",
       "                        <td id=\"T_03e18_row0_col6\" class=\"data row0 col6\" >-0.147357</td>\n",
       "                        <td id=\"T_03e18_row0_col7\" class=\"data row0 col7\" >-0.160365</td>\n",
       "                        <td id=\"T_03e18_row0_col8\" class=\"data row0 col8\" >0.115011</td>\n",
       "                        <td id=\"T_03e18_row0_col9\" class=\"data row0 col9\" >0.023031</td>\n",
       "                        <td id=\"T_03e18_row0_col10\" class=\"data row0 col10\" >0.118862</td>\n",
       "                        <td id=\"T_03e18_row0_col11\" class=\"data row0 col11\" >-0.026194</td>\n",
       "                        <td id=\"T_03e18_row0_col12\" class=\"data row0 col12\" >-0.024805</td>\n",
       "                        <td id=\"T_03e18_row0_col13\" class=\"data row0 col13\" >0.036779</td>\n",
       "            </tr>\n",
       "            <tr>\n",
       "                        <th id=\"T_03e18_level0_row1\" class=\"row_heading level0 row1\" >MRACE31</th>\n",
       "                        <td id=\"T_03e18_row1_col0\" class=\"data row1 col0\" >0.012027</td>\n",
       "                        <td id=\"T_03e18_row1_col1\" class=\"data row1 col1\" >1.000000</td>\n",
       "                        <td id=\"T_03e18_row1_col2\" class=\"data row1 col2\" >-0.051263</td>\n",
       "                        <td id=\"T_03e18_row1_col3\" class=\"data row1 col3\" >0.048809</td>\n",
       "                        <td id=\"T_03e18_row1_col4\" class=\"data row1 col4\" >0.020746</td>\n",
       "                        <td id=\"T_03e18_row1_col5\" class=\"data row1 col5\" >0.034467</td>\n",
       "                        <td id=\"T_03e18_row1_col6\" class=\"data row1 col6\" >0.018357</td>\n",
       "                        <td id=\"T_03e18_row1_col7\" class=\"data row1 col7\" >0.005565</td>\n",
       "                        <td id=\"T_03e18_row1_col8\" class=\"data row1 col8\" >0.048987</td>\n",
       "                        <td id=\"T_03e18_row1_col9\" class=\"data row1 col9\" >0.007940</td>\n",
       "                        <td id=\"T_03e18_row1_col10\" class=\"data row1 col10\" >0.002054</td>\n",
       "                        <td id=\"T_03e18_row1_col11\" class=\"data row1 col11\" >-0.011740</td>\n",
       "                        <td id=\"T_03e18_row1_col12\" class=\"data row1 col12\" >-0.008929</td>\n",
       "                        <td id=\"T_03e18_row1_col13\" class=\"data row1 col13\" >-0.043489</td>\n",
       "            </tr>\n",
       "            <tr>\n",
       "                        <th id=\"T_03e18_level0_row2\" class=\"row_heading level0 row2\" >MHISP_R</th>\n",
       "                        <td id=\"T_03e18_row2_col0\" class=\"data row2 col0\" >-0.032528</td>\n",
       "                        <td id=\"T_03e18_row2_col1\" class=\"data row2 col1\" >-0.051263</td>\n",
       "                        <td id=\"T_03e18_row2_col2\" class=\"data row2 col2\" >1.000000</td>\n",
       "                        <td id=\"T_03e18_row2_col3\" class=\"data row2 col3\" >0.103544</td>\n",
       "                        <td id=\"T_03e18_row2_col4\" class=\"data row2 col4\" >-0.074686</td>\n",
       "                        <td id=\"T_03e18_row2_col5\" class=\"data row2 col5\" >0.007097</td>\n",
       "                        <td id=\"T_03e18_row2_col6\" class=\"data row2 col6\" >0.247633</td>\n",
       "                        <td id=\"T_03e18_row2_col7\" class=\"data row2 col7\" >0.321039</td>\n",
       "                        <td id=\"T_03e18_row2_col8\" class=\"data row2 col8\" >-0.050881</td>\n",
       "                        <td id=\"T_03e18_row2_col9\" class=\"data row2 col9\" >0.008621</td>\n",
       "                        <td id=\"T_03e18_row2_col10\" class=\"data row2 col10\" >0.017607</td>\n",
       "                        <td id=\"T_03e18_row2_col11\" class=\"data row2 col11\" >0.023663</td>\n",
       "                        <td id=\"T_03e18_row2_col12\" class=\"data row2 col12\" >0.003267</td>\n",
       "                        <td id=\"T_03e18_row2_col13\" class=\"data row2 col13\" >0.001871</td>\n",
       "            </tr>\n",
       "            <tr>\n",
       "                        <th id=\"T_03e18_level0_row3\" class=\"row_heading level0 row3\" >DMAR</th>\n",
       "                        <td id=\"T_03e18_row3_col0\" class=\"data row3 col0\" >-0.358230</td>\n",
       "                        <td id=\"T_03e18_row3_col1\" class=\"data row3 col1\" >0.048809</td>\n",
       "                        <td id=\"T_03e18_row3_col2\" class=\"data row3 col2\" >0.103544</td>\n",
       "                        <td id=\"T_03e18_row3_col3\" class=\"data row3 col3\" >1.000000</td>\n",
       "                        <td id=\"T_03e18_row3_col4\" class=\"data row3 col4\" >-0.425660</td>\n",
       "                        <td id=\"T_03e18_row3_col5\" class=\"data row3 col5\" >0.323576</td>\n",
       "                        <td id=\"T_03e18_row3_col6\" class=\"data row3 col6\" >0.390273</td>\n",
       "                        <td id=\"T_03e18_row3_col7\" class=\"data row3 col7\" >0.422552</td>\n",
       "                        <td id=\"T_03e18_row3_col8\" class=\"data row3 col8\" >0.040457</td>\n",
       "                        <td id=\"T_03e18_row3_col9\" class=\"data row3 col9\" >-0.023951</td>\n",
       "                        <td id=\"T_03e18_row3_col10\" class=\"data row3 col10\" >-0.004260</td>\n",
       "                        <td id=\"T_03e18_row3_col11\" class=\"data row3 col11\" >-0.040713</td>\n",
       "                        <td id=\"T_03e18_row3_col12\" class=\"data row3 col12\" >-0.043593</td>\n",
       "                        <td id=\"T_03e18_row3_col13\" class=\"data row3 col13\" >-0.110566</td>\n",
       "            </tr>\n",
       "            <tr>\n",
       "                        <th id=\"T_03e18_level0_row4\" class=\"row_heading level0 row4\" >MEDUC</th>\n",
       "                        <td id=\"T_03e18_row4_col0\" class=\"data row4 col0\" >0.389519</td>\n",
       "                        <td id=\"T_03e18_row4_col1\" class=\"data row4 col1\" >0.020746</td>\n",
       "                        <td id=\"T_03e18_row4_col2\" class=\"data row4 col2\" >-0.074686</td>\n",
       "                        <td id=\"T_03e18_row4_col3\" class=\"data row4 col3\" >-0.425660</td>\n",
       "                        <td id=\"T_03e18_row4_col4\" class=\"data row4 col4\" >1.000000</td>\n",
       "                        <td id=\"T_03e18_row4_col5\" class=\"data row4 col5\" >-0.140060</td>\n",
       "                        <td id=\"T_03e18_row4_col6\" class=\"data row4 col6\" >-0.233613</td>\n",
       "                        <td id=\"T_03e18_row4_col7\" class=\"data row4 col7\" >-0.234759</td>\n",
       "                        <td id=\"T_03e18_row4_col8\" class=\"data row4 col8\" >0.335856</td>\n",
       "                        <td id=\"T_03e18_row4_col9\" class=\"data row4 col9\" >0.043571</td>\n",
       "                        <td id=\"T_03e18_row4_col10\" class=\"data row4 col10\" >0.029331</td>\n",
       "                        <td id=\"T_03e18_row4_col11\" class=\"data row4 col11\" >0.043890</td>\n",
       "                        <td id=\"T_03e18_row4_col12\" class=\"data row4 col12\" >0.034702</td>\n",
       "                        <td id=\"T_03e18_row4_col13\" class=\"data row4 col13\" >0.070662</td>\n",
       "            </tr>\n",
       "            <tr>\n",
       "                        <th id=\"T_03e18_level0_row5\" class=\"row_heading level0 row5\" >FAGECOMB</th>\n",
       "                        <td id=\"T_03e18_row5_col0\" class=\"data row5 col0\" >0.038594</td>\n",
       "                        <td id=\"T_03e18_row5_col1\" class=\"data row5 col1\" >0.034467</td>\n",
       "                        <td id=\"T_03e18_row5_col2\" class=\"data row5 col2\" >0.007097</td>\n",
       "                        <td id=\"T_03e18_row5_col3\" class=\"data row5 col3\" >0.323576</td>\n",
       "                        <td id=\"T_03e18_row5_col4\" class=\"data row5 col4\" >-0.140060</td>\n",
       "                        <td id=\"T_03e18_row5_col5\" class=\"data row5 col5\" >1.000000</td>\n",
       "                        <td id=\"T_03e18_row5_col6\" class=\"data row5 col6\" >0.706128</td>\n",
       "                        <td id=\"T_03e18_row5_col7\" class=\"data row5 col7\" >0.801394</td>\n",
       "                        <td id=\"T_03e18_row5_col8\" class=\"data row5 col8\" >0.650974</td>\n",
       "                        <td id=\"T_03e18_row5_col9\" class=\"data row5 col9\" >-0.013415</td>\n",
       "                        <td id=\"T_03e18_row5_col10\" class=\"data row5 col10\" >0.026252</td>\n",
       "                        <td id=\"T_03e18_row5_col11\" class=\"data row5 col11\" >-0.038594</td>\n",
       "                        <td id=\"T_03e18_row5_col12\" class=\"data row5 col12\" >-0.052186</td>\n",
       "                        <td id=\"T_03e18_row5_col13\" class=\"data row5 col13\" >-0.076934</td>\n",
       "            </tr>\n",
       "            <tr>\n",
       "                        <th id=\"T_03e18_level0_row6\" class=\"row_heading level0 row6\" >FRACE31</th>\n",
       "                        <td id=\"T_03e18_row6_col0\" class=\"data row6 col0\" >-0.147357</td>\n",
       "                        <td id=\"T_03e18_row6_col1\" class=\"data row6 col1\" >0.018357</td>\n",
       "                        <td id=\"T_03e18_row6_col2\" class=\"data row6 col2\" >0.247633</td>\n",
       "                        <td id=\"T_03e18_row6_col3\" class=\"data row6 col3\" >0.390273</td>\n",
       "                        <td id=\"T_03e18_row6_col4\" class=\"data row6 col4\" >-0.233613</td>\n",
       "                        <td id=\"T_03e18_row6_col5\" class=\"data row6 col5\" >0.706128</td>\n",
       "                        <td id=\"T_03e18_row6_col6\" class=\"data row6 col6\" >1.000000</td>\n",
       "                        <td id=\"T_03e18_row6_col7\" class=\"data row6 col7\" >0.804617</td>\n",
       "                        <td id=\"T_03e18_row6_col8\" class=\"data row6 col8\" >0.458122</td>\n",
       "                        <td id=\"T_03e18_row6_col9\" class=\"data row6 col9\" >-0.008094</td>\n",
       "                        <td id=\"T_03e18_row6_col10\" class=\"data row6 col10\" >0.005961</td>\n",
       "                        <td id=\"T_03e18_row6_col11\" class=\"data row6 col11\" >-0.020641</td>\n",
       "                        <td id=\"T_03e18_row6_col12\" class=\"data row6 col12\" >-0.039678</td>\n",
       "                        <td id=\"T_03e18_row6_col13\" class=\"data row6 col13\" >-0.071288</td>\n",
       "            </tr>\n",
       "            <tr>\n",
       "                        <th id=\"T_03e18_level0_row7\" class=\"row_heading level0 row7\" >FHISP_R</th>\n",
       "                        <td id=\"T_03e18_row7_col0\" class=\"data row7 col0\" >-0.160365</td>\n",
       "                        <td id=\"T_03e18_row7_col1\" class=\"data row7 col1\" >0.005565</td>\n",
       "                        <td id=\"T_03e18_row7_col2\" class=\"data row7 col2\" >0.321039</td>\n",
       "                        <td id=\"T_03e18_row7_col3\" class=\"data row7 col3\" >0.422552</td>\n",
       "                        <td id=\"T_03e18_row7_col4\" class=\"data row7 col4\" >-0.234759</td>\n",
       "                        <td id=\"T_03e18_row7_col5\" class=\"data row7 col5\" >0.801394</td>\n",
       "                        <td id=\"T_03e18_row7_col6\" class=\"data row7 col6\" >0.804617</td>\n",
       "                        <td id=\"T_03e18_row7_col7\" class=\"data row7 col7\" >1.000000</td>\n",
       "                        <td id=\"T_03e18_row7_col8\" class=\"data row7 col8\" >0.521492</td>\n",
       "                        <td id=\"T_03e18_row7_col9\" class=\"data row7 col9\" >-0.012649</td>\n",
       "                        <td id=\"T_03e18_row7_col10\" class=\"data row7 col10\" >0.009151</td>\n",
       "                        <td id=\"T_03e18_row7_col11\" class=\"data row7 col11\" >-0.024059</td>\n",
       "                        <td id=\"T_03e18_row7_col12\" class=\"data row7 col12\" >-0.043233</td>\n",
       "                        <td id=\"T_03e18_row7_col13\" class=\"data row7 col13\" >-0.077236</td>\n",
       "            </tr>\n",
       "            <tr>\n",
       "                        <th id=\"T_03e18_level0_row8\" class=\"row_heading level0 row8\" >FEDUC</th>\n",
       "                        <td id=\"T_03e18_row8_col0\" class=\"data row8 col0\" >0.115011</td>\n",
       "                        <td id=\"T_03e18_row8_col1\" class=\"data row8 col1\" >0.048987</td>\n",
       "                        <td id=\"T_03e18_row8_col2\" class=\"data row8 col2\" >-0.050881</td>\n",
       "                        <td id=\"T_03e18_row8_col3\" class=\"data row8 col3\" >0.040457</td>\n",
       "                        <td id=\"T_03e18_row8_col4\" class=\"data row8 col4\" >0.335856</td>\n",
       "                        <td id=\"T_03e18_row8_col5\" class=\"data row8 col5\" >0.650974</td>\n",
       "                        <td id=\"T_03e18_row8_col6\" class=\"data row8 col6\" >0.458122</td>\n",
       "                        <td id=\"T_03e18_row8_col7\" class=\"data row8 col7\" >0.521492</td>\n",
       "                        <td id=\"T_03e18_row8_col8\" class=\"data row8 col8\" >1.000000</td>\n",
       "                        <td id=\"T_03e18_row8_col9\" class=\"data row8 col9\" >0.011834</td>\n",
       "                        <td id=\"T_03e18_row8_col10\" class=\"data row8 col10\" >0.008349</td>\n",
       "                        <td id=\"T_03e18_row8_col11\" class=\"data row8 col11\" >0.006808</td>\n",
       "                        <td id=\"T_03e18_row8_col12\" class=\"data row8 col12\" >-0.010236</td>\n",
       "                        <td id=\"T_03e18_row8_col13\" class=\"data row8 col13\" >-0.020817</td>\n",
       "            </tr>\n",
       "            <tr>\n",
       "                        <th id=\"T_03e18_level0_row9\" class=\"row_heading level0 row9\" >PREVIS</th>\n",
       "                        <td id=\"T_03e18_row9_col0\" class=\"data row9 col0\" >0.023031</td>\n",
       "                        <td id=\"T_03e18_row9_col1\" class=\"data row9 col1\" >0.007940</td>\n",
       "                        <td id=\"T_03e18_row9_col2\" class=\"data row9 col2\" >0.008621</td>\n",
       "                        <td id=\"T_03e18_row9_col3\" class=\"data row9 col3\" >-0.023951</td>\n",
       "                        <td id=\"T_03e18_row9_col4\" class=\"data row9 col4\" >0.043571</td>\n",
       "                        <td id=\"T_03e18_row9_col5\" class=\"data row9 col5\" >-0.013415</td>\n",
       "                        <td id=\"T_03e18_row9_col6\" class=\"data row9 col6\" >-0.008094</td>\n",
       "                        <td id=\"T_03e18_row9_col7\" class=\"data row9 col7\" >-0.012649</td>\n",
       "                        <td id=\"T_03e18_row9_col8\" class=\"data row9 col8\" >0.011834</td>\n",
       "                        <td id=\"T_03e18_row9_col9\" class=\"data row9 col9\" >1.000000</td>\n",
       "                        <td id=\"T_03e18_row9_col10\" class=\"data row9 col10\" >0.050981</td>\n",
       "                        <td id=\"T_03e18_row9_col11\" class=\"data row9 col11\" >0.066099</td>\n",
       "                        <td id=\"T_03e18_row9_col12\" class=\"data row9 col12\" >0.018779</td>\n",
       "                        <td id=\"T_03e18_row9_col13\" class=\"data row9 col13\" >0.037120</td>\n",
       "            </tr>\n",
       "            <tr>\n",
       "                        <th id=\"T_03e18_level0_row10\" class=\"row_heading level0 row10\" >DMETH_REC</th>\n",
       "                        <td id=\"T_03e18_row10_col0\" class=\"data row10 col0\" >0.118862</td>\n",
       "                        <td id=\"T_03e18_row10_col1\" class=\"data row10 col1\" >0.002054</td>\n",
       "                        <td id=\"T_03e18_row10_col2\" class=\"data row10 col2\" >0.017607</td>\n",
       "                        <td id=\"T_03e18_row10_col3\" class=\"data row10 col3\" >-0.004260</td>\n",
       "                        <td id=\"T_03e18_row10_col4\" class=\"data row10 col4\" >0.029331</td>\n",
       "                        <td id=\"T_03e18_row10_col5\" class=\"data row10 col5\" >0.026252</td>\n",
       "                        <td id=\"T_03e18_row10_col6\" class=\"data row10 col6\" >0.005961</td>\n",
       "                        <td id=\"T_03e18_row10_col7\" class=\"data row10 col7\" >0.009151</td>\n",
       "                        <td id=\"T_03e18_row10_col8\" class=\"data row10 col8\" >0.008349</td>\n",
       "                        <td id=\"T_03e18_row10_col9\" class=\"data row10 col9\" >0.050981</td>\n",
       "                        <td id=\"T_03e18_row10_col10\" class=\"data row10 col10\" >1.000000</td>\n",
       "                        <td id=\"T_03e18_row10_col11\" class=\"data row10 col11\" >-0.019625</td>\n",
       "                        <td id=\"T_03e18_row10_col12\" class=\"data row10 col12\" >-0.124987</td>\n",
       "                        <td id=\"T_03e18_row10_col13\" class=\"data row10 col13\" >-0.017846</td>\n",
       "            </tr>\n",
       "            <tr>\n",
       "                        <th id=\"T_03e18_level0_row11\" class=\"row_heading level0 row11\" >OEGEST_COMB</th>\n",
       "                        <td id=\"T_03e18_row11_col0\" class=\"data row11 col0\" >-0.026194</td>\n",
       "                        <td id=\"T_03e18_row11_col1\" class=\"data row11 col1\" >-0.011740</td>\n",
       "                        <td id=\"T_03e18_row11_col2\" class=\"data row11 col2\" >0.023663</td>\n",
       "                        <td id=\"T_03e18_row11_col3\" class=\"data row11 col3\" >-0.040713</td>\n",
       "                        <td id=\"T_03e18_row11_col4\" class=\"data row11 col4\" >0.043890</td>\n",
       "                        <td id=\"T_03e18_row11_col5\" class=\"data row11 col5\" >-0.038594</td>\n",
       "                        <td id=\"T_03e18_row11_col6\" class=\"data row11 col6\" >-0.020641</td>\n",
       "                        <td id=\"T_03e18_row11_col7\" class=\"data row11 col7\" >-0.024059</td>\n",
       "                        <td id=\"T_03e18_row11_col8\" class=\"data row11 col8\" >0.006808</td>\n",
       "                        <td id=\"T_03e18_row11_col9\" class=\"data row11 col9\" >0.066099</td>\n",
       "                        <td id=\"T_03e18_row11_col10\" class=\"data row11 col10\" >-0.019625</td>\n",
       "                        <td id=\"T_03e18_row11_col11\" class=\"data row11 col11\" >1.000000</td>\n",
       "                        <td id=\"T_03e18_row11_col12\" class=\"data row11 col12\" >0.623715</td>\n",
       "                        <td id=\"T_03e18_row11_col13\" class=\"data row11 col13\" >0.538855</td>\n",
       "            </tr>\n",
       "            <tr>\n",
       "                        <th id=\"T_03e18_level0_row12\" class=\"row_heading level0 row12\" >OEGEST_R3</th>\n",
       "                        <td id=\"T_03e18_row12_col0\" class=\"data row12 col0\" >-0.024805</td>\n",
       "                        <td id=\"T_03e18_row12_col1\" class=\"data row12 col1\" >-0.008929</td>\n",
       "                        <td id=\"T_03e18_row12_col2\" class=\"data row12 col2\" >0.003267</td>\n",
       "                        <td id=\"T_03e18_row12_col3\" class=\"data row12 col3\" >-0.043593</td>\n",
       "                        <td id=\"T_03e18_row12_col4\" class=\"data row12 col4\" >0.034702</td>\n",
       "                        <td id=\"T_03e18_row12_col5\" class=\"data row12 col5\" >-0.052186</td>\n",
       "                        <td id=\"T_03e18_row12_col6\" class=\"data row12 col6\" >-0.039678</td>\n",
       "                        <td id=\"T_03e18_row12_col7\" class=\"data row12 col7\" >-0.043233</td>\n",
       "                        <td id=\"T_03e18_row12_col8\" class=\"data row12 col8\" >-0.010236</td>\n",
       "                        <td id=\"T_03e18_row12_col9\" class=\"data row12 col9\" >0.018779</td>\n",
       "                        <td id=\"T_03e18_row12_col10\" class=\"data row12 col10\" >-0.124987</td>\n",
       "                        <td id=\"T_03e18_row12_col11\" class=\"data row12 col11\" >0.623715</td>\n",
       "                        <td id=\"T_03e18_row12_col12\" class=\"data row12 col12\" >1.000000</td>\n",
       "                        <td id=\"T_03e18_row12_col13\" class=\"data row12 col13\" >0.506747</td>\n",
       "            </tr>\n",
       "            <tr>\n",
       "                        <th id=\"T_03e18_level0_row13\" class=\"row_heading level0 row13\" >DBWT</th>\n",
       "                        <td id=\"T_03e18_row13_col0\" class=\"data row13 col0\" >0.036779</td>\n",
       "                        <td id=\"T_03e18_row13_col1\" class=\"data row13 col1\" >-0.043489</td>\n",
       "                        <td id=\"T_03e18_row13_col2\" class=\"data row13 col2\" >0.001871</td>\n",
       "                        <td id=\"T_03e18_row13_col3\" class=\"data row13 col3\" >-0.110566</td>\n",
       "                        <td id=\"T_03e18_row13_col4\" class=\"data row13 col4\" >0.070662</td>\n",
       "                        <td id=\"T_03e18_row13_col5\" class=\"data row13 col5\" >-0.076934</td>\n",
       "                        <td id=\"T_03e18_row13_col6\" class=\"data row13 col6\" >-0.071288</td>\n",
       "                        <td id=\"T_03e18_row13_col7\" class=\"data row13 col7\" >-0.077236</td>\n",
       "                        <td id=\"T_03e18_row13_col8\" class=\"data row13 col8\" >-0.020817</td>\n",
       "                        <td id=\"T_03e18_row13_col9\" class=\"data row13 col9\" >0.037120</td>\n",
       "                        <td id=\"T_03e18_row13_col10\" class=\"data row13 col10\" >-0.017846</td>\n",
       "                        <td id=\"T_03e18_row13_col11\" class=\"data row13 col11\" >0.538855</td>\n",
       "                        <td id=\"T_03e18_row13_col12\" class=\"data row13 col12\" >0.506747</td>\n",
       "                        <td id=\"T_03e18_row13_col13\" class=\"data row13 col13\" >1.000000</td>\n",
       "            </tr>\n",
       "    </tbody></table>"
      ],
      "text/plain": [
       "<pandas.io.formats.style.Styler at 0x180cb5bbb20>"
      ]
     },
     "execution_count": 62,
     "metadata": {},
     "output_type": "execute_result"
    }
   ],
   "source": [
    "corr.style.background_gradient(cmap='coolwarm')"
   ]
  },
  {
   "cell_type": "code",
   "execution_count": 63,
   "id": "10b12291",
   "metadata": {},
   "outputs": [
    {
     "data": {
      "text/plain": [
       "MAGER               0\n",
       "MRACE31             0\n",
       "MHISP_R             0\n",
       "DMAR           421088\n",
       "MEDUC               0\n",
       "FAGECOMB            0\n",
       "FRACE31             0\n",
       "FHISP_R             0\n",
       "FEDUC               0\n",
       "PREVIS              0\n",
       "WIC                 0\n",
       "ME_TRIAL            0\n",
       "DMETH_REC           0\n",
       "OEGEST_COMB         0\n",
       "OEGEST_R3           0\n",
       "DBWT                0\n",
       "BFED                0\n",
       "dtype: int64"
      ]
     },
     "execution_count": 63,
     "metadata": {},
     "output_type": "execute_result"
    }
   ],
   "source": [
    "data.isna().sum()"
   ]
  },
  {
   "cell_type": "code",
   "execution_count": 64,
   "id": "fa32df0e",
   "metadata": {},
   "outputs": [
    {
     "data": {
      "text/plain": [
       "1.0    1945690\n",
       "2.0    1303150\n",
       "Name: DMAR, dtype: int64"
      ]
     },
     "execution_count": 64,
     "metadata": {},
     "output_type": "execute_result"
    }
   ],
   "source": [
    "### marital status of mother: 1=married, 2=unmarried\n",
    "data['DMAR'].value_counts()"
   ]
  },
  {
   "cell_type": "code",
   "execution_count": 65,
   "id": "e56a3ab5",
   "metadata": {},
   "outputs": [
    {
     "data": {
      "text/plain": [
       "1.0    0.598888\n",
       "2.0    0.401112\n",
       "Name: DMAR, dtype: float64"
      ]
     },
     "execution_count": 65,
     "metadata": {},
     "output_type": "execute_result"
    }
   ],
   "source": [
    "### percentage marital status of mother: 1=married, 2=unmarried\n",
    "data['DMAR'].value_counts(normalize=True)"
   ]
  },
  {
   "cell_type": "markdown",
   "id": "3b6d4b2e",
   "metadata": {},
   "source": [
    "## Boxplots of Continuous Variables"
   ]
  },
  {
   "cell_type": "code",
   "execution_count": 66,
   "id": "72688da4",
   "metadata": {},
   "outputs": [
    {
     "data": {
      "text/plain": [
       "{'whiskers': [<matplotlib.lines.Line2D at 0x18000f8fb50>,\n",
       "  <matplotlib.lines.Line2D at 0x18000f8fe80>],\n",
       " 'caps': [<matplotlib.lines.Line2D at 0x1800b8da730>,\n",
       "  <matplotlib.lines.Line2D at 0x18002198190>],\n",
       " 'boxes': [<matplotlib.lines.Line2D at 0x18002177400>],\n",
       " 'medians': [<matplotlib.lines.Line2D at 0x18002198550>],\n",
       " 'fliers': [<matplotlib.lines.Line2D at 0x18002198580>],\n",
       " 'means': []}"
      ]
     },
     "execution_count": 66,
     "metadata": {},
     "output_type": "execute_result"
    },
    {
     "data": {
      "image/png": "[encoded data removed]",
      "text/plain": [
       "<Figure size 432x288 with 1 Axes>"
      ]
     },
     "metadata": {
      "needs_background": "light"
     },
     "output_type": "display_data"
    }
   ],
   "source": [
    "plt.boxplot(data.MAGER)"
   ]
  },
  {
   "cell_type": "code",
   "execution_count": 67,
   "id": "4f4dba09",
   "metadata": {},
   "outputs": [
    {
     "data": {
      "text/plain": [
       "{'whiskers': [<matplotlib.lines.Line2D at 0x18002fe6910>,\n",
       "  <matplotlib.lines.Line2D at 0x18002fe6c70>],\n",
       " 'caps': [<matplotlib.lines.Line2D at 0x18002fe6fd0>,\n",
       "  <matplotlib.lines.Line2D at 0x18002fd5370>],\n",
       " 'boxes': [<matplotlib.lines.Line2D at 0x18002fe65b0>],\n",
       " 'medians': [<matplotlib.lines.Line2D at 0x18002fd56d0>],\n",
       " 'fliers': [<matplotlib.lines.Line2D at 0x18002fd5a30>],\n",
       " 'means': []}"
      ]
     },
     "execution_count": 67,
     "metadata": {},
     "output_type": "execute_result"
    },
    {
     "data": {
      "image/png": "[encoded data removed]",
      "text/plain": [
       "<Figure size 432x288 with 1 Axes>"
      ]
     },
     "metadata": {
      "needs_background": "light"
     },
     "output_type": "display_data"
    }
   ],
   "source": [
    "plt.boxplot(data.FAGECOMB)"
   ]
  },
  {
   "cell_type": "code",
   "execution_count": 68,
   "id": "717f9d80",
   "metadata": {},
   "outputs": [
    {
     "data": {
      "text/plain": [
       "{'whiskers': [<matplotlib.lines.Line2D at 0x180045229d0>,\n",
       "  <matplotlib.lines.Line2D at 0x18004522d30>],\n",
       " 'caps': [<matplotlib.lines.Line2D at 0x180045300d0>,\n",
       "  <matplotlib.lines.Line2D at 0x18004530430>],\n",
       " 'boxes': [<matplotlib.lines.Line2D at 0x18004522670>],\n",
       " 'medians': [<matplotlib.lines.Line2D at 0x18004530790>],\n",
       " 'fliers': [<matplotlib.lines.Line2D at 0x18004530af0>],\n",
       " 'means': []}"
      ]
     },
     "execution_count": 68,
     "metadata": {},
     "output_type": "execute_result"
    },
    {
     "data": {
      "image/png": "[encoded data removed]",
      "text/plain": [
       "<Figure size 432x288 with 1 Axes>"
      ]
     },
     "metadata": {
      "needs_background": "light"
     },
     "output_type": "display_data"
    }
   ],
   "source": [
    "plt.boxplot(data.PREVIS)"
   ]
  },
  {
   "cell_type": "code",
   "execution_count": 69,
   "id": "8707cdce",
   "metadata": {},
   "outputs": [
    {
     "data": {
      "text/plain": [
       "{'whiskers': [<matplotlib.lines.Line2D at 0x1800471dfd0>,\n",
       "  <matplotlib.lines.Line2D at 0x18004729370>],\n",
       " 'caps': [<matplotlib.lines.Line2D at 0x180047296d0>,\n",
       "  <matplotlib.lines.Line2D at 0x18004729a30>],\n",
       " 'boxes': [<matplotlib.lines.Line2D at 0x1800471dc70>],\n",
       " 'medians': [<matplotlib.lines.Line2D at 0x18004729d90>],\n",
       " 'fliers': [<matplotlib.lines.Line2D at 0x18004736130>],\n",
       " 'means': []}"
      ]
     },
     "execution_count": 69,
     "metadata": {},
     "output_type": "execute_result"
    },
    {
     "data": {
      "image/png": "[encoded data removed]",
      "text/plain": [
       "<Figure size 432x288 with 1 Axes>"
      ]
     },
     "metadata": {
      "needs_background": "light"
     },
     "output_type": "display_data"
    }
   ],
   "source": [
    "plt.boxplot(data.OEGEST_COMB)"
   ]
  },
  {
   "cell_type": "code",
   "execution_count": 70,
   "id": "5a69c0b7",
   "metadata": {},
   "outputs": [
    {
     "data": {
      "text/plain": [
       "{'whiskers': [<matplotlib.lines.Line2D at 0x18004785100>,\n",
       "  <matplotlib.lines.Line2D at 0x18004785490>],\n",
       " 'caps': [<matplotlib.lines.Line2D at 0x180047857f0>,\n",
       "  <matplotlib.lines.Line2D at 0x18004785b50>],\n",
       " 'boxes': [<matplotlib.lines.Line2D at 0x18004775d60>],\n",
       " 'medians': [<matplotlib.lines.Line2D at 0x18004785eb0>],\n",
       " 'fliers': [<matplotlib.lines.Line2D at 0x18004790250>],\n",
       " 'means': []}"
      ]
     },
     "execution_count": 70,
     "metadata": {},
     "output_type": "execute_result"
    },
    {
     "data": {
      "image/png": "[encoded data removed]",
      "text/plain": [
       "<Figure size 432x288 with 1 Axes>"
      ]
     },
     "metadata": {
      "needs_background": "light"
     },
     "output_type": "display_data"
    }
   ],
   "source": [
    "plt.boxplot(data.DBWT)"
   ]
  },
  {
   "cell_type": "markdown",
   "id": "7b540ac6",
   "metadata": {},
   "source": [
    "### Maternal Demographic Characteristics"
   ]
  },
  {
   "cell_type": "code",
   "execution_count": 71,
   "id": "400f8220",
   "metadata": {},
   "outputs": [
    {
     "data": {
      "text/plain": [
       "3.0    0.261980\n",
       "6.0    0.220422\n",
       "4.0    0.186096\n",
       "7.0    0.104625\n",
       "5.0    0.085304\n",
       "2.0    0.080729\n",
       "8.0    0.030853\n",
       "1.0    0.029989\n",
       "Name: MEDUC, dtype: float64"
      ]
     },
     "execution_count": 71,
     "metadata": {},
     "output_type": "execute_result"
    }
   ],
   "source": [
    "### mother education level\n",
    "data['MEDUC'] = data.MEDUC.replace([9], [np.nan])\n",
    "data['MEDUC'].value_counts(normalize=True)"
   ]
  },
  {
   "cell_type": "code",
   "execution_count": 72,
   "id": "66b1b692",
   "metadata": {},
   "outputs": [
    {
     "data": {
      "text/plain": [
       "(array([108350., 291669., 946517., 672353., 308199., 796371., 378004.,\n",
       "        111469.]),\n",
       " array([1.   , 1.875, 2.75 , 3.625, 4.5  , 5.375, 6.25 , 7.125, 8.   ]),\n",
       " <BarContainer object of 8 artists>)"
      ]
     },
     "execution_count": 72,
     "metadata": {},
     "output_type": "execute_result"
    },
    {
     "data": {
      "image/png": "[encoded data removed]",
      "text/plain": [
       "<Figure size 432x288 with 1 Axes>"
      ]
     },
     "metadata": {
      "needs_background": "light"
     },
     "output_type": "display_data"
    }
   ],
   "source": [
    "plt.hist(data.MEDUC, bins=8)"
   ]
  },
  {
   "cell_type": "code",
   "execution_count": 73,
   "id": "db41811a",
   "metadata": {},
   "outputs": [
    {
     "data": {
      "text/plain": [
       "31    242336\n",
       "30    240183\n",
       "29    232272\n",
       "32    229576\n",
       "28    220169\n",
       "33    212042\n",
       "27    206529\n",
       "34    192780\n",
       "26    190999\n",
       "25    175662\n",
       "35    171078\n",
       "24    160214\n",
       "23    146107\n",
       "36    144471\n",
       "22    131701\n",
       "37    115119\n",
       "21    114403\n",
       "20     96676\n",
       "38     91775\n",
       "19     71324\n",
       "39     70796\n",
       "40     50499\n",
       "18     40206\n",
       "41     34241\n",
       "42     21705\n",
       "17     20792\n",
       "43     13037\n",
       "16     10322\n",
       "44      7104\n",
       "15      4479\n",
       "45      3916\n",
       "46      2144\n",
       "14      1484\n",
       "47      1171\n",
       "50      1054\n",
       "48       689\n",
       "49       476\n",
       "13       326\n",
       "12        71\n",
       "Name: MAGER, dtype: int64"
      ]
     },
     "execution_count": 73,
     "metadata": {},
     "output_type": "execute_result"
    }
   ],
   "source": [
    "### mother age\n",
    "data['MAGER'].value_counts()"
   ]
  },
  {
   "cell_type": "code",
   "execution_count": 74,
   "id": "3fd83d41",
   "metadata": {},
   "outputs": [
    {
     "data": {
      "text/plain": [
       "29.407765492947"
      ]
     },
     "execution_count": 74,
     "metadata": {},
     "output_type": "execute_result"
    }
   ],
   "source": [
    "data['MAGER'].mean()"
   ]
  },
  {
   "cell_type": "code",
   "execution_count": 75,
   "id": "ecc6cb39",
   "metadata": {},
   "outputs": [
    {
     "data": {
      "text/plain": [
       "1     0.739273\n",
       "2     0.157311\n",
       "4     0.061932\n",
       "6     0.012053\n",
       "3     0.009502\n",
       "13    0.005971\n",
       "10    0.004512\n",
       "5     0.003599\n",
       "25    0.000992\n",
       "7     0.000832\n",
       "16    0.000797\n",
       "15    0.000778\n",
       "8     0.000725\n",
       "14    0.000614\n",
       "19    0.000314\n",
       "9     0.000181\n",
       "22    0.000137\n",
       "11    0.000114\n",
       "21    0.000060\n",
       "30    0.000052\n",
       "20    0.000039\n",
       "12    0.000038\n",
       "26    0.000037\n",
       "23    0.000036\n",
       "17    0.000032\n",
       "29    0.000026\n",
       "18    0.000015\n",
       "24    0.000011\n",
       "28    0.000008\n",
       "31    0.000008\n",
       "27    0.000002\n",
       "Name: MRACE31, dtype: float64"
      ]
     },
     "execution_count": 75,
     "metadata": {},
     "output_type": "execute_result"
    }
   ],
   "source": [
    "### mother race\n",
    "data['MRACE31'].value_counts(normalize=True)"
   ]
  },
  {
   "cell_type": "code",
   "execution_count": 76,
   "id": "afdbcf54",
   "metadata": {},
   "outputs": [
    {
     "data": {
      "text/plain": [
       "0.0    0.754966\n",
       "1.0    0.134668\n",
       "4.0    0.049041\n",
       "5.0    0.035128\n",
       "2.0    0.019470\n",
       "3.0    0.006727\n",
       "Name: MHISP_R, dtype: float64"
      ]
     },
     "execution_count": 76,
     "metadata": {},
     "output_type": "execute_result"
    }
   ],
   "source": [
    "### mother Hispanic origin\n",
    "data['MHISP_R'] = data.MHISP_R.replace([9], [np.nan])\n",
    "data['MHISP_R'].value_counts(normalize=True)"
   ]
  },
  {
   "cell_type": "markdown",
   "id": "0d095484",
   "metadata": {},
   "source": [
    "\n",
    "### Paternal Demographic Characteristics"
   ]
  },
  {
   "cell_type": "code",
   "execution_count": 77,
   "id": "eb393a65",
   "metadata": {},
   "outputs": [
    {
     "data": {
      "text/plain": [
       "31.0    6.312413e-02\n",
       "32.0    6.260630e-02\n",
       "33.0    6.094630e-02\n",
       "30.0    5.988485e-02\n",
       "34.0    5.789272e-02\n",
       "            ...     \n",
       "12.0    3.069538e-07\n",
       "9.0     3.069538e-07\n",
       "88.0    3.069538e-07\n",
       "89.0    3.069538e-07\n",
       "86.0    3.069538e-07\n",
       "Name: FAGECOMB, Length: 79, dtype: float64"
      ]
     },
     "execution_count": 77,
     "metadata": {},
     "output_type": "execute_result"
    }
   ],
   "source": [
    "### father age\n",
    "data['FAGECOMB'] = data.FAGECOMB.replace([99], [np.nan])\n",
    "data['FAGECOMB'].value_counts(normalize=True)"
   ]
  },
  {
   "cell_type": "code",
   "execution_count": 78,
   "id": "4d08134b",
   "metadata": {},
   "outputs": [
    {
     "data": {
      "text/plain": [
       "32.0119392759389"
      ]
     },
     "execution_count": 78,
     "metadata": {},
     "output_type": "execute_result"
    }
   ],
   "source": [
    "data['FAGECOMB'].mean()"
   ]
  },
  {
   "cell_type": "code",
   "execution_count": 79,
   "id": "cb733dd1",
   "metadata": {},
   "outputs": [
    {
     "data": {
      "text/plain": [
       "1.0     0.744188\n",
       "2.0     0.155305\n",
       "4.0     0.062272\n",
       "6.0     0.010142\n",
       "3.0     0.007631\n",
       "13.0    0.006123\n",
       "10.0    0.004528\n",
       "5.0     0.003479\n",
       "7.0     0.001121\n",
       "25.0    0.001003\n",
       "15.0    0.000930\n",
       "8.0     0.000799\n",
       "16.0    0.000721\n",
       "14.0    0.000664\n",
       "19.0    0.000251\n",
       "9.0     0.000249\n",
       "22.0    0.000130\n",
       "11.0    0.000106\n",
       "21.0    0.000064\n",
       "12.0    0.000051\n",
       "30.0    0.000049\n",
       "17.0    0.000036\n",
       "23.0    0.000035\n",
       "20.0    0.000031\n",
       "26.0    0.000026\n",
       "29.0    0.000020\n",
       "18.0    0.000016\n",
       "24.0    0.000010\n",
       "28.0    0.000009\n",
       "31.0    0.000006\n",
       "27.0    0.000003\n",
       "Name: FRACE31, dtype: float64"
      ]
     },
     "execution_count": 79,
     "metadata": {},
     "output_type": "execute_result"
    }
   ],
   "source": [
    "### father race\n",
    "data['FRACE31'] = data.FRACE31.replace([99], [np.nan])\n",
    "data['FRACE31'].value_counts(normalize=True)"
   ]
  },
  {
   "cell_type": "code",
   "execution_count": 80,
   "id": "b50ad237",
   "metadata": {},
   "outputs": [
    {
     "data": {
      "text/plain": [
       "0.0    2441241\n",
       "1.0     425741\n",
       "4.0     141852\n",
       "5.0     113160\n",
       "2.0      59793\n",
       "3.0      23330\n",
       "Name: FHISP_R, dtype: int64"
      ]
     },
     "execution_count": 80,
     "metadata": {},
     "output_type": "execute_result"
    }
   ],
   "source": [
    "### father Hispanic origin\n",
    "data['FHISP_R'] = data.FHISP_R.replace([9], [np.nan])\n",
    "data['FHISP_R'].value_counts()"
   ]
  },
  {
   "cell_type": "code",
   "execution_count": 81,
   "id": "c577fb4e",
   "metadata": {},
   "outputs": [
    {
     "data": {
      "text/plain": [
       "3.0    0.305107\n",
       "6.0    0.210521\n",
       "4.0    0.178907\n",
       "7.0    0.081242\n",
       "2.0    0.078989\n",
       "5.0    0.074091\n",
       "8.0    0.035866\n",
       "1.0    0.035277\n",
       "Name: FEDUC, dtype: float64"
      ]
     },
     "execution_count": 81,
     "metadata": {},
     "output_type": "execute_result"
    }
   ],
   "source": [
    "### father education level\n",
    "data['FEDUC'] = data.FEDUC.replace([9], [np.nan])\n",
    "data['FEDUC'].value_counts(normalize=True)"
   ]
  },
  {
   "cell_type": "code",
   "execution_count": 82,
   "id": "61623389",
   "metadata": {},
   "outputs": [
    {
     "data": {
      "text/plain": [
       "(array([111861., 250466., 967464., 567294., 234935., 667540., 257610.,\n",
       "        113726.]),\n",
       " array([1.   , 1.875, 2.75 , 3.625, 4.5  , 5.375, 6.25 , 7.125, 8.   ]),\n",
       " <BarContainer object of 8 artists>)"
      ]
     },
     "execution_count": 82,
     "metadata": {},
     "output_type": "execute_result"
    },
    {
     "data": {
      "image/png": "[encoded data removed]",
      "text/plain": [
       "<Figure size 432x288 with 1 Axes>"
      ]
     },
     "metadata": {
      "needs_background": "light"
     },
     "output_type": "display_data"
    }
   ],
   "source": [
    "plt.hist(data.FEDUC, bins=8)"
   ]
  },
  {
   "cell_type": "markdown",
   "id": "16ecc5c3",
   "metadata": {},
   "source": [
    "### Pregnancy and Infant Outcomes"
   ]
  },
  {
   "cell_type": "code",
   "execution_count": 83,
   "id": "c4ce1609",
   "metadata": {},
   "outputs": [
    {
     "data": {
      "text/plain": [
       "12.0    546041\n",
       "10.0    502048\n",
       "11.0    398615\n",
       "13.0    335151\n",
       "9.0     263975\n",
       "         ...  \n",
       "93.0         1\n",
       "85.0         1\n",
       "84.0         1\n",
       "76.0         1\n",
       "74.0         1\n",
       "Name: PREVIS, Length: 83, dtype: int64"
      ]
     },
     "execution_count": 83,
     "metadata": {},
     "output_type": "execute_result"
    }
   ],
   "source": [
    "### number of prenatal visits\n",
    "data['PREVIS'] = data.PREVIS.replace([99], [np.nan])\n",
    "data['PREVIS'].value_counts()"
   ]
  },
  {
   "cell_type": "code",
   "execution_count": 84,
   "id": "8e13155e",
   "metadata": {},
   "outputs": [
    {
     "data": {
      "text/plain": [
       "74900"
      ]
     },
     "execution_count": 84,
     "metadata": {},
     "output_type": "execute_result"
    }
   ],
   "source": [
    "#number of observations with 0 prenatal visits\n",
    "data['PREVIS'].loc[data['PREVIS'] == 0].count()"
   ]
  },
  {
   "cell_type": "code",
   "execution_count": 85,
   "id": "3f828b41",
   "metadata": {},
   "outputs": [
    {
     "data": {
      "text/plain": [
       "11.248370675915313"
      ]
     },
     "execution_count": 85,
     "metadata": {},
     "output_type": "execute_result"
    }
   ],
   "source": [
    "#mean number of visits among those who had at least 1 prenatal visit\n",
    "data['PREVIS'].loc[(data['PREVIS'] != 0)].mean()"
   ]
  },
  {
   "cell_type": "code",
   "execution_count": 86,
   "id": "f578a351",
   "metadata": {},
   "outputs": [
    {
     "data": {
      "text/plain": [
       "11.014081232661251"
      ]
     },
     "execution_count": 86,
     "metadata": {},
     "output_type": "execute_result"
    }
   ],
   "source": [
    "#mean number of visits including those who had 0 prenatal visits\n",
    "data['PREVIS'].mean()"
   ]
  },
  {
   "cell_type": "code",
   "execution_count": 87,
   "id": "e54d9e84",
   "metadata": {},
   "outputs": [
    {
     "data": {
      "text/plain": [
       "N    0.693840\n",
       "Y    0.294908\n",
       "U    0.011252\n",
       "Name: WIC, dtype: float64"
      ]
     },
     "execution_count": 87,
     "metadata": {},
     "output_type": "execute_result"
    }
   ],
   "source": [
    "# received WIC during pregnancy\n",
    "data['WIC'].value_counts(normalize=True)"
   ]
  },
  {
   "cell_type": "code",
   "execution_count": 88,
   "id": "defb822a",
   "metadata": {},
   "outputs": [
    {
     "data": {
      "text/plain": [
       "X    0.678626\n",
       "N    0.229298\n",
       "Y    0.087671\n",
       "U    0.004405\n",
       "Name: ME_TRIAL, dtype: float64"
      ]
     },
     "execution_count": 88,
     "metadata": {},
     "output_type": "execute_result"
    }
   ],
   "source": [
    "# attempted a trial of labor prior to cesarean Y=yes, N=no, U=unknown, X=not applicable (delivered vaginally)\n",
    "data['ME_TRIAL'].value_counts(normalize=True)"
   ]
  },
  {
   "cell_type": "code",
   "execution_count": 89,
   "id": "5bf93e0c",
   "metadata": {},
   "outputs": [
    {
     "data": {
      "text/plain": [
       "1.0    0.679176\n",
       "2.0    0.320824\n",
       "Name: DMETH_REC, dtype: float64"
      ]
     },
     "execution_count": 89,
     "metadata": {},
     "output_type": "execute_result"
    }
   ],
   "source": [
    "# method of delivery 1=vaginal, 2=cesarean, 9=missing\n",
    "data['DMETH_REC'] = data.DMETH_REC.replace([9], [np.nan])\n",
    "data['DMETH_REC'].value_counts(normalize=True)"
   ]
  },
  {
   "cell_type": "code",
   "execution_count": 117,
   "id": "3d2a1f8f",
   "metadata": {},
   "outputs": [
    {
     "data": {
      "text/plain": [
       "39.0    0.383822\n",
       "40.0    0.175230\n",
       "38.0    0.171702\n",
       "37.0    0.115890\n",
       "41.0    0.046053\n",
       "36.0    0.041885\n",
       "35.0    0.020051\n",
       "34.0    0.014787\n",
       "33.0    0.007162\n",
       "32.0    0.005057\n",
       "31.0    0.003210\n",
       "30.0    0.002745\n",
       "42.0    0.002279\n",
       "29.0    0.001877\n",
       "28.0    0.001651\n",
       "27.0    0.001337\n",
       "26.0    0.001122\n",
       "25.0    0.000994\n",
       "24.0    0.000908\n",
       "23.0    0.000708\n",
       "22.0    0.000463\n",
       "21.0    0.000320\n",
       "20.0    0.000255\n",
       "19.0    0.000158\n",
       "43.0    0.000124\n",
       "18.0    0.000103\n",
       "17.0    0.000056\n",
       "44.0    0.000029\n",
       "45.0    0.000009\n",
       "47.0    0.000007\n",
       "46.0    0.000006\n",
       "Name: OEGEST_COMB, dtype: float64"
      ]
     },
     "execution_count": 117,
     "metadata": {},
     "output_type": "execute_result"
    }
   ],
   "source": [
    "# weeks of gestation, range= 17-47, 99=missing\n",
    "data['OEGEST_COMB'] = data.OEGEST_COMB.replace([99], [np.nan])\n",
    "data['OEGEST_COMB'].value_counts(normalize=True)"
   ]
  },
  {
   "cell_type": "code",
   "execution_count": 122,
   "id": "25636880",
   "metadata": {},
   "outputs": [
    {
     "data": {
      "text/plain": [
       "3249.790906599064"
      ]
     },
     "execution_count": 122,
     "metadata": {},
     "output_type": "execute_result"
    }
   ],
   "source": [
    "# infant weight in grams at birth, 9999=missing\n",
    "data['DBWT'] = data.DBWT.replace([9999], [np.nan])\n",
    "data['DBWT'].mean()"
   ]
  },
  {
   "cell_type": "code",
   "execution_count": 92,
   "id": "c619fadf",
   "metadata": {},
   "outputs": [
    {
     "data": {
      "text/plain": [
       "Y    0.732438\n",
       "N    0.146419\n",
       "U    0.121143\n",
       "Name: BFED, dtype: float64"
      ]
     },
     "execution_count": 92,
     "metadata": {},
     "output_type": "execute_result"
    }
   ],
   "source": [
    "# infant being breastfed at discharge Y=yes, N=no, U=unknown\n",
    "data['BFED'].value_counts(normalize=True)"
   ]
  },
  {
   "cell_type": "markdown",
   "id": "b620eed5",
   "metadata": {},
   "source": [
    "## Recoding of Data to Numeric"
   ]
  },
  {
   "cell_type": "code",
   "execution_count": 93,
   "id": "2f6b96a1",
   "metadata": {},
   "outputs": [
    {
     "data": {
      "text/plain": [
       "0.0    0.701736\n",
       "1.0    0.298264\n",
       "Name: WIC_R, dtype: float64"
      ]
     },
     "execution_count": 93,
     "metadata": {},
     "output_type": "execute_result"
    }
   ],
   "source": [
    "#change letters to numbers for WIC data\n",
    "data['WIC_R'] = data.WIC.replace(['Y', 'N', 'U'], [1, 0, np.nan])\n",
    "data['WIC_R'].value_counts(normalize=True)"
   ]
  },
  {
   "cell_type": "code",
   "execution_count": 94,
   "id": "6c167f9e",
   "metadata": {},
   "outputs": [
    {
     "data": {
      "text/plain": [
       "1.0    0.769687\n",
       "0.0    0.230313\n",
       "Name: TRIAL_R, dtype: float64"
      ]
     },
     "execution_count": 94,
     "metadata": {},
     "output_type": "execute_result"
    }
   ],
   "source": [
    "#change letters to numbers for labor trial data \n",
    "data['TRIAL_R'] = data.ME_TRIAL.replace(['Y', 'N', 'U', 'X'], [1, 0, np.nan, 1])\n",
    "data['TRIAL_R'].value_counts(normalize=True)"
   ]
  },
  {
   "cell_type": "code",
   "execution_count": 95,
   "id": "8b2cd29f",
   "metadata": {},
   "outputs": [
    {
     "data": {
      "text/plain": [
       "1.0    0.833399\n",
       "0.0    0.166601\n",
       "Name: BFED_R, dtype: float64"
      ]
     },
     "execution_count": 95,
     "metadata": {},
     "output_type": "execute_result"
    }
   ],
   "source": [
    "#change letters to numbers for breastfeeding data\n",
    "data['BFED_R'] = data.BFED.replace(['Y', 'N', 'U'], [1, 0, np.nan])\n",
    "data['BFED_R'].value_counts(normalize=True)"
   ]
  },
  {
   "cell_type": "code",
   "execution_count": 96,
   "id": "77dec774",
   "metadata": {},
   "outputs": [
    {
     "data": {
      "text/plain": [
       "MAGER               0\n",
       "MRACE31             0\n",
       "MHISP_R         36643\n",
       "DMAR           421088\n",
       "MEDUC           56996\n",
       "FAGECOMB       412109\n",
       "FRACE31        672581\n",
       "FHISP_R        464811\n",
       "FEDUC          499032\n",
       "PREVIS          73936\n",
       "WIC                 0\n",
       "ME_TRIAL            0\n",
       "DMETH_REC        2976\n",
       "OEGEST_COMB      3126\n",
       "OEGEST_R3           0\n",
       "DBWT             3423\n",
       "BFED                0\n",
       "WIC_R           41295\n",
       "TRIAL_R         16167\n",
       "BFED_R         444586\n",
       "dtype: int64"
      ]
     },
     "execution_count": 96,
     "metadata": {},
     "output_type": "execute_result"
    }
   ],
   "source": [
    "data.isnull().sum()"
   ]
  },
  {
   "cell_type": "code",
   "execution_count": 97,
   "id": "99c1ad84",
   "metadata": {},
   "outputs": [
    {
     "name": "stdout",
     "output_type": "stream",
     "text": [
      "<class 'pandas.core.frame.DataFrame'>\n",
      "RangeIndex: 3669928 entries, 0 to 3669927\n",
      "Data columns (total 20 columns):\n",
      " #   Column       Dtype  \n",
      "---  ------       -----  \n",
      " 0   MAGER        int64  \n",
      " 1   MRACE31      int64  \n",
      " 2   MHISP_R      float64\n",
      " 3   DMAR         float64\n",
      " 4   MEDUC        float64\n",
      " 5   FAGECOMB     float64\n",
      " 6   FRACE31      float64\n",
      " 7   FHISP_R      float64\n",
      " 8   FEDUC        float64\n",
      " 9   PREVIS       float64\n",
      " 10  WIC          object \n",
      " 11  ME_TRIAL     object \n",
      " 12  DMETH_REC    float64\n",
      " 13  OEGEST_COMB  float64\n",
      " 14  OEGEST_R3    int64  \n",
      " 15  DBWT         float64\n",
      " 16  BFED         object \n",
      " 17  WIC_R        float64\n",
      " 18  TRIAL_R      float64\n",
      " 19  BFED_R       float64\n",
      "dtypes: float64(14), int64(3), object(3)\n",
      "memory usage: 560.0+ MB\n"
     ]
    }
   ],
   "source": [
    "data.info()"
   ]
  },
  {
   "cell_type": "markdown",
   "id": "0d447675",
   "metadata": {},
   "source": [
    "## Taking a Stratified Random Sample for Analyses"
   ]
  },
  {
   "cell_type": "code",
   "execution_count": null,
   "id": "09d034b6",
   "metadata": {},
   "outputs": [],
   "source": [
    "sample_data = data.sample(n=1000000)\n",
    "sample_data.info()"
   ]
  },
  {
   "cell_type": "code",
   "execution_count": null,
   "id": "1932c9e5",
   "metadata": {},
   "outputs": [],
   "source": [
    "sample_data['WIC'].value_counts(normalize=True)"
   ]
  },
  {
   "cell_type": "code",
   "execution_count": null,
   "id": "2b539056",
   "metadata": {},
   "outputs": [],
   "source": [
    "sample_data['ME_TRIAL'].value_counts(normalize=True)"
   ]
  },
  {
   "cell_type": "code",
   "execution_count": null,
   "id": "3d5e09a8",
   "metadata": {},
   "outputs": [],
   "source": [
    "sample_data['DMETH_REC'].value_counts(normalize=True)"
   ]
  },
  {
   "cell_type": "code",
   "execution_count": null,
   "id": "933273bd",
   "metadata": {},
   "outputs": [],
   "source": [
    "sample_data['BFED'].value_counts(normalize=True)"
   ]
  },
  {
   "cell_type": "code",
   "execution_count": null,
   "id": "93b39dd8",
   "metadata": {},
   "outputs": [],
   "source": [
    "### mother education level\n",
    "sample_data['MEDUC'] = sample_data.MEDUC.replace([9], [np.nan])\n",
    "sample_data['MEDUC'].value_counts(normalize=True)"
   ]
  },
  {
   "cell_type": "code",
   "execution_count": null,
   "id": "b395b0b0",
   "metadata": {},
   "outputs": [],
   "source": [
    "### mother Hispanic origin\n",
    "sample_data['MHISP_R'] = sample_data.MHISP_R.replace([9], [np.nan])\n",
    "sample_data['MHISP_R'].value_counts(normalize=True)"
   ]
  },
  {
   "cell_type": "code",
   "execution_count": null,
   "id": "ff4c022d",
   "metadata": {},
   "outputs": [],
   "source": [
    "### father age\n",
    "sample_data['FAGECOMB'] = sample_data.FAGECOMB.replace([99], [np.nan])\n",
    "sample_data['FAGECOMB'].value_counts(normalize=True)"
   ]
  },
  {
   "cell_type": "code",
   "execution_count": null,
   "id": "df61cd1a",
   "metadata": {},
   "outputs": [],
   "source": [
    "### father race\n",
    "sample_data['FRACE31'] = sample_data.FRACE31.replace([99], [np.nan])\n",
    "sample_data['FRACE31'].value_counts(normalize=True)"
   ]
  },
  {
   "cell_type": "code",
   "execution_count": null,
   "id": "1ef6a7cd",
   "metadata": {},
   "outputs": [],
   "source": [
    "### father Hispanic origin\n",
    "sample_data['FHISP_R'] = sample_data.FHISP_R.replace([9], [np.nan])\n",
    "sample_data['FHISP_R'].value_counts()"
   ]
  },
  {
   "cell_type": "code",
   "execution_count": null,
   "id": "f1c6decf",
   "metadata": {},
   "outputs": [],
   "source": [
    "### father education level\n",
    "sample_data['FEDUC'] = sample_data.FEDUC.replace([9], [np.nan])\n",
    "sample_data['FEDUC'].value_counts(normalize=True)"
   ]
  },
  {
   "cell_type": "code",
   "execution_count": null,
   "id": "d1e0f21b",
   "metadata": {},
   "outputs": [],
   "source": [
    "### number of prenatal visits\n",
    "sample_data['PREVIS'] = sample_data.PREVIS.replace([99], [np.nan])\n",
    "sample_data['PREVIS'].value_counts()"
   ]
  },
  {
   "cell_type": "code",
   "execution_count": null,
   "id": "14f0fa37",
   "metadata": {},
   "outputs": [],
   "source": [
    "# method of delivery 1=vaginal, 2=cesarean, 99=missing\n",
    "sample_data['DMETH_REC'] = sample_data.DMETH_REC.replace([9], [np.nan])\n",
    "sample_data['DMETH_REC'].value_counts(normalize=True)"
   ]
  },
  {
   "cell_type": "code",
   "execution_count": null,
   "id": "74734436",
   "metadata": {},
   "outputs": [],
   "source": [
    "# weeks of gestation, range= 17-47, 99=missing\n",
    "sample_data['OEGEST_COMB'] = sample_data.OEGEST_COMB.replace([99], [np.nan])\n",
    "sample_data['OEGEST_COMB'].value_counts()"
   ]
  },
  {
   "cell_type": "code",
   "execution_count": null,
   "id": "a21871ab",
   "metadata": {},
   "outputs": [],
   "source": [
    "# infant weight in grams at birth, 99=missing\n",
    "sample_data['DBWT'] = sample_data.DBWT.replace([9999], [np.nan])\n",
    "sample_data['DBWT'].value_counts(normalize=True)"
   ]
  },
  {
   "cell_type": "code",
   "execution_count": null,
   "id": "f2bb8420",
   "metadata": {},
   "outputs": [],
   "source": [
    "# infant being breastfed at discharge Y=yes, N=no, U=unknown\n",
    "sample_data['BFED'].value_counts(normalize=True)"
   ]
  },
  {
   "cell_type": "code",
   "execution_count": null,
   "id": "9e773624",
   "metadata": {},
   "outputs": [],
   "source": [
    "#change letters to numbers for WIC data\n",
    "sample_data['WIC_R'] = sample_data.WIC.replace(['Y', 'N', 'U'], [1, 0, np.nan])"
   ]
  },
  {
   "cell_type": "code",
   "execution_count": null,
   "id": "575a67ce",
   "metadata": {},
   "outputs": [],
   "source": [
    "#change letters to numbers for labor trial data \n",
    "sample_data['TRIAL_R'] = sample_data.ME_TRIAL.replace(['Y', 'N', 'U', 'X'], [1, 0, np.nan, 1])"
   ]
  },
  {
   "cell_type": "code",
   "execution_count": null,
   "id": "c8a15ece",
   "metadata": {},
   "outputs": [],
   "source": [
    "#change letters to numbers for breastfeeding data\n",
    "sample_data['BFED_R'] = sample_data.BFED.replace(['Y', 'N', 'U'], [1, 0, np.nan])"
   ]
  },
  {
   "cell_type": "markdown",
   "id": "8be6c862",
   "metadata": {},
   "source": [
    "## Imputing Missing Values using KNNImputer()"
   ]
  },
  {
   "cell_type": "code",
   "execution_count": null,
   "id": "660e4a51",
   "metadata": {},
   "outputs": [],
   "source": [
    "impute_data=sample_data[['DMAR', 'MEDUC', 'MAGER', 'MRACE31', 'MHISP_R', 'FAGECOMB', 'FRACE31', 'FHISP_R', \n",
    "                         'FEDUC', 'PREVIS', 'WIC_R', 'TRIAL_R', 'BFED_R', 'DMETH_REC', 'DBWT', 'OEGEST_COMB']]"
   ]
  },
  {
   "cell_type": "code",
   "execution_count": null,
   "id": "39983000",
   "metadata": {},
   "outputs": [],
   "source": [
    "impute_data.info()"
   ]
  },
  {
   "cell_type": "code",
   "execution_count": null,
   "id": "e51c2221",
   "metadata": {},
   "outputs": [],
   "source": [
    "from sklearn.impute import KNNImputer\n",
    "\n",
    "imputer = KNNImputer(n_neighbors=1)\n",
    "imputed_data = imputer.fit_transform(impute_data)"
   ]
  },
  {
   "cell_type": "code",
   "execution_count": null,
   "id": "cd55af0d",
   "metadata": {},
   "outputs": [],
   "source": [
    "# Make df of imputed data\n",
    "column_values = ['DMAR', 'MEDUC', 'MAGER', 'MRACE31', 'MHISP_R', 'FAGECOMB', 'FRACE31', 'FHISP_R', 'FEDUC',\n",
    "       'PREVIS', 'DMETH_REC', 'DBWT', 'OEGEST_COMB']\n",
    "imputed_data = pd.DataFrame(data=imputed_data, columns=column_values)\n",
    "imputed_data.head()"
   ]
  },
  {
   "cell_type": "markdown",
   "id": "7470922c",
   "metadata": {},
   "source": [
    "## Export of Imputed Data \n",
    "Once all data is imputed, will use this data file so do not have to re-run KNNImputer because it is so time-intensive."
   ]
  },
  {
   "cell_type": "code",
   "execution_count": null,
   "id": "4d92349b",
   "metadata": {},
   "outputs": [],
   "source": [
    "imputed_data.to_csv('full_sample.csv')"
   ]
  },
  {
   "cell_type": "markdown",
   "id": "c3002daa",
   "metadata": {},
   "source": [
    "## Import Imputed Data"
   ]
  },
  {
   "cell_type": "code",
   "execution_count": 98,
   "id": "50903736",
   "metadata": {},
   "outputs": [],
   "source": [
    "# Because running the imputer takes multiple hours, the dataset was exported so can be used without having to run imputer\n",
    "imputed_data = pd.read_csv('full_sample.csv')"
   ]
  },
  {
   "cell_type": "code",
   "execution_count": 99,
   "id": "09317b73",
   "metadata": {},
   "outputs": [
    {
     "data": {
      "text/html": [
       "<div>\n",
       "<style scoped>\n",
       "    .dataframe tbody tr th:only-of-type {\n",
       "        vertical-align: middle;\n",
       "    }\n",
       "\n",
       "    .dataframe tbody tr th {\n",
       "        vertical-align: top;\n",
       "    }\n",
       "\n",
       "    .dataframe thead th {\n",
       "        text-align: right;\n",
       "    }\n",
       "</style>\n",
       "<table border=\"1\" class=\"dataframe\">\n",
       "  <thead>\n",
       "    <tr style=\"text-align: right;\">\n",
       "      <th></th>\n",
       "      <th>Unnamed: 0</th>\n",
       "      <th>DMAR</th>\n",
       "      <th>PATERNITY_R</th>\n",
       "      <th>MEDUC</th>\n",
       "      <th>MAGER</th>\n",
       "      <th>MRACE31</th>\n",
       "      <th>MHISP_R</th>\n",
       "      <th>FAGECOMB</th>\n",
       "      <th>FRACE31</th>\n",
       "      <th>FHISP_R</th>\n",
       "      <th>FEDUC</th>\n",
       "      <th>PREVIS</th>\n",
       "      <th>WIC_R</th>\n",
       "      <th>TRIAL_R</th>\n",
       "      <th>BFED_R</th>\n",
       "      <th>DMETH_REC</th>\n",
       "      <th>DBWT</th>\n",
       "      <th>OEGEST_COMB</th>\n",
       "    </tr>\n",
       "  </thead>\n",
       "  <tbody>\n",
       "    <tr>\n",
       "      <th>0</th>\n",
       "      <td>0</td>\n",
       "      <td>2.0</td>\n",
       "      <td>1.0</td>\n",
       "      <td>2.0</td>\n",
       "      <td>30.0</td>\n",
       "      <td>1.0</td>\n",
       "      <td>1.0</td>\n",
       "      <td>38.0</td>\n",
       "      <td>1.0</td>\n",
       "      <td>1.0</td>\n",
       "      <td>3.0</td>\n",
       "      <td>17.0</td>\n",
       "      <td>1.0</td>\n",
       "      <td>1.0</td>\n",
       "      <td>1.0</td>\n",
       "      <td>1.0</td>\n",
       "      <td>3770.0</td>\n",
       "      <td>39.0</td>\n",
       "    </tr>\n",
       "    <tr>\n",
       "      <th>1</th>\n",
       "      <td>1</td>\n",
       "      <td>1.0</td>\n",
       "      <td>1.0</td>\n",
       "      <td>2.0</td>\n",
       "      <td>32.0</td>\n",
       "      <td>1.0</td>\n",
       "      <td>1.0</td>\n",
       "      <td>34.0</td>\n",
       "      <td>1.0</td>\n",
       "      <td>1.0</td>\n",
       "      <td>2.0</td>\n",
       "      <td>12.0</td>\n",
       "      <td>1.0</td>\n",
       "      <td>0.0</td>\n",
       "      <td>1.0</td>\n",
       "      <td>2.0</td>\n",
       "      <td>3354.0</td>\n",
       "      <td>38.0</td>\n",
       "    </tr>\n",
       "    <tr>\n",
       "      <th>2</th>\n",
       "      <td>2</td>\n",
       "      <td>1.0</td>\n",
       "      <td>1.0</td>\n",
       "      <td>4.0</td>\n",
       "      <td>22.0</td>\n",
       "      <td>1.0</td>\n",
       "      <td>0.0</td>\n",
       "      <td>22.0</td>\n",
       "      <td>1.0</td>\n",
       "      <td>0.0</td>\n",
       "      <td>3.0</td>\n",
       "      <td>12.0</td>\n",
       "      <td>0.0</td>\n",
       "      <td>1.0</td>\n",
       "      <td>1.0</td>\n",
       "      <td>1.0</td>\n",
       "      <td>2840.0</td>\n",
       "      <td>37.0</td>\n",
       "    </tr>\n",
       "    <tr>\n",
       "      <th>3</th>\n",
       "      <td>3</td>\n",
       "      <td>1.0</td>\n",
       "      <td>1.0</td>\n",
       "      <td>6.0</td>\n",
       "      <td>41.0</td>\n",
       "      <td>1.0</td>\n",
       "      <td>0.0</td>\n",
       "      <td>46.0</td>\n",
       "      <td>1.0</td>\n",
       "      <td>0.0</td>\n",
       "      <td>3.0</td>\n",
       "      <td>10.0</td>\n",
       "      <td>0.0</td>\n",
       "      <td>0.0</td>\n",
       "      <td>1.0</td>\n",
       "      <td>2.0</td>\n",
       "      <td>2870.0</td>\n",
       "      <td>36.0</td>\n",
       "    </tr>\n",
       "    <tr>\n",
       "      <th>4</th>\n",
       "      <td>4</td>\n",
       "      <td>1.0</td>\n",
       "      <td>1.0</td>\n",
       "      <td>3.0</td>\n",
       "      <td>30.0</td>\n",
       "      <td>1.0</td>\n",
       "      <td>1.0</td>\n",
       "      <td>36.0</td>\n",
       "      <td>1.0</td>\n",
       "      <td>1.0</td>\n",
       "      <td>3.0</td>\n",
       "      <td>9.0</td>\n",
       "      <td>0.0</td>\n",
       "      <td>0.0</td>\n",
       "      <td>1.0</td>\n",
       "      <td>2.0</td>\n",
       "      <td>3856.0</td>\n",
       "      <td>38.0</td>\n",
       "    </tr>\n",
       "  </tbody>\n",
       "</table>\n",
       "</div>"
      ],
      "text/plain": [
       "   Unnamed: 0  DMAR  PATERNITY_R  MEDUC  MAGER  MRACE31  MHISP_R  FAGECOMB  \\\n",
       "0           0   2.0          1.0    2.0   30.0      1.0      1.0      38.0   \n",
       "1           1   1.0          1.0    2.0   32.0      1.0      1.0      34.0   \n",
       "2           2   1.0          1.0    4.0   22.0      1.0      0.0      22.0   \n",
       "3           3   1.0          1.0    6.0   41.0      1.0      0.0      46.0   \n",
       "4           4   1.0          1.0    3.0   30.0      1.0      1.0      36.0   \n",
       "\n",
       "   FRACE31  FHISP_R  FEDUC  PREVIS  WIC_R  TRIAL_R  BFED_R  DMETH_REC    DBWT  \\\n",
       "0      1.0      1.0    3.0    17.0    1.0      1.0     1.0        1.0  3770.0   \n",
       "1      1.0      1.0    2.0    12.0    1.0      0.0     1.0        2.0  3354.0   \n",
       "2      1.0      0.0    3.0    12.0    0.0      1.0     1.0        1.0  2840.0   \n",
       "3      1.0      0.0    3.0    10.0    0.0      0.0     1.0        2.0  2870.0   \n",
       "4      1.0      1.0    3.0     9.0    0.0      0.0     1.0        2.0  3856.0   \n",
       "\n",
       "   OEGEST_COMB  \n",
       "0         39.0  \n",
       "1         38.0  \n",
       "2         37.0  \n",
       "3         36.0  \n",
       "4         38.0  "
      ]
     },
     "execution_count": 99,
     "metadata": {},
     "output_type": "execute_result"
    }
   ],
   "source": [
    "imputed_data.head()"
   ]
  },
  {
   "cell_type": "code",
   "execution_count": 100,
   "id": "82e29272",
   "metadata": {},
   "outputs": [],
   "source": [
    "imputed_data = imputed_data.drop(labels='Unnamed: 0', axis=1)"
   ]
  },
  {
   "cell_type": "code",
   "execution_count": 101,
   "id": "8bf8595a",
   "metadata": {},
   "outputs": [],
   "source": [
    "imputed_data['DMAR'] = imputed_data.DMAR.replace([2.0], [0])\n",
    "imputed_data['DMETH_REC'] = imputed_data.DMETH_REC.replace([2.0], [0])"
   ]
  },
  {
   "cell_type": "code",
   "execution_count": 102,
   "id": "fc4c9119",
   "metadata": {},
   "outputs": [
    {
     "name": "stdout",
     "output_type": "stream",
     "text": [
      "<class 'pandas.core.frame.DataFrame'>\n",
      "RangeIndex: 1000000 entries, 0 to 999999\n",
      "Data columns (total 17 columns):\n",
      " #   Column       Non-Null Count    Dtype  \n",
      "---  ------       --------------    -----  \n",
      " 0   DMAR         1000000 non-null  float64\n",
      " 1   PATERNITY_R  1000000 non-null  float64\n",
      " 2   MEDUC        1000000 non-null  float64\n",
      " 3   MAGER        1000000 non-null  float64\n",
      " 4   MRACE31      1000000 non-null  float64\n",
      " 5   MHISP_R      1000000 non-null  float64\n",
      " 6   FAGECOMB     1000000 non-null  float64\n",
      " 7   FRACE31      1000000 non-null  float64\n",
      " 8   FHISP_R      1000000 non-null  float64\n",
      " 9   FEDUC        1000000 non-null  float64\n",
      " 10  PREVIS       1000000 non-null  float64\n",
      " 11  WIC_R        1000000 non-null  float64\n",
      " 12  TRIAL_R      1000000 non-null  float64\n",
      " 13  BFED_R       1000000 non-null  float64\n",
      " 14  DMETH_REC    1000000 non-null  float64\n",
      " 15  DBWT         1000000 non-null  float64\n",
      " 16  OEGEST_COMB  1000000 non-null  float64\n",
      "dtypes: float64(17)\n",
      "memory usage: 129.7 MB\n"
     ]
    }
   ],
   "source": [
    "imputed_data.info()"
   ]
  },
  {
   "cell_type": "markdown",
   "id": "ce138805",
   "metadata": {
    "slideshow": {
     "slide_type": "slide"
    }
   },
   "source": [
    "## One Hot Encoding of Categorical Features"
   ]
  },
  {
   "cell_type": "code",
   "execution_count": 103,
   "id": "1db85ba2",
   "metadata": {},
   "outputs": [],
   "source": [
    "categorical_cols = ['MEDUC', 'MRACE31', 'MHISP_R', 'FRACE31', 'FHISP_R', 'FEDUC']\n",
    "\n",
    "encoder = OneHotEncoder(drop='first', sparse=False)\n",
    "OHE_encoded_data = pd.DataFrame(encoder.fit_transform(imputed_data[categorical_cols]))\n",
    "OHE_encoded_data.columns = encoder.get_feature_names_out(input_features=categorical_cols)"
   ]
  },
  {
   "cell_type": "code",
   "execution_count": 104,
   "id": "b34f426f",
   "metadata": {},
   "outputs": [
    {
     "name": "stdout",
     "output_type": "stream",
     "text": [
      "<class 'pandas.core.frame.DataFrame'>\n",
      "RangeIndex: 1000000 entries, 0 to 999999\n",
      "Data columns (total 84 columns):\n",
      " #   Column        Non-Null Count    Dtype  \n",
      "---  ------        --------------    -----  \n",
      " 0   MEDUC_2.0     1000000 non-null  float64\n",
      " 1   MEDUC_3.0     1000000 non-null  float64\n",
      " 2   MEDUC_4.0     1000000 non-null  float64\n",
      " 3   MEDUC_5.0     1000000 non-null  float64\n",
      " 4   MEDUC_6.0     1000000 non-null  float64\n",
      " 5   MEDUC_7.0     1000000 non-null  float64\n",
      " 6   MEDUC_8.0     1000000 non-null  float64\n",
      " 7   MRACE31_2.0   1000000 non-null  float64\n",
      " 8   MRACE31_3.0   1000000 non-null  float64\n",
      " 9   MRACE31_4.0   1000000 non-null  float64\n",
      " 10  MRACE31_5.0   1000000 non-null  float64\n",
      " 11  MRACE31_6.0   1000000 non-null  float64\n",
      " 12  MRACE31_7.0   1000000 non-null  float64\n",
      " 13  MRACE31_8.0   1000000 non-null  float64\n",
      " 14  MRACE31_9.0   1000000 non-null  float64\n",
      " 15  MRACE31_10.0  1000000 non-null  float64\n",
      " 16  MRACE31_11.0  1000000 non-null  float64\n",
      " 17  MRACE31_12.0  1000000 non-null  float64\n",
      " 18  MRACE31_13.0  1000000 non-null  float64\n",
      " 19  MRACE31_14.0  1000000 non-null  float64\n",
      " 20  MRACE31_15.0  1000000 non-null  float64\n",
      " 21  MRACE31_16.0  1000000 non-null  float64\n",
      " 22  MRACE31_17.0  1000000 non-null  float64\n",
      " 23  MRACE31_18.0  1000000 non-null  float64\n",
      " 24  MRACE31_19.0  1000000 non-null  float64\n",
      " 25  MRACE31_20.0  1000000 non-null  float64\n",
      " 26  MRACE31_21.0  1000000 non-null  float64\n",
      " 27  MRACE31_22.0  1000000 non-null  float64\n",
      " 28  MRACE31_23.0  1000000 non-null  float64\n",
      " 29  MRACE31_24.0  1000000 non-null  float64\n",
      " 30  MRACE31_25.0  1000000 non-null  float64\n",
      " 31  MRACE31_26.0  1000000 non-null  float64\n",
      " 32  MRACE31_27.0  1000000 non-null  float64\n",
      " 33  MRACE31_28.0  1000000 non-null  float64\n",
      " 34  MRACE31_29.0  1000000 non-null  float64\n",
      " 35  MRACE31_30.0  1000000 non-null  float64\n",
      " 36  MRACE31_31.0  1000000 non-null  float64\n",
      " 37  MHISP_R_1.0   1000000 non-null  float64\n",
      " 38  MHISP_R_2.0   1000000 non-null  float64\n",
      " 39  MHISP_R_3.0   1000000 non-null  float64\n",
      " 40  MHISP_R_4.0   1000000 non-null  float64\n",
      " 41  MHISP_R_5.0   1000000 non-null  float64\n",
      " 42  FRACE31_2.0   1000000 non-null  float64\n",
      " 43  FRACE31_3.0   1000000 non-null  float64\n",
      " 44  FRACE31_4.0   1000000 non-null  float64\n",
      " 45  FRACE31_5.0   1000000 non-null  float64\n",
      " 46  FRACE31_6.0   1000000 non-null  float64\n",
      " 47  FRACE31_7.0   1000000 non-null  float64\n",
      " 48  FRACE31_8.0   1000000 non-null  float64\n",
      " 49  FRACE31_9.0   1000000 non-null  float64\n",
      " 50  FRACE31_10.0  1000000 non-null  float64\n",
      " 51  FRACE31_11.0  1000000 non-null  float64\n",
      " 52  FRACE31_12.0  1000000 non-null  float64\n",
      " 53  FRACE31_13.0  1000000 non-null  float64\n",
      " 54  FRACE31_14.0  1000000 non-null  float64\n",
      " 55  FRACE31_15.0  1000000 non-null  float64\n",
      " 56  FRACE31_16.0  1000000 non-null  float64\n",
      " 57  FRACE31_17.0  1000000 non-null  float64\n",
      " 58  FRACE31_18.0  1000000 non-null  float64\n",
      " 59  FRACE31_19.0  1000000 non-null  float64\n",
      " 60  FRACE31_20.0  1000000 non-null  float64\n",
      " 61  FRACE31_21.0  1000000 non-null  float64\n",
      " 62  FRACE31_22.0  1000000 non-null  float64\n",
      " 63  FRACE31_23.0  1000000 non-null  float64\n",
      " 64  FRACE31_24.0  1000000 non-null  float64\n",
      " 65  FRACE31_25.0  1000000 non-null  float64\n",
      " 66  FRACE31_26.0  1000000 non-null  float64\n",
      " 67  FRACE31_27.0  1000000 non-null  float64\n",
      " 68  FRACE31_28.0  1000000 non-null  float64\n",
      " 69  FRACE31_29.0  1000000 non-null  float64\n",
      " 70  FRACE31_30.0  1000000 non-null  float64\n",
      " 71  FRACE31_31.0  1000000 non-null  float64\n",
      " 72  FHISP_R_1.0   1000000 non-null  float64\n",
      " 73  FHISP_R_2.0   1000000 non-null  float64\n",
      " 74  FHISP_R_3.0   1000000 non-null  float64\n",
      " 75  FHISP_R_4.0   1000000 non-null  float64\n",
      " 76  FHISP_R_5.0   1000000 non-null  float64\n",
      " 77  FEDUC_2.0     1000000 non-null  float64\n",
      " 78  FEDUC_3.0     1000000 non-null  float64\n",
      " 79  FEDUC_4.0     1000000 non-null  float64\n",
      " 80  FEDUC_5.0     1000000 non-null  float64\n",
      " 81  FEDUC_6.0     1000000 non-null  float64\n",
      " 82  FEDUC_7.0     1000000 non-null  float64\n",
      " 83  FEDUC_8.0     1000000 non-null  float64\n",
      "dtypes: float64(84)\n",
      "memory usage: 640.9 MB\n"
     ]
    }
   ],
   "source": [
    "OHE_encoded_data.info()"
   ]
  },
  {
   "cell_type": "code",
   "execution_count": null,
   "id": "42e54e79",
   "metadata": {},
   "outputs": [],
   "source": [
    "OHE_encoded_data.columns"
   ]
  },
  {
   "cell_type": "code",
   "execution_count": null,
   "id": "6d233187",
   "metadata": {},
   "outputs": [],
   "source": [
    "OHE_encoded_data.isna().sum()"
   ]
  },
  {
   "cell_type": "code",
   "execution_count": 105,
   "id": "9b0689ea",
   "metadata": {},
   "outputs": [],
   "source": [
    "imputed_encoded_data = pd.concat([imputed_data, OHE_encoded_data], axis=1)"
   ]
  },
  {
   "cell_type": "markdown",
   "id": "0e53ed3c",
   "metadata": {},
   "source": [
    "## Treatment of Outliers"
   ]
  },
  {
   "cell_type": "markdown",
   "id": "def2c79e",
   "metadata": {},
   "source": [
    "### Paternal Age"
   ]
  },
  {
   "cell_type": "code",
   "execution_count": 106,
   "id": "2f36a476",
   "metadata": {},
   "outputs": [
    {
     "data": {
      "text/plain": [
       "{'whiskers': [<matplotlib.lines.Line2D at 0x18004b14670>,\n",
       "  <matplotlib.lines.Line2D at 0x18004b149d0>],\n",
       " 'caps': [<matplotlib.lines.Line2D at 0x18004b14d30>,\n",
       "  <matplotlib.lines.Line2D at 0x18004b1f0d0>],\n",
       " 'boxes': [<matplotlib.lines.Line2D at 0x18004b14310>],\n",
       " 'medians': [<matplotlib.lines.Line2D at 0x18004b1f430>],\n",
       " 'fliers': [<matplotlib.lines.Line2D at 0x18004b1f790>],\n",
       " 'means': []}"
      ]
     },
     "execution_count": 106,
     "metadata": {},
     "output_type": "execute_result"
    },
    {
     "data": {
      "image/png": "[encoded data removed]",
      "text/plain": [
       "<Figure size 432x288 with 1 Axes>"
      ]
     },
     "metadata": {
      "needs_background": "light"
     },
     "output_type": "display_data"
    }
   ],
   "source": [
    "plt.boxplot(imputed_data.FAGECOMB)"
   ]
  },
  {
   "cell_type": "code",
   "execution_count": 107,
   "id": "cfdfea59",
   "metadata": {},
   "outputs": [],
   "source": [
    "q_FAGECOMB = imputed_data.FAGECOMB.quantile(0.997)"
   ]
  },
  {
   "cell_type": "code",
   "execution_count": 108,
   "id": "2f753cd6",
   "metadata": {},
   "outputs": [
    {
     "data": {
      "text/plain": [
       "56.0"
      ]
     },
     "execution_count": 108,
     "metadata": {},
     "output_type": "execute_result"
    }
   ],
   "source": [
    "q_FAGECOMB"
   ]
  },
  {
   "cell_type": "markdown",
   "id": "52ba82c2",
   "metadata": {},
   "source": [
    "### Prenatal Visits"
   ]
  },
  {
   "cell_type": "code",
   "execution_count": 109,
   "id": "df7268cc",
   "metadata": {},
   "outputs": [
    {
     "data": {
      "text/plain": [
       "{'whiskers': [<matplotlib.lines.Line2D at 0x180070a4b20>,\n",
       "  <matplotlib.lines.Line2D at 0x180070a4e80>],\n",
       " 'caps': [<matplotlib.lines.Line2D at 0x180070b0220>,\n",
       "  <matplotlib.lines.Line2D at 0x180070b0580>],\n",
       " 'boxes': [<matplotlib.lines.Line2D at 0x180070a47c0>],\n",
       " 'medians': [<matplotlib.lines.Line2D at 0x180070b08e0>],\n",
       " 'fliers': [<matplotlib.lines.Line2D at 0x180070b0c40>],\n",
       " 'means': []}"
      ]
     },
     "execution_count": 109,
     "metadata": {},
     "output_type": "execute_result"
    },
    {
     "data": {
      "image/png": "[encoded data removed]",
      "text/plain": [
       "<Figure size 432x288 with 1 Axes>"
      ]
     },
     "metadata": {
      "needs_background": "light"
     },
     "output_type": "display_data"
    }
   ],
   "source": [
    "plt.boxplot(imputed_data.PREVIS)"
   ]
  },
  {
   "cell_type": "code",
   "execution_count": 110,
   "id": "1410bd34",
   "metadata": {},
   "outputs": [
    {
     "data": {
      "text/plain": [
       "30.0"
      ]
     },
     "execution_count": 110,
     "metadata": {},
     "output_type": "execute_result"
    }
   ],
   "source": [
    "q_PREVIS = imputed_data.PREVIS.quantile(0.997)\n",
    "q_PREVIS"
   ]
  },
  {
   "cell_type": "markdown",
   "id": "d488c94f",
   "metadata": {},
   "source": [
    "### Infant Birth Weight"
   ]
  },
  {
   "cell_type": "code",
   "execution_count": 111,
   "id": "efaf91a1",
   "metadata": {},
   "outputs": [
    {
     "data": {
      "text/plain": [
       "{'whiskers': [<matplotlib.lines.Line2D at 0x180070fea90>,\n",
       "  <matplotlib.lines.Line2D at 0x180070fedf0>],\n",
       " 'caps': [<matplotlib.lines.Line2D at 0x1800710b190>,\n",
       "  <matplotlib.lines.Line2D at 0x1800710b4f0>],\n",
       " 'boxes': [<matplotlib.lines.Line2D at 0x180070fe730>],\n",
       " 'medians': [<matplotlib.lines.Line2D at 0x1800710b850>],\n",
       " 'fliers': [<matplotlib.lines.Line2D at 0x1800710bbb0>],\n",
       " 'means': []}"
      ]
     },
     "execution_count": 111,
     "metadata": {},
     "output_type": "execute_result"
    },
    {
     "data": {
      "image/png": "[encoded data removed]",
      "text/plain": [
       "<Figure size 432x288 with 1 Axes>"
      ]
     },
     "metadata": {
      "needs_background": "light"
     },
     "output_type": "display_data"
    }
   ],
   "source": [
    "plt.boxplot(imputed_data.DBWT)"
   ]
  },
  {
   "cell_type": "code",
   "execution_count": 112,
   "id": "c5aa1e21",
   "metadata": {},
   "outputs": [
    {
     "data": {
      "text/plain": [
       "4760.0"
      ]
     },
     "execution_count": 112,
     "metadata": {},
     "output_type": "execute_result"
    }
   ],
   "source": [
    "q_DBWT_high = imputed_data.DBWT.quantile(0.997)\n",
    "q_DBWT_low = imputed_data.DBWT.quantile(0.003)\n",
    "q_DBWT_high"
   ]
  },
  {
   "cell_type": "code",
   "execution_count": 113,
   "id": "6ba30391",
   "metadata": {},
   "outputs": [
    {
     "data": {
      "text/plain": [
       "680.0"
      ]
     },
     "execution_count": 113,
     "metadata": {},
     "output_type": "execute_result"
    }
   ],
   "source": [
    "q_DBWT_low"
   ]
  },
  {
   "cell_type": "code",
   "execution_count": 123,
   "id": "4c9c323c",
   "metadata": {},
   "outputs": [
    {
     "data": {
      "text/plain": [
       "993941"
      ]
     },
     "execution_count": 123,
     "metadata": {},
     "output_type": "execute_result"
    }
   ],
   "source": [
    "imputed_data['DBWT'].loc[(imputed_data.DBWT < 4760) & (imputed_data.DBWT > 680)].count()"
   ]
  },
  {
   "cell_type": "markdown",
   "id": "3e926bf8",
   "metadata": {},
   "source": [
    "## Final Cleaned and Encoded Data Set"
   ]
  },
  {
   "cell_type": "code",
   "execution_count": null,
   "id": "c7adb28e",
   "metadata": {},
   "outputs": [],
   "source": [
    "final_data = imputed_encoded_data[(imputed_encoded_data['FAGECOMB'] < q_FAGECOMB) & \n",
    "                                                     (imputed_encoded_data['PREVIS'] < q_PREVIS) & \n",
    "                                                     (imputed_encoded_data['DBWT'] > q_DBWT_low) & \n",
    "                                                     (imputed_encoded_data['DBWT'] < q_DBWT_high)]"
   ]
  },
  {
   "cell_type": "code",
   "execution_count": null,
   "id": "f6e95970",
   "metadata": {},
   "outputs": [],
   "source": [
    "final_data.info()"
   ]
  },
  {
   "cell_type": "code",
   "execution_count": null,
   "id": "ee7f63a4",
   "metadata": {},
   "outputs": [],
   "source": [
    "final_data.to_csv('final_data.csv')"
   ]
  },
  {
   "cell_type": "code",
   "execution_count": 131,
   "id": "a1d96394",
   "metadata": {},
   "outputs": [],
   "source": [
    "final_data = pd.read_csv('final_data.csv')"
   ]
  },
  {
   "cell_type": "code",
   "execution_count": 179,
   "id": "a34c47d3",
   "metadata": {},
   "outputs": [],
   "source": [
    "final_data.head()"
   ]
  },
  {
   "cell_type": "code",
   "execution_count": 180,
   "id": "00ed9481",
   "metadata": {},
   "outputs": [
    {
     "name": "stdout",
     "output_type": "stream",
     "text": [
      "<class 'pandas.core.frame.DataFrame'>\n",
      "RangeIndex: 987629 entries, 0 to 987628\n",
      "Columns: 102 entries, Unnamed: 0 to FEDUC_8.0\n",
      "dtypes: float64(101), int64(1)\n",
      "memory usage: 768.6 MB\n"
     ]
    }
   ],
   "source": [
    "final_data.info()"
   ]
  },
  {
   "cell_type": "markdown",
   "id": "657378f9",
   "metadata": {},
   "source": [
    "## Split Data into Train and Test Sets"
   ]
  },
  {
   "cell_type": "code",
   "execution_count": 132,
   "id": "00379d12",
   "metadata": {},
   "outputs": [],
   "source": [
    "# split data into train_set (80%) and test_set (20%)\n",
    "train_set, test_set = train_test_split(final_data, test_size=0.2, random_state=0)"
   ]
  },
  {
   "cell_type": "code",
   "execution_count": 133,
   "id": "2955bfc2",
   "metadata": {},
   "outputs": [],
   "source": [
    "#features training sets\n",
    "X_paternal_train = train_set[['DMAR', 'FAGECOMB', 'FRACE31_2.0', 'FRACE31_3.0', 'FRACE31_4.0', 'FRACE31_5.0', \n",
    "                              'FRACE31_6.0', 'FRACE31_7.0', 'FRACE31_8.0', 'FRACE31_9.0', 'FRACE31_10.0', \n",
    "                              'FRACE31_11.0', 'FRACE31_12.0', 'FRACE31_13.0', 'FRACE31_14.0', 'FRACE31_15.0', \n",
    "                              'FRACE31_16.0', 'FRACE31_17.0', 'FRACE31_18.0', 'FRACE31_19.0', 'FRACE31_20.0', \n",
    "                              'FRACE31_21.0', 'FRACE31_22.0', 'FRACE31_23.0', 'FRACE31_24.0', 'FRACE31_25.0',\n",
    "                              'FRACE31_26.0', 'FRACE31_27.0', 'FRACE31_28.0', 'FRACE31_29.0', 'FRACE31_30.0', \n",
    "                              'FRACE31_31.0', 'FHISP_R_1.0', 'FHISP_R_2.0', 'FHISP_R_3.0', 'FHISP_R_4.0', \n",
    "                              'FHISP_R_5.0', 'FEDUC_2.0', 'FEDUC_3.0', 'FEDUC_4.0', 'FEDUC_5.0', 'FEDUC_6.0', \n",
    "                              'FEDUC_7.0', 'FEDUC_8.0']]\n",
    "\n",
    "X_maternal_train = train_set[['DMAR', 'MAGER', 'MEDUC_2.0', 'MEDUC_3.0', 'MEDUC_4.0', 'MEDUC_5.0', 'MEDUC_6.0',\n",
    "                              'MEDUC_7.0', 'MEDUC_8.0', 'MRACE31_2.0', 'MRACE31_3.0', 'MRACE31_4.0', 'MRACE31_5.0', \n",
    "                              'MRACE31_6.0', 'MRACE31_7.0', 'MRACE31_8.0', 'MRACE31_9.0', 'MRACE31_10.0', \n",
    "                              'MRACE31_11.0', 'MRACE31_12.0', 'MRACE31_13.0', 'MRACE31_14.0', 'MRACE31_15.0', \n",
    "                              'MRACE31_16.0', 'MRACE31_17.0', 'MRACE31_18.0', 'MRACE31_19.0', 'MRACE31_20.0',\n",
    "                              'MRACE31_21.0', 'MRACE31_22.0', 'MRACE31_23.0', 'MRACE31_24.0', 'MRACE31_25.0', \n",
    "                              'MRACE31_26.0', 'MRACE31_27.0', 'MRACE31_28.0', 'MRACE31_29.0', 'MRACE31_30.0', \n",
    "                              'MRACE31_31.0', 'MHISP_R_1.0', 'MHISP_R_2.0', 'MHISP_R_3.0', 'MHISP_R_4.0', 'MHISP_R_5.0',]]\n",
    "\n",
    "X_combined_train = train_set[['DMAR', 'FAGECOMB', 'MAGER', 'MEDUC_2.0', 'MEDUC_3.0', 'MEDUC_4.0', 'MEDUC_5.0', 'MEDUC_6.0',\n",
    "                              'MEDUC_7.0', 'MEDUC_8.0', 'MRACE31_2.0', 'MRACE31_3.0', 'MRACE31_4.0', 'MRACE31_5.0', \n",
    "                              'MRACE31_6.0', 'MRACE31_7.0', 'MRACE31_8.0', 'MRACE31_9.0', 'MRACE31_10.0', 'MRACE31_11.0', \n",
    "                              'MRACE31_12.0', 'MRACE31_13.0', 'MRACE31_14.0', 'MRACE31_15.0', 'MRACE31_16.0', \n",
    "                              'MRACE31_17.0', 'MRACE31_18.0', 'MRACE31_19.0', 'MRACE31_20.0', 'MRACE31_21.0', \n",
    "                              'MRACE31_22.0', 'MRACE31_23.0', 'MRACE31_24.0', 'MRACE31_25.0', 'MRACE31_26.0', \n",
    "                              'MRACE31_27.0', 'MRACE31_28.0', 'MRACE31_29.0', 'MRACE31_30.0', 'MRACE31_31.0', \n",
    "                              'MHISP_R_1.0', 'MHISP_R_2.0', 'MHISP_R_3.0', 'MHISP_R_4.0', 'MHISP_R_5.0', 'FRACE31_2.0', \n",
    "                              'FRACE31_3.0', 'FRACE31_4.0', 'FRACE31_5.0', 'FRACE31_6.0', 'FRACE31_7.0', 'FRACE31_8.0', \n",
    "                              'FRACE31_9.0', 'FRACE31_10.0', 'FRACE31_11.0', 'FRACE31_12.0', 'FRACE31_13.0', 'FRACE31_14.0',\n",
    "                              'FRACE31_15.0', 'FRACE31_16.0', 'FRACE31_17.0', 'FRACE31_18.0', 'FRACE31_19.0', \n",
    "                              'FRACE31_20.0', 'FRACE31_21.0', 'FRACE31_22.0', 'FRACE31_23.0', 'FRACE31_24.0', \n",
    "                              'FRACE31_25.0', 'FRACE31_26.0', 'FRACE31_27.0', 'FRACE31_28.0', 'FRACE31_29.0', \n",
    "                              'FRACE31_30.0', 'FRACE31_31.0', 'FHISP_R_1.0', 'FHISP_R_2.0', 'FHISP_R_3.0', 'FHISP_R_4.0', \n",
    "                              'FHISP_R_5.0', 'FEDUC_2.0', 'FEDUC_3.0', 'FEDUC_4.0', 'FEDUC_5.0', 'FEDUC_6.0', \n",
    "                              'FEDUC_7.0', 'FEDUC_8.0']]\n",
    "\n",
    "# responses training sets \n",
    "y_clf_train = train_set[['WIC_R', 'TRIAL_R', 'DMETH_REC', 'BFED_R']]\n",
    "y_reg_train = train_set[['PREVIS', 'DBWT', 'OEGEST_COMB']]"
   ]
  },
  {
   "cell_type": "code",
   "execution_count": 134,
   "id": "85443597",
   "metadata": {},
   "outputs": [],
   "source": [
    "# features test sets \n",
    "X_paternal_test = test_set[['DMAR', 'FAGECOMB', 'FRACE31_2.0', 'FRACE31_3.0', 'FRACE31_4.0', 'FRACE31_5.0', \n",
    "                              'FRACE31_6.0', 'FRACE31_7.0', 'FRACE31_8.0', 'FRACE31_9.0', 'FRACE31_10.0', \n",
    "                              'FRACE31_11.0', 'FRACE31_12.0', 'FRACE31_13.0', 'FRACE31_14.0', 'FRACE31_15.0', \n",
    "                              'FRACE31_16.0', 'FRACE31_17.0', 'FRACE31_18.0', 'FRACE31_19.0', 'FRACE31_20.0', \n",
    "                              'FRACE31_21.0', 'FRACE31_22.0', 'FRACE31_23.0', 'FRACE31_24.0', 'FRACE31_25.0',\n",
    "                              'FRACE31_26.0', 'FRACE31_27.0', 'FRACE31_28.0', 'FRACE31_29.0', 'FRACE31_30.0', \n",
    "                              'FRACE31_31.0', 'FHISP_R_1.0', 'FHISP_R_2.0', 'FHISP_R_3.0', 'FHISP_R_4.0', \n",
    "                              'FHISP_R_5.0', 'FEDUC_2.0', 'FEDUC_3.0', 'FEDUC_4.0', 'FEDUC_5.0', 'FEDUC_6.0', \n",
    "                              'FEDUC_7.0', 'FEDUC_8.0']]\n",
    "\n",
    "X_maternal_test = test_set[['DMAR', 'MAGER', 'MEDUC_2.0', 'MEDUC_3.0', 'MEDUC_4.0', 'MEDUC_5.0', 'MEDUC_6.0',\n",
    "                              'MEDUC_7.0', 'MEDUC_8.0', 'MRACE31_2.0', 'MRACE31_3.0', 'MRACE31_4.0', 'MRACE31_5.0', \n",
    "                              'MRACE31_6.0', 'MRACE31_7.0', 'MRACE31_8.0', 'MRACE31_9.0', 'MRACE31_10.0', \n",
    "                              'MRACE31_11.0', 'MRACE31_12.0', 'MRACE31_13.0', 'MRACE31_14.0', 'MRACE31_15.0', \n",
    "                              'MRACE31_16.0', 'MRACE31_17.0', 'MRACE31_18.0', 'MRACE31_19.0', 'MRACE31_20.0',\n",
    "                              'MRACE31_21.0', 'MRACE31_22.0', 'MRACE31_23.0', 'MRACE31_24.0', 'MRACE31_25.0', \n",
    "                              'MRACE31_26.0', 'MRACE31_27.0', 'MRACE31_28.0', 'MRACE31_29.0', 'MRACE31_30.0', \n",
    "                              'MRACE31_31.0', 'MHISP_R_1.0', 'MHISP_R_2.0', 'MHISP_R_3.0', 'MHISP_R_4.0', 'MHISP_R_5.0',]]\n",
    "\n",
    "X_combined_test = test_set[['DMAR', 'FAGECOMB', 'MAGER', 'MEDUC_2.0', 'MEDUC_3.0', 'MEDUC_4.0', 'MEDUC_5.0', 'MEDUC_6.0',\n",
    "                              'MEDUC_7.0', 'MEDUC_8.0', 'MRACE31_2.0', 'MRACE31_3.0', 'MRACE31_4.0', 'MRACE31_5.0', \n",
    "                              'MRACE31_6.0', 'MRACE31_7.0', 'MRACE31_8.0', 'MRACE31_9.0', 'MRACE31_10.0', 'MRACE31_11.0', \n",
    "                              'MRACE31_12.0', 'MRACE31_13.0', 'MRACE31_14.0', 'MRACE31_15.0', 'MRACE31_16.0', \n",
    "                              'MRACE31_17.0', 'MRACE31_18.0', 'MRACE31_19.0', 'MRACE31_20.0', 'MRACE31_21.0', \n",
    "                              'MRACE31_22.0', 'MRACE31_23.0', 'MRACE31_24.0', 'MRACE31_25.0', 'MRACE31_26.0', \n",
    "                              'MRACE31_27.0', 'MRACE31_28.0', 'MRACE31_29.0', 'MRACE31_30.0', 'MRACE31_31.0', \n",
    "                              'MHISP_R_1.0', 'MHISP_R_2.0', 'MHISP_R_3.0', 'MHISP_R_4.0', 'MHISP_R_5.0', 'FRACE31_2.0', \n",
    "                              'FRACE31_3.0', 'FRACE31_4.0', 'FRACE31_5.0', 'FRACE31_6.0', 'FRACE31_7.0', 'FRACE31_8.0', \n",
    "                              'FRACE31_9.0', 'FRACE31_10.0', 'FRACE31_11.0', 'FRACE31_12.0', 'FRACE31_13.0', 'FRACE31_14.0',\n",
    "                              'FRACE31_15.0', 'FRACE31_16.0', 'FRACE31_17.0', 'FRACE31_18.0', 'FRACE31_19.0', \n",
    "                              'FRACE31_20.0', 'FRACE31_21.0', 'FRACE31_22.0', 'FRACE31_23.0', 'FRACE31_24.0', \n",
    "                              'FRACE31_25.0', 'FRACE31_26.0', 'FRACE31_27.0', 'FRACE31_28.0', 'FRACE31_29.0', \n",
    "                              'FRACE31_30.0', 'FRACE31_31.0', 'FHISP_R_1.0', 'FHISP_R_2.0', 'FHISP_R_3.0', 'FHISP_R_4.0', \n",
    "                              'FHISP_R_5.0', 'FEDUC_2.0', 'FEDUC_3.0', 'FEDUC_4.0', 'FEDUC_5.0', 'FEDUC_6.0', \n",
    "                              'FEDUC_7.0', 'FEDUC_8.0']]\n",
    "\n",
    "# responses test sets\n",
    "y_clf_test = test_set[['WIC_R', 'TRIAL_R', 'DMETH_REC', 'BFED_R']]\n",
    "y_reg_test = test_set[['PREVIS', 'DBWT', 'OEGEST_COMB']]"
   ]
  },
  {
   "cell_type": "code",
   "execution_count": null,
   "id": "c6821b83",
   "metadata": {},
   "outputs": [],
   "source": [
    "train_set.info()"
   ]
  },
  {
   "cell_type": "code",
   "execution_count": null,
   "id": "a1561bec",
   "metadata": {},
   "outputs": [],
   "source": [
    "test_set.info()"
   ]
  },
  {
   "cell_type": "markdown",
   "id": "29d9ec6f",
   "metadata": {},
   "source": [
    "## Hyperparameter Tuning for MultiOutputClassifier RandomForestClassifier Models"
   ]
  },
  {
   "cell_type": "markdown",
   "id": "d2ddbe12",
   "metadata": {},
   "source": [
    "### Paternal Features"
   ]
  },
  {
   "cell_type": "code",
   "execution_count": null,
   "id": "60153d22",
   "metadata": {},
   "outputs": [],
   "source": [
    "rf_clf = RandomForestClassifier(n_estimators=100, max_depth=6, min_samples_split=2, random_state=42)\n",
    "clf_model = MultiOutputClassifier(estimator=rf_clf)"
   ]
  },
  {
   "cell_type": "code",
   "execution_count": null,
   "id": "239fe6b6",
   "metadata": {},
   "outputs": [],
   "source": [
    "# Coarse MultiOutputClassifier RandomClassifier GridSearch - paternal\n",
    "\n",
    "param_grid_coarse_paternal = {'estimator__max_depth':[2, 4, 5, 10, 15],\n",
    "              'estimator__n_estimators':[250, 500, 750, 1000],\n",
    "              'estimator__min_samples_split':[3, 5, 10, 15]}\n",
    "\n",
    "gscv_paternal_clf_coarse = GridSearchCV(clf_model, param_grid_coarse_paternal, n_jobs=-1, cv=3)\n",
    "gscv_paternal_clf_coarse.fit(X_paternal_train, y_clf_train)\n",
    "\n",
    "print(\"The best coarse parameters are: \", gscv_paternal_clf_coarse.best_params_)"
   ]
  },
  {
   "cell_type": "markdown",
   "id": "8a275951",
   "metadata": {},
   "source": [
    "Returned: The best coarse parameters are: estimator__max_depth = 10, estimator__n_estimators = 250, estimator__min_samples_split = 3"
   ]
  },
  {
   "cell_type": "code",
   "execution_count": null,
   "id": "aa30fcce",
   "metadata": {},
   "outputs": [],
   "source": [
    "# Refined MultiOutputClassifier RandomForestClassifier GridSearch - paternal\n",
    "\n",
    "param_grid_refined_paternal = {'estimator__max_depth':[6, 8, 10, 12, 14], \n",
    "              'estimator__n_estimators': [150, 250, 350], \n",
    "              'estimator__min_samples_split': [2, 3, 4]}\n",
    "\n",
    "gscv_paternal_clf_refined = GridSearchCV(clf_model, param_grid_refined_paternal, n_jobs=-1, cv=3)\n",
    "gscv_paternal_clf_refined.fit(X_paternal_train, y_clf_train)\n",
    "\n",
    "print(\"The best refined parameters are: \", gscv_paternal_clf_refined.best_params_)"
   ]
  },
  {
   "cell_type": "markdown",
   "id": "e16bc535",
   "metadata": {},
   "source": [
    "Returned: The best refined parameters are: estimator__max_depth = 14, estimator__n_estimators = 250, estimator__min_samples_split = 2"
   ]
  },
  {
   "cell_type": "code",
   "execution_count": 39,
   "id": "7e32ae60",
   "metadata": {},
   "outputs": [],
   "source": [
    "# Final MultiOutputClassifier RandomForestClassifier GridSearch - paternal\n",
    "param_grid_final_paternal = {'estimator__max_depth':[13, 14, 15], \n",
    "              'estimator__n_estimators': [250], \n",
    "              'estimator__min_samples_split': [2]}\n",
    "\n",
    "gscv_paternal_clf_final = GridSearchCV(clf_model, param_grid_final_paternal, n_jobs=-1, cv=3)\n",
    "gscv_paternal_clf_final.fit(X_paternal_train, y_clf_train)\n",
    "\n",
    "print(\"The best final parameters are: \", gscv_paternal_clf_final.best_params_)"
   ]
  },
  {
   "cell_type": "markdown",
   "id": "9d4a3aa5",
   "metadata": {},
   "source": [
    "Returned: The best final parameters are: estimator__max_depth = 14, estimator__n_estimators = 250, estimator__min_samples_split = 3"
   ]
  },
  {
   "cell_type": "markdown",
   "id": "6311fb95",
   "metadata": {},
   "source": [
    "### Maternal Features "
   ]
  },
  {
   "cell_type": "code",
   "execution_count": 37,
   "id": "953e55f2",
   "metadata": {},
   "outputs": [
    {
     "name": "stdout",
     "output_type": "stream",
     "text": [
      "The best coarse parameters are:  {'estimator__max_depth': 12, 'estimator__min_samples_split': 7, 'estimator__n_estimators': 250}\n"
     ]
    }
   ],
   "source": [
    "# Coarse MultiOutputClassifier RandomClassifier GridSearch - maternal\n",
    "param_grid_coarse_maternal = {'estimator__max_depth':[8,12,16],\n",
    "              'estimator__n_estimators':[250, 500, 750, 1000],\n",
    "              'estimator__min_samples_split':[3, 5, 7]}\n",
    "\n",
    "gscv_maternal_clf_coarse = GridSearchCV(clf_model, param_grid_coarse_maternal, n_jobs=-1, cv=3)\n",
    "gscv_maternal_clf_coarse.fit(X_maternal_train, y_clf_train)\n",
    "\n",
    "print(\"The best coarse parameters are: \", gscv_maternal_clf_coarse.best_params_)"
   ]
  },
  {
   "cell_type": "code",
   "execution_count": null,
   "id": "38e1b889",
   "metadata": {},
   "outputs": [],
   "source": [
    "# Refined MultiOutputClassifier RandomForestClassifier GridSearch - maternal\n",
    "\n",
    "param_grid_refined_maternal = {'estimator__max_depth':[10, 12, 14], \n",
    "              'estimator__n_estimators': [150, 250, 350], \n",
    "              'estimator__min_samples_split': [7, 9, 11]}\n",
    "\n",
    "gscv_maternal_clf_refined = GridSearchCV(clf_model, param_grid_refined_maternal, n_jobs=-1, cv=3)\n",
    "gscv_maternal_clf_refined.fit(X_maternal_train, y_clf_train)\n",
    "\n",
    "print(\"The best refined parameters are: \", gscv_maternal_clf_refined.best_params_)"
   ]
  },
  {
   "cell_type": "markdown",
   "id": "dd8a3468",
   "metadata": {},
   "source": [
    "Returned: The best refined parameters are: estimator__max_depth = 12, estimator__n_estimators = 150, estimator__min_samples_split = 9"
   ]
  },
  {
   "cell_type": "code",
   "execution_count": null,
   "id": "05a5a73e",
   "metadata": {},
   "outputs": [],
   "source": [
    "# Final MultiOutputClassifier RandomForestClassifier GridSearch - maternal\n",
    "\n",
    "param_grid_final_maternal = {'estimator__max_depth':[11, 12, 13], \n",
    "              'estimator__n_estimators': [100, 150, 200], \n",
    "              'estimator__min_samples_split': [8, 9, 10]}\n",
    "\n",
    "gscv_maternal_clf_final = GridSearchCV(clf_model, param_grid_final_maternal, n_jobs=-1, cv=3)\n",
    "gscv_maternal_clf_final.fit(X_maternal_train, y_clf_train)\n",
    "\n",
    "print(\"The best refined parameters are: \", gscv_maternal_clf_final.best_params_)"
   ]
  },
  {
   "cell_type": "markdown",
   "id": "525d5e95",
   "metadata": {},
   "source": [
    "Returned: The best final parameters are: estimator__max_depth = 12, estimator__n_estimators = 150, estimator__min_samples_split = 10"
   ]
  },
  {
   "cell_type": "markdown",
   "id": "6468194b",
   "metadata": {},
   "source": [
    "### Combined Paternal and Maternal Features"
   ]
  },
  {
   "cell_type": "code",
   "execution_count": 46,
   "id": "97c3dfe6",
   "metadata": {},
   "outputs": [
    {
     "name": "stdout",
     "output_type": "stream",
     "text": [
      "The best coarse parameters are:  {'estimator__max_depth': 16, 'estimator__min_samples_split': 3, 'estimator__n_estimators': 250}\n"
     ]
    }
   ],
   "source": [
    "# Coarse MultiOutputClassifier RandomClassifier GridSearch - combined\n",
    "param_grid_coarse_combined = {'estimator__max_depth':[8, 12, 16],\n",
    "              'estimator__n_estimators':[250, 500, 750, 1000],\n",
    "              'estimator__min_samples_split':[3, 5, 7]}\n",
    "\n",
    "gscv_combined_clf_coarse = GridSearchCV(clf_model, param_grid_coarse_combined, n_jobs=-1, cv=3)\n",
    "gscv_combined_clf_coarse.fit(X_combined_train, y_clf_train)\n",
    "\n",
    "print(\"The best coarse parameters are: \", gscv_combined_clf_coarse.best_params_)"
   ]
  },
  {
   "cell_type": "code",
   "execution_count": 47,
   "id": "adcaee6b",
   "metadata": {},
   "outputs": [
    {
     "name": "stdout",
     "output_type": "stream",
     "text": [
      "The best refined parameters are:  {'estimator__max_depth': 16, 'estimator__min_samples_split': 4, 'estimator__n_estimators': 350}\n"
     ]
    }
   ],
   "source": [
    "# Refined MultiOutputClassifier RandomForestClassifier GridSearch - combined\n",
    "\n",
    "param_grid_refined_combined = {'estimator__max_depth':[14, 16, 18], \n",
    "              'estimator__n_estimators': [150, 250, 350], \n",
    "              'estimator__min_samples_split': [2, 3, 4]}\n",
    "\n",
    "gscv_combined_clf_refined = GridSearchCV(clf_model, param_grid_refined_combined, n_jobs=-1, cv=3)\n",
    "gscv_combined_clf_refined.fit(X_combined_train, y_clf_train)\n",
    "\n",
    "print(\"The best refined parameters are: \", gscv_combined_clf_refined.best_params_)"
   ]
  },
  {
   "cell_type": "code",
   "execution_count": 50,
   "id": "5c879802",
   "metadata": {},
   "outputs": [
    {
     "name": "stdout",
     "output_type": "stream",
     "text": [
      "The best refined parameters are:  {'estimator__max_depth': 17, 'estimator__min_samples_split': 4, 'estimator__n_estimators': 350}\n"
     ]
    }
   ],
   "source": [
    "# Final MultiOutputClassifier RandomForestClassifier GridSearch - combined\n",
    "param_grid_final_combined = {'estimator__max_depth':[15,16,17], \n",
    "              'estimator__n_estimators': [300, 350, 400], \n",
    "              'estimator__min_samples_split': [4]}\n",
    "\n",
    "gscv_combined_clf_final = GridSearchCV(clf_model, param_grid_final_combined, n_jobs=-1, cv=3)\n",
    "gscv_combined_clf_final.fit(X_combined_train, y_clf_train)\n",
    "\n",
    "print(\"The best refined parameters are: \", gscv_combined_clf_final.best_params_)"
   ]
  },
  {
   "cell_type": "markdown",
   "id": "5a68f64f",
   "metadata": {},
   "source": [
    "## MultiOutputClassifier RandomForestClassifier Models"
   ]
  },
  {
   "cell_type": "markdown",
   "id": "67b4e305",
   "metadata": {},
   "source": [
    "### Paternal Models"
   ]
  },
  {
   "cell_type": "code",
   "execution_count": null,
   "id": "e0f9ed5f",
   "metadata": {},
   "outputs": [],
   "source": [
    "rf_clf = RandomForestClassifier(n_estimators=100, max_depth=6, min_samples_split=2, random_state=42)\n",
    "clf_model = MultiOutputClassifier(estimator=rf_clf)"
   ]
  },
  {
   "cell_type": "code",
   "execution_count": null,
   "id": "288db5f5",
   "metadata": {},
   "outputs": [],
   "source": [
    "# MultiOutputClassifier RandomForestClassifier model on paternal features using default hyperparameter values\n",
    "rf_clf_paternal = MultiOutputClassifier(RandomForestClassifier(max_depth=20, random_state=42))\n",
    "rf_clf_paternal.fit(X_paternal_train, y_clf_train)"
   ]
  },
  {
   "cell_type": "code",
   "execution_count": null,
   "id": "6e5e4d2e",
   "metadata": {},
   "outputs": [],
   "source": [
    "# predict responses based on the default paternal MultiOutputClassifier RandomForestClassifier model\n",
    "y_pred_rf_clf_paternal = rf_clf_paternal.predict(X_paternal_test)\n",
    "y_pred_rf_clf_paternal"
   ]
  },
  {
   "cell_type": "code",
   "execution_count": null,
   "id": "4bf591d7",
   "metadata": {},
   "outputs": [],
   "source": [
    "# Optimal MultiOutputClassifier RandomForestClassifier Model based on GridSearch results for paternal features - hard coded to reduce need to run GridSearchCV again\n",
    "optimal_rf_clf_paternal = MultiOutputClassifier(RandomForestClassifier(max_depth=14, n_estimators=250, min_samples_split=2, random_state=42)).fit(X_paternal_train, y_clf_train)"
   ]
  },
  {
   "cell_type": "code",
   "execution_count": null,
   "id": "9ffab2e3",
   "metadata": {},
   "outputs": [],
   "source": [
    "# Pickle model\n",
    "joblib.dump(optimal_rf_clf_paternal, 'clf_paternal_model.pkl')"
   ]
  },
  {
   "cell_type": "code",
   "execution_count": null,
   "id": "8b9f9b03",
   "metadata": {},
   "outputs": [],
   "source": [
    "# Load pickle model\n",
    "optimal_rf_clf_paternal = joblib.load('clf_paternal_model.pkl')"
   ]
  },
  {
   "cell_type": "code",
   "execution_count": null,
   "id": "f396260b",
   "metadata": {},
   "outputs": [],
   "source": [
    "#predict responses based on the paternal MultiOutputClassifier RandomForestClassifier model\n",
    "y_pred_rf_clf_paternal = optimal_rf_clf_paternal.predict(X_paternal_test)\n",
    "y_pred_rf_clf_paternal"
   ]
  },
  {
   "cell_type": "markdown",
   "id": "c02230a6",
   "metadata": {},
   "source": [
    "### Maternal Models"
   ]
  },
  {
   "cell_type": "code",
   "execution_count": null,
   "id": "e4e60886",
   "metadata": {},
   "outputs": [],
   "source": [
    "# MultiOutputClassifier RandomForestClassifier model on maternal features using default hyperparameter values\n",
    "rf_clf_maternal = MultiOutputClassifier(RandomForestClassifier(max_depth=20, random_state=42))\n",
    "rf_clf_maternal.fit(X_maternal_train, y_clf_train)"
   ]
  },
  {
   "cell_type": "code",
   "execution_count": null,
   "id": "761abfaa",
   "metadata": {},
   "outputs": [],
   "source": [
    "# predict responses based on the default maternal MultiOutputClassifier RandomForestClassifier model\n",
    "y_pred_rf_clf_maternal = rf_clf_maternal.predict(X_maternal_test)\n",
    "y_pred_rf_clf_maternal"
   ]
  },
  {
   "cell_type": "code",
   "execution_count": null,
   "id": "b8e37d7b",
   "metadata": {},
   "outputs": [],
   "source": [
    "# Optimal MultiOutputClassifier RandomForestClassifier Model based on GridSearch results for maternal features - hard coded to reduce need to run GridSearchCV again\n",
    "optimal_rf_clf_maternal = MultiOutputClassifier(RandomForestClassifier(max_depth=12, n_estimators=150, min_samples_split=10, random_state=42)).fit(X_maternal_train, y_clf_train)"
   ]
  },
  {
   "cell_type": "code",
   "execution_count": null,
   "id": "f90d735e",
   "metadata": {},
   "outputs": [],
   "source": [
    "# Pickle model\n",
    "joblib.dump(optimal_rf_clf_maternal, 'clf_maternal_model.pkl')"
   ]
  },
  {
   "cell_type": "code",
   "execution_count": null,
   "id": "b7f228c5",
   "metadata": {},
   "outputs": [],
   "source": [
    "# Load pickle model\n",
    "optimal_rf_clf_maternal = joblib.load('clf_maternal_model.pkl')"
   ]
  },
  {
   "cell_type": "code",
   "execution_count": null,
   "id": "50f2066b",
   "metadata": {},
   "outputs": [],
   "source": [
    "#predict responses based on the maternal MultiOutputClassifier RandomForestClassifier model\n",
    "y_pred_rf_clf_maternal = optimal_rf_clf_maternal.predict(X_maternal_test)\n",
    "y_pred_rf_clf_maternal"
   ]
  },
  {
   "cell_type": "markdown",
   "id": "11a494cf",
   "metadata": {},
   "source": [
    "### Combined Models"
   ]
  },
  {
   "cell_type": "code",
   "execution_count": null,
   "id": "6f4c9d3e",
   "metadata": {},
   "outputs": [],
   "source": [
    "# MultiOutputClassifier RandomForestClassifier model on combined paternal and maternal features using default hyperparameter values\n",
    "rf_clf_combined = MultiOutputClassifier(RandomForestClassifier(max_depth=20, random_state=42))\n",
    "rf_clf_combined.fit(X_combined_train, y_clf_train)"
   ]
  },
  {
   "cell_type": "code",
   "execution_count": null,
   "id": "907b117b",
   "metadata": {},
   "outputs": [],
   "source": [
    "# predict responses based on the default combined MultiOutputClassifier RandomForestClassifier model\n",
    "y_pred_rf_clf_combined = rf_clf_combined.predict(X_combined_test)\n",
    "y_pred_rf_clf_combined"
   ]
  },
  {
   "cell_type": "code",
   "execution_count": null,
   "id": "ac302d2b",
   "metadata": {},
   "outputs": [],
   "source": [
    "# Optimal MultiOutputClassifier RandomForestClassifier Model based on GridSearch results for combined paternal and maternal features - hard coded to reduce need to run GridSearchCV again\n",
    "optimal_rf_clf_combined = MultiOutputClassifier(RandomForestClassifier(max_depth=17, n_estimators=350, min_samples_split=4, random_state=42)).fit(X_combined_train, y_clf_train)"
   ]
  },
  {
   "cell_type": "code",
   "execution_count": null,
   "id": "d0a88ae2",
   "metadata": {},
   "outputs": [],
   "source": [
    "# Pickle model\n",
    "joblib.dump(optimal_rf_clf_combined, 'clf_combined_model.pkl')"
   ]
  },
  {
   "cell_type": "code",
   "execution_count": null,
   "id": "f2206706",
   "metadata": {},
   "outputs": [],
   "source": [
    "# Load pickle model\n",
    "optimal_rf_clf_combined = joblib.load('clf_combined_model.pkl')"
   ]
  },
  {
   "cell_type": "code",
   "execution_count": null,
   "id": "1b5637dc",
   "metadata": {},
   "outputs": [],
   "source": [
    "#predict responses based on the combined paternal and maternal MultiOutputClassifier RandomForestClassifier model\n",
    "y_pred_rf_clf_combined = optimal_rf_clf_combined.predict(X_combined_test)\n",
    "y_pred_rf_clf_combined"
   ]
  },
  {
   "cell_type": "markdown",
   "id": "d98bfc98",
   "metadata": {},
   "source": [
    "## Confusion Matrices for MultiOutputClassifier RandomForestClassifier Models\n",
    "\n",
    "Confusion matrices were run to examine how well the models accurately predicted the correct classification for each target variable.  Results of the confusion matrices show that effectiveness of each model in accurately classifying cases was similar.  The maternal features model and combined features model made correct classifications of whether a family used WIC benefits 74% of the time while the paternal features model was correct 73% of the time.  All three models were correct 77% of the time when classifying whether or not a trial of labor was attempted.  Similarly, the three models correctly classified the delivery method 68% of the time.  Classification of breastfeeding at discharge was slightly better than the other targets, with all three models correct about 83% of the time.\n",
    "\n"
   ]
  },
  {
   "cell_type": "markdown",
   "id": "4bae30d4",
   "metadata": {},
   "source": [
    "### Paternal Classification Model"
   ]
  },
  {
   "cell_type": "code",
   "execution_count": null,
   "id": "ca81d09a",
   "metadata": {},
   "outputs": [],
   "source": [
    "# Confusion matrix demonstrating accuracy of paternal features at predicting whether or not a woman received WIC benefits during pregnancy\n",
    "cm_clf_paternal_wic = confusion_matrix(y_clf_test.iloc[:,0], y_pred_rf_clf_paternal_optimal[:,0])\n",
    "cm_clf_paternal_wic"
   ]
  },
  {
   "cell_type": "code",
   "execution_count": null,
   "id": "505ef93a",
   "metadata": {},
   "outputs": [],
   "source": [
    "disp_clf_paternal_wic = ConfusionMatrixDisplay(confusion_matrix=cm_clf_paternal_wic)\n",
    "disp_clf_paternal_wic.plot()\n",
    "plt.show()"
   ]
  },
  {
   "cell_type": "code",
   "execution_count": null,
   "id": "e5a63f16",
   "metadata": {},
   "outputs": [],
   "source": [
    "# Confusion matrix demonstrating accuracy of paternal features at predicting whether or not vaginal delivery was attempted prior to cesarean \n",
    "cm_clf_paternal_trial = confusion_matrix(y_clf_test.iloc[:,1], y_pred_rf_clf_paternal_optimal[:,1])\n",
    "cm_clf_paternal_trial"
   ]
  },
  {
   "cell_type": "code",
   "execution_count": null,
   "id": "793d0812",
   "metadata": {},
   "outputs": [],
   "source": [
    "disp_clf_paternal_trial = ConfusionMatrixDisplay(confusion_matrix=cm_clf_paternal_trial)\n",
    "disp_clf_paternal_trial.plot()\n",
    "plt.show()"
   ]
  },
  {
   "cell_type": "code",
   "execution_count": null,
   "id": "62e1714e",
   "metadata": {},
   "outputs": [],
   "source": [
    "# Confusion matrix demonstrating accuracy of paternal features at predicting whether or not delivery was vaginal\n",
    "cm_clf_paternal_delivery = confusion_matrix(y_clf_test.iloc[:,2], y_pred_rf_clf_paternal_optimal[:,2])\n",
    "cm_clf_paternal_delivery"
   ]
  },
  {
   "cell_type": "code",
   "execution_count": null,
   "id": "d4c30e34",
   "metadata": {},
   "outputs": [],
   "source": [
    "disp_clf_paternal_delivery = ConfusionMatrixDisplay(confusion_matrix=cm_clf_paternal_delivery)\n",
    "disp_clf_paternal_delivery.plot()\n",
    "plt.show()"
   ]
  },
  {
   "cell_type": "code",
   "execution_count": null,
   "id": "ff9d6e1c",
   "metadata": {},
   "outputs": [],
   "source": [
    "# Confusion matrix demonstrating accuracy of paternal features at predicting whether or not the infant was breastfed at discharge\n",
    "cm_clf_paternal_bfed = confusion_matrix(y_clf_test.iloc[:,3], y_pred_rf_clf_paternal_optimal[:,3])\n",
    "cm_clf_paternal_bfed"
   ]
  },
  {
   "cell_type": "code",
   "execution_count": null,
   "id": "6b56a82d",
   "metadata": {},
   "outputs": [],
   "source": [
    "disp_clf_paternal_bfed = ConfusionMatrixDisplay(confusion_matrix=cm_clf_paternal_bfed)\n",
    "disp_clf_paternal_bfed.plot()\n",
    "plt.show()"
   ]
  },
  {
   "cell_type": "markdown",
   "id": "354f26f4",
   "metadata": {},
   "source": [
    "### Maternal Classification Model"
   ]
  },
  {
   "cell_type": "code",
   "execution_count": null,
   "id": "71047c99",
   "metadata": {},
   "outputs": [],
   "source": [
    "# Confusion matrix demonstrating accuracy of maternal features at predicting whether or not a woman received WIC benefits during pregnancy\n",
    "cm_clf_maternal_wic = confusion_matrix(y_clf_test.iloc[:,0], y_pred_rf_clf_maternal_optimal[:,0])\n",
    "cm_clf_maternal_wic"
   ]
  },
  {
   "cell_type": "code",
   "execution_count": null,
   "id": "85be53d4",
   "metadata": {},
   "outputs": [],
   "source": [
    "disp_clf_maternal_wic = ConfusionMatrixDisplay(confusion_matrix=cm_clf_maternal_wic)\n",
    "disp_clf_maternal_wic.plot()\n",
    "plt.show()"
   ]
  },
  {
   "cell_type": "code",
   "execution_count": null,
   "id": "5ca0d109",
   "metadata": {},
   "outputs": [],
   "source": [
    "# Confusion matrix demonstrating accuracy of maternal features at predicting whether or not vaginal delivery was attempted prior to cesarean \n",
    "cm_clf_maternal_trial = confusion_matrix(y_clf_test.iloc[:,1], y_pred_rf_clf_maternal_optimal[:,1])\n",
    "cm_clf_maternal_trial"
   ]
  },
  {
   "cell_type": "code",
   "execution_count": null,
   "id": "a1eaafb9",
   "metadata": {},
   "outputs": [],
   "source": [
    "disp_clf_maternal_trial = ConfusionMatrixDisplay(confusion_matrix=cm_clf_maternal_trial)\n",
    "disp_clf_maternal_trial.plot()\n",
    "plt.show()"
   ]
  },
  {
   "cell_type": "code",
   "execution_count": null,
   "id": "5a4af78d",
   "metadata": {},
   "outputs": [],
   "source": [
    "# Confusion matrix demonstrating accuracy of maternal features at predicting whether or not delivery was vaginal\n",
    "cm_clf_maternal_delivery = confusion_matrix(y_clf_test.iloc[:,2], y_pred_rf_clf_maternal_optimal[:,2])\n",
    "cm_clf_maternal_delivery"
   ]
  },
  {
   "cell_type": "code",
   "execution_count": null,
   "id": "99d0a24e",
   "metadata": {},
   "outputs": [],
   "source": [
    "disp_clf_maternal_delivery = ConfusionMatrixDisplay(confusion_matrix=cm_clf_maternal_delivery)\n",
    "disp_clf_maternal_delivery.plot()\n",
    "plt.show()"
   ]
  },
  {
   "cell_type": "code",
   "execution_count": null,
   "id": "a4e73bdf",
   "metadata": {},
   "outputs": [],
   "source": [
    "# Confusion matrix demonstrating accuracy of maternal features at predicting whether or not the infant was breastfed at discharge\n",
    "cm_clf_maternal_bfed = confusion_matrix(y_clf_test.iloc[:,3], y_pred_rf_clf_maternal_optimal[:,3])\n",
    "cm_clf_maternal_bfed"
   ]
  },
  {
   "cell_type": "code",
   "execution_count": null,
   "id": "62183582",
   "metadata": {},
   "outputs": [],
   "source": [
    "disp_clf_maternal_bfed = ConfusionMatrixDisplay(confusion_matrix=cm_clf_maternal_bfed)\n",
    "disp_clf_maternal_bfed.plot()\n",
    "plt.show()"
   ]
  },
  {
   "cell_type": "markdown",
   "id": "5bc954e0",
   "metadata": {},
   "source": [
    "### Combined Paternal and Maternal Classificiation Model"
   ]
  },
  {
   "cell_type": "code",
   "execution_count": null,
   "id": "eea84688",
   "metadata": {},
   "outputs": [],
   "source": [
    "# Confusion matrix demonstrating accuracy of combined paternal and maternal features at predicting whether or not a woman received WIC benefits during pregnancy\n",
    "cm_clf_combined_wic = confusion_matrix(y_clf_test.iloc[:,0], y_pred_rf_clf_combined_optimal[:,0])\n",
    "cm_clf_combined_wic"
   ]
  },
  {
   "cell_type": "code",
   "execution_count": null,
   "id": "79f05fd1",
   "metadata": {},
   "outputs": [],
   "source": [
    "disp_clf_combined_wic = ConfusionMatrixDisplay(confusion_matrix=cm_clf_combined_wic)\n",
    "disp_clf_combined_wic.plot()\n",
    "plt.show()"
   ]
  },
  {
   "cell_type": "code",
   "execution_count": null,
   "id": "fefa7a93",
   "metadata": {},
   "outputs": [],
   "source": [
    "# Confusion matrix demonstrating accuracy of combined paternal and maternal features at predicting whether or not vaginal delivery was attempted prior to cesarean \n",
    "cm_clf_combined_trial = confusion_matrix(y_clf_test.iloc[:,1], y_pred_rf_clf_combined_optimal[:,1])\n",
    "cm_clf_combined_trial"
   ]
  },
  {
   "cell_type": "code",
   "execution_count": null,
   "id": "04cbef42",
   "metadata": {},
   "outputs": [],
   "source": [
    "disp_clf_combined_trial = ConfusionMatrixDisplay(confusion_matrix=cm_clf_combined_trial)\n",
    "disp_clf_combined_trial.plot()\n",
    "plt.show()"
   ]
  },
  {
   "cell_type": "code",
   "execution_count": null,
   "id": "349a696b",
   "metadata": {},
   "outputs": [],
   "source": [
    "# Confusion matrix demonstrating accuracy of combined paternal and maternal features at predicting whether or not delivery was vaginal\n",
    "cm_clf_combined_delivery = confusion_matrix(y_clf_test.iloc[:,2], y_pred_rf_clf_combined_optimal[:,2])\n",
    "cm_clf_combined_delivery"
   ]
  },
  {
   "cell_type": "code",
   "execution_count": null,
   "id": "d8a995f0",
   "metadata": {},
   "outputs": [],
   "source": [
    "disp_clf_combined_delivery = ConfusionMatrixDisplay(confusion_matrix=cm_clf_combined_delivery)\n",
    "disp_clf_combined_delivery.plot()\n",
    "plt.show()"
   ]
  },
  {
   "cell_type": "code",
   "execution_count": null,
   "id": "39a307ed",
   "metadata": {},
   "outputs": [],
   "source": [
    "# Confusion matrix demonstrating accuracy of combined paternal and maternal features at predicting whether or not the infant was breastfed at discharge\n",
    "cm_clf_combined_bfed = confusion_matrix(y_clf_test.iloc[:,3], y_pred_rf_clf_combined_optimal[:,3])\n",
    "cm_clf_combined_bfed"
   ]
  },
  {
   "cell_type": "code",
   "execution_count": null,
   "id": "c19f9016",
   "metadata": {},
   "outputs": [],
   "source": [
    "disp_clf_combined_bfed = ConfusionMatrixDisplay(confusion_matrix=cm_clf_combined_bfed)\n",
    "disp_clf_combined_bfed.plot()\n",
    "plt.show()"
   ]
  },
  {
   "cell_type": "markdown",
   "id": "46ffe089",
   "metadata": {},
   "source": [
    "## Permutation Importance for MultiOutputClassifier RandomForestClassifier Models\n",
    "\n",
    "For both the maternal and paternal classification models, marital status and age were the two features that were the most important to the model.  Both models also included being of Mexican descent, having a Bachelor's degree, and having attended at least some high school without graduating in the top five features.  Marital status was the most important feature for the combined classification model.  The other most important features included the parents having Bachelor's degrees and being of Mexican descent, consistent with the findings of the individual paternal and maternal models."
   ]
  },
  {
   "cell_type": "markdown",
   "id": "75d4a468",
   "metadata": {},
   "source": [
    "### Paternal Model"
   ]
  },
  {
   "cell_type": "code",
   "execution_count": null,
   "id": "0c99495b",
   "metadata": {},
   "outputs": [],
   "source": [
    "# permutation importance for paternal MultiOutputClassifier RandomForestClassifier Model\n",
    "r_clf_paternal = permutation_importance(rf_clf_paternal, X_paternal_test, y_clf_test, n_repeats=10, random_state=42)"
   ]
  },
  {
   "cell_type": "code",
   "execution_count": null,
   "id": "2bc1007a",
   "metadata": {},
   "outputs": [],
   "source": [
    "# Pickle file\n",
    "joblib.dump(r_clf_paternal, 'pi_clf_paternal.pkl')"
   ]
  },
  {
   "cell_type": "code",
   "execution_count": 128,
   "id": "591c06fb",
   "metadata": {},
   "outputs": [],
   "source": [
    "# Load pickle file\n",
    "r_clf_paternal = joblib.load('pi_clf_paternal.pkl')"
   ]
  },
  {
   "cell_type": "code",
   "execution_count": 129,
   "id": "90f53836",
   "metadata": {},
   "outputs": [],
   "source": [
    "# sort and prep permutation importances for graphs\n",
    "sorted_importances_idx_clf_paternal = r_clf_paternal.importances_mean.argsort()"
   ]
  },
  {
   "cell_type": "code",
   "execution_count": 136,
   "id": "eb562b32",
   "metadata": {},
   "outputs": [],
   "source": [
    "importances_clf_paternal = pd.DataFrame(r_clf_paternal.importances[sorted_importances_idx_clf_paternal].T, columns=X_paternal_test.columns[sorted_importances_idx_clf_paternal])"
   ]
  },
  {
   "cell_type": "code",
   "execution_count": 137,
   "id": "f3598877",
   "metadata": {},
   "outputs": [],
   "source": [
    "top_importances_clf_paternal = pd.DataFrame(r_clf_paternal.importances[sorted_importances_idx_clf_paternal].T, columns=X_paternal_test.columns[sorted_importances_idx_clf_paternal]).iloc[:, -10:]"
   ]
  },
  {
   "cell_type": "code",
   "execution_count": 138,
   "id": "71628eab",
   "metadata": {},
   "outputs": [
    {
     "data": {
      "text/plain": [
       "Text(0.5, 1.0, 'Permutation Importances for Features of the Paternal Classification Model')"
      ]
     },
     "execution_count": 138,
     "metadata": {},
     "output_type": "execute_result"
    },
    {
     "data": {
      "image/png": "[encoded data removed]",
      "text/plain": [
       "<Figure size 1728x1296 with 1 Axes>"
      ]
     },
     "metadata": {
      "needs_background": "light"
     },
     "output_type": "display_data"
    }
   ],
   "source": [
    "# Graph permutation importance features for paternal model\n",
    "ax_clf_paternal = importances_clf_paternal.plot.barh(figsize=(24, 18))\n",
    "ax_clf_paternal.set_title('Permutation Importances for Features of the Paternal Classification Model')"
   ]
  },
  {
   "cell_type": "code",
   "execution_count": 139,
   "id": "f7533538",
   "metadata": {},
   "outputs": [
    {
     "data": {
      "text/plain": [
       "Text(0.5, 1.0, 'Top 10 Permutation Importances for Features of the Paternal Classification Model')"
      ]
     },
     "execution_count": 139,
     "metadata": {},
     "output_type": "execute_result"
    },
    {
     "data": {
      "image/png": "[encoded data removed]",
      "text/plain": [
       "<Figure size 1728x1296 with 1 Axes>"
      ]
     },
     "metadata": {
      "needs_background": "light"
     },
     "output_type": "display_data"
    }
   ],
   "source": [
    "# Graph 10 most important features for paternal model\n",
    "top_ax_clf_paternal = top_importances_clf_paternal.plot.barh(figsize=(24, 18))\n",
    "top_ax_clf_paternal.set_title('Top 10 Permutation Importances for Features of the Paternal Classification Model')"
   ]
  },
  {
   "cell_type": "code",
   "execution_count": null,
   "id": "8d3b4f9b",
   "metadata": {},
   "outputs": [],
   "source": [
    "r_clf_paternal.importances_mean"
   ]
  },
  {
   "cell_type": "code",
   "execution_count": null,
   "id": "a2e906a3",
   "metadata": {},
   "outputs": [],
   "source": [
    "r_clf_paternal.importances"
   ]
  },
  {
   "cell_type": "markdown",
   "id": "5bb6549d",
   "metadata": {},
   "source": [
    "### Maternal Model"
   ]
  },
  {
   "cell_type": "code",
   "execution_count": null,
   "id": "848df26b",
   "metadata": {},
   "outputs": [],
   "source": [
    "# permutation importance for maternal MultiOutputClassifier RandomForestClassifier Model\n",
    "r_clf_maternal = permutation_importance(rf_clf_maternal, X_maternal_test, y_clf_test, n_repeats=10, random_state=42)"
   ]
  },
  {
   "cell_type": "code",
   "execution_count": null,
   "id": "dfe603be",
   "metadata": {},
   "outputs": [],
   "source": [
    "# Pickle file\n",
    "joblib.dump(r_clf_maternal, 'pi_clf_maternal.pkl')"
   ]
  },
  {
   "cell_type": "code",
   "execution_count": 140,
   "id": "89b9a093",
   "metadata": {},
   "outputs": [],
   "source": [
    "# Load pickle file\n",
    "r_clf_maternal = joblib.load('pi_clf_maternal.pkl')"
   ]
  },
  {
   "cell_type": "code",
   "execution_count": 141,
   "id": "03e4fce4",
   "metadata": {},
   "outputs": [],
   "source": [
    "# sort and prep permutation importances for graphs\n",
    "sorted_importances_idx_clf_maternal = r_clf_maternal.importances_mean.argsort()"
   ]
  },
  {
   "cell_type": "code",
   "execution_count": null,
   "id": "34ab3c5a",
   "metadata": {},
   "outputs": [],
   "source": [
    "importances_clf_maternal = pd.DataFrame(r_clf_maternal.importances[sorted_importances_idx_clf_maternal].T, columns=X_maternal_test.columns[sorted_importances_idx_clf_maternal])"
   ]
  },
  {
   "cell_type": "code",
   "execution_count": 142,
   "id": "162923d4",
   "metadata": {},
   "outputs": [],
   "source": [
    "top_importances_clf_maternal = pd.DataFrame(r_clf_maternal.importances[sorted_importances_idx_clf_maternal].T, columns=X_maternal_test.columns[sorted_importances_idx_clf_maternal]).iloc[:, -10:]"
   ]
  },
  {
   "cell_type": "code",
   "execution_count": null,
   "id": "6a773072",
   "metadata": {},
   "outputs": [],
   "source": [
    "# Graph permutation importance features for combined model\n",
    "ax_clf_maternal = importances_clf_maternal.plot.barh(figsize=(24, 18))\n",
    "ax_clf_maternal.set_title('Permutation Importances for Features of the Maternal Classification Model')"
   ]
  },
  {
   "cell_type": "code",
   "execution_count": 143,
   "id": "48a3fa22",
   "metadata": {},
   "outputs": [
    {
     "data": {
      "text/plain": [
       "Text(0.5, 1.0, 'Top 10 Permutation Importances for Features of the Maternal Classification Model')"
      ]
     },
     "execution_count": 143,
     "metadata": {},
     "output_type": "execute_result"
    },
    {
     "data": {
      "image/png": "[encoded data removed]",
      "text/plain": [
       "<Figure size 1728x1296 with 1 Axes>"
      ]
     },
     "metadata": {
      "needs_background": "light"
     },
     "output_type": "display_data"
    }
   ],
   "source": [
    "# Graph 10 most important features for maternal model\n",
    "top_ax_clf_maternal = top_importances_clf_maternal.plot.barh(figsize=(24, 18))\n",
    "top_ax_clf_maternal.set_title('Top 10 Permutation Importances for Features of the Maternal Classification Model')"
   ]
  },
  {
   "cell_type": "code",
   "execution_count": null,
   "id": "19e6d9bc",
   "metadata": {},
   "outputs": [],
   "source": [
    "r_clf_maternal.importances_mean"
   ]
  },
  {
   "cell_type": "code",
   "execution_count": null,
   "id": "fd5f0a1e",
   "metadata": {},
   "outputs": [],
   "source": [
    "r_clf_maternal.importances"
   ]
  },
  {
   "cell_type": "markdown",
   "id": "767d7674",
   "metadata": {},
   "source": [
    "### Combined Model"
   ]
  },
  {
   "cell_type": "code",
   "execution_count": 8,
   "id": "0911c142",
   "metadata": {},
   "outputs": [],
   "source": [
    "# permutation importance for combined MultiOutputClassifier RandomForestClassifier Model\n",
    "r_clf_combined = permutation_importance(optimal_rf_clf_combined, X_combined_test, y_clf_test, n_repeats=5, random_state=42)"
   ]
  },
  {
   "cell_type": "code",
   "execution_count": 9,
   "id": "3046d301",
   "metadata": {},
   "outputs": [
    {
     "data": {
      "text/plain": [
       "['pi_clf_combined.pkl']"
      ]
     },
     "execution_count": 9,
     "metadata": {},
     "output_type": "execute_result"
    }
   ],
   "source": [
    "# Pickle file\n",
    "joblib.dump(r_clf_combined, 'pi_clf_combined.pkl')"
   ]
  },
  {
   "cell_type": "code",
   "execution_count": 147,
   "id": "90294b84",
   "metadata": {},
   "outputs": [],
   "source": [
    "# Load pickle file\n",
    "r_clf_combined = joblib.load('pi_clf_combined.pkl')"
   ]
  },
  {
   "cell_type": "code",
   "execution_count": 148,
   "id": "ccf87da1",
   "metadata": {},
   "outputs": [],
   "source": [
    "# sort and prep permutation importances for graphs\n",
    "sorted_importances_idx_clf_combined = r_clf_combined.importances_mean.argsort()"
   ]
  },
  {
   "cell_type": "code",
   "execution_count": 11,
   "id": "a574ef62",
   "metadata": {},
   "outputs": [],
   "source": [
    "importances_clf_combined = pd.DataFrame(r_clf_combined.importances[sorted_importances_idx_clf_combined].T, \n",
    "                                        columns=X_combined_test.columns[sorted_importances_idx_clf_combined])"
   ]
  },
  {
   "cell_type": "code",
   "execution_count": 149,
   "id": "d2ab7064",
   "metadata": {},
   "outputs": [],
   "source": [
    "top_importances_clf_combined = pd.DataFrame(r_clf_combined.importances[sorted_importances_idx_clf_combined].T, \n",
    "                                            columns=X_combined_test.columns[sorted_importances_idx_clf_combined]).iloc[:, -10:]"
   ]
  },
  {
   "cell_type": "code",
   "execution_count": 150,
   "id": "17687001",
   "metadata": {},
   "outputs": [],
   "source": [
    "# Graph permutation importance features for combined model\n",
    "ax_clf_combined = importances_clf_combined.plot.barh(figsize=(24, 18))\n",
    "ax_clf_combined.set_title('Permutation Importances for Features of the Combined Classification Model')"
   ]
  },
  {
   "cell_type": "code",
   "execution_count": 151,
   "id": "f093a513",
   "metadata": {},
   "outputs": [
    {
     "data": {
      "text/plain": [
       "Text(0.5, 1.0, 'Top 10 Permutation Importances for Features of the Combined Classification Model')"
      ]
     },
     "execution_count": 151,
     "metadata": {},
     "output_type": "execute_result"
    },
    {
     "data": {
      "image/png": "[encoded data removed]",
      "text/plain": [
       "<Figure size 1728x1296 with 1 Axes>"
      ]
     },
     "metadata": {
      "needs_background": "light"
     },
     "output_type": "display_data"
    }
   ],
   "source": [
    "# Graph 10 most important features for combined model\n",
    "top_ax_clf_combined = top_importances_clf_combined.plot.barh(figsize=(24, 18))\n",
    "top_ax_clf_combined.set_title('Top 10 Permutation Importances for Features of the Combined Classification Model')"
   ]
  },
  {
   "cell_type": "code",
   "execution_count": 152,
   "id": "c7af9264",
   "metadata": {},
   "outputs": [],
   "source": [
    "r_clf_combined.importances_mean"
   ]
  },
  {
   "cell_type": "code",
   "execution_count": 153,
   "id": "b8ec0998",
   "metadata": {},
   "outputs": [],
   "source": [
    "r_clf_combined.importances"
   ]
  },
  {
   "cell_type": "markdown",
   "id": "a13619bd",
   "metadata": {},
   "source": [
    "## Accuracy, Precision, Recall, and F1 Scores for MultiOutputClassifier RandomForestClassifier Models"
   ]
  },
  {
   "cell_type": "markdown",
   "id": "5a7b46cf",
   "metadata": {},
   "source": [
    "### Accuracy"
   ]
  },
  {
   "cell_type": "code",
   "execution_count": 155,
   "id": "53902c2a",
   "metadata": {},
   "outputs": [],
   "source": [
    "# MultiOutputClassifier RandomForestClassifier accuracy of default paternal model\n",
    "rf_paternal_accuracy = accuracy_score(y_clf_test, y_pred_rf_clf_paternal)\n",
    "rf_paternal_accuracy"
   ]
  },
  {
   "cell_type": "code",
   "execution_count": null,
   "id": "3b526b2c",
   "metadata": {},
   "outputs": [],
   "source": [
    "# MultiOutputClassifier RandomForestClassifier accuracy of optimal paternal model\n",
    "optimal_rf_paternal_accuracy = accuracy_score(y_clf_test, y_pred_rf_clf_paternal_optimal)\n",
    "optimal_rf_paternal_accuracy"
   ]
  },
  {
   "cell_type": "code",
   "execution_count": null,
   "id": "3e9c0290",
   "metadata": {},
   "outputs": [],
   "source": [
    "# MultiOutputClassifier RandomForestClassifier accuracy of default maternal model\n",
    "rf_maternal_accuracy = accuracy_score(y_clf_test, y_pred_rf_clf_maternal)\n",
    "rf_maternal_accuracy"
   ]
  },
  {
   "cell_type": "code",
   "execution_count": null,
   "id": "ecfe350d",
   "metadata": {},
   "outputs": [],
   "source": [
    "# MultiOutputClassifier RandomForestClassifier accuracy of optimal maternal model\n",
    "optimal_rf_maternal_accuracy = accuracy_score(y_clf_test, y_pred_rf_clf_maternal_optimal)\n",
    "optimal_rf_maternal_accuracy"
   ]
  },
  {
   "cell_type": "code",
   "execution_count": null,
   "id": "762e9a50",
   "metadata": {},
   "outputs": [],
   "source": [
    "# MultiOutputClassifier RandomForestClassifier accuracy of default combined model\n",
    "rf_combined_accuracy = accuracy_score(y_clf_test, y_pred_rf_clf_combined)\n",
    "rf_combined_accuracy"
   ]
  },
  {
   "cell_type": "code",
   "execution_count": null,
   "id": "d3cfe133",
   "metadata": {},
   "outputs": [],
   "source": [
    "# MultiOutputClassifier RandomForestClassifier accuracy of optimal combined model\n",
    "optimal_rf_combined_accuracy = accuracy_score(y_clf_test, y_pred_rf_clf_combined_optimal)\n",
    "optimal_rf_combined_accuracy"
   ]
  },
  {
   "cell_type": "markdown",
   "id": "455e75fa",
   "metadata": {},
   "source": [
    "### Precision"
   ]
  },
  {
   "cell_type": "code",
   "execution_count": null,
   "id": "81be8bb0",
   "metadata": {},
   "outputs": [],
   "source": [
    "# MultiOutputClassifier RandomForestClassifier precision of default paternal model\n",
    "rf_paternal_precision = precision_score(y_clf_test, y_pred_rf_clf_paternal, average='micro')\n",
    "rf_paternal_precision"
   ]
  },
  {
   "cell_type": "code",
   "execution_count": null,
   "id": "bdaa229a",
   "metadata": {},
   "outputs": [],
   "source": [
    "# MultiOutputClassifier RandomForestClassifier precision of optimal paternal model\n",
    "optimal_rf_paternal_precision = precision_score(y_clf_test, y_pred_rf_clf_paternal_optimal, average='micro')\n",
    "optimal_rf_paternal_precision"
   ]
  },
  {
   "cell_type": "code",
   "execution_count": null,
   "id": "274f87e4",
   "metadata": {},
   "outputs": [],
   "source": [
    "# MultiOutputClassifier RandomForestClassifier precision of default maternal model\n",
    "rf_maternal_precision = precision_score(y_clf_test, y_pred_rf_clf_maternal, average='micro')\n",
    "rf_maternal_precision"
   ]
  },
  {
   "cell_type": "code",
   "execution_count": null,
   "id": "265a0756",
   "metadata": {},
   "outputs": [],
   "source": [
    "# MultiOutputClassifier RandomForestClassifier precision of optimal maternal model\n",
    "optimal_rf_maternal_precision = precision_score(y_clf_test, y_pred_rf_clf_maternal_optimal, average='micro')\n",
    "optimal_rf_maternal_precision"
   ]
  },
  {
   "cell_type": "code",
   "execution_count": null,
   "id": "ec39cc29",
   "metadata": {},
   "outputs": [],
   "source": [
    "# MultiOutputClassifier RandomForestClassifier precision of default combined model\n",
    "rf_combined_precision = precision_score(y_clf_test, y_pred_rf_clf_combined, average='micro')\n",
    "rf_combined_precision"
   ]
  },
  {
   "cell_type": "code",
   "execution_count": null,
   "id": "539ccac3",
   "metadata": {},
   "outputs": [],
   "source": [
    "# MultiOutputClassifier RandomForestClassifier precision of optimal combined model\n",
    "optimal_rf_combined_precision = precision_score(y_clf_test, y_pred_rf_clf_combined_optimal, average='micro')\n",
    "optimal_rf_combined_precision"
   ]
  },
  {
   "cell_type": "markdown",
   "id": "33c6e3ea",
   "metadata": {},
   "source": [
    "### Recall"
   ]
  },
  {
   "cell_type": "code",
   "execution_count": null,
   "id": "0a146007",
   "metadata": {},
   "outputs": [],
   "source": [
    "# MultiOutputClassifier RandomForestClassifier recall of default paternal model\n",
    "rf_paternal_recall = recall_score(y_clf_test, y_pred_rf_clf_paternal, average='micro')\n",
    "rf_paternal_recall"
   ]
  },
  {
   "cell_type": "code",
   "execution_count": null,
   "id": "ff309b60",
   "metadata": {},
   "outputs": [],
   "source": [
    "# MultiOutputClassifier RandomForestClassifier recall of optimal paternal model\n",
    "optimal_rf_paternal_recall = recall_score(y_clf_test, y_pred_rf_clf_paternal_optimal, average='micro')\n",
    "optimal_rf_paternal_recall"
   ]
  },
  {
   "cell_type": "code",
   "execution_count": null,
   "id": "eb17c6e2",
   "metadata": {},
   "outputs": [],
   "source": [
    "# MultiOutputClassifier RandomForestClassifier recall of default maternal model\n",
    "rf_maternal_recall = recall_score(y_clf_test, y_pred_rf_clf_maternal, average='micro')\n",
    "rf_maternal_recall"
   ]
  },
  {
   "cell_type": "code",
   "execution_count": null,
   "id": "81b62566",
   "metadata": {},
   "outputs": [],
   "source": [
    "# MultiOutputClassifier RandomForestClassifier recall of optimal maternal model\n",
    "optimal_rf_maternal_recall = recall_score(y_clf_test, y_pred_rf_clf_maternal_optimal, average='micro')\n",
    "optimal_rf_maternal_recall"
   ]
  },
  {
   "cell_type": "code",
   "execution_count": null,
   "id": "7752919e",
   "metadata": {},
   "outputs": [],
   "source": [
    "# MultiOutputClassifier RandomForestClassifier recall of default combined model\n",
    "rf_combined_recall = recall_score(y_clf_test, y_pred_rf_clf_combined, average='micro')\n",
    "rf_combined_recall"
   ]
  },
  {
   "cell_type": "code",
   "execution_count": null,
   "id": "8aab6ce3",
   "metadata": {},
   "outputs": [],
   "source": [
    "# MultiOutputClassifier RandomForestClassifier recall of optimal combined model\n",
    "optimal_rf_combined_recall = recall_score(y_clf_test, y_pred_rf_clf_combined_optimal, average='micro')\n",
    "optimal_rf_combined_recall"
   ]
  },
  {
   "cell_type": "markdown",
   "id": "7ba07a23",
   "metadata": {},
   "source": [
    "### F1 Score"
   ]
  },
  {
   "cell_type": "code",
   "execution_count": null,
   "id": "d70d8cdc",
   "metadata": {},
   "outputs": [],
   "source": [
    "# MultiOutputClassifier RandomForestClassifier F1 scores of default paternal model\n",
    "rf_paternal_f1 = f1_score(y_clf_test, y_pred_rf_clf_paternal, average='micro')\n",
    "rf_paternal_f1"
   ]
  },
  {
   "cell_type": "code",
   "execution_count": null,
   "id": "655aef33",
   "metadata": {},
   "outputs": [],
   "source": [
    "# MultiOutputClassifier RandomForestClassifier F1 scores of optimal paternal model\n",
    "optimal_rf_paternal_f1 = f1_score(y_clf_test, y_pred_rf_clf_paternal_optimal, average='micro')\n",
    "optimal_rf_paternal_f1"
   ]
  },
  {
   "cell_type": "code",
   "execution_count": null,
   "id": "461d14c3",
   "metadata": {},
   "outputs": [],
   "source": [
    "# MultiOutputClassifier RandomForestClassifier F1 scores of default maternal model\n",
    "rf_maternal_f1 = f1_score(y_clf_test, y_pred_rf_clf_maternal, average='micro')\n",
    "rf_maternal_f1"
   ]
  },
  {
   "cell_type": "code",
   "execution_count": null,
   "id": "375e4eda",
   "metadata": {},
   "outputs": [],
   "source": [
    "# MultiOutputClassifier RandomForestClassifier F1 scores of optimal maternal model\n",
    "optimal_rf_maternal_f1 = f1_score(y_clf_test, y_pred_rf_clf_maternal_optimal, average='micro')\n",
    "optimal_rf_maternal_f1"
   ]
  },
  {
   "cell_type": "code",
   "execution_count": null,
   "id": "4dfdbe04",
   "metadata": {},
   "outputs": [],
   "source": [
    "# MultiOutputClassifier RandomForestClassifier F1 scores of default combined model\n",
    "rf_combined_f1 = f1_score(y_clf_test, y_pred_rf_clf_combined, average='micro')\n",
    "rf_combined_f1"
   ]
  },
  {
   "cell_type": "code",
   "execution_count": null,
   "id": "85c3e6c2",
   "metadata": {},
   "outputs": [],
   "source": [
    "# MultiOutputClassifier RandomForestClassifier F1 scores of optimal combined model\n",
    "optimal_rf_combined_f1 = f1_score(y_clf_test, y_pred_rf_clf_combined_optimal, average='micro')\n",
    "optimal_rf_combined_f1"
   ]
  },
  {
   "cell_type": "markdown",
   "id": "cc7079f7",
   "metadata": {},
   "source": [
    "## Summary Results of the MultiOutputClassifier RandomForestClassifier Models\n",
    "\n",
    "Consistent with results reported by Meinert (2019), the optimized classification models showed only small improvements over the default classification models.  Accuracy and Precision scores were slightly higher for the optimized models, whereas Recall and F1 scores were slightly higher for the default models, but all differences were small.\n",
    "\n",
    "Accuracy scores for all three classification models were likely low because the dataset was skewed with regards to the target values.  Specifically, the number of families that received WIC benefits, the number of women who had a trial of labor before a cesarean, the number of babies delivered by cesarean were disproportionately small, and a disproportionate majority of infants were breastfed at discharge.\n",
    "\n",
    "In general, the classification model using maternal demographic features had better accuracy and precision than the model using paternal demographic features, but the paternal model had better recall, and the F1 scores for both were the same.  Combining both sets of features resulted in slightly better accuracy, recall, and F1 scores, while the precision score was almost the same as that of the maternal model."
   ]
  },
  {
   "cell_type": "markdown",
   "id": "5fde1e5f",
   "metadata": {},
   "source": [
    "## Hyperparameter Tuning for MultiOutputRegressor RandomForestRegressor Models"
   ]
  },
  {
   "cell_type": "code",
   "execution_count": 8,
   "id": "42dc9753",
   "metadata": {},
   "outputs": [],
   "source": [
    "rf_reg = RandomForestRegressor(n_estimators=100, max_depth=6, min_samples_split=2, random_state=42)\n",
    "reg_model = MultiOutputRegressor(estimator=rf_reg)"
   ]
  },
  {
   "cell_type": "markdown",
   "id": "32be9470",
   "metadata": {},
   "source": [
    "#### Paternal Features Model"
   ]
  },
  {
   "cell_type": "code",
   "execution_count": 52,
   "id": "931b38ac",
   "metadata": {},
   "outputs": [
    {
     "name": "stdout",
     "output_type": "stream",
     "text": [
      "The best parameters are:  {'estimator__max_depth': 12, 'estimator__min_samples_split': 7, 'estimator__n_estimators': 250}\n"
     ]
    }
   ],
   "source": [
    "# Coarse-Grained MultiOutputRegressor RandomForestRegressor GridSearch - paternal\n",
    "\n",
    "param_grid_coarse_reg_paternal = {'estimator__max_depth':[8, 12, 16], \n",
    "              'estimator__n_estimators': [250, 500, 750, 1000], \n",
    "              'estimator__min_samples_split': [3,5,7]}\n",
    "\n",
    "gscv_paternal_reg_coarse = GridSearchCV(reg_model, param_grid_coarse_reg_paternal, n_jobs=-1, cv=3)\n",
    "gscv_paternal_reg_coarse.fit(X_paternal_train, y_reg_train)\n",
    "\n",
    "print(\"The best parameters are: \", gscv_paternal_reg_coarse.best_params_)"
   ]
  },
  {
   "cell_type": "code",
   "execution_count": 53,
   "id": "61191694",
   "metadata": {},
   "outputs": [
    {
     "name": "stdout",
     "output_type": "stream",
     "text": [
      "The best parameters are:  {'estimator__max_depth': 12, 'estimator__min_samples_split': 9, 'estimator__n_estimators': 350}\n"
     ]
    }
   ],
   "source": [
    "# Refined MultiOutputRegressor RandomForestRegressor GridSearch - paternal\n",
    "\n",
    "param_grid_refined_reg_paternal = {'estimator__max_depth':[10, 12, 14], \n",
    "              'estimator__n_estimators': [150, 250, 350], \n",
    "              'estimator__min_samples_split': [6, 7, 9]}\n",
    "\n",
    "gscv_paternal_reg_refined = GridSearchCV(reg_model, param_grid_refined_reg_paternal, n_jobs=-1, cv=3)\n",
    "gscv_paternal_reg_refined.fit(X_paternal_train, y_reg_train)\n",
    "\n",
    "print(\"The best parameters are: \", gscv_paternal_reg_refined.best_params_)"
   ]
  },
  {
   "cell_type": "code",
   "execution_count": null,
   "id": "694c971d",
   "metadata": {},
   "outputs": [],
   "source": [
    "# Final MultiOutputRegressor RandomForestRegressor GridSearch - paternal\n",
    "\n",
    "param_grid_final_reg_paternal = {'estimator__max_depth':[11, 12, 13], \n",
    "              'estimator__n_estimators': [300, 350, 400, 450]}\n",
    "\n",
    "gscv_paternal_reg_final = GridSearchCV(reg_model, param_grid_final_reg_paternal, n_jobs=-1, cv=3)\n",
    "gscv_paternal_reg_final.fit(X_paternal_train, y_reg_train)\n",
    "\n",
    "print(\"The best parameters are: \", gscv_paternal_reg_final.best_params_)"
   ]
  },
  {
   "cell_type": "markdown",
   "id": "feaa93c1",
   "metadata": {},
   "source": [
    "Ran gscv_paternal_reg_final several times trying to find the best min_samples_split value, but was always the highest option.  Went as high as 38 and then had to stop because was running out of time (each taking at least 12 hours to run) so decided to remove min_samples_split from regressor GridSearchCVs and use the default value.\n",
    "\n",
    "Returned The best parameters are: {'estimator__max_depth': 12, 'estimator__n_estimators': 350}"
   ]
  },
  {
   "cell_type": "markdown",
   "id": "ff9e18b3",
   "metadata": {},
   "source": [
    "#### Maternal Features Model"
   ]
  },
  {
   "cell_type": "markdown",
   "id": "0a11465b",
   "metadata": {},
   "source": [
    "Switched to RandomizedSearchCV to see if it would run more quickly.  Still took a long time and had the same issue with min_samples_split so eventually used default min_samples_split.  Received a warning when running fewer than 10 iterations, so resorted to GridSearchCV for final analysis as recommended in warning."
   ]
  },
  {
   "cell_type": "code",
   "execution_count": 61,
   "id": "4e6f4d97",
   "metadata": {},
   "outputs": [
    {
     "name": "stdout",
     "output_type": "stream",
     "text": [
      "The best parameters are:  {'estimator__n_estimators': 500, 'estimator__min_samples_split': 7, 'estimator__max_depth': 12}\n"
     ]
    }
   ],
   "source": [
    "# Coarse-Grained MultiOutputRegressor RandomForestRegressor RandomizedSearch - maternal\n",
    "\n",
    "param_grid_coarse_reg_maternal = {'estimator__max_depth':[8, 12,16], \n",
    "              'estimator__n_estimators': [250, 500], \n",
    "              'estimator__min_samples_split': [3,5,7]}\n",
    "\n",
    "rscv_maternal_reg_coarse = RandomizedSearchCV(reg_model, param_grid_coarse_reg_maternal, n_jobs=-1, cv=3)\n",
    "rscv_maternal_reg_coarse.fit(X_maternal_train, y_reg_train)\n",
    "\n",
    "print(\"The best parameters are: \", rscv_maternal_reg_coarse.best_params_)"
   ]
  },
  {
   "cell_type": "code",
   "execution_count": 66,
   "id": "15800822",
   "metadata": {},
   "outputs": [
    {
     "name": "stdout",
     "output_type": "stream",
     "text": [
      "The best parameters are:  {'estimator__n_estimators': 750, 'estimator__min_samples_split': 17, 'estimator__max_depth': 12}\n"
     ]
    }
   ],
   "source": [
    "# Refined MultiOutputRegressor RandomForestRegressor RandomizedSearch - maternal\n",
    "\n",
    "param_grid_refined_reg_maternal = {'estimator__max_depth':[10, 12, 14], \n",
    "              'estimator__n_estimators': [500, 750], \n",
    "              'estimator__min_samples_split': [7, 12, 17]}\n",
    "\n",
    "rscv_maternal_reg_refined = RandomizedSearchCV(reg_model, param_grid_refined_reg_maternal, n_jobs=-1, cv=3)\n",
    "rscv_maternal_reg_refined.fit(X_maternal_train, y_reg_train)\n",
    "\n",
    "print(\"The best parameters are: \", rscv_maternal_reg_refined.best_params_)"
   ]
  },
  {
   "cell_type": "code",
   "execution_count": null,
   "id": "fab42afb",
   "metadata": {},
   "outputs": [],
   "source": [
    "# Final MultiOutputRegressor RandomForestRegressor GridSearch - maternal\n",
    "\n",
    "param_grid_final_reg_maternal = {'estimator__max_depth':[11, 12, 13], \n",
    "              'estimator__n_estimators': [750, 850, 950, 1050]}\n",
    "\n",
    "gscv_maternal_reg_final = GridSearchCV(reg_model, param_grid_final_reg_maternal, n_jobs=-1, cv=3)\n",
    "gscv_maternal_reg_final.fit(X_maternal_train, y_reg_train)\n",
    "\n",
    "print(\"The best parameters are: \", gscv_maternal_reg_final.best_params_)"
   ]
  },
  {
   "cell_type": "markdown",
   "id": "690f9fbc",
   "metadata": {},
   "source": [
    "Returned The best parameters are: {'estimator__max_depth': 12, 'estimator__n_estimators': 950}"
   ]
  },
  {
   "cell_type": "markdown",
   "id": "9146e516",
   "metadata": {},
   "source": [
    "#### Combined Paternal and Maternal Features Model"
   ]
  },
  {
   "cell_type": "code",
   "execution_count": 63,
   "id": "5b91bf8a",
   "metadata": {},
   "outputs": [
    {
     "name": "stdout",
     "output_type": "stream",
     "text": [
      "The best parameters are:  {'estimator__n_estimators': 500, 'estimator__min_samples_split': 15, 'estimator__max_depth': 16}\n"
     ]
    }
   ],
   "source": [
    "# Coarse-Grained MultiOutputRegressor RandomForestRegressor RandomizedSearch - combined\n",
    "\n",
    "param_grid_coarse_reg_combined = {'estimator__max_depth':[12, 16, 20], \n",
    "              'estimator__n_estimators': [250, 500], \n",
    "              'estimator__min_samples_split': [5, 10, 15]}\n",
    "\n",
    "rscv_combined_reg_coarse = RandomizedSearchCV(reg_model, param_grid_coarse_reg_combined, n_jobs=-1, cv=3)\n",
    "rscv_combined_reg_coarse.fit(X_combined_train, y_reg_train)\n",
    "\n",
    "print(\"The best parameters are: \", rscv_combined_reg_coarse.best_params_)"
   ]
  },
  {
   "cell_type": "code",
   "execution_count": null,
   "id": "de67fea1",
   "metadata": {},
   "outputs": [],
   "source": [
    "# Refined MultiOutputRegressor RandomForestRegressor GridSearch - combined\n",
    "\n",
    "param_grid_refined_reg_combined = {'estimator__max_depth':[14, 16, 18], \n",
    "              'estimator__n_estimators': [400, 500, 750, 1000]}\n",
    "\n",
    "gscv_combined_reg_refined = GridSearchCV(reg_model, param_grid_refined_reg_combined, n_jobs=-1, cv=3)\n",
    "gscv_combined_reg_refined.fit(X_combined_train, y_reg_train)\n",
    "\n",
    "print(\"The best parameters are: \", gscv_combined_reg_refined.best_params_)"
   ]
  },
  {
   "cell_type": "markdown",
   "id": "241038f6",
   "metadata": {},
   "source": [
    "Returned The best parameters are: {'estimator__max_depth': 14, 'estimator__n_estimators': 1000}"
   ]
  },
  {
   "cell_type": "code",
   "execution_count": null,
   "id": "e17b7de3",
   "metadata": {},
   "outputs": [],
   "source": [
    "# Final MultiOutputRegressor RandomForestRegressor GridSearch - combined\n",
    "\n",
    "param_grid_final_reg_combined = {'estimator__max_depth':[13, 14, 15], \n",
    "              'estimator__n_estimators': [800, 900, 1000, 1100]}\n",
    "\n",
    "rscv_combined_reg_final = GridSearchCV(reg_model, param_grid_final_reg_combined, n_jobs=-1, cv=3)\n",
    "rscv_combined_reg_final.fit(X_combined_train, y_reg_train)\n",
    "\n",
    "print(\"The best parameters are: \", rscv_combined_reg_final.best_params_)"
   ]
  },
  {
   "cell_type": "markdown",
   "id": "04e6bdef",
   "metadata": {},
   "source": [
    "Returned The best parameters are: {'estimator__max_depth': 13, 'estimator__n_estimators': 1000}"
   ]
  },
  {
   "cell_type": "markdown",
   "id": "bbbe4618",
   "metadata": {},
   "source": [
    "## MultiOutputRegressor RandomForestRegressor Models"
   ]
  },
  {
   "cell_type": "markdown",
   "id": "1e4335b5",
   "metadata": {},
   "source": [
    "### Paternal Model"
   ]
  },
  {
   "cell_type": "code",
   "execution_count": null,
   "id": "d63824f7",
   "metadata": {},
   "outputs": [],
   "source": [
    "# MultiOutputRegressor RandomForestRegressor model on paternal features using default hyperparameter values\n",
    "rf_reg_paternal = MultiOutputRegressor(RandomForestRegressor(max_depth=20, random_state=42)).fit(X_paternal_train, y_reg_train)"
   ]
  },
  {
   "cell_type": "code",
   "execution_count": null,
   "id": "d76e912d",
   "metadata": {},
   "outputs": [],
   "source": [
    "#predict responses based on the paternal MultiOutputRegressor RandomForestRegressor model\n",
    "y_pred_rf_reg_paternal = rf_reg_paternal.predict(X_paternal_test)\n",
    "y_pred_rf_reg_paternal"
   ]
  },
  {
   "cell_type": "code",
   "execution_count": null,
   "id": "615de3e9",
   "metadata": {},
   "outputs": [],
   "source": [
    "# Optimal MultiOutputRegressor RandomForestRegressor Model based on GridSearch results for paternal features - hard coded to reduce need to run GridSearchCV again\n",
    "optimal_rf_reg_paternal = MultiOutputRegressor(RandomForestRegressor(max_depth=12, n_estimators=350, random_state=42)).fit(X_paternal_train, y_reg_train)"
   ]
  },
  {
   "cell_type": "code",
   "execution_count": null,
   "id": "76b057c4",
   "metadata": {},
   "outputs": [],
   "source": [
    "# Pickle optimal paternal model\n",
    "joblib.dump(optimal_rf_reg_paternal, 'reg_paternal_model.pkl')"
   ]
  },
  {
   "cell_type": "code",
   "execution_count": 181,
   "id": "c77ffdd6",
   "metadata": {},
   "outputs": [],
   "source": [
    "# reload pickle file\n",
    "optimal_rf_reg_paternal = joblib.load('reg_paternal_model.pkl')"
   ]
  },
  {
   "cell_type": "markdown",
   "id": "a368cbef",
   "metadata": {},
   "source": [
    "### Maternal Model"
   ]
  },
  {
   "cell_type": "code",
   "execution_count": null,
   "id": "8f43f8b9",
   "metadata": {},
   "outputs": [],
   "source": [
    "# MultiOutputRegressor RandomForestClassifier model on maternal features using default hyperparameter values\n",
    "rf_reg_maternal = MultiOutputRegressor(RandomForestRegressor(max_depth=20, random_state=42)).fit(X_maternal_train, y_reg_train)"
   ]
  },
  {
   "cell_type": "code",
   "execution_count": null,
   "id": "955056bc",
   "metadata": {},
   "outputs": [],
   "source": [
    "#predict responses based on the maternal RandomForestRegressor model\n",
    "y_pred_rf_reg_maternal = rf_reg_maternal.predict(X_maternal_test)\n",
    "y_pred_rf_reg_maternal"
   ]
  },
  {
   "cell_type": "code",
   "execution_count": null,
   "id": "b6647a9c",
   "metadata": {},
   "outputs": [],
   "source": [
    "# Optimal MultiOutputRegressor RandomForestRegressor Model based on GridSearch results for maternal features - hard coded to reduce need to run RandomizedSearchCV again\n",
    "optimal_rf_reg_maternal = MultiOutputRegressor(RandomForestRegressor(max_depth=12, n_estimators=950, random_state=42)).fit(X_maternal_train, y_reg_train)"
   ]
  },
  {
   "cell_type": "code",
   "execution_count": null,
   "id": "954ae1dc",
   "metadata": {},
   "outputs": [],
   "source": [
    "# Pickle optimal maternal model\n",
    "joblib.dump(optimal_rf_reg_maternal, 'reg_maternal_model.pkl')"
   ]
  },
  {
   "cell_type": "code",
   "execution_count": 173,
   "id": "56a71e68",
   "metadata": {},
   "outputs": [],
   "source": [
    "# reload pickle file\n",
    "optimal_rf_reg_maternal = joblib.load('reg_maternal_model.pkl')"
   ]
  },
  {
   "cell_type": "markdown",
   "id": "080c78a0",
   "metadata": {},
   "source": [
    "### Combined Model"
   ]
  },
  {
   "cell_type": "code",
   "execution_count": null,
   "id": "bc035c45",
   "metadata": {},
   "outputs": [],
   "source": [
    "# MultiOutputRegressor RandomForestClassifier model on combined paternal and maternal features using default hyperparameter values\n",
    "rf_reg_combined = MultiOutputRegressor(RandomForestRegressor(max_depth=20, random_state=42)).fit(X_combined_train, y_reg_train)"
   ]
  },
  {
   "cell_type": "code",
   "execution_count": null,
   "id": "1b6fe53d",
   "metadata": {},
   "outputs": [],
   "source": [
    "#predict responses based on the combined MultiOutputRegressor RandomForestRegressor model\n",
    "y_pred_rf_reg_combined = rf_reg_combined.predict(X_combined_test)\n",
    "y_pred_rf_reg_combined"
   ]
  },
  {
   "cell_type": "code",
   "execution_count": null,
   "id": "97c669b5",
   "metadata": {},
   "outputs": [],
   "source": [
    "# Optimal MultiOutputRegressor RandomForestRegressor Model based on GridSearch results for combined paternal and maternal features - hard coded to reduce need to run RandomizedSearchCV again\n",
    "optimal_rf_reg_combined = MultiOutputRegressor(RandomForestRegressor(max_depth=13, n_estimators=1000, random_state=42)).fit(X_combined_train, y_reg_train)"
   ]
  },
  {
   "cell_type": "code",
   "execution_count": null,
   "id": "c1e44b0b",
   "metadata": {},
   "outputs": [],
   "source": [
    "# Pickle optimal combined model\n",
    "joblib.dump(optimal_rf_reg_combined, 'reg_combined_model.pkl')"
   ]
  },
  {
   "cell_type": "code",
   "execution_count": 174,
   "id": "05fb419e",
   "metadata": {},
   "outputs": [],
   "source": [
    "# reload pickle file\n",
    "optimal_rf_reg_combined = joblib.load('reg_combined_model.pkl')"
   ]
  },
  {
   "cell_type": "markdown",
   "id": "997b526c",
   "metadata": {},
   "source": [
    "## Generalization Error for MultiOutputRegressor RandomForestRegressor Models"
   ]
  },
  {
   "cell_type": "code",
   "execution_count": null,
   "id": "08f4823d",
   "metadata": {},
   "outputs": [],
   "source": [
    "#generalization error default paternal MultiOutputRegressor RandomForestRegressor model\n",
    "rf_reg_paternal_y_pred = rf_reg_paternal.predict(X_paternal_test)\n",
    "mse_rf_reg_paternal = mean_squared_error(y_reg_test, rf_reg_paternal_y_pred)\n",
    "mse_rf_reg_paternal"
   ]
  },
  {
   "cell_type": "code",
   "execution_count": 175,
   "id": "42f576f7",
   "metadata": {},
   "outputs": [
    {
     "data": {
      "text/plain": [
       "102267.73397776876"
      ]
     },
     "execution_count": 175,
     "metadata": {},
     "output_type": "execute_result"
    }
   ],
   "source": [
    "#generalization error optimal paternal MultiOutputRegressor RandomForestRegressor model\n",
    "optimal_rf_reg_paternal_y_pred = optimal_rf_reg_paternal.predict(X_paternal_test)\n",
    "optimal_mse_rf_reg_paternal = mean_squared_error(y_reg_test, optimal_rf_reg_paternal_y_pred)\n",
    "optimal_mse_rf_reg_paternal"
   ]
  },
  {
   "cell_type": "code",
   "execution_count": null,
   "id": "50b2ec43",
   "metadata": {},
   "outputs": [],
   "source": [
    "#generalization error default maternal MultiOutputRegressor RandomForestRegressor model\n",
    "rf_reg_maternal_y_pred = rf_reg_maternal.predict(X_maternal_test)\n",
    "mse_rf_reg_maternal = mean_squared_error(y_reg_test, rf_reg_maternal_y_pred)\n",
    "mse_rf_reg_maternal"
   ]
  },
  {
   "cell_type": "code",
   "execution_count": 176,
   "id": "a2e5dad7",
   "metadata": {},
   "outputs": [
    {
     "data": {
      "text/plain": [
       "101870.9797665844"
      ]
     },
     "execution_count": 176,
     "metadata": {},
     "output_type": "execute_result"
    }
   ],
   "source": [
    "#generalization error optimal maternal MultiOutputRegressor RandomForestRegressor model\n",
    "optimal_rf_reg_maternal_y_pred = optimal_rf_reg_maternal.predict(X_maternal_test)\n",
    "optimal_mse_rf_reg_maternal = mean_squared_error(y_reg_test, optimal_rf_reg_maternal_y_pred)\n",
    "optimal_mse_rf_reg_maternal"
   ]
  },
  {
   "cell_type": "code",
   "execution_count": null,
   "id": "556c6b24",
   "metadata": {},
   "outputs": [],
   "source": [
    "#generalization error default combined MultiOutputRegressor RandomForestRegressor model\n",
    "rf_reg_combined_y_pred = rf_reg_combined.predict(X_combined_test)\n",
    "mse_rf_reg_combined = mean_squared_error(y_reg_test, rf_reg_combined_y_pred)\n",
    "mse_rf_reg_combined"
   ]
  },
  {
   "cell_type": "code",
   "execution_count": 177,
   "id": "1850c721",
   "metadata": {},
   "outputs": [
    {
     "data": {
      "text/plain": [
       "101445.77204746597"
      ]
     },
     "execution_count": 177,
     "metadata": {},
     "output_type": "execute_result"
    }
   ],
   "source": [
    "#generalization error optimal combined MultiOutputRegressor RandomForestRegressor model\n",
    "optimal_rf_reg_combined_y_pred = optimal_rf_reg_combined.predict(X_combined_test)\n",
    "optimal_mse_rf_reg_combined = mean_squared_error(y_reg_test, optimal_rf_reg_combined_y_pred)\n",
    "optimal_mse_rf_reg_combined"
   ]
  },
  {
   "cell_type": "markdown",
   "id": "b2443bec",
   "metadata": {},
   "source": [
    "## Permutation Importance for MultiOutputRegressor RandomForestRegressor Models\n",
    "\n",
    "While marital status continued to be an important feature in the paternal regression model, a father's race being Black was the most important feature.  Having a Bachelor's degree, having a high school diploma or GED, and age rounded out the top five features for the paternal regression model.  The most important features in the maternal regression model were similar to those for the paternal model, but with a different order of priority.  Having a Bachelor's degree was the most important feature, followed by mother's race being Black, having a Master's degree, age, and having some college credit but not a degree.  In the combined models, the most important features were almost all maternal characteristics, with mother's education level and age being seven of the ten most important features, along with mother's race being Black, father's age, and marital status.  Based on these results, paternal characteristics do not appear to contribute much to the prediction of the number of prenatal visits, the infant's birthweight, or gestational age and that maternal characteristics may be better predictors of these targets."
   ]
  },
  {
   "cell_type": "markdown",
   "id": "a0b1f8f0",
   "metadata": {},
   "source": [
    "### Paternal Model"
   ]
  },
  {
   "cell_type": "code",
   "execution_count": null,
   "id": "8d543514",
   "metadata": {},
   "outputs": [],
   "source": [
    "# permutation importance for paternal RandomForestRegressor Model\n",
    "r_reg_paternal = permutation_importance(rf_reg_paternal, X_paternal_test, y_reg_test, n_repeats=10, random_state=42)"
   ]
  },
  {
   "cell_type": "code",
   "execution_count": null,
   "id": "7022da17",
   "metadata": {},
   "outputs": [],
   "source": [
    "# create pickle file\n",
    "joblib.dump(r_reg_paternal, 'pi_reg_paternal.pkl')"
   ]
  },
  {
   "cell_type": "code",
   "execution_count": 156,
   "id": "2fc70542",
   "metadata": {},
   "outputs": [],
   "source": [
    "# reload pickle file\n",
    "r_reg_paternal = joblib.load('pi_reg_paternal.pkl')"
   ]
  },
  {
   "cell_type": "code",
   "execution_count": 157,
   "id": "f9dc27b8",
   "metadata": {},
   "outputs": [],
   "source": [
    "# sort and prep permutation importances for graphs\n",
    "sorted_importances_idx_reg_paternal = r_reg_paternal.importances_mean.argsort()"
   ]
  },
  {
   "cell_type": "code",
   "execution_count": null,
   "id": "211614d5",
   "metadata": {},
   "outputs": [],
   "source": [
    "importances_reg_paternal = pd.DataFrame(r_reg_paternal.importances[sorted_importances_idx_reg_paternal].T, columns=X_paternal_test.columns[sorted_importances_idx_reg_paternal])"
   ]
  },
  {
   "cell_type": "code",
   "execution_count": 158,
   "id": "151cf66e",
   "metadata": {},
   "outputs": [],
   "source": [
    "top_importances_reg_paternal = pd.DataFrame(r_reg_paternal.importances[sorted_importances_idx_reg_paternal].T, columns=X_paternal_test.columns[sorted_importances_idx_reg_paternal]).iloc[:, -10:]"
   ]
  },
  {
   "cell_type": "code",
   "execution_count": null,
   "id": "02b4564c",
   "metadata": {},
   "outputs": [],
   "source": [
    "# Graph permutation importance features for paternal model\n",
    "ax_reg_paternal = importances_reg_paternal.plot.barh(figsize=(24, 18))\n",
    "ax_reg_paternal.set_title('Permutation Importances for Features of the Paternal Regression Model')"
   ]
  },
  {
   "cell_type": "code",
   "execution_count": 159,
   "id": "8744baeb",
   "metadata": {},
   "outputs": [
    {
     "data": {
      "text/plain": [
       "Text(0.5, 1.0, 'Top 10 Permutation Importances for Features of the Paternal Regression Model')"
      ]
     },
     "execution_count": 159,
     "metadata": {},
     "output_type": "execute_result"
    },
    {
     "data": {
      "image/png": "[encoded data removed]",
      "text/plain": [
       "<Figure size 1728x1296 with 1 Axes>"
      ]
     },
     "metadata": {
      "needs_background": "light"
     },
     "output_type": "display_data"
    }
   ],
   "source": [
    "# Graph 10 most important features for paternal model\n",
    "top_ax_reg_paternal = top_importances_reg_paternal.plot.barh(figsize=(24, 18))\n",
    "top_ax_reg_paternal.set_title('Top 10 Permutation Importances for Features of the Paternal Regression Model')"
   ]
  },
  {
   "cell_type": "code",
   "execution_count": null,
   "id": "b0e7b99e",
   "metadata": {},
   "outputs": [],
   "source": [
    "r_reg_paternal.importances_mean"
   ]
  },
  {
   "cell_type": "code",
   "execution_count": null,
   "id": "86045792",
   "metadata": {},
   "outputs": [],
   "source": [
    "r_reg_paternal.importances_mean"
   ]
  },
  {
   "cell_type": "markdown",
   "id": "877cf9da",
   "metadata": {},
   "source": [
    "### Maternal Model"
   ]
  },
  {
   "cell_type": "code",
   "execution_count": null,
   "id": "ea9bb582",
   "metadata": {},
   "outputs": [],
   "source": [
    "# permutation importance for maternal RandomForestRegressor Model\n",
    "r_reg_maternal = permutation_importance(rf_reg_maternal, X_maternal_test, y_reg_test, n_repeats=10, random_state=42)"
   ]
  },
  {
   "cell_type": "code",
   "execution_count": null,
   "id": "1a3fd70f",
   "metadata": {},
   "outputs": [],
   "source": [
    "# create pickle file\n",
    "joblib.dump(r_reg_maternal, 'pi_reg_maternal.pkl')"
   ]
  },
  {
   "cell_type": "code",
   "execution_count": 160,
   "id": "ffc4b409",
   "metadata": {},
   "outputs": [],
   "source": [
    "# reload pickle file\n",
    "r_reg_maternal = joblib.load('pi_reg_maternal.pkl')"
   ]
  },
  {
   "cell_type": "code",
   "execution_count": 161,
   "id": "69cec4f4",
   "metadata": {},
   "outputs": [],
   "source": [
    "# sort and prep permutation importances for graphs\n",
    "sorted_importances_idx_reg_maternal = r_reg_maternal.importances_mean.argsort()"
   ]
  },
  {
   "cell_type": "code",
   "execution_count": null,
   "id": "393cd3a2",
   "metadata": {},
   "outputs": [],
   "source": [
    "importances_reg_maternal = pd.DataFrame(r_reg_maternal.importances[sorted_importances_idx_reg_maternal].T, columns=X_maternal_test.columns[sorted_importances_idx_reg_maternal])"
   ]
  },
  {
   "cell_type": "code",
   "execution_count": 162,
   "id": "8dab2a4c",
   "metadata": {},
   "outputs": [],
   "source": [
    "top_importances_reg_maternal = pd.DataFrame(r_reg_maternal.importances[sorted_importances_idx_reg_maternal].T, columns=X_maternal_test.columns[sorted_importances_idx_reg_maternal]).iloc[:, -10:]"
   ]
  },
  {
   "cell_type": "code",
   "execution_count": null,
   "id": "d7332851",
   "metadata": {},
   "outputs": [],
   "source": [
    "## Graph permutation importance features for maternal model\n",
    "ax_reg_maternal = importances_reg_maternal.plot.barh(figsize=(24, 18))\n",
    "ax_reg_maternal.set_title('Permutation Importances for Features of the Maternal Regression Model')"
   ]
  },
  {
   "cell_type": "code",
   "execution_count": 163,
   "id": "3e6876be",
   "metadata": {},
   "outputs": [
    {
     "data": {
      "text/plain": [
       "Text(0.5, 1.0, 'Top 10 Permutation Importances for Features of the Maternal Regression Model')"
      ]
     },
     "execution_count": 163,
     "metadata": {},
     "output_type": "execute_result"
    },
    {
     "data": {
      "image/png": "[encoded data removed]",
      "text/plain": [
       "<Figure size 1728x1296 with 1 Axes>"
      ]
     },
     "metadata": {
      "needs_background": "light"
     },
     "output_type": "display_data"
    }
   ],
   "source": [
    "## Graph 10 most important features for maternal model\n",
    "top_ax_reg_maternal = top_importances_reg_maternal.plot.barh(figsize=(24, 18))\n",
    "top_ax_reg_maternal.set_title('Top 10 Permutation Importances for Features of the Maternal Regression Model')"
   ]
  },
  {
   "cell_type": "code",
   "execution_count": null,
   "id": "2d156271",
   "metadata": {},
   "outputs": [],
   "source": [
    "r_reg_maternal.importances_mean"
   ]
  },
  {
   "cell_type": "code",
   "execution_count": null,
   "id": "7ea5812a",
   "metadata": {},
   "outputs": [],
   "source": [
    "r_reg_maternal.importances"
   ]
  },
  {
   "cell_type": "markdown",
   "id": "cb285ffe",
   "metadata": {},
   "source": [
    "### Combined Model"
   ]
  },
  {
   "cell_type": "code",
   "execution_count": 24,
   "id": "bc5e6bd6",
   "metadata": {},
   "outputs": [],
   "source": [
    "# permutation importance for combined RandomForestRegressor Model\n",
    "r_reg_combined = permutation_importance(optimal_rf_reg_combined, X_combined_test, y_reg_test, n_repeats=5, random_state=42)"
   ]
  },
  {
   "cell_type": "code",
   "execution_count": 25,
   "id": "215c7679",
   "metadata": {},
   "outputs": [
    {
     "data": {
      "text/plain": [
       "['pi_reg_combined.pkl']"
      ]
     },
     "execution_count": 25,
     "metadata": {},
     "output_type": "execute_result"
    }
   ],
   "source": [
    "# create pickle file\n",
    "joblib.dump(r_reg_combined, 'pi_reg_combined.pkl')"
   ]
  },
  {
   "cell_type": "code",
   "execution_count": 164,
   "id": "4a9170f0",
   "metadata": {},
   "outputs": [],
   "source": [
    "# reload pickle file\n",
    "r_reg_combined = joblib.load('pi_reg_combined.pkl')"
   ]
  },
  {
   "cell_type": "code",
   "execution_count": 165,
   "id": "42693165",
   "metadata": {},
   "outputs": [],
   "source": [
    "# sort and prep permutation importances for graphs\n",
    "sorted_importances_idx_reg_combined = r_reg_combined.importances_mean.argsort()"
   ]
  },
  {
   "cell_type": "code",
   "execution_count": 27,
   "id": "aec3459b",
   "metadata": {},
   "outputs": [],
   "source": [
    "importances_reg_combined = pd.DataFrame(r_reg_combined.importances[sorted_importances_idx_reg_combined].T, \n",
    "                                        columns=X_combined_test.columns[sorted_importances_idx_reg_combined])"
   ]
  },
  {
   "cell_type": "code",
   "execution_count": 166,
   "id": "105881f5",
   "metadata": {},
   "outputs": [],
   "source": [
    "top_importances_reg_combined = pd.DataFrame(r_reg_combined.importances[sorted_importances_idx_reg_combined].T, \n",
    "                                            columns=X_combined_test.columns[sorted_importances_idx_reg_combined]).iloc[:, -10:]"
   ]
  },
  {
   "cell_type": "code",
   "execution_count": 167,
   "id": "6e8ab18a",
   "metadata": {},
   "outputs": [],
   "source": [
    "# Graph permutation importances for features of combined model\n",
    "ax_reg_combined = importances_reg_combined.plot.barh(figsize=(24, 18))\n",
    "ax_reg_combined.set_title('Permutation Importances for Features of the Combined Regression Model')"
   ]
  },
  {
   "cell_type": "code",
   "execution_count": 168,
   "id": "28e8ef68",
   "metadata": {},
   "outputs": [
    {
     "data": {
      "text/plain": [
       "Text(0.5, 1.0, 'Top 10 Permutation Importances for Features of the Combined Regression Model')"
      ]
     },
     "execution_count": 168,
     "metadata": {},
     "output_type": "execute_result"
    },
    {
     "data": {
      "image/png": "[encoded data removed]",
      "text/plain": [
       "<Figure size 1728x1296 with 1 Axes>"
      ]
     },
     "metadata": {
      "needs_background": "light"
     },
     "output_type": "display_data"
    }
   ],
   "source": [
    "# Graph 10 most important features for combined model\n",
    "top_ax_reg_combined = top_importances_reg_combined.plot.barh(figsize=(24, 18))\n",
    "top_ax_reg_combined.set_title('Top 10 Permutation Importances for Features of the Combined Regression Model')"
   ]
  },
  {
   "cell_type": "code",
   "execution_count": 169,
   "id": "370a3d70",
   "metadata": {},
   "outputs": [],
   "source": [
    "r_reg_combined.importances_mean"
   ]
  },
  {
   "cell_type": "code",
   "execution_count": 170,
   "id": "d96f8bc1",
   "metadata": {},
   "outputs": [],
   "source": [
    "r_reg_combined.importances"
   ]
  },
  {
   "cell_type": "markdown",
   "id": "9bb9c28f",
   "metadata": {},
   "source": [
    "## Visual Comparison of MultiOutputRegressor RandomForestRegressor Models"
   ]
  },
  {
   "cell_type": "code",
   "execution_count": 178,
   "id": "8e649071",
   "metadata": {},
   "outputs": [
    {
     "data": {
      "image/png": "[encoded data removed]",
      "text/plain": [
       "<Figure size 1440x1152 with 1 Axes>"
      ]
     },
     "metadata": {
      "needs_background": "light"
     },
     "output_type": "display_data"
    }
   ],
   "source": [
    "# Plot the results\n",
    "from mpl_toolkits.mplot3d import axes3d\n",
    "\n",
    "fig = plt.figure(figsize=(20, 16))\n",
    "ax = fig.add_subplot(111, projection='3d')\n",
    "\n",
    "# Paternal features\n",
    "plt.scatter(\n",
    "    optimal_rf_reg_paternal_y_pred[:, 0],\n",
    "    optimal_rf_reg_paternal_y_pred[:, 1],\n",
    "    optimal_rf_reg_paternal_y_pred[:, 2],\n",
    "    edgecolor=\"k\",\n",
    "    c=\"green\",\n",
    "    marker=\"o\",\n",
    "    alpha=0.2,\n",
    "    label=\"MultiOutputRegressor RF Paternal score=%.2f\" % optimal_rf_reg_paternal.score(X_paternal_test, y_reg_test),\n",
    ")\n",
    "# Maternal features \n",
    "plt.scatter(\n",
    "    optimal_rf_reg_maternal_y_pred[:, 0],\n",
    "    optimal_rf_reg_maternal_y_pred[:, 1],\n",
    "    optimal_rf_reg_maternal_y_pred[:, 2],\n",
    "    edgecolor=\"k\",\n",
    "    c=\"lightsteelblue\",\n",
    "    marker=\"^\",\n",
    "    alpha=0.2,\n",
    "    label=\"MultiOutputRegressor RF Maternal score=%.2f\" % optimal_rf_reg_maternal.score(X_maternal_test, y_reg_test),\n",
    ")\n",
    "# Combined Paternal and Maternal features  \n",
    "plt.scatter(\n",
    "    optimal_rf_reg_combined_y_pred[:, 0],\n",
    "    optimal_rf_reg_combined_y_pred[:, 1],\n",
    "    optimal_rf_reg_combined_y_pred[:, 2],\n",
    "    edgecolor=\"k\",\n",
    "    c=\"mediumpurple\",\n",
    "    marker=\"*\",\n",
    "    alpha=0.2,\n",
    "    label=\"MultiOutputRegressor RF Combined Paternal & Maternal score=%.2f\" % optimal_rf_reg_combined.score(X_combined_test, y_reg_test),\n",
    ")\n",
    "\n",
    "ax.set_xlabel(\"Prenatal Visits\")\n",
    "ax.set_ylabel(\"Birth Weight\")\n",
    "ax.set_zlabel('Gestational Age')\n",
    "ax.set_zlim(15, 43)\n",
    "ax.view_init(95, 180)\n",
    "ax.set_title(\"Comparing MultiOutputRegressor Models with Paternal, Maternal, and Combined Features\")\n",
    "ax.legend(loc=3)\n",
    "plt.show()"
   ]
  },
  {
   "cell_type": "markdown",
   "id": "d4c0bc81",
   "metadata": {},
   "source": [
    "## Discussion of Results\n",
    "\n",
    "Based on the results, it seems that inclusion of paternal demographic characteristics does not add much useful information in predicting prenatal and perinatal outcomes. While the combined classification and regression models showed some relative improvement over the maternal models, the classification model was still only accurate in about three out of four predictions, and the regression model only predicts a small portion of the variance (R<sup>2</sup> = 0.03).  Findings were consistent with previous research (Mutsaerts et al., 2014) that paternal factors do not seem to provide unique information beyond maternal factors.  Future research should examine the most important features, such as marital status and mother's education level, more closely to see how they might be useful in public health education campaigns aimed to improve pregnancy outcomes while also considering other variables that may have better predictive ability."
   ]
  },
  {
   "cell_type": "markdown",
   "id": "1ff1cb83",
   "metadata": {},
   "source": [
    "## References\n",
    "\n",
    "Meinert, R.  (2019, June 5). Optimizing hyperparameters in random forest classification.  Toward Data Science. https://towardsdatascience.com/optimizing-hyperparameters-in-random-forest-classification-ec7741f9d3f6\n",
    "\n",
    "Mutsaerts, M. A. Q., Groen, H., Buiter-Van der Meer, A., Sijtsma, A., Sauer, P. J. J., Land, J. A., Mol, B. W., Corpeleijn, E., & Hoek, A.  (2014).  Effects of paternal and maternal lifestyle factors on pregnancy complications and perinatal outcome.  A population-based birth-cohort study: the GECKO Drenthe cohort.  Human Reproduction, 29(4), 824-834. https://doi.org/10.1093/humrep/deu006 \n"
   ]
  }
 ],
 "metadata": {
  "kernelspec": {
   "display_name": "Python 3",
   "language": "python",
   "name": "python3"
  },
  "language_info": {
   "codemirror_mode": {
    "name": "ipython",
    "version": 3
   },
   "file_extension": ".py",
   "mimetype": "text/x-python",
   "name": "python",
   "nbconvert_exporter": "python",
   "pygments_lexer": "ipython3",
   "version": "3.8.8"
  }
 },
 "nbformat": 4,
 "nbformat_minor": 5
}
