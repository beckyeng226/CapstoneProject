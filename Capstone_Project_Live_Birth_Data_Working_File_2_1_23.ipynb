{
  "cells": [
    {
      "cell_type": "markdown",
      "metadata": {
        "id": "view-in-github",
        "colab_type": "text"
      },
      "source": [
        "<a href=\"https://colab.research.google.com/github/beckyeng226/CapstoneProject/blob/main/Capstone_Project_Live_Birth_Data_Working_File_2_1_23.ipynb\" target=\"_parent\"><img src=\"https://colab.research.google.com/assets/colab-badge.svg\" alt=\"Open In Colab\"/></a>"
      ]
    },
    {
      "cell_type": "markdown",
      "source": [
        "# DTSC 691 Machine Learning Capstone Project:\n",
        "# Predictive Ability of Paternal Characteristics on Prenatal and Perinatal Outcomes\n",
        "## Rebecca Eng\n",
        "## Spring 1 2023"
      ],
      "metadata": {
        "id": "-Xq5l1kfdcmh"
      },
      "id": "-Xq5l1kfdcmh"
    },
    {
      "cell_type": "markdown",
      "source": [
        "## Goals of the project\n",
        "\n",
        "Most of the research on prenatal and perinatal outcomes for mothers and infants focuses on maternal characteristics and demographics, and research on the impact of paternal characteristics and demographics is scarce (Mutsaerts et a., 2014).  However, the potential emotional and physical support fathers provide for the mother during the prenatal period may also play a role in outcomes for both the mother and the child.  Therefore, the intent of this project is to take a closer look at what paternal demographic characteristics can predict with regard to characteristics of the pregnancy and delivery and outcomes of the infant at birth.\n",
        "\n",
        "A study by Mutsaerts et al. (2014) examined paternal and maternal lifestyle characteristics and the effect those had on the mother’s health during pregnancy.  Specifically, the study considered paternal age, height, weight, smoking habits, alcohol consumption, level of physical activity, educational level, number of hours worked per week, and household income as predictors of complications during pregnancy or delivery, such as issues related to hypertension, and gestational diabetes, preterm birth, infants born small for gestational age (Mutsaerts et al., 2014).  Results indicated that paternal factors were correlated with maternal factors and were not associated with the measured pregnancy outcomes after controlling for maternal factors (Mutsaerts et al., 2014).  \n",
        "\n",
        "These results were not surprising given that the mother’s behaviors and lifestyle choices would be expected to have better predictive ability with these physical outcomes of the mother (hypertension, gestational diabetes, etc.) because they are more directly related to the mother’s physical health.  The proposed project attempts to examine social and environmental factors related to pregnancy and birth outcomes because fathers may have a more significant contribution to outcomes in those areas rather than on the physical health outcomes of the mother.  \n",
        "\n",
        "Using the 2021 Natality Public Use File from the CDC (https://www.cdc.gov/nchs/data_access/VitalStatsOnline.htm#Births), the proposed project will examine the predictive ability of paternal characteristics to pregnancy outcomes for the mother and infant.  Specifically, machine learning models will be used to measure how the demographic characteristics of the father (race, age, marital status, and education) predict: \n",
        "\n",
        "Characteristics of the pregnancy and delivery:\n",
        "Number of prenatal care visits\n",
        "WIC\n",
        "Method of delivery (vaginal or cesarean section)\n",
        "Trial of labor was attempted (if delivery was via cesarean)\n",
        "\n",
        "Infant:\n",
        "Period of gestation\n",
        "Birth weight\n",
        "Infant breastfed at discharge\n",
        "\n",
        "In addition, to determine how valuable the contribution of paternal characteristics is to predicting maternal and infant outcomes, I will also compare the paternal results with the predictive ability of the maternal demographics on the same variables, as well as examine the combination of the maternal and paternal characteristics to see if this improves the predictive ability of the model.  It is hypothesized that paternal demographic characteristics will be predictive of the characteristics of the pregnancy and delivery and infant outcomes at birth and that inclusion of these paternal characteristics will improve the predictive ability of the maternal characteristics only model when both sets of characteristics are combined.\n",
        "Models of paternal demographic characteristics, maternal demographic characteristics, and the combined parental characteristics will be deployed on a personal website for examination.  The website will also include a resume and a projects page that will link to other completed projects.\n"
      ],
      "metadata": {
        "id": "5HCeAiA3d9Aw"
      },
      "id": "5HCeAiA3d9Aw"
    },
    {
      "cell_type": "code",
      "execution_count": 1,
      "id": "e440de4f",
      "metadata": {
        "id": "e440de4f"
      },
      "outputs": [],
      "source": [
        "#import standard libraries\n",
        "\n",
        "import numpy as np\n",
        "import pandas as pd\n",
        "import joblib\n",
        "\n",
        "import matplotlib.pyplot as plt\n",
        "import matplotlib as mpl\n",
        "from matplotlib import cm, figure\n",
        "\n",
        "from sklearn.impute import KNNImputer\n",
        "from sklearn.preprocessing import OneHotEncoder\n",
        "from sklearn.model_selection import train_test_split\n",
        "from sklearn.ensemble import RandomForestClassifier\n",
        "from sklearn.multioutput import MultiOutputClassifier\n",
        "from sklearn.ensemble import RandomForestRegressor\n",
        "from sklearn.multioutput import MultiOutputRegressor\n",
        "from sklearn.model_selection import GridSearchCV\n",
        "from sklearn.model_selection import RandomizedSearchCV\n",
        "from sklearn.inspection import permutation_importance\n",
        "from sklearn.metrics import confusion_matrix, ConfusionMatrixDisplay\n",
        "from sklearn.metrics import classification_report\n",
        "from sklearn.metrics import accuracy_score, precision_score, recall_score, f1_score\n",
        "from sklearn.metrics import mean_squared_error\n",
        "\n",
        "%matplotlib inline\n",
        "mpl.rc('axes', labelsize=14)\n",
        "mpl.rc('xtick', labelsize=12)\n",
        "mpl.rc('ytick', labelsize=12)"
      ]
    },
    {
      "cell_type": "markdown",
      "source": [
        "## Data Description"
      ],
      "metadata": {
        "id": "NU4SzblHreF7"
      },
      "id": "NU4SzblHreF7"
    },
    {
      "cell_type": "markdown",
      "source": [
        "The full proposed dataset consists of 3,669,928 records of live births of US residents born in the United States from the 50 states, New York City, and Washington DC during the year 2021.  Data were reported to the Centers for Disease Control and Prevention’s (CDC) National Center for Health Statistics (NCHS) by each state’s and city’s Vital Statistics Cooperative Program and aggregated at a national level.  Data includes all births occurring in the US to both US residents and non-residents, but does not include births to residents living in other countries.\n",
        "\n",
        "The full dataset includes 225 variables, some of which are re-coded versions of other variables.  For example, mother’s race is reported in 31 potential categories, but then this information is re-coded into a 6 category variable and a 15 category variable.  Also, the data include variables indicating if data for variables was imputed or not reported.  The proposed project will use 17 variables: mother’s age, race, Hispanic origin, paternity acknowledged, marital status, and education level, father’s age, race, Hispanic origin, and education level, number of prenatal visits, whether or not WIC (support for Women, Infants and Children) was received during pregnancy, trial of labor attempted (if delivered by cesarean), delivery method, number of weeks of gestation, birth weight, and report of whether or not the infant was breastfed at discharge.\n",
        "\n",
        "Data files and the User’s Guide can be downloaded from https://www.cdc.gov/nchs/data_access/VitalStatsOnline.htm \n"
      ],
      "metadata": {
        "id": "eEdbPXZIrZz0"
      },
      "id": "eEdbPXZIrZz0"
    },
    {
      "cell_type": "code",
      "execution_count": null,
      "id": "3d039c46",
      "metadata": {
        "scrolled": true,
        "id": "3d039c46"
      },
      "outputs": [],
      "source": [
        "#import data\n",
        "\n",
        "colspecs = [(74, 76), (104, 106), (114, 115), (118, 119), (119, 120), (123, 124), (146, 148), (150, 152), (159, 160), \n",
        "            (162, 163), (237, 239), (250, 251), (402, 403), (407, 408), (498, 500), (502, 503), (503, 507), (568, 569)]\n",
        "colnames = ['MAGER', 'MRACE31', 'MHISP_R', 'MAR_P', 'DMAR', 'MEDUC', 'FAGECOMB', 'FRACE31', 'FHISP_R', 'FEDUC', 'PREVIS', \n",
        "           'WIC', 'ME_TRIAL', 'DMETH_REC', 'OEGEST_COMB', 'OEGEST_R3', 'DBWT', 'BFED']\n",
        "\n",
        "data = pd.read_fwf('Nat2021US.txt', colspecs=colspecs, names=colnames)\n",
        "data.head()"
      ]
    },
    {
      "cell_type": "markdown",
      "id": "4688cbfa",
      "metadata": {
        "id": "4688cbfa"
      },
      "source": [
        "## Descriptive and Exploratory Analyses"
      ]
    },
    {
      "cell_type": "code",
      "execution_count": null,
      "id": "d693bb15",
      "metadata": {
        "id": "d693bb15"
      },
      "outputs": [],
      "source": [
        "data.info()"
      ]
    },
    {
      "cell_type": "code",
      "execution_count": null,
      "id": "cecd2f2e",
      "metadata": {
        "id": "cecd2f2e"
      },
      "outputs": [],
      "source": [
        "data.describe()"
      ]
    },
    {
      "cell_type": "code",
      "execution_count": null,
      "id": "847cda1b",
      "metadata": {
        "id": "847cda1b"
      },
      "outputs": [],
      "source": [
        "data.corr()"
      ]
    },
    {
      "cell_type": "code",
      "source": [
        "data.corr.style.background_gradient(cmap='coolwarm')"
      ],
      "metadata": {
        "id": "Yf1wcq4Yeshx"
      },
      "id": "Yf1wcq4Yeshx",
      "execution_count": null,
      "outputs": []
    },
    {
      "cell_type": "code",
      "execution_count": null,
      "id": "10b12291",
      "metadata": {
        "id": "10b12291"
      },
      "outputs": [],
      "source": [
        "data.isna().sum()"
      ]
    },
    {
      "cell_type": "code",
      "execution_count": null,
      "id": "fa32df0e",
      "metadata": {
        "id": "fa32df0e"
      },
      "outputs": [],
      "source": [
        "### marital status of mother: 1=married, 2=unmarried\n",
        "data['DMAR'].value_counts()"
      ]
    },
    {
      "cell_type": "code",
      "execution_count": null,
      "id": "e56a3ab5",
      "metadata": {
        "id": "e56a3ab5"
      },
      "outputs": [],
      "source": [
        "### percentage marital status of mother: 1=married, 2=unmarried\n",
        "data['DMAR'].value_counts(normalize=True)"
      ]
    },
    {
      "cell_type": "code",
      "execution_count": null,
      "id": "cf57db5d",
      "metadata": {
        "id": "cf57db5d"
      },
      "outputs": [],
      "source": [
        "### paternity acknowledged: Y, N, U=Unknown, X=Not applicable (because reported married, paternity assumed)\n",
        "data['MAR_P'].value_counts()"
      ]
    },
    {
      "cell_type": "markdown",
      "id": "7b540ac6",
      "metadata": {
        "id": "7b540ac6"
      },
      "source": [
        "### Maternal Demographic Characteristics"
      ]
    },
    {
      "cell_type": "code",
      "execution_count": null,
      "id": "400f8220",
      "metadata": {
        "id": "400f8220"
      },
      "outputs": [],
      "source": [
        "### mother education level, replaced unknowns with np.nan for imputing\n",
        "data['MEDUC'] = data.MEDUC.replace([9], [np.nan])\n",
        "data['MEDUC'].value_counts(normalize=True)"
      ]
    },
    {
      "cell_type": "code",
      "execution_count": null,
      "id": "66b1b692",
      "metadata": {
        "id": "66b1b692"
      },
      "outputs": [],
      "source": [
        "plt.hist(data.MEDUC.loc[data.MEDUC != 99], bins=8)"
      ]
    },
    {
      "cell_type": "code",
      "execution_count": null,
      "id": "db41811a",
      "metadata": {
        "id": "db41811a"
      },
      "outputs": [],
      "source": [
        "### mother age\n",
        "data['MAGER'].value_counts()"
      ]
    },
    {
      "cell_type": "code",
      "execution_count": null,
      "id": "3fd83d41",
      "metadata": {
        "id": "3fd83d41"
      },
      "outputs": [],
      "source": [
        "# mean maternal age, excluding missing values\n",
        "data['MAGER'].loc[data['MAGER'] != 99].mean()"
      ]
    },
    {
      "cell_type": "code",
      "execution_count": null,
      "id": "10bab74a",
      "metadata": {
        "id": "10bab74a"
      },
      "outputs": [],
      "source": [
        "plt.hist(data.MAGER, bins=10)"
      ]
    },
    {
      "cell_type": "code",
      "execution_count": null,
      "id": "ccec1215",
      "metadata": {
        "id": "ccec1215"
      },
      "outputs": [],
      "source": [
        "plt.boxplot(data.MAGER)"
      ]
    },
    {
      "cell_type": "code",
      "execution_count": null,
      "id": "ecc6cb39",
      "metadata": {
        "id": "ecc6cb39"
      },
      "outputs": [],
      "source": [
        "### mother race\n",
        "data['MRACE31'].value_counts(normalize=True)"
      ]
    },
    {
      "cell_type": "code",
      "execution_count": null,
      "id": "afdbcf54",
      "metadata": {
        "id": "afdbcf54"
      },
      "outputs": [],
      "source": [
        "### mother Hispanic origin, replaced unknowns with np.nan for imputing\n",
        "data['MHISP_R'] = data.MHISP_R.replace([9], [np.nan])\n",
        "data['MHISP_R'].value_counts(normalize=True)"
      ]
    },
    {
      "cell_type": "markdown",
      "id": "0d095484",
      "metadata": {
        "id": "0d095484"
      },
      "source": [
        "\n",
        "### Paternal Demographic Characteristics"
      ]
    },
    {
      "cell_type": "code",
      "execution_count": null,
      "id": "eb393a65",
      "metadata": {
        "id": "eb393a65"
      },
      "outputs": [],
      "source": [
        "### father age, replaced unknowns with np.nan for imputing\n",
        "data['FAGECOMB'] = data.FAGECOMB.replace([99], [np.nan])\n",
        "data['FAGECOMB'].value_counts(normalize=True)"
      ]
    },
    {
      "cell_type": "code",
      "execution_count": null,
      "id": "4d08134b",
      "metadata": {
        "id": "4d08134b"
      },
      "outputs": [],
      "source": [
        "# mean paternal age, excluding missing values\n",
        "data['FAGECOMB'].loc[data['FAGECOMB'] != 99].mean()"
      ]
    },
    {
      "cell_type": "code",
      "execution_count": null,
      "id": "53fb2d97",
      "metadata": {
        "id": "53fb2d97"
      },
      "outputs": [],
      "source": [
        "plt.boxplot(data.FAGECOMB)"
      ]
    },
    {
      "cell_type": "code",
      "execution_count": null,
      "id": "cd930c70",
      "metadata": {
        "id": "cd930c70"
      },
      "outputs": [],
      "source": [
        "plt.hist(data.FAGECOMB, bins=9)"
      ]
    },
    {
      "cell_type": "code",
      "execution_count": null,
      "id": "cb733dd1",
      "metadata": {
        "id": "cb733dd1"
      },
      "outputs": [],
      "source": [
        "### father race, replaced unknowns with np.nan for imputing\n",
        "data['FRACE31'] = data.FRACE31.replace([99], [np.nan])\n",
        "data['FRACE31'].value_counts(normalize=True)"
      ]
    },
    {
      "cell_type": "code",
      "execution_count": null,
      "id": "b50ad237",
      "metadata": {
        "id": "b50ad237"
      },
      "outputs": [],
      "source": [
        "### father Hispanic origin, replaced unknowns with np.nan for imputing\n",
        "data['FHISP_R'] = data.FHISP_R.replace([9], [np.nan])\n",
        "data['FHISP_R'].value_counts()"
      ]
    },
    {
      "cell_type": "code",
      "execution_count": null,
      "id": "c577fb4e",
      "metadata": {
        "id": "c577fb4e"
      },
      "outputs": [],
      "source": [
        "### father education level, replaced unknowns with np.nan for imputing\n",
        "data['FEDUC'] = data.FEDUC.replace([9], [np.nan])\n",
        "data['FEDUC'].value_counts(normalize=True)"
      ]
    },
    {
      "cell_type": "code",
      "execution_count": null,
      "id": "61623389",
      "metadata": {
        "id": "61623389"
      },
      "outputs": [],
      "source": [
        "plt.hist(data.FEDUC.loc[data.FEDUC != 99], bins=8)"
      ]
    },
    {
      "cell_type": "markdown",
      "id": "16ecc5c3",
      "metadata": {
        "id": "16ecc5c3"
      },
      "source": [
        "### Pregnancy and Infant Outcomes"
      ]
    },
    {
      "cell_type": "code",
      "execution_count": null,
      "id": "c4ce1609",
      "metadata": {
        "id": "c4ce1609"
      },
      "outputs": [],
      "source": [
        "### number of prenatal visits, replaced unknowns with np.nan for imputing\n",
        "data['PREVIS'] = data.PREVIS.replace([99], [np.nan])\n",
        "data['PREVIS'].value_counts()"
      ]
    },
    {
      "cell_type": "code",
      "execution_count": null,
      "id": "8e13155e",
      "metadata": {
        "id": "8e13155e"
      },
      "outputs": [],
      "source": [
        "#number of observations with 0 prenatal visits\n",
        "data['PREVIS'].loc[data['PREVIS'] == 0].count()"
      ]
    },
    {
      "cell_type": "code",
      "execution_count": null,
      "id": "3f828b41",
      "metadata": {
        "id": "3f828b41"
      },
      "outputs": [],
      "source": [
        "#mean number of visits among those who had at least 1 prenatal visit\n",
        "data['PREVIS'].loc[(data['PREVIS'] != 0)].mean()"
      ]
    },
    {
      "cell_type": "code",
      "execution_count": null,
      "id": "f578a351",
      "metadata": {
        "id": "f578a351"
      },
      "outputs": [],
      "source": [
        "#mean number of visits including those who had 0 prenatal visits\n",
        "data['PREVIS'].mean()"
      ]
    },
    {
      "cell_type": "code",
      "execution_count": null,
      "id": "1d7f3544",
      "metadata": {
        "id": "1d7f3544"
      },
      "outputs": [],
      "source": [
        "plt.boxplot(data.PREVIS)"
      ]
    },
    {
      "cell_type": "code",
      "execution_count": null,
      "id": "e54d9e84",
      "metadata": {
        "id": "e54d9e84"
      },
      "outputs": [],
      "source": [
        "# received WIC during pregnancy\n",
        "data['WIC'].value_counts(normalize=True)"
      ]
    },
    {
      "cell_type": "code",
      "execution_count": null,
      "id": "defb822a",
      "metadata": {
        "id": "defb822a"
      },
      "outputs": [],
      "source": [
        "# attempted a trial of labor prior to cesarean Y=yes, N=no, U=unknown, X=not applicable (delivered vaginally)\n",
        "data['ME_TRIAL'].value_counts(normalize=True)"
      ]
    },
    {
      "cell_type": "code",
      "execution_count": null,
      "id": "5bf93e0c",
      "metadata": {
        "id": "5bf93e0c"
      },
      "outputs": [],
      "source": [
        "# method of delivery 1=vaginal, 2=cesarean, 9=missing, replaced unknowns with np.nan for imputing\n",
        "data['DMETH_REC'] = data.DMETH_REC.replace([9], [np.nan])\n",
        "data['DMETH_REC'].value_counts(normalize=True)"
      ]
    },
    {
      "cell_type": "code",
      "execution_count": null,
      "id": "3d2a1f8f",
      "metadata": {
        "id": "3d2a1f8f"
      },
      "outputs": [],
      "source": [
        "# weeks of gestation, range= 17-47, 99=missing, replaced unknowns with np.nan for imputing\n",
        "data['OEGEST_COMB'] = data.OEGEST_COMB.replace([99], [np.nan])\n",
        "data['OEGEST_COMB'].value_counts()"
      ]
    },
    {
      "cell_type": "code",
      "execution_count": null,
      "id": "c7b25a33",
      "metadata": {
        "id": "c7b25a33"
      },
      "outputs": [],
      "source": [
        "plt.hist(data.OEGEST_COMB.loc[data.OEGEST_COMB != 99], bins=5)"
      ]
    },
    {
      "cell_type": "code",
      "execution_count": null,
      "id": "64ebb1aa",
      "metadata": {
        "id": "64ebb1aa"
      },
      "outputs": [],
      "source": [
        "plt.boxplot(data.OEGEST_COMB)"
      ]
    },
    {
      "cell_type": "code",
      "execution_count": null,
      "id": "25636880",
      "metadata": {
        "id": "25636880"
      },
      "outputs": [],
      "source": [
        "# infant weight in grams at birth, 9999=missing, replaced unknowns with np.nan for imputing\n",
        "data['DBWT'] = data.DBWT.replace([9999], [np.nan])\n",
        "data['DBWT'].value_counts(normalize=True)"
      ]
    },
    {
      "cell_type": "code",
      "execution_count": null,
      "id": "f3f440e6",
      "metadata": {
        "id": "f3f440e6"
      },
      "outputs": [],
      "source": [
        "plt.boxplot(data.DBWT)"
      ]
    },
    {
      "cell_type": "code",
      "execution_count": null,
      "id": "c619fadf",
      "metadata": {
        "id": "c619fadf"
      },
      "outputs": [],
      "source": [
        "# infant being breastfed at discharge Y=yes, N=no, U=unknown\n",
        "data['BFED'].value_counts(normalize=True)"
      ]
    },
    {
      "cell_type": "markdown",
      "id": "b620eed5",
      "metadata": {
        "id": "b620eed5"
      },
      "source": [
        "## Recoding of Data to Numeric"
      ]
    },
    {
      "cell_type": "code",
      "execution_count": null,
      "id": "2f6b96a1",
      "metadata": {
        "id": "2f6b96a1"
      },
      "outputs": [],
      "source": [
        "# recode letters to numbers for WIC data\n",
        "data['WIC_R'] = data.WIC.replace(['Y', 'N', 'U'], [1, 0, np.nan])"
      ]
    },
    {
      "cell_type": "code",
      "execution_count": null,
      "id": "6c167f9e",
      "metadata": {
        "id": "6c167f9e"
      },
      "outputs": [],
      "source": [
        "# recode letters to numbers for labor trial data, labor trial includes vaginal delivery and those who attempted before cesarean=1\n",
        "data['TRIAL_R'] = data.ME_TRIAL.replace(['Y', 'N', 'U', 'X'], [1, 0, np.nan, 1])\n",
        "data['TRIAL_R'].value_counts(normalize=True)"
      ]
    },
    {
      "cell_type": "code",
      "execution_count": null,
      "id": "8b2cd29f",
      "metadata": {
        "id": "8b2cd29f"
      },
      "outputs": [],
      "source": [
        "# recode letters to numbers for breastfeeding data\n",
        "data['BFED_R'] = data.BFED.replace(['Y', 'N', 'U'], [1, 0, np.nan])\n",
        "data['BFED_R'].value_counts(normalize=True)"
      ]
    },
    {
      "cell_type": "code",
      "execution_count": null,
      "id": "56a634fd",
      "metadata": {
        "id": "56a634fd"
      },
      "outputs": [],
      "source": [
        "# recode paternity acknowledged to numeric, paternity known either by marriage or legal documentation = 1\n",
        "data['PATERNITY_R'] = data.MAR_P.replace(['Y', 'N', 'U', 'X'], [1, 0, np.nan, 1])\n",
        "data.head()"
      ]
    },
    {
      "cell_type": "code",
      "execution_count": null,
      "id": "1a2c13a2",
      "metadata": {
        "id": "1a2c13a2"
      },
      "outputs": [],
      "source": [
        "data.PATERNITY_R.value_counts()"
      ]
    },
    {
      "cell_type": "code",
      "execution_count": null,
      "id": "77dec774",
      "metadata": {
        "id": "77dec774"
      },
      "outputs": [],
      "source": [
        "data.isnull().sum()"
      ]
    },
    {
      "cell_type": "code",
      "execution_count": null,
      "id": "99c1ad84",
      "metadata": {
        "id": "99c1ad84"
      },
      "outputs": [],
      "source": [
        "data.info()"
      ]
    },
    {
      "cell_type": "markdown",
      "id": "0d447675",
      "metadata": {
        "id": "0d447675"
      },
      "source": [
        "## Taking a Stratified Random Sample for Analyses"
      ]
    },
    {
      "cell_type": "markdown",
      "source": [
        "Because the size of the initial dataset was making the running of analyses for imputing the data too slow, the decision was made to take a stratified random sample of 1,000,000 observations for the remaining analyses.  The sample was stratified based on percentages of the target labels WIC benefits, labor attempted, vaginal delivery, and breastfed at discharge.  Percentages closely matched those for the full dataset, so the sample is felt to be a representative sample of the population."
      ],
      "metadata": {
        "id": "TcO5hABahTdW"
      },
      "id": "TcO5hABahTdW"
    },
    {
      "cell_type": "code",
      "execution_count": null,
      "id": "09d034b6",
      "metadata": {
        "id": "09d034b6"
      },
      "outputs": [],
      "source": [
        "# take a sample of 1,000,000 from the full dataset\n",
        "sample_data = data.sample(n=1000000)\n",
        "sample_data.info()"
      ]
    },
    {
      "cell_type": "code",
      "execution_count": null,
      "id": "1932c9e5",
      "metadata": {
        "id": "1932c9e5"
      },
      "outputs": [],
      "source": [
        "# check that the percentages for the target labels are consistent with the full dataset \n",
        "sample_data['WIC'].value_counts(normalize=True)"
      ]
    },
    {
      "cell_type": "code",
      "execution_count": null,
      "id": "2b539056",
      "metadata": {
        "id": "2b539056"
      },
      "outputs": [],
      "source": [
        "sample_data['ME_TRIAL'].value_counts(normalize=True)"
      ]
    },
    {
      "cell_type": "code",
      "execution_count": null,
      "id": "3d5e09a8",
      "metadata": {
        "id": "3d5e09a8"
      },
      "outputs": [],
      "source": [
        "sample_data['DMETH_REC'].value_counts(normalize=True)"
      ]
    },
    {
      "cell_type": "code",
      "execution_count": null,
      "id": "933273bd",
      "metadata": {
        "id": "933273bd"
      },
      "outputs": [],
      "source": [
        "sample_data['BFED'].value_counts(normalize=True)"
      ]
    },
    {
      "cell_type": "code",
      "execution_count": null,
      "id": "93b39dd8",
      "metadata": {
        "id": "93b39dd8"
      },
      "outputs": [],
      "source": [
        "### mother education level\n",
        "sample_data['MEDUC'] = sample_data.MEDUC.replace([9], [np.nan])\n",
        "sample_data['MEDUC'].value_counts(normalize=True)"
      ]
    },
    {
      "cell_type": "code",
      "execution_count": null,
      "id": "b395b0b0",
      "metadata": {
        "id": "b395b0b0"
      },
      "outputs": [],
      "source": [
        "### mother Hispanic origin\n",
        "sample_data['MHISP_R'] = sample_data.MHISP_R.replace([9], [np.nan])\n",
        "sample_data['MHISP_R'].value_counts(normalize=True)"
      ]
    },
    {
      "cell_type": "code",
      "execution_count": null,
      "id": "ff4c022d",
      "metadata": {
        "id": "ff4c022d"
      },
      "outputs": [],
      "source": [
        "### father age\n",
        "sample_data['FAGECOMB'] = sample_data.FAGECOMB.replace([99], [np.nan])\n",
        "sample_data['FAGECOMB'].value_counts(normalize=True)"
      ]
    },
    {
      "cell_type": "code",
      "execution_count": null,
      "id": "df61cd1a",
      "metadata": {
        "id": "df61cd1a"
      },
      "outputs": [],
      "source": [
        "### father race\n",
        "sample_data['FRACE31'] = sample_data.FRACE31.replace([99], [np.nan])\n",
        "sample_data['FRACE31'].value_counts(normalize=True)"
      ]
    },
    {
      "cell_type": "code",
      "execution_count": null,
      "id": "1ef6a7cd",
      "metadata": {
        "id": "1ef6a7cd"
      },
      "outputs": [],
      "source": [
        "### father Hispanic origin\n",
        "sample_data['FHISP_R'] = sample_data.FHISP_R.replace([9], [np.nan])\n",
        "sample_data['FHISP_R'].value_counts()"
      ]
    },
    {
      "cell_type": "code",
      "execution_count": null,
      "id": "f1c6decf",
      "metadata": {
        "id": "f1c6decf"
      },
      "outputs": [],
      "source": [
        "### father education level\n",
        "sample_data['FEDUC'] = sample_data.FEDUC.replace([9], [np.nan])\n",
        "sample_data['FEDUC'].value_counts(normalize=True)"
      ]
    },
    {
      "cell_type": "code",
      "execution_count": null,
      "id": "d1e0f21b",
      "metadata": {
        "id": "d1e0f21b"
      },
      "outputs": [],
      "source": [
        "### number of prenatal visits\n",
        "sample_data['PREVIS'] = sample_data.PREVIS.replace([99], [np.nan])\n",
        "sample_data['PREVIS'].value_counts()"
      ]
    },
    {
      "cell_type": "code",
      "execution_count": null,
      "id": "14f0fa37",
      "metadata": {
        "id": "14f0fa37"
      },
      "outputs": [],
      "source": [
        "# method of delivery 1=vaginal, 2=cesarean, 9=missing\n",
        "sample_data['DMETH_REC'] = sample_data.DMETH_REC.replace([9], [np.nan])\n",
        "sample_data['DMETH_REC'].value_counts(normalize=True)"
      ]
    },
    {
      "cell_type": "code",
      "execution_count": null,
      "id": "74734436",
      "metadata": {
        "id": "74734436"
      },
      "outputs": [],
      "source": [
        "# weeks of gestation, range= 17-47, 99=missing\n",
        "sample_data['OEGEST_COMB'] = sample_data.OEGEST_COMB.replace([99], [np.nan])\n",
        "sample_data['OEGEST_COMB'].value_counts()"
      ]
    },
    {
      "cell_type": "code",
      "execution_count": null,
      "id": "a21871ab",
      "metadata": {
        "id": "a21871ab"
      },
      "outputs": [],
      "source": [
        "# infant weight in grams at birth, 9999=missing\n",
        "sample_data['DBWT'] = sample_data.DBWT.replace([9999], [np.nan])\n",
        "sample_data['DBWT'].value_counts(normalize=True)"
      ]
    },
    {
      "cell_type": "code",
      "execution_count": null,
      "id": "f2bb8420",
      "metadata": {
        "id": "f2bb8420"
      },
      "outputs": [],
      "source": [
        "# infant being breastfed at discharge Y=yes, N=no, U=unknown\n",
        "sample_data['BFED'].value_counts(normalize=True)"
      ]
    },
    {
      "cell_type": "code",
      "execution_count": null,
      "id": "9e773624",
      "metadata": {
        "id": "9e773624"
      },
      "outputs": [],
      "source": [
        "# recode letters to numbers for WIC data\n",
        "sample_data['WIC_R'] = sample_data.WIC.replace(['Y', 'N', 'U'], [1, 0, np.nan])"
      ]
    },
    {
      "cell_type": "code",
      "execution_count": null,
      "id": "575a67ce",
      "metadata": {
        "id": "575a67ce"
      },
      "outputs": [],
      "source": [
        "# recode letters to numbers for labor trial data \n",
        "sample_data['TRIAL_R'] = sample_data.ME_TRIAL.replace(['Y', 'N', 'U', 'X'], [1, 0, np.nan, 1])"
      ]
    },
    {
      "cell_type": "code",
      "execution_count": null,
      "id": "c8a15ece",
      "metadata": {
        "id": "c8a15ece"
      },
      "outputs": [],
      "source": [
        "# recode letters to numbers for breastfeeding data\n",
        "sample_data['BFED_R'] = sample_data.BFED.replace(['Y', 'N', 'U'], [1, 0, np.nan])"
      ]
    },
    {
      "cell_type": "code",
      "execution_count": null,
      "id": "07b70768",
      "metadata": {
        "id": "07b70768"
      },
      "outputs": [],
      "source": [
        "# recode paternity acknowledged to numeric\n",
        "sample_data['PATERNITY_R'] = sample_data.MAR_P.replace(['Y', 'N', 'U', 'X'], [1, 0, np.nan, 1])"
      ]
    },
    {
      "cell_type": "markdown",
      "id": "8be6c862",
      "metadata": {
        "id": "8be6c862"
      },
      "source": [
        "## Imputing Missing Values using KNNImputer()"
      ]
    },
    {
      "cell_type": "code",
      "execution_count": null,
      "id": "660e4a51",
      "metadata": {
        "id": "660e4a51"
      },
      "outputs": [],
      "source": [
        "# data with missing values that will be imputed using KNNImputer()\n",
        "impute_data=sample_data[['DMAR', 'PATERNITY_R', 'MEDUC', 'MAGER', 'MRACE31', 'MHISP_R', 'FAGECOMB', 'FRACE31', 'FHISP_R', \n",
        "                         'FEDUC', 'PREVIS', 'WIC_R', 'TRIAL_R', 'BFED_R', 'DMETH_REC', 'DBWT', 'OEGEST_COMB']]"
      ]
    },
    {
      "cell_type": "code",
      "execution_count": null,
      "id": "39983000",
      "metadata": {
        "id": "39983000"
      },
      "outputs": [],
      "source": [
        "impute_data.info()"
      ]
    },
    {
      "cell_type": "code",
      "execution_count": null,
      "id": "e51c2221",
      "metadata": {
        "id": "e51c2221"
      },
      "outputs": [],
      "source": [
        "# impute missing values\n",
        "imputer = KNNImputer(n_neighbors=1)\n",
        "imputed_data = imputer.fit_transform(impute_data)"
      ]
    },
    {
      "cell_type": "code",
      "execution_count": null,
      "id": "cd55af0d",
      "metadata": {
        "id": "cd55af0d"
      },
      "outputs": [],
      "source": [
        "# Make df of imputed data\n",
        "column_values = ['DMAR', 'PATERNITY_R', 'MEDUC', 'MAGER', 'MRACE31', 'MHISP_R', 'FAGECOMB', 'FRACE31', 'FHISP_R', 'FEDUC',\n",
        "       'PREVIS', 'DMETH_REC', 'DBWT', 'OEGEST_COMB']\n",
        "imputed_data = pd.DataFrame(data=imputed_data, columns=column_values)\n",
        "imputed_data.head()"
      ]
    },
    {
      "cell_type": "markdown",
      "id": "7470922c",
      "metadata": {
        "id": "7470922c"
      },
      "source": [
        "## Export of Imputed Data \n",
        "### Once all data is imputed, will use this data file so do not have to re-run KNNImputer because it is so time-intensive."
      ]
    },
    {
      "cell_type": "code",
      "execution_count": null,
      "id": "4d92349b",
      "metadata": {
        "id": "4d92349b"
      },
      "outputs": [],
      "source": [
        "# saves imputed_data as a csv file\n",
        "imputed_data.to_csv('imputed_data.csv')"
      ]
    },
    {
      "cell_type": "markdown",
      "id": "c3002daa",
      "metadata": {
        "id": "c3002daa"
      },
      "source": [
        "## Import Imputed Data"
      ]
    },
    {
      "cell_type": "code",
      "execution_count": null,
      "id": "50903736",
      "metadata": {
        "id": "50903736"
      },
      "outputs": [],
      "source": [
        "# Because running the imputer takes multiple hours, the dataset was exported so can be imported as needed without having to run imputer\n",
        "imputed_data = pd.read_csv('full_sample.csv')"
      ]
    },
    {
      "cell_type": "code",
      "execution_count": null,
      "id": "09317b73",
      "metadata": {
        "id": "09317b73"
      },
      "outputs": [],
      "source": [
        "imputed_data.head()"
      ]
    },
    {
      "cell_type": "code",
      "execution_count": null,
      "id": "82e29272",
      "metadata": {
        "id": "82e29272"
      },
      "outputs": [],
      "source": [
        "# to remove extra unnecessary column\n",
        "imputed_data = imputed_data.drop(labels='Unnamed: 0', axis=1)"
      ]
    },
    {
      "cell_type": "code",
      "execution_count": null,
      "id": "8bf8595a",
      "metadata": {
        "id": "8bf8595a"
      },
      "outputs": [],
      "source": [
        "# variables that were coded 1 or 2 are changed to 1 or 0\n",
        "imputed_data['DMAR'] = imputed_data.DMAR.replace([2.0], [0])\n",
        "imputed_data['DMETH_REC'] = imputed_data.DMETH_REC.replace([2.0], [0])"
      ]
    },
    {
      "cell_type": "code",
      "execution_count": null,
      "id": "fc4c9119",
      "metadata": {
        "id": "fc4c9119"
      },
      "outputs": [],
      "source": [
        "imputed_data.info()"
      ]
    },
    {
      "cell_type": "markdown",
      "id": "ce138805",
      "metadata": {
        "id": "ce138805"
      },
      "source": [
        "## One Hot Encoding of Categorical Features"
      ]
    },
    {
      "cell_type": "code",
      "execution_count": null,
      "id": "1db85ba2",
      "metadata": {
        "id": "1db85ba2"
      },
      "outputs": [],
      "source": [
        "#OneHotEncoder is used to change categorical features into binary \n",
        "categorical_cols = ['MEDUC', 'MRACE31', 'MHISP_R', 'FRACE31', 'FHISP_R', 'FEDUC']\n",
        "\n",
        "encoder = OneHotEncoder(drop='first', sparse=False)\n",
        "OHE_encoded_data = pd.DataFrame(encoder.fit_transform(imputed_data[categorical_cols]))\n",
        "OHE_encoded_data.columns = encoder.get_feature_names_out(input_features=categorical_cols)"
      ]
    },
    {
      "cell_type": "code",
      "execution_count": null,
      "id": "b34f426f",
      "metadata": {
        "id": "b34f426f"
      },
      "outputs": [],
      "source": [
        "OHE_encoded_data.info()"
      ]
    },
    {
      "cell_type": "code",
      "execution_count": null,
      "id": "42e54e79",
      "metadata": {
        "id": "42e54e79"
      },
      "outputs": [],
      "source": [
        "OHE_encoded_data.columns"
      ]
    },
    {
      "cell_type": "code",
      "execution_count": null,
      "id": "6d233187",
      "metadata": {
        "id": "6d233187"
      },
      "outputs": [],
      "source": [
        "OHE_encoded_data.isna().sum()"
      ]
    },
    {
      "cell_type": "code",
      "execution_count": null,
      "id": "9b0689ea",
      "metadata": {
        "id": "9b0689ea"
      },
      "outputs": [],
      "source": [
        "# OHE_encoded_data is concatenated to the imputed_data to make a full df\n",
        "imputed_encoded_data = pd.concat([imputed_data, OHE_encoded_data], axis=1)"
      ]
    },
    {
      "cell_type": "markdown",
      "id": "0e53ed3c",
      "metadata": {
        "id": "0e53ed3c"
      },
      "source": [
        "## Treatment of Outliers"
      ]
    },
    {
      "cell_type": "markdown",
      "source": [
        "After imputing missing values, variables with continuous values were examined for potential outliers.  Paternal age and number of Prenatal Visits had values greater than 3 standard deviations from the mean removed, while Infant Birth Weight had values greater than and less than 3 standard deviations from the mean removed."
      ],
      "metadata": {
        "id": "f6-YzcetlFOF"
      },
      "id": "f6-YzcetlFOF"
    },
    {
      "cell_type": "markdown",
      "id": "def2c79e",
      "metadata": {
        "id": "def2c79e"
      },
      "source": [
        "### Paternal Age"
      ]
    },
    {
      "cell_type": "code",
      "execution_count": null,
      "id": "2f36a476",
      "metadata": {
        "id": "2f36a476"
      },
      "outputs": [],
      "source": [
        "# visual examination of distribution of data\n",
        "plt.boxplot(imputed_data.FAGECOMB)"
      ]
    },
    {
      "cell_type": "code",
      "execution_count": null,
      "id": "cfdfea59",
      "metadata": {
        "id": "cfdfea59"
      },
      "outputs": [],
      "source": [
        "# determine value 3 std dev above the mean\n",
        "q_FAGECOMB = imputed_data.FAGECOMB.quantile(0.997)\n",
        "q_FAGECOMB"
      ]
    },
    {
      "cell_type": "markdown",
      "id": "52ba82c2",
      "metadata": {
        "id": "52ba82c2"
      },
      "source": [
        "### Prenatal Visits"
      ]
    },
    {
      "cell_type": "code",
      "execution_count": null,
      "id": "df7268cc",
      "metadata": {
        "id": "df7268cc"
      },
      "outputs": [],
      "source": [
        "# visual examination of distribution of data\n",
        "plt.boxplot(imputed_data.PREVIS)"
      ]
    },
    {
      "cell_type": "code",
      "execution_count": null,
      "id": "1410bd34",
      "metadata": {
        "id": "1410bd34"
      },
      "outputs": [],
      "source": [
        "# determine value 3 std dev above the mean\n",
        "q_PREVIS = imputed_data.PREVIS.quantile(0.997)\n",
        "q_PREVIS"
      ]
    },
    {
      "cell_type": "markdown",
      "id": "d488c94f",
      "metadata": {
        "id": "d488c94f"
      },
      "source": [
        "### Infant Birth Weight"
      ]
    },
    {
      "cell_type": "code",
      "execution_count": null,
      "id": "efaf91a1",
      "metadata": {
        "id": "efaf91a1"
      },
      "outputs": [],
      "source": [
        "# visual examination of distribution of data\n",
        "plt.boxplot(imputed_data.DBWT)"
      ]
    },
    {
      "cell_type": "code",
      "execution_count": null,
      "id": "c5aa1e21",
      "metadata": {
        "id": "c5aa1e21"
      },
      "outputs": [],
      "source": [
        "# determine value 3 std dev above the mean\n",
        "q_DBWT_high = imputed_data.DBWT.quantile(0.997)\n",
        "q_DBWT_high"
      ]
    },
    {
      "cell_type": "code",
      "execution_count": null,
      "id": "6ba30391",
      "metadata": {
        "id": "6ba30391"
      },
      "outputs": [],
      "source": [
        "# determine value 3 std dev below the mean\n",
        "q_DBWT_low = imputed_data.DBWT.quantile(0.003)\n",
        "q_DBWT_low"
      ]
    },
    {
      "cell_type": "code",
      "execution_count": null,
      "id": "4c9c323c",
      "metadata": {
        "id": "4c9c323c"
      },
      "outputs": [],
      "source": [
        "# examination of number of potential outliers from above and below 3 std dev\n",
        "imputed_data['DBWT'].loc[(imputed_data.DBWT < 4840) & (imputed_data.DBWT > 619)].count()"
      ]
    },
    {
      "cell_type": "markdown",
      "id": "3e926bf8",
      "metadata": {
        "id": "3e926bf8"
      },
      "source": [
        "## Final Cleaned and Encoded Data Set"
      ]
    },
    {
      "cell_type": "code",
      "execution_count": null,
      "id": "c7adb28e",
      "metadata": {
        "id": "c7adb28e"
      },
      "outputs": [],
      "source": [
        "# removal of observations with outliers\n",
        "final_data = imputed_encoded_data[(imputed_encoded_data['FAGECOMB'] < q_FAGECOMB) & \n",
        "                                                     (imputed_encoded_data['PREVIS'] < q_PREVIS) & \n",
        "                                                     (imputed_encoded_data['DBWT'] > q_DBWT_low) & \n",
        "                                                     (imputed_encoded_data['DBWT'] < q_DBWT_high)]"
      ]
    },
    {
      "cell_type": "code",
      "execution_count": null,
      "id": "f6e95970",
      "metadata": {
        "id": "f6e95970"
      },
      "outputs": [],
      "source": [
        "final_data.info()"
      ]
    },
    {
      "cell_type": "code",
      "execution_count": null,
      "id": "ee7f63a4",
      "metadata": {
        "id": "ee7f63a4"
      },
      "outputs": [],
      "source": [
        "# final_data saved to csv to so can be used without running previous analyses\n",
        "final_data.to_csv('final_data.csv')"
      ]
    },
    {
      "cell_type": "code",
      "execution_count": 3,
      "id": "549ef69b",
      "metadata": {
        "id": "549ef69b"
      },
      "outputs": [],
      "source": [
        "# to import final_data as needed\n",
        "final_data = pd.read_csv('final_data.csv')"
      ]
    },
    {
      "cell_type": "code",
      "execution_count": 4,
      "id": "8b4fb853",
      "metadata": {
        "colab": {
          "base_uri": "https://localhost:8080/"
        },
        "id": "8b4fb853",
        "outputId": "40044515-13de-45fc-f76d-5cd06f679585"
      },
      "outputs": [
        {
          "output_type": "stream",
          "name": "stdout",
          "text": [
            "<class 'pandas.core.frame.DataFrame'>\n",
            "RangeIndex: 987629 entries, 0 to 987628\n",
            "Columns: 102 entries, Unnamed: 0 to FEDUC_8.0\n",
            "dtypes: float64(101), int64(1)\n",
            "memory usage: 768.6 MB\n"
          ]
        }
      ],
      "source": [
        "final_data.info()"
      ]
    },
    {
      "cell_type": "markdown",
      "id": "657378f9",
      "metadata": {
        "id": "657378f9"
      },
      "source": [
        "## Split Data into Train and Test Sets"
      ]
    },
    {
      "cell_type": "code",
      "execution_count": 5,
      "id": "00379d12",
      "metadata": {
        "id": "00379d12"
      },
      "outputs": [],
      "source": [
        "# split data into train_set (80%) and test_set (20%)\n",
        "train_set, test_set = train_test_split(final_data, test_size=0.2, random_state=0)"
      ]
    },
    {
      "cell_type": "code",
      "execution_count": 6,
      "id": "2955bfc2",
      "metadata": {
        "id": "2955bfc2"
      },
      "outputs": [],
      "source": [
        "#features training sets for the paternal, maternal, and combined models\n",
        "X_paternal_train = train_set[['DMAR', 'FAGECOMB', 'FRACE31_2.0', 'FRACE31_3.0', 'FRACE31_4.0', 'FRACE31_5.0', \n",
        "                              'FRACE31_6.0', 'FRACE31_7.0', 'FRACE31_8.0', 'FRACE31_9.0', 'FRACE31_10.0', \n",
        "                              'FRACE31_11.0', 'FRACE31_12.0', 'FRACE31_13.0', 'FRACE31_14.0', 'FRACE31_15.0', \n",
        "                              'FRACE31_16.0', 'FRACE31_17.0', 'FRACE31_18.0', 'FRACE31_19.0', 'FRACE31_20.0', \n",
        "                              'FRACE31_21.0', 'FRACE31_22.0', 'FRACE31_23.0', 'FRACE31_24.0', 'FRACE31_25.0',\n",
        "                              'FRACE31_26.0', 'FRACE31_27.0', 'FRACE31_28.0', 'FRACE31_29.0', 'FRACE31_30.0', \n",
        "                              'FRACE31_31.0', 'FHISP_R_1.0', 'FHISP_R_2.0', 'FHISP_R_3.0', 'FHISP_R_4.0', \n",
        "                              'FHISP_R_5.0', 'FEDUC_2.0', 'FEDUC_3.0', 'FEDUC_4.0', 'FEDUC_5.0', 'FEDUC_6.0', \n",
        "                              'FEDUC_7.0', 'FEDUC_8.0']]\n",
        "\n",
        "X_maternal_train = train_set[['DMAR', 'MAGER', 'MEDUC_2.0', 'MEDUC_3.0', 'MEDUC_4.0', 'MEDUC_5.0', 'MEDUC_6.0',\n",
        "                              'MEDUC_7.0', 'MEDUC_8.0', 'MRACE31_2.0', 'MRACE31_3.0', 'MRACE31_4.0', 'MRACE31_5.0', \n",
        "                              'MRACE31_6.0', 'MRACE31_7.0', 'MRACE31_8.0', 'MRACE31_9.0', 'MRACE31_10.0', \n",
        "                              'MRACE31_11.0', 'MRACE31_12.0', 'MRACE31_13.0', 'MRACE31_14.0', 'MRACE31_15.0', \n",
        "                              'MRACE31_16.0', 'MRACE31_17.0', 'MRACE31_18.0', 'MRACE31_19.0', 'MRACE31_20.0',\n",
        "                              'MRACE31_21.0', 'MRACE31_22.0', 'MRACE31_23.0', 'MRACE31_24.0', 'MRACE31_25.0', \n",
        "                              'MRACE31_26.0', 'MRACE31_27.0', 'MRACE31_28.0', 'MRACE31_29.0', 'MRACE31_30.0', \n",
        "                              'MRACE31_31.0', 'MHISP_R_1.0', 'MHISP_R_2.0', 'MHISP_R_3.0', 'MHISP_R_4.0', 'MHISP_R_5.0',]]\n",
        "\n",
        "X_combined_train = train_set[['DMAR', 'FAGECOMB', 'MAGER', 'MEDUC_2.0', 'MEDUC_3.0', 'MEDUC_4.0', 'MEDUC_5.0', 'MEDUC_6.0',\n",
        "                              'MEDUC_7.0', 'MEDUC_8.0', 'MRACE31_2.0', 'MRACE31_3.0', 'MRACE31_4.0', 'MRACE31_5.0', \n",
        "                              'MRACE31_6.0', 'MRACE31_7.0', 'MRACE31_8.0', 'MRACE31_9.0', 'MRACE31_10.0', 'MRACE31_11.0', \n",
        "                              'MRACE31_12.0', 'MRACE31_13.0', 'MRACE31_14.0', 'MRACE31_15.0', 'MRACE31_16.0', \n",
        "                              'MRACE31_17.0', 'MRACE31_18.0', 'MRACE31_19.0', 'MRACE31_20.0', 'MRACE31_21.0', \n",
        "                              'MRACE31_22.0', 'MRACE31_23.0', 'MRACE31_24.0', 'MRACE31_25.0', 'MRACE31_26.0', \n",
        "                              'MRACE31_27.0', 'MRACE31_28.0', 'MRACE31_29.0', 'MRACE31_30.0', 'MRACE31_31.0', \n",
        "                              'MHISP_R_1.0', 'MHISP_R_2.0', 'MHISP_R_3.0', 'MHISP_R_4.0', 'MHISP_R_5.0', 'FRACE31_2.0', \n",
        "                              'FRACE31_3.0', 'FRACE31_4.0', 'FRACE31_5.0', 'FRACE31_6.0', 'FRACE31_7.0', 'FRACE31_8.0', \n",
        "                              'FRACE31_9.0', 'FRACE31_10.0', 'FRACE31_11.0', 'FRACE31_12.0', 'FRACE31_13.0', 'FRACE31_14.0',\n",
        "                              'FRACE31_15.0', 'FRACE31_16.0', 'FRACE31_17.0', 'FRACE31_18.0', 'FRACE31_19.0', \n",
        "                              'FRACE31_20.0', 'FRACE31_21.0', 'FRACE31_22.0', 'FRACE31_23.0', 'FRACE31_24.0', \n",
        "                              'FRACE31_25.0', 'FRACE31_26.0', 'FRACE31_27.0', 'FRACE31_28.0', 'FRACE31_29.0', \n",
        "                              'FRACE31_30.0', 'FRACE31_31.0', 'FHISP_R_1.0', 'FHISP_R_2.0', 'FHISP_R_3.0', 'FHISP_R_4.0', \n",
        "                              'FHISP_R_5.0', 'FEDUC_2.0', 'FEDUC_3.0', 'FEDUC_4.0', 'FEDUC_5.0', 'FEDUC_6.0', \n",
        "                              'FEDUC_7.0', 'FEDUC_8.0']]\n",
        "\n",
        "# responses training sets \n",
        "y_clf_train = train_set[['WIC_R', 'TRIAL_R', 'DMETH_REC', 'BFED_R']]\n",
        "y_reg_train = train_set[['PREVIS', 'DBWT', 'OEGEST_COMB']]"
      ]
    },
    {
      "cell_type": "code",
      "execution_count": 7,
      "id": "85443597",
      "metadata": {
        "id": "85443597"
      },
      "outputs": [],
      "source": [
        "# features test sets for the paternal, maternal, and combined models\n",
        "X_paternal_test = test_set[['DMAR', 'FAGECOMB', 'FRACE31_2.0', 'FRACE31_3.0', 'FRACE31_4.0', 'FRACE31_5.0', \n",
        "                              'FRACE31_6.0', 'FRACE31_7.0', 'FRACE31_8.0', 'FRACE31_9.0', 'FRACE31_10.0', \n",
        "                              'FRACE31_11.0', 'FRACE31_12.0', 'FRACE31_13.0', 'FRACE31_14.0', 'FRACE31_15.0', \n",
        "                              'FRACE31_16.0', 'FRACE31_17.0', 'FRACE31_18.0', 'FRACE31_19.0', 'FRACE31_20.0', \n",
        "                              'FRACE31_21.0', 'FRACE31_22.0', 'FRACE31_23.0', 'FRACE31_24.0', 'FRACE31_25.0',\n",
        "                              'FRACE31_26.0', 'FRACE31_27.0', 'FRACE31_28.0', 'FRACE31_29.0', 'FRACE31_30.0', \n",
        "                              'FRACE31_31.0', 'FHISP_R_1.0', 'FHISP_R_2.0', 'FHISP_R_3.0', 'FHISP_R_4.0', \n",
        "                              'FHISP_R_5.0', 'FEDUC_2.0', 'FEDUC_3.0', 'FEDUC_4.0', 'FEDUC_5.0', 'FEDUC_6.0', \n",
        "                              'FEDUC_7.0', 'FEDUC_8.0']]\n",
        "\n",
        "X_maternal_test = test_set[['DMAR', 'MAGER', 'MEDUC_2.0', 'MEDUC_3.0', 'MEDUC_4.0', 'MEDUC_5.0', 'MEDUC_6.0',\n",
        "                              'MEDUC_7.0', 'MEDUC_8.0', 'MRACE31_2.0', 'MRACE31_3.0', 'MRACE31_4.0', 'MRACE31_5.0', \n",
        "                              'MRACE31_6.0', 'MRACE31_7.0', 'MRACE31_8.0', 'MRACE31_9.0', 'MRACE31_10.0', \n",
        "                              'MRACE31_11.0', 'MRACE31_12.0', 'MRACE31_13.0', 'MRACE31_14.0', 'MRACE31_15.0', \n",
        "                              'MRACE31_16.0', 'MRACE31_17.0', 'MRACE31_18.0', 'MRACE31_19.0', 'MRACE31_20.0',\n",
        "                              'MRACE31_21.0', 'MRACE31_22.0', 'MRACE31_23.0', 'MRACE31_24.0', 'MRACE31_25.0', \n",
        "                              'MRACE31_26.0', 'MRACE31_27.0', 'MRACE31_28.0', 'MRACE31_29.0', 'MRACE31_30.0', \n",
        "                              'MRACE31_31.0', 'MHISP_R_1.0', 'MHISP_R_2.0', 'MHISP_R_3.0', 'MHISP_R_4.0', 'MHISP_R_5.0',]]\n",
        "\n",
        "X_combined_test = test_set[['DMAR', 'FAGECOMB', 'MAGER', 'MEDUC_2.0', 'MEDUC_3.0', 'MEDUC_4.0', 'MEDUC_5.0', 'MEDUC_6.0',\n",
        "                              'MEDUC_7.0', 'MEDUC_8.0', 'MRACE31_2.0', 'MRACE31_3.0', 'MRACE31_4.0', 'MRACE31_5.0', \n",
        "                              'MRACE31_6.0', 'MRACE31_7.0', 'MRACE31_8.0', 'MRACE31_9.0', 'MRACE31_10.0', 'MRACE31_11.0', \n",
        "                              'MRACE31_12.0', 'MRACE31_13.0', 'MRACE31_14.0', 'MRACE31_15.0', 'MRACE31_16.0', \n",
        "                              'MRACE31_17.0', 'MRACE31_18.0', 'MRACE31_19.0', 'MRACE31_20.0', 'MRACE31_21.0', \n",
        "                              'MRACE31_22.0', 'MRACE31_23.0', 'MRACE31_24.0', 'MRACE31_25.0', 'MRACE31_26.0', \n",
        "                              'MRACE31_27.0', 'MRACE31_28.0', 'MRACE31_29.0', 'MRACE31_30.0', 'MRACE31_31.0', \n",
        "                              'MHISP_R_1.0', 'MHISP_R_2.0', 'MHISP_R_3.0', 'MHISP_R_4.0', 'MHISP_R_5.0', 'FRACE31_2.0', \n",
        "                              'FRACE31_3.0', 'FRACE31_4.0', 'FRACE31_5.0', 'FRACE31_6.0', 'FRACE31_7.0', 'FRACE31_8.0', \n",
        "                              'FRACE31_9.0', 'FRACE31_10.0', 'FRACE31_11.0', 'FRACE31_12.0', 'FRACE31_13.0', 'FRACE31_14.0',\n",
        "                              'FRACE31_15.0', 'FRACE31_16.0', 'FRACE31_17.0', 'FRACE31_18.0', 'FRACE31_19.0', \n",
        "                              'FRACE31_20.0', 'FRACE31_21.0', 'FRACE31_22.0', 'FRACE31_23.0', 'FRACE31_24.0', \n",
        "                              'FRACE31_25.0', 'FRACE31_26.0', 'FRACE31_27.0', 'FRACE31_28.0', 'FRACE31_29.0', \n",
        "                              'FRACE31_30.0', 'FRACE31_31.0', 'FHISP_R_1.0', 'FHISP_R_2.0', 'FHISP_R_3.0', 'FHISP_R_4.0', \n",
        "                              'FHISP_R_5.0', 'FEDUC_2.0', 'FEDUC_3.0', 'FEDUC_4.0', 'FEDUC_5.0', 'FEDUC_6.0', \n",
        "                              'FEDUC_7.0', 'FEDUC_8.0']]\n",
        "\n",
        "# responses test sets\n",
        "y_clf_test = test_set[['WIC_R', 'TRIAL_R', 'DMETH_REC', 'BFED_R']]\n",
        "y_reg_test = test_set[['PREVIS', 'DBWT', 'OEGEST_COMB']]"
      ]
    },
    {
      "cell_type": "code",
      "execution_count": 16,
      "id": "c6821b83",
      "metadata": {
        "id": "c6821b83",
        "colab": {
          "base_uri": "https://localhost:8080/"
        },
        "outputId": "d6355e68-46dc-48b9-c924-783aed7ef22e"
      },
      "outputs": [
        {
          "output_type": "stream",
          "name": "stdout",
          "text": [
            "<class 'pandas.core.frame.DataFrame'>\n",
            "Int64Index: 790103 entries, 88550 to 985772\n",
            "Columns: 102 entries, Unnamed: 0 to FEDUC_8.0\n",
            "dtypes: float64(101), int64(1)\n",
            "memory usage: 620.9 MB\n"
          ]
        }
      ],
      "source": [
        "train_set.info()"
      ]
    },
    {
      "cell_type": "code",
      "execution_count": null,
      "id": "a1561bec",
      "metadata": {
        "id": "a1561bec"
      },
      "outputs": [],
      "source": [
        "test_set.info()"
      ]
    },
    {
      "cell_type": "markdown",
      "id": "00adfe2b",
      "metadata": {
        "id": "00adfe2b"
      },
      "source": [
        "## Hyperparameter Tuning for RandomForestClassifier() Models"
      ]
    },
    {
      "cell_type": "code",
      "source": [
        "rf_clf = RandomForestClassifier(n_estimators=100, max_depth=6, min_samples_split=2, random_state=42)\n",
        "clf_model = MultiOutputClassifier(estimator=rf_clf)"
      ],
      "metadata": {
        "id": "eo1UT1U5phaI"
      },
      "id": "eo1UT1U5phaI",
      "execution_count": 7,
      "outputs": []
    },
    {
      "cell_type": "markdown",
      "id": "bf1d3e86",
      "metadata": {
        "id": "bf1d3e86"
      },
      "source": [
        "### Paternal Features"
      ]
    },
    {
      "cell_type": "code",
      "execution_count": null,
      "id": "cb173f89",
      "metadata": {
        "id": "cb173f89",
        "outputId": "4b60dcaf-bd03-4ab8-caf3-f1942f5aa946"
      },
      "outputs": [
        {
          "name": "stdout",
          "output_type": "stream",
          "text": [
            "The best coarse parameters are:  {'estimator__max_depth': 5, 'estimator__min_samples_split': 5, 'estimator__n_estimators': 1000}\n"
          ]
        }
      ],
      "source": [
        "# Coarse RandomClassifier GridSearch - paternal\n",
        "\n",
        "param_grid_coarse_paternal = {'estimator__max_depth':[2, 4, 5],\n",
        "              'estimator__n_estimators':[250, 500, 1000],\n",
        "              'estimator__min_samples_split':[3, 5, 7]}\n",
        "\n",
        "gscv_paternal_clf_coarse = GridSearchCV(clf_model, param_grid_coarse_paternal, n_jobs=-1, cv=3)\n",
        "gscv_paternal_clf_coarse.fit(X_paternal_train.iloc[:200000], y_clf_train.iloc[:200000])\n",
        "\n",
        "print(\"The best coarse parameters are: \", gscv_paternal_clf_coarse.best_params_)"
      ]
    },
    {
      "cell_type": "code",
      "execution_count": null,
      "id": "e85891a1",
      "metadata": {
        "id": "e85891a1"
      },
      "outputs": [],
      "source": [
        "# Refined RandomForestClassifier GridSearch - paternal\n",
        "\n",
        "param_grid_refined_paternal = {'estimator__max_depth':[4,5,6,7,8], \n",
        "              'estimator__n_estimators': [900, 950, 1000, 1050, 1100], \n",
        "              'estimator__min_samples_split': [5,6,7,8,9,10,11,12]}\n",
        "\n",
        "gscv_paternal_clf_refined = GridSearchCV(clf_model, param_grid_refined_paternal, n_jobs=-1, cv=3)\n",
        "gscv_paternal_clf_refined.fit(X_paternal_train, y_clf_train)\n",
        "\n",
        "print(\"The best refined parameters are: \", gscv_paternal_clf_refined.best_params_)"
      ]
    },
    {
      "cell_type": "code",
      "execution_count": null,
      "id": "0d9bd3d5",
      "metadata": {
        "id": "0d9bd3d5",
        "colab": {
          "base_uri": "https://localhost:8080/"
        },
        "outputId": "11cc2171-98c2-4921-d0cd-bef1b6b6960d"
      },
      "outputs": [
        {
          "output_type": "stream",
          "name": "stdout",
          "text": [
            "The best refined parameters are:  {'estimator__max_depth': 14, 'estimator__min_samples_split': 2, 'estimator__n_estimators': 250}\n"
          ]
        }
      ],
      "source": [
        "# Final RandomForestClassifier GridSearch - paternal\n",
        "param_grid_final_paternal = {'estimator__max_depth':[14], \n",
        "              'estimator__n_estimators': [250], \n",
        "              'estimator__min_samples_split': [2]}\n",
        "\n",
        "gscv_paternal_clf_final = GridSearchCV(clf_model, param_grid_final_paternal, n_jobs=-1, cv=3)\n",
        "gscv_paternal_clf_final.fit(X_paternal_train, y_clf_train)\n",
        "\n",
        "print(\"The best refined parameters are: \", gscv_paternal_clf_final.best_params_)"
      ]
    },
    {
      "cell_type": "markdown",
      "id": "c23fce25",
      "metadata": {
        "id": "c23fce25"
      },
      "source": [
        "### Maternal Features "
      ]
    },
    {
      "cell_type": "code",
      "execution_count": null,
      "id": "719bf5d9",
      "metadata": {
        "id": "719bf5d9"
      },
      "outputs": [],
      "source": [
        "# Coarse RandomClassifier GridSearch - maternal\n",
        "param_grid_coarse_maternal = {'estimator__max_depth':[2,4,5,8],\n",
        "              'estimator__n_estimators':[250, 500, 750, 1000],\n",
        "              'estimator__min_samples_split':[3, 5, 7, 9]}\n",
        "\n",
        "gscv_maternal_clf_coarse = GridSearchCV(clf_model, param_grid_coarse_maternal, n_jobs=-1, cv=3)\n",
        "gscv_maternal_clf_coarse.fit(X_maternal_train, y_clf_train)\n",
        "\n",
        "print(\"The best coarse parameters are: \", gscv_maternal_clf_coarse.best_params_)"
      ]
    },
    {
      "cell_type": "code",
      "execution_count": null,
      "id": "1c274cfb",
      "metadata": {
        "id": "1c274cfb"
      },
      "outputs": [],
      "source": [
        "# Refined RandomForestClassifier GridSearch - maternal\n",
        "\n",
        "param_grid_refined_maternal = {'estimator__max_depth':[4,5,6, 8], \n",
        "              'estimator__n_estimators': [900, 950, 1000, 1050, 1100], \n",
        "              'estimator__min_samples_split': [5,6,7,8,9,10,11,12]}\n",
        "\n",
        "gscv_maternal_clf_refined = GridSearchCV(clf_model, param_grid_refined_maternal, n_jobs=-1, cv=3)\n",
        "gscv_maternal_clf_refined.fit(X_maternal_train, y_clf_train)\n",
        "\n",
        "print(\"The best refined parameters are: \", gscv_maternal_clf_refined.best_params_)"
      ]
    },
    {
      "cell_type": "code",
      "execution_count": null,
      "id": "cd738617",
      "metadata": {
        "id": "cd738617",
        "colab": {
          "base_uri": "https://localhost:8080/"
        },
        "outputId": "58f0d8ed-0925-481a-b3ae-ff2373c4b093"
      },
      "outputs": [
        {
          "output_type": "stream",
          "name": "stdout",
          "text": [
            "The best refined parameters are:  {'estimator__max_depth': 12, 'estimator__min_samples_split': 10, 'estimator__n_estimators': 150}\n"
          ]
        }
      ],
      "source": [
        "# Final RandomForestClassifier GridSearch - maternal\n",
        "\n",
        "param_grid_final_maternal = {'estimator__max_depth':[12], \n",
        "              'estimator__n_estimators': [150], \n",
        "              'estimator__min_samples_split': [10]}\n",
        "\n",
        "gscv_maternal_clf_final = GridSearchCV(clf_model, param_grid_final_maternal, n_jobs=-1, cv=3)\n",
        "gscv_maternal_clf_final.fit(X_maternal_train, y_clf_train)\n",
        "\n",
        "print(\"The best refined parameters are: \", gscv_maternal_clf_final.best_params_)"
      ]
    },
    {
      "cell_type": "markdown",
      "id": "093f0636",
      "metadata": {
        "id": "093f0636"
      },
      "source": [
        "### Combined Paternal and Maternal Features"
      ]
    },
    {
      "cell_type": "code",
      "execution_count": null,
      "id": "fbfcd44d",
      "metadata": {
        "id": "fbfcd44d"
      },
      "outputs": [],
      "source": [
        "# Coarse RandomClassifier GridSearch - combined\n",
        "param_grid_coarse_combined = {'estimator__max_depth':[2, 4, 5],\n",
        "              'estimator__n_estimators':[250, 500, 1000],\n",
        "              'estimator__min_samples_split':[3, 5, 7]}\n",
        "\n",
        "gscv_combined_clf_coarse = GridSearchCV(clf_model, param_grid_coarse_combined, n_jobs=-1, cv=3)\n",
        "gscv_combined_clf_coarse.fit(X_combined_train, y_clf_train)\n",
        "\n",
        "print(\"The best coarse parameters are: \", gscv_combined_clf_coarse.best_params_)"
      ]
    },
    {
      "cell_type": "code",
      "execution_count": null,
      "id": "0f1b9a8c",
      "metadata": {
        "id": "0f1b9a8c"
      },
      "outputs": [],
      "source": [
        "# Refined RandomForestClassifier GridSearch - combined\n",
        "\n",
        "param_grid_refined_combined = {'estimator__max_depth':[4,5,6,7,8], \n",
        "              'estimator__n_estimators': [900, 950, 1000, 1050, 1100], \n",
        "              'estimator__min_samples_split': [5,6,7,8,9,10,11,12]}\n",
        "\n",
        "gscv_combined_clf_refined = GridSearchCV(clf_model, param_grid_refined_combined, n_jobs=-1, cv=3)\n",
        "gscv_combined_clf_refined.fit(X_combined_train, y_clf_train)\n",
        "\n",
        "print(\"The best refined parameters are: \", gscv_combined_clf_refined.best_params_)"
      ]
    },
    {
      "cell_type": "code",
      "execution_count": null,
      "id": "83bfa122",
      "metadata": {
        "id": "83bfa122",
        "colab": {
          "base_uri": "https://localhost:8080/"
        },
        "outputId": "a3e8858d-bcdb-46e0-e130-c4f045ea67e9"
      },
      "outputs": [
        {
          "output_type": "stream",
          "name": "stdout",
          "text": [
            "The best refined parameters are:  {'estimator__max_depth': 17, 'estimator__min_samples_split': 4, 'estimator__n_estimators': 350}\n"
          ]
        }
      ],
      "source": [
        "# Final RandomForestClassifier GridSearch - combined\n",
        "param_grid_final_combined = {'estimator__max_depth':[17], \n",
        "              'estimator__n_estimators': [350], \n",
        "              'estimator__min_samples_split': [4]}\n",
        "\n",
        "gscv_combined_clf_final = GridSearchCV(clf_model, param_grid_final_combined, n_jobs=-1, cv=3)\n",
        "gscv_combined_clf_final.fit(X_combined_train, y_clf_train)\n",
        "\n",
        "print(\"The best refined parameters are: \", gscv_combined_clf_final.best_params_)"
      ]
    },
    {
      "cell_type": "markdown",
      "id": "7ecea9ae",
      "metadata": {
        "id": "7ecea9ae"
      },
      "source": [
        "## RandomForestClassifier() Models"
      ]
    },
    {
      "cell_type": "code",
      "source": [
        "rf_clf = RandomForestClassifier(n_estimators=100, max_depth=6, min_samples_split=2, random_state=42)\n",
        "clf_model = MultiOutputClassifier(estimator=rf_clf)"
      ],
      "metadata": {
        "id": "s0vSoMDqKgSV"
      },
      "id": "s0vSoMDqKgSV",
      "execution_count": null,
      "outputs": []
    },
    {
      "cell_type": "code",
      "source": [
        "# RandomForestClassifier model on paternal features using default hyperparameter values\n",
        "rf_clf_paternal = MultiOutputClassifier(RandomForestClassifier(max_depth=20, random_state=42))\n",
        "rf_clf_paternal.fit(X_paternal_train, y_clf_train)"
      ],
      "metadata": {
        "colab": {
          "base_uri": "https://localhost:8080/"
        },
        "id": "4EkMv47Bv34X",
        "outputId": "ea848a73-22fc-4b93-d63d-57fe240450b2"
      },
      "id": "4EkMv47Bv34X",
      "execution_count": null,
      "outputs": [
        {
          "output_type": "execute_result",
          "data": {
            "text/plain": [
              "MultiOutputClassifier(estimator=RandomForestClassifier(max_depth=20,\n",
              "                                                       random_state=42))"
            ]
          },
          "metadata": {},
          "execution_count": 11
        }
      ]
    },
    {
      "cell_type": "code",
      "source": [
        "# predict responses based on the default paternal RandomForestClassifier model\n",
        "y_pred_rf_clf_paternal = rf_clf_paternal.predict(X_paternal_test)\n",
        "y_pred_rf_clf_paternal"
      ],
      "metadata": {
        "colab": {
          "base_uri": "https://localhost:8080/"
        },
        "id": "5DqEbMalwNyf",
        "outputId": "ee072cb7-35ce-4c1e-93cc-3e7397c4076f"
      },
      "id": "5DqEbMalwNyf",
      "execution_count": null,
      "outputs": [
        {
          "output_type": "execute_result",
          "data": {
            "text/plain": [
              "array([[0., 1., 1., 1.],\n",
              "       [0., 1., 1., 1.],\n",
              "       [0., 1., 1., 1.],\n",
              "       ...,\n",
              "       [1., 1., 1., 1.],\n",
              "       [0., 1., 1., 1.],\n",
              "       [0., 1., 1., 1.]])"
            ]
          },
          "metadata": {},
          "execution_count": 12
        }
      ]
    },
    {
      "cell_type": "code",
      "source": [
        "# Optimal RandomForestClassifier Model based on GridSearch results for paternal features - hard coded to reduce need to run GridSearchCV again\n",
        "\n",
        "optimal_rf_clf_paternal = MultiOutputClassifier(RandomForestClassifier(max_depth=14, n_estimators=250, min_samples_split=2, random_state=42)).fit(X_paternal_train, y_clf_train)"
      ],
      "metadata": {
        "id": "B2d67bv1fgmu"
      },
      "id": "B2d67bv1fgmu",
      "execution_count": null,
      "outputs": []
    },
    {
      "cell_type": "code",
      "source": [
        "joblib.dump(optimal_rf_clf_paternal, 'clf_paternal_model.pkl')"
      ],
      "metadata": {
        "colab": {
          "base_uri": "https://localhost:8080/"
        },
        "id": "gz-4VUHwfCiP",
        "outputId": "a1b984ca-93a3-4d4e-8d15-fc1fd6c326eb"
      },
      "id": "gz-4VUHwfCiP",
      "execution_count": null,
      "outputs": [
        {
          "output_type": "execute_result",
          "data": {
            "text/plain": [
              "['clf_paternal_model.pkl']"
            ]
          },
          "metadata": {},
          "execution_count": 70
        }
      ]
    },
    {
      "cell_type": "code",
      "execution_count": null,
      "id": "f396260b",
      "metadata": {
        "id": "f396260b",
        "colab": {
          "base_uri": "https://localhost:8080/"
        },
        "outputId": "67ba6e7d-8e56-465b-fff2-a96cc6007fc5"
      },
      "outputs": [
        {
          "output_type": "execute_result",
          "data": {
            "text/plain": [
              "array([[0., 1., 1., 1.],\n",
              "       [0., 1., 1., 1.],\n",
              "       [0., 1., 1., 1.],\n",
              "       ...,\n",
              "       [0., 1., 1., 1.],\n",
              "       [0., 1., 1., 1.],\n",
              "       [0., 1., 1., 1.]])"
            ]
          },
          "metadata": {},
          "execution_count": 28
        }
      ],
      "source": [
        "#predict responses based on the optimal paternal RandomForestClassifier model\n",
        "y_pred_rf_clf_paternal_optimal = optimal_rf_clf_paternal.predict(X_paternal_test)\n",
        "y_pred_rf_clf_paternal_optimal"
      ]
    },
    {
      "cell_type": "code",
      "source": [
        "# RandomForestClassifier model on maternal features using default hyperparameter values\n",
        "rf_clf_maternal = MultiOutputClassifier(RandomForestClassifier(max_depth=20, random_state=42))\n",
        "rf_clf_maternal.fit(X_maternal_train, y_clf_train)"
      ],
      "metadata": {
        "id": "yKnz47jhxpAu"
      },
      "id": "yKnz47jhxpAu",
      "execution_count": null,
      "outputs": []
    },
    {
      "cell_type": "code",
      "source": [
        "# predict responses based on the default maternal RandomForestClassifier model\n",
        "y_pred_rf_clf_maternal = rf_clf_maternal.predict(X_maternal_test)\n",
        "y_pred_rf_clf_maternal"
      ],
      "metadata": {
        "colab": {
          "base_uri": "https://localhost:8080/"
        },
        "id": "aSAACeBjyqpt",
        "outputId": "d608eeb5-5a09-453c-f7a0-f2a188719975"
      },
      "id": "aSAACeBjyqpt",
      "execution_count": null,
      "outputs": [
        {
          "output_type": "execute_result",
          "data": {
            "text/plain": [
              "array([[0., 1., 1., 1.],\n",
              "       [0., 1., 1., 1.],\n",
              "       [0., 1., 1., 1.],\n",
              "       ...,\n",
              "       [0., 1., 1., 1.],\n",
              "       [0., 1., 1., 1.],\n",
              "       [0., 1., 1., 1.]])"
            ]
          },
          "metadata": {},
          "execution_count": 14
        }
      ]
    },
    {
      "cell_type": "code",
      "source": [
        "# Optimal RandomForestClassifier Model based on GridSearch results for maternal features - hard coded to reduce need to run GridSearchCV again\n",
        "\n",
        "optimal_rf_clf_maternal = MultiOutputClassifier(RandomForestClassifier(max_depth=12, n_estimators=150, min_samples_split=10, random_state=42)).fit(X_maternal_train, y_clf_train)"
      ],
      "metadata": {
        "id": "M7rAl8JifS7b"
      },
      "id": "M7rAl8JifS7b",
      "execution_count": null,
      "outputs": []
    },
    {
      "cell_type": "code",
      "source": [
        "joblib.dump(optimal_rf_clf_maternal, 'clf_maternal_model.pkl')"
      ],
      "metadata": {
        "colab": {
          "base_uri": "https://localhost:8080/"
        },
        "id": "czXucnZmltHe",
        "outputId": "c2ff127a-0b6e-4bbb-e97f-e4035eb3504a"
      },
      "id": "czXucnZmltHe",
      "execution_count": null,
      "outputs": [
        {
          "output_type": "execute_result",
          "data": {
            "text/plain": [
              "['clf_maternal_model.pkl']"
            ]
          },
          "metadata": {},
          "execution_count": 72
        }
      ]
    },
    {
      "cell_type": "code",
      "source": [
        "optimal_rf_clf_maternal = joblib.load('clf_maternal_model.pkl')"
      ],
      "metadata": {
        "id": "5iyyPNKDNcgY"
      },
      "id": "5iyyPNKDNcgY",
      "execution_count": null,
      "outputs": []
    },
    {
      "cell_type": "code",
      "execution_count": null,
      "id": "50f2066b",
      "metadata": {
        "id": "50f2066b",
        "colab": {
          "base_uri": "https://localhost:8080/"
        },
        "outputId": "a7fe31ab-1f12-4529-bbae-7b570052a039"
      },
      "outputs": [
        {
          "output_type": "execute_result",
          "data": {
            "text/plain": [
              "array([[0., 1., 1., 1.],\n",
              "       [0., 1., 1., 1.],\n",
              "       [0., 1., 1., 1.],\n",
              "       ...,\n",
              "       [0., 1., 1., 1.],\n",
              "       [0., 1., 1., 1.],\n",
              "       [0., 1., 1., 1.]])"
            ]
          },
          "metadata": {},
          "execution_count": 21
        }
      ],
      "source": [
        "#predict responses based on the optimal maternal RandomForestClassifier model\n",
        "y_pred_rf_clf_maternal_optimal = optimal_rf_clf_maternal.predict(X_maternal_test)\n",
        "y_pred_rf_clf_maternal_optimal"
      ]
    },
    {
      "cell_type": "code",
      "source": [
        "# RandomForestClassifier model on combined paternal and maternal features using default hyperparameter values\n",
        "rf_clf_combined = MultiOutputClassifier(RandomForestClassifier(max_depth=20, random_state=42))\n",
        "rf_clf_combined.fit(X_combined_train, y_clf_train)"
      ],
      "metadata": {
        "colab": {
          "base_uri": "https://localhost:8080/"
        },
        "id": "4mt7Q7hoyc-2",
        "outputId": "c79ba765-d741-4bb8-9afa-16769eec59fa"
      },
      "id": "4mt7Q7hoyc-2",
      "execution_count": null,
      "outputs": [
        {
          "output_type": "execute_result",
          "data": {
            "text/plain": [
              "MultiOutputClassifier(estimator=RandomForestClassifier(max_depth=20,\n",
              "                                                       random_state=42))"
            ]
          },
          "metadata": {},
          "execution_count": 25
        }
      ]
    },
    {
      "cell_type": "code",
      "source": [
        "# predict responses based on the default combined RandomForestClassifier model\n",
        "y_pred_rf_clf_combined = rf_clf_combined.predict(X_combined_test)\n",
        "y_pred_rf_clf_combined"
      ],
      "metadata": {
        "colab": {
          "base_uri": "https://localhost:8080/"
        },
        "id": "k3C22L-4yyZd",
        "outputId": "bee08565-4e8f-4ce9-cf86-02b867703259"
      },
      "id": "k3C22L-4yyZd",
      "execution_count": null,
      "outputs": [
        {
          "output_type": "execute_result",
          "data": {
            "text/plain": [
              "array([[0., 1., 1., 1.],\n",
              "       [0., 1., 1., 1.],\n",
              "       [0., 1., 1., 1.],\n",
              "       ...,\n",
              "       [1., 1., 1., 1.],\n",
              "       [0., 1., 1., 1.],\n",
              "       [0., 1., 1., 1.]])"
            ]
          },
          "metadata": {},
          "execution_count": 26
        }
      ]
    },
    {
      "cell_type": "code",
      "source": [
        "# Optimal RandomForestClassifier Model based on GridSearch results for combined paternal and maternal features - hard coded to reduce need to run GridSearchCV again\n",
        "\n",
        "optimal_rf_clf_combined = MultiOutputClassifier(RandomForestClassifier(max_depth=17, n_estimators=350, min_samples_split=4, random_state=42)).fit(X_combined_train, y_clf_train)"
      ],
      "metadata": {
        "id": "vIPCklIKe5Sb"
      },
      "id": "vIPCklIKe5Sb",
      "execution_count": null,
      "outputs": []
    },
    {
      "cell_type": "code",
      "source": [
        "joblib.dump(optimal_rf_clf_combined, 'clf_combined_model.pkl')"
      ],
      "metadata": {
        "colab": {
          "base_uri": "https://localhost:8080/"
        },
        "id": "1ql_nB7Ml3TM",
        "outputId": "40666c26-3ed7-490d-fd40-7c1de0cc3c85"
      },
      "id": "1ql_nB7Ml3TM",
      "execution_count": null,
      "outputs": [
        {
          "output_type": "execute_result",
          "data": {
            "text/plain": [
              "['clf_combined_model.pkl']"
            ]
          },
          "metadata": {},
          "execution_count": 73
        }
      ]
    },
    {
      "cell_type": "code",
      "source": [
        "optimal_rf_clf_combined = joblib.load('clf_combined_model.pkl')"
      ],
      "metadata": {
        "id": "3AdYG8UiPLGY"
      },
      "id": "3AdYG8UiPLGY",
      "execution_count": 9,
      "outputs": []
    },
    {
      "cell_type": "code",
      "execution_count": null,
      "id": "1b5637dc",
      "metadata": {
        "id": "1b5637dc",
        "colab": {
          "base_uri": "https://localhost:8080/"
        },
        "outputId": "58124c80-49d7-4432-b8ad-2669e455c335"
      },
      "outputs": [
        {
          "output_type": "execute_result",
          "data": {
            "text/plain": [
              "array([[0., 1., 1., 1.],\n",
              "       [0., 1., 1., 1.],\n",
              "       [0., 1., 1., 1.],\n",
              "       ...,\n",
              "       [1., 1., 1., 1.],\n",
              "       [0., 1., 1., 1.],\n",
              "       [0., 1., 1., 1.]])"
            ]
          },
          "metadata": {},
          "execution_count": 53
        }
      ],
      "source": [
        "#predict responses based on the optimal combined paternal and maternal RandomForestClassifier model\n",
        "y_pred_rf_clf_combined_optimal = optimal_rf_clf_combined.predict(X_combined_test)\n",
        "y_pred_rf_clf_combined_optimal"
      ]
    },
    {
      "cell_type": "code",
      "source": [
        "ax = optimal_rf_clf_combined.plot.scatter()\n"
      ],
      "metadata": {
        "id": "Qm0vc8RgkSIh"
      },
      "id": "Qm0vc8RgkSIh",
      "execution_count": null,
      "outputs": []
    },
    {
      "cell_type": "markdown",
      "source": [
        "## Confusion Matrices for MultiOutputClassifier() Models"
      ],
      "metadata": {
        "id": "ExEjXmKGUGtS"
      },
      "id": "ExEjXmKGUGtS"
    },
    {
      "cell_type": "markdown",
      "source": [
        "To view the confusion matrices for the MultiOutputClassifier models, each target variable was examined individually.  "
      ],
      "metadata": {
        "id": "Pf4ocLw83snn"
      },
      "id": "Pf4ocLw83snn"
    },
    {
      "cell_type": "markdown",
      "source": [
        "### Paternal Features Model"
      ],
      "metadata": {
        "id": "V7vEZg1EUO6b"
      },
      "id": "V7vEZg1EUO6b"
    },
    {
      "cell_type": "code",
      "source": [
        "# Confusion matrix demonstrating accuracy of paternal features at predicting whether or not a woman received WIC benefits during pregnancy\n",
        "cm_clf_paternal_wic = confusion_matrix(y_clf_test.iloc[:,0], y_pred_rf_clf_paternal_optimal[:,0])\n",
        "cm_clf_paternal_wic"
      ],
      "metadata": {
        "colab": {
          "base_uri": "https://localhost:8080/"
        },
        "id": "w89LdSPeUOfq",
        "outputId": "25bbda02-562f-405f-c9cd-6a02a5a364b2"
      },
      "id": "w89LdSPeUOfq",
      "execution_count": null,
      "outputs": [
        {
          "output_type": "execute_result",
          "data": {
            "text/plain": [
              "array([[118621,  19951],\n",
              "       [ 32593,  26361]])"
            ]
          },
          "metadata": {},
          "execution_count": 43
        }
      ]
    },
    {
      "cell_type": "code",
      "source": [
        "disp_clf_paternal_wic = ConfusionMatrixDisplay(confusion_matrix=cm_clf_paternal_wic)\n",
        "disp_clf_paternal_wic.plot()\n",
        "plt.show()"
      ],
      "metadata": {
        "colab": {
          "base_uri": "https://localhost:8080/",
          "height": 286
        },
        "id": "WTB5N9alu-Wb",
        "outputId": "2796bed3-7963-43cb-f227-c07b1e3efd45"
      },
      "id": "WTB5N9alu-Wb",
      "execution_count": null,
      "outputs": [
        {
          "output_type": "display_data",
          "data": {
            "text/plain": [
              "<Figure size 432x288 with 2 Axes>"
            ],
            "image/png": "[encoded data removed]"
          },
          "metadata": {
            "needs_background": "light"
          }
        }
      ]
    },
    {
      "cell_type": "code",
      "source": [
        "# Confusion matrix demonstrating accuracy of paternal features at predicting whether or not vaginal delivery was attempted prior to cesarean \n",
        "cm_clf_paternal_trial = confusion_matrix(y_clf_test.iloc[:,1], y_pred_rf_clf_paternal_optimal[:,1])\n",
        "cm_clf_paternal_trial"
      ],
      "metadata": {
        "colab": {
          "base_uri": "https://localhost:8080/"
        },
        "id": "epLVqvspUNHy",
        "outputId": "6c6fc803-f330-4af8-d7b9-594cd5ded398"
      },
      "id": "epLVqvspUNHy",
      "execution_count": null,
      "outputs": [
        {
          "output_type": "execute_result",
          "data": {
            "text/plain": [
              "array([[    14,  45189],\n",
              "       [    40, 152283]])"
            ]
          },
          "metadata": {},
          "execution_count": 44
        }
      ]
    },
    {
      "cell_type": "code",
      "source": [
        "disp_clf_paternal_trial = ConfusionMatrixDisplay(confusion_matrix=cm_clf_paternal_trial)\n",
        "disp_clf_paternal_trial.plot()\n",
        "plt.show()"
      ],
      "metadata": {
        "colab": {
          "base_uri": "https://localhost:8080/",
          "height": 286
        },
        "id": "XRGbg-9ix_mg",
        "outputId": "3a808299-2784-4e3e-8bf7-447446748df0"
      },
      "id": "XRGbg-9ix_mg",
      "execution_count": null,
      "outputs": [
        {
          "output_type": "display_data",
          "data": {
            "text/plain": [
              "<Figure size 432x288 with 2 Axes>"
            ],
            "image/png": "[encoded data removed]"
          },
          "metadata": {
            "needs_background": "light"
          }
        }
      ]
    },
    {
      "cell_type": "code",
      "source": [
        "# Confusion matrix demonstrating accuracy of paternal features at predicting whether or not delivery was vaginal\n",
        "cm_clf_paternal_delivery = confusion_matrix(y_clf_test.iloc[:,2], y_pred_rf_clf_paternal_optimal[:,2])\n",
        "cm_clf_paternal_delivery"
      ],
      "metadata": {
        "colab": {
          "base_uri": "https://localhost:8080/"
        },
        "id": "hsaNkuyYbbto",
        "outputId": "af582674-c149-4190-ddba-9534e0c809e9"
      },
      "id": "hsaNkuyYbbto",
      "execution_count": null,
      "outputs": [
        {
          "output_type": "execute_result",
          "data": {
            "text/plain": [
              "array([[   162,  62701],\n",
              "       [   208, 134455]])"
            ]
          },
          "metadata": {},
          "execution_count": 45
        }
      ]
    },
    {
      "cell_type": "code",
      "source": [
        "disp_clf_paternal_delivery = ConfusionMatrixDisplay(confusion_matrix=cm_clf_paternal_delivery)\n",
        "disp_clf_paternal_delivery.plot()\n",
        "plt.show()"
      ],
      "metadata": {
        "colab": {
          "base_uri": "https://localhost:8080/",
          "height": 286
        },
        "id": "xgwqEMD-yBMy",
        "outputId": "c73ac5aa-3208-41aa-c2d3-994a6e29b8c2"
      },
      "id": "xgwqEMD-yBMy",
      "execution_count": null,
      "outputs": [
        {
          "output_type": "display_data",
          "data": {
            "text/plain": [
              "<Figure size 432x288 with 2 Axes>"
            ],
            "image/png": "[encoded data removed]"
          },
          "metadata": {
            "needs_background": "light"
          }
        }
      ]
    },
    {
      "cell_type": "code",
      "source": [
        "# Confusion matrix demonstrating accuracy of paternal features at predicting whether or not the infant was breastfed at discharge\n",
        "cm_clf_paternal_bfed = confusion_matrix(y_clf_test.iloc[:,3], y_pred_rf_clf_paternal_optimal[:,3])\n",
        "cm_clf_paternal_bfed"
      ],
      "metadata": {
        "colab": {
          "base_uri": "https://localhost:8080/"
        },
        "id": "OL6nFHYlbb1u",
        "outputId": "621eff1c-35e8-4aae-c6b7-dc93875c14fe"
      },
      "id": "OL6nFHYlbb1u",
      "execution_count": null,
      "outputs": [
        {
          "output_type": "execute_result",
          "data": {
            "text/plain": [
              "array([[     4,  33431],\n",
              "       [    13, 164078]])"
            ]
          },
          "metadata": {},
          "execution_count": 46
        }
      ]
    },
    {
      "cell_type": "code",
      "source": [
        "disp_clf_paternal_bfed = ConfusionMatrixDisplay(confusion_matrix=cm_clf_paternal_bfed)\n",
        "disp_clf_paternal_bfed.plot()\n",
        "plt.show()"
      ],
      "metadata": {
        "colab": {
          "base_uri": "https://localhost:8080/",
          "height": 286
        },
        "id": "huBMK2a4yCJK",
        "outputId": "42998b5f-277a-4ccb-b115-cc6a5c8a4b8e"
      },
      "id": "huBMK2a4yCJK",
      "execution_count": null,
      "outputs": [
        {
          "output_type": "display_data",
          "data": {
            "text/plain": [
              "<Figure size 432x288 with 2 Axes>"
            ],
            "image/png": "[encoded data removed]"
          },
          "metadata": {
            "needs_background": "light"
          }
        }
      ]
    },
    {
      "cell_type": "markdown",
      "source": [
        "### Maternal Classification Model"
      ],
      "metadata": {
        "id": "5PUA6AZOYGvu"
      },
      "id": "5PUA6AZOYGvu"
    },
    {
      "cell_type": "code",
      "source": [
        "# Confusion matrix demonstrating accuracy of maternal features at predicting whether or not a woman received WIC benefits during pregnancy\n",
        "cm_clf_maternal_wic = confusion_matrix(y_clf_test.iloc[:,0], y_pred_rf_clf_maternal_optimal[:,0])\n",
        "cm_clf_maternal_wic"
      ],
      "metadata": {
        "colab": {
          "base_uri": "https://localhost:8080/"
        },
        "id": "VTtkNuMtYQ6_",
        "outputId": "8c3cab48-f6d4-42bf-acb8-9675287c48d8"
      },
      "id": "VTtkNuMtYQ6_",
      "execution_count": null,
      "outputs": [
        {
          "output_type": "execute_result",
          "data": {
            "text/plain": [
              "array([[120499,  18073],\n",
              "       [ 33969,  24985]])"
            ]
          },
          "metadata": {},
          "execution_count": 47
        }
      ]
    },
    {
      "cell_type": "code",
      "source": [
        "disp_clf_maternal_wic = ConfusionMatrixDisplay(confusion_matrix=cm_clf_maternal_wic)\n",
        "disp_clf_maternal_wic.plot()\n",
        "plt.show()"
      ],
      "metadata": {
        "colab": {
          "base_uri": "https://localhost:8080/",
          "height": 290
        },
        "id": "a-Nt76Z1yDmA",
        "outputId": "4c92ee21-afef-44e6-a1ea-622c413e8e4e"
      },
      "id": "a-Nt76Z1yDmA",
      "execution_count": null,
      "outputs": [
        {
          "output_type": "display_data",
          "data": {
            "text/plain": [
              "<Figure size 432x288 with 2 Axes>"
            ],
            "image/png": "[encoded data removed]"
          },
          "metadata": {
            "needs_background": "light"
          }
        }
      ]
    },
    {
      "cell_type": "code",
      "source": [
        "# Confusion matrix demonstrating accuracy of maternal features at predicting whether or not vaginal delivery was attempted prior to cesarean \n",
        "cm_clf_maternal_trial = confusion_matrix(y_clf_test.iloc[:,1], y_pred_rf_clf_maternal_optimal[:,1])\n",
        "cm_clf_maternal_trial"
      ],
      "metadata": {
        "colab": {
          "base_uri": "https://localhost:8080/"
        },
        "id": "4_k2UeETb-jg",
        "outputId": "75391b33-faa9-4e04-be96-bda6d6cdaaa6"
      },
      "id": "4_k2UeETb-jg",
      "execution_count": null,
      "outputs": [
        {
          "output_type": "execute_result",
          "data": {
            "text/plain": [
              "array([[    14,  45189],\n",
              "       [     7, 152316]])"
            ]
          },
          "metadata": {},
          "execution_count": 48
        }
      ]
    },
    {
      "cell_type": "code",
      "source": [
        "disp_clf_maternal_trial = ConfusionMatrixDisplay(confusion_matrix=cm_clf_maternal_trial)\n",
        "disp_clf_maternal_trial.plot()\n",
        "plt.show()"
      ],
      "metadata": {
        "colab": {
          "base_uri": "https://localhost:8080/",
          "height": 286
        },
        "id": "0q4kfIs4ynxR",
        "outputId": "af03ab7c-22b9-4f4f-feae-64c15567a09b"
      },
      "id": "0q4kfIs4ynxR",
      "execution_count": null,
      "outputs": [
        {
          "output_type": "display_data",
          "data": {
            "text/plain": [
              "<Figure size 432x288 with 2 Axes>"
            ],
            "image/png": "[encoded data removed]"
          },
          "metadata": {
            "needs_background": "light"
          }
        }
      ]
    },
    {
      "cell_type": "code",
      "source": [
        "# Confusion matrix demonstrating accuracy of maternal features at predicting whether or not delivery was vaginal\n",
        "cm_clf_maternal_delivery = confusion_matrix(y_clf_test.iloc[:,2], y_pred_rf_clf_maternal_optimal[:,2])\n",
        "cm_clf_maternal_delivery"
      ],
      "metadata": {
        "colab": {
          "base_uri": "https://localhost:8080/"
        },
        "id": "-FqoVZjvb-nS",
        "outputId": "5682fbd8-6265-49ee-bd8a-9e9a371e94e1"
      },
      "id": "-FqoVZjvb-nS",
      "execution_count": null,
      "outputs": [
        {
          "output_type": "execute_result",
          "data": {
            "text/plain": [
              "array([[   239,  62624],\n",
              "       [   189, 134474]])"
            ]
          },
          "metadata": {},
          "execution_count": 49
        }
      ]
    },
    {
      "cell_type": "code",
      "source": [
        "disp_clf_maternal_delivery = ConfusionMatrixDisplay(confusion_matrix=cm_clf_maternal_delivery)\n",
        "disp_clf_maternal_delivery.plot()\n",
        "plt.show()"
      ],
      "metadata": {
        "colab": {
          "base_uri": "https://localhost:8080/",
          "height": 286
        },
        "id": "Zt05WrtMys9p",
        "outputId": "73461f65-9ad6-46a1-8023-f7a93ebb5ca7"
      },
      "id": "Zt05WrtMys9p",
      "execution_count": null,
      "outputs": [
        {
          "output_type": "display_data",
          "data": {
            "text/plain": [
              "<Figure size 432x288 with 2 Axes>"
            ],
            "image/png": "[encoded data removed]"
          },
          "metadata": {
            "needs_background": "light"
          }
        }
      ]
    },
    {
      "cell_type": "code",
      "source": [
        "# Confusion matrix demonstrating accuracy of maternal features at predicting whether or not the infant was breastfed at discharge\n",
        "cm_clf_maternal_bfed = confusion_matrix(y_clf_test.iloc[:,3], y_pred_rf_clf_maternal_optimal[:,3])\n",
        "cm_clf_maternal_bfed"
      ],
      "metadata": {
        "colab": {
          "base_uri": "https://localhost:8080/"
        },
        "id": "gISlFvjvb-rQ",
        "outputId": "6737d5b9-7c7b-41e3-fe7f-6ed562cb6593"
      },
      "id": "gISlFvjvb-rQ",
      "execution_count": null,
      "outputs": [
        {
          "output_type": "execute_result",
          "data": {
            "text/plain": [
              "array([[     0,  33435],\n",
              "       [     0, 164091]])"
            ]
          },
          "metadata": {},
          "execution_count": 50
        }
      ]
    },
    {
      "cell_type": "code",
      "source": [
        "disp_clf_maternal_bfed = ConfusionMatrixDisplay(confusion_matrix=cm_clf_maternal_bfed)\n",
        "disp_clf_maternal_bfed.plot()\n",
        "plt.show()"
      ],
      "metadata": {
        "colab": {
          "base_uri": "https://localhost:8080/",
          "height": 286
        },
        "id": "hh6eoX_-yttw",
        "outputId": "f6181a84-4c21-415b-e8ea-a5fbc2e75631"
      },
      "id": "hh6eoX_-yttw",
      "execution_count": null,
      "outputs": [
        {
          "output_type": "display_data",
          "data": {
            "text/plain": [
              "<Figure size 432x288 with 2 Axes>"
            ],
            "image/png": "[encoded data removed]"
          },
          "metadata": {
            "needs_background": "light"
          }
        }
      ]
    },
    {
      "cell_type": "markdown",
      "source": [
        "### Combined Paternal and Maternal Classificiation Model"
      ],
      "metadata": {
        "id": "_9gKVjmsYJ9Z"
      },
      "id": "_9gKVjmsYJ9Z"
    },
    {
      "cell_type": "code",
      "source": [
        "# Confusion matrix demonstrating accuracy of combined paternal and maternal features at predicting whether or not a woman received WIC benefits during pregnancy\n",
        "cm_clf_combined_wic = confusion_matrix(y_clf_test.iloc[:,0], y_pred_rf_clf_combined_optimal[:,0])\n",
        "cm_clf_combined_wic"
      ],
      "metadata": {
        "colab": {
          "base_uri": "https://localhost:8080/"
        },
        "id": "iuxyMkV2YSIB",
        "outputId": "087f0173-a0b7-4226-a026-76cb0729c5ab"
      },
      "id": "iuxyMkV2YSIB",
      "execution_count": null,
      "outputs": [
        {
          "output_type": "execute_result",
          "data": {
            "text/plain": [
              "array([[119125,  19447],\n",
              "       [ 31056,  27898]])"
            ]
          },
          "metadata": {},
          "execution_count": 54
        }
      ]
    },
    {
      "cell_type": "code",
      "source": [
        "disp_clf_combined_wic = ConfusionMatrixDisplay(confusion_matrix=cm_clf_combined_wic)\n",
        "disp_clf_combined_wic.plot()\n",
        "plt.show()"
      ],
      "metadata": {
        "colab": {
          "base_uri": "https://localhost:8080/",
          "height": 286
        },
        "id": "4lVQyaj5yup5",
        "outputId": "92de8aa4-531e-4c47-826b-78bba4b4c25f"
      },
      "id": "4lVQyaj5yup5",
      "execution_count": null,
      "outputs": [
        {
          "output_type": "display_data",
          "data": {
            "text/plain": [
              "<Figure size 432x288 with 2 Axes>"
            ],
            "image/png": "[encoded data removed]"
          },
          "metadata": {
            "needs_background": "light"
          }
        }
      ]
    },
    {
      "cell_type": "code",
      "source": [
        "# Confusion matrix demonstrating accuracy of combined paternal and maternal features at predicting whether or not vaginal delivery was attempted prior to cesarean \n",
        "cm_clf_combined_trial = confusion_matrix(y_clf_test.iloc[:,1], y_pred_rf_clf_combined_optimal[:,1])\n",
        "cm_clf_combined_trial"
      ],
      "metadata": {
        "colab": {
          "base_uri": "https://localhost:8080/"
        },
        "id": "MgUZ_7ntcXow",
        "outputId": "477b2c82-97b5-4780-a869-a7c14e1605fc"
      },
      "id": "MgUZ_7ntcXow",
      "execution_count": null,
      "outputs": [
        {
          "output_type": "execute_result",
          "data": {
            "text/plain": [
              "array([[    55,  45148],\n",
              "       [    45, 152278]])"
            ]
          },
          "metadata": {},
          "execution_count": 55
        }
      ]
    },
    {
      "cell_type": "code",
      "source": [
        "disp_clf_combined_trial = ConfusionMatrixDisplay(confusion_matrix=cm_clf_combined_trial)\n",
        "disp_clf_combined_trial.plot()\n",
        "plt.show()"
      ],
      "metadata": {
        "colab": {
          "base_uri": "https://localhost:8080/",
          "height": 286
        },
        "id": "wqigL3JFzI6R",
        "outputId": "7fa6c2ac-b8d9-450b-8002-a3fe137703fc"
      },
      "id": "wqigL3JFzI6R",
      "execution_count": null,
      "outputs": [
        {
          "output_type": "display_data",
          "data": {
            "text/plain": [
              "<Figure size 432x288 with 2 Axes>"
            ],
            "image/png": "[encoded data removed]"
          },
          "metadata": {
            "needs_background": "light"
          }
        }
      ]
    },
    {
      "cell_type": "code",
      "source": [
        "# Confusion matrix demonstrating accuracy of combined paternal and maternal features at predicting whether or not delivery was vaginal\n",
        "cm_clf_combined_delivery = confusion_matrix(y_clf_test.iloc[:,2], y_pred_rf_clf_combined_optimal[:,2])\n",
        "cm_clf_combined_delivery"
      ],
      "metadata": {
        "colab": {
          "base_uri": "https://localhost:8080/"
        },
        "id": "V2fHLYyOcXtn",
        "outputId": "772dc828-9a7c-45aa-dca2-4781a6934f61"
      },
      "id": "V2fHLYyOcXtn",
      "execution_count": null,
      "outputs": [
        {
          "output_type": "execute_result",
          "data": {
            "text/plain": [
              "array([[   512,  62351],\n",
              "       [   404, 134259]])"
            ]
          },
          "metadata": {},
          "execution_count": 56
        }
      ]
    },
    {
      "cell_type": "code",
      "source": [
        "disp_clf_combined_delivery = ConfusionMatrixDisplay(confusion_matrix=cm_clf_combined_delivery)\n",
        "disp_clf_combined_delivery.plot()\n",
        "plt.show()"
      ],
      "metadata": {
        "colab": {
          "base_uri": "https://localhost:8080/",
          "height": 286
        },
        "id": "AVcT40SVzJ6Y",
        "outputId": "14d04257-90c0-4e9d-c2d9-257c2d6d4ab6"
      },
      "id": "AVcT40SVzJ6Y",
      "execution_count": null,
      "outputs": [
        {
          "output_type": "display_data",
          "data": {
            "text/plain": [
              "<Figure size 432x288 with 2 Axes>"
            ],
            "image/png": "[encoded data removed]"
          },
          "metadata": {
            "needs_background": "light"
          }
        }
      ]
    },
    {
      "cell_type": "code",
      "source": [
        "# Confusion matrix demonstrating accuracy of combined paternal and maternal features at predicting whether or not the infant was breastfed at discharge\n",
        "cm_clf_combined_bfed = confusion_matrix(y_clf_test.iloc[:,3], y_pred_rf_clf_combined_optimal[:,3])\n",
        "cm_clf_combined_bfed"
      ],
      "metadata": {
        "colab": {
          "base_uri": "https://localhost:8080/"
        },
        "id": "lxOBAFaOcXx-",
        "outputId": "3b347639-caa0-4173-d591-85ab19ab2736"
      },
      "id": "lxOBAFaOcXx-",
      "execution_count": null,
      "outputs": [
        {
          "output_type": "execute_result",
          "data": {
            "text/plain": [
              "array([[     9,  33426],\n",
              "       [     9, 164082]])"
            ]
          },
          "metadata": {},
          "execution_count": 57
        }
      ]
    },
    {
      "cell_type": "code",
      "source": [
        "disp_clf_combined_bfed = ConfusionMatrixDisplay(confusion_matrix=cm_clf_combined_bfed)\n",
        "disp_clf_combined_bfed.plot()\n",
        "plt.show()"
      ],
      "metadata": {
        "colab": {
          "base_uri": "https://localhost:8080/",
          "height": 286
        },
        "id": "4adchaKkzKxB",
        "outputId": "3c315983-c2d5-4679-f5fc-2c7516ef0510"
      },
      "id": "4adchaKkzKxB",
      "execution_count": null,
      "outputs": [
        {
          "output_type": "display_data",
          "data": {
            "text/plain": [
              "<Figure size 432x288 with 2 Axes>"
            ],
            "image/png": "[encoded data removed]"
          },
          "metadata": {
            "needs_background": "light"
          }
        }
      ]
    },
    {
      "cell_type": "markdown",
      "source": [
        "## Classification Reports for RandomForestClassifier() Models"
      ],
      "metadata": {
        "id": "zC7ky3X0XPnp"
      },
      "id": "zC7ky3X0XPnp"
    },
    {
      "cell_type": "markdown",
      "source": [
        "### Paternal Classification Model"
      ],
      "metadata": {
        "id": "i5rf-4v3YY5I"
      },
      "id": "i5rf-4v3YY5I"
    },
    {
      "cell_type": "code",
      "source": [
        "cr_clf_paternal_wic = classification_report(y_clf_test.iloc[:,0],y_pred_rf_clf_paternal_optimal[:,0])\n",
        "cr_clf_paternal_wic"
      ],
      "metadata": {
        "colab": {
          "base_uri": "https://localhost:8080/",
          "height": 53
        },
        "id": "x1SiSLKgXXMZ",
        "outputId": "6c77bc89-8f10-4d91-809b-6b5c0dd4b800"
      },
      "id": "x1SiSLKgXXMZ",
      "execution_count": null,
      "outputs": [
        {
          "output_type": "execute_result",
          "data": {
            "text/plain": [
              "'              precision    recall  f1-score   support\\n\\n         0.0       0.78      0.86      0.82    138572\\n         1.0       0.57      0.45      0.50     58954\\n\\n    accuracy                           0.73    197526\\n   macro avg       0.68      0.65      0.66    197526\\nweighted avg       0.72      0.73      0.72    197526\\n'"
            ],
            "application/vnd.google.colaboratory.intrinsic+json": {
              "type": "string"
            }
          },
          "metadata": {},
          "execution_count": 40
        }
      ]
    },
    {
      "cell_type": "code",
      "source": [
        "cr_clf_paternal_trial = classification_report(y_clf_test.iloc[:,1],y_pred_rf_clf_paternal_optimal[:,1])\n",
        "cr_clf_paternal_trial"
      ],
      "metadata": {
        "colab": {
          "base_uri": "https://localhost:8080/",
          "height": 53
        },
        "id": "h1Pc2RdOdCX3",
        "outputId": "6c5eea11-19dc-4698-adfd-ffc5b33ba4a6"
      },
      "id": "h1Pc2RdOdCX3",
      "execution_count": null,
      "outputs": [
        {
          "output_type": "execute_result",
          "data": {
            "text/plain": [
              "'              precision    recall  f1-score   support\\n\\n         0.0       0.26      0.00      0.00     45203\\n         1.0       0.77      1.00      0.87    152323\\n\\n    accuracy                           0.77    197526\\n   macro avg       0.52      0.50      0.44    197526\\nweighted avg       0.65      0.77      0.67    197526\\n'"
            ],
            "application/vnd.google.colaboratory.intrinsic+json": {
              "type": "string"
            }
          },
          "metadata": {},
          "execution_count": 58
        }
      ]
    },
    {
      "cell_type": "code",
      "source": [
        "cr_clf_paternal_delivery = classification_report(y_clf_test.iloc[:,2],y_pred_rf_clf_paternal_optimal[:,2])\n",
        "cr_clf_paternal_delivery"
      ],
      "metadata": {
        "colab": {
          "base_uri": "https://localhost:8080/",
          "height": 53
        },
        "id": "d_PD3LjxdCgv",
        "outputId": "4c0dc967-1230-4c62-b52e-ada65d33e726"
      },
      "id": "d_PD3LjxdCgv",
      "execution_count": null,
      "outputs": [
        {
          "output_type": "execute_result",
          "data": {
            "text/plain": [
              "'              precision    recall  f1-score   support\\n\\n         0.0       0.44      0.00      0.01     62863\\n         1.0       0.68      1.00      0.81    134663\\n\\n    accuracy                           0.68    197526\\n   macro avg       0.56      0.50      0.41    197526\\nweighted avg       0.60      0.68      0.55    197526\\n'"
            ],
            "application/vnd.google.colaboratory.intrinsic+json": {
              "type": "string"
            }
          },
          "metadata": {},
          "execution_count": 59
        }
      ]
    },
    {
      "cell_type": "code",
      "source": [
        "cr_clf_paternal_bfed = classification_report(y_clf_test.iloc[:,3],y_pred_rf_clf_paternal_optimal[:,3])\n",
        "cr_clf_paternal_bfed"
      ],
      "metadata": {
        "id": "q8_e54VXdC3u"
      },
      "id": "q8_e54VXdC3u",
      "execution_count": null,
      "outputs": []
    },
    {
      "cell_type": "markdown",
      "source": [
        "### Maternal Classification Model "
      ],
      "metadata": {
        "id": "NcCKKF6BYa9Z"
      },
      "id": "NcCKKF6BYa9Z"
    },
    {
      "cell_type": "code",
      "source": [
        "cr_clf_maternal_wic = classification_report(y_clf_test.iloc[:,0],y_pred_rf_clf_maternal_optimal[:,0])\n",
        "cr_clf_maternal_wic"
      ],
      "metadata": {
        "colab": {
          "base_uri": "https://localhost:8080/",
          "height": 53
        },
        "id": "7c6bjGdLdVQb",
        "outputId": "4383ef0d-9ce8-467c-83fb-7e0c90987779"
      },
      "id": "7c6bjGdLdVQb",
      "execution_count": null,
      "outputs": [
        {
          "output_type": "execute_result",
          "data": {
            "text/plain": [
              "'              precision    recall  f1-score   support\\n\\n         0.0       0.78      0.87      0.82    138572\\n         1.0       0.58      0.42      0.49     58954\\n\\n    accuracy                           0.74    197526\\n   macro avg       0.68      0.65      0.66    197526\\nweighted avg       0.72      0.74      0.72    197526\\n'"
            ],
            "application/vnd.google.colaboratory.intrinsic+json": {
              "type": "string"
            }
          },
          "metadata": {},
          "execution_count": 60
        }
      ]
    },
    {
      "cell_type": "code",
      "source": [
        "cr_clf_maternal_trial = classification_report(y_clf_test.iloc[:,1],y_pred_rf_clf_maternal_optimal[:,1])\n",
        "cr_clf_maternal_trial"
      ],
      "metadata": {
        "colab": {
          "base_uri": "https://localhost:8080/",
          "height": 53
        },
        "id": "lZSGw9BpYksJ",
        "outputId": "5cc892c3-244a-4597-f925-04d6331ececa"
      },
      "id": "lZSGw9BpYksJ",
      "execution_count": null,
      "outputs": [
        {
          "output_type": "execute_result",
          "data": {
            "text/plain": [
              "'              precision    recall  f1-score   support\\n\\n         0.0       0.67      0.00      0.00     45203\\n         1.0       0.77      1.00      0.87    152323\\n\\n    accuracy                           0.77    197526\\n   macro avg       0.72      0.50      0.44    197526\\nweighted avg       0.75      0.77      0.67    197526\\n'"
            ],
            "application/vnd.google.colaboratory.intrinsic+json": {
              "type": "string"
            }
          },
          "metadata": {},
          "execution_count": 61
        }
      ]
    },
    {
      "cell_type": "code",
      "source": [
        "cr_clf_maternal_delivery = classification_report(y_clf_test.iloc[:,2],y_pred_rf_clf_maternal_optimal[:,2])\n",
        "cr_clf_maternal_delivery"
      ],
      "metadata": {
        "colab": {
          "base_uri": "https://localhost:8080/",
          "height": 53
        },
        "id": "IVLXNXEJdb44",
        "outputId": "2dcbf244-9c63-47e5-a454-fdd6a760d145"
      },
      "id": "IVLXNXEJdb44",
      "execution_count": null,
      "outputs": [
        {
          "output_type": "execute_result",
          "data": {
            "text/plain": [
              "'              precision    recall  f1-score   support\\n\\n         0.0       0.56      0.00      0.01     62863\\n         1.0       0.68      1.00      0.81    134663\\n\\n    accuracy                           0.68    197526\\n   macro avg       0.62      0.50      0.41    197526\\nweighted avg       0.64      0.68      0.56    197526\\n'"
            ],
            "application/vnd.google.colaboratory.intrinsic+json": {
              "type": "string"
            }
          },
          "metadata": {},
          "execution_count": 62
        }
      ]
    },
    {
      "cell_type": "code",
      "source": [
        "cr_clf_maternal_bfed = classification_report(y_clf_test.iloc[:,3],y_pred_rf_clf_maternal_optimal[:,3])\n",
        "cr_clf_maternal_bfed"
      ],
      "metadata": {
        "colab": {
          "base_uri": "https://localhost:8080/",
          "height": 177
        },
        "id": "3gvS4UbpdcN5",
        "outputId": "3dac89c2-a007-4c16-9a3b-d6574f0528c6"
      },
      "id": "3gvS4UbpdcN5",
      "execution_count": null,
      "outputs": [
        {
          "output_type": "stream",
          "name": "stderr",
          "text": [
            "/usr/local/lib/python3.8/dist-packages/sklearn/metrics/_classification.py:1318: UndefinedMetricWarning: Precision and F-score are ill-defined and being set to 0.0 in labels with no predicted samples. Use `zero_division` parameter to control this behavior.\n",
            "  _warn_prf(average, modifier, msg_start, len(result))\n",
            "/usr/local/lib/python3.8/dist-packages/sklearn/metrics/_classification.py:1318: UndefinedMetricWarning: Precision and F-score are ill-defined and being set to 0.0 in labels with no predicted samples. Use `zero_division` parameter to control this behavior.\n",
            "  _warn_prf(average, modifier, msg_start, len(result))\n",
            "/usr/local/lib/python3.8/dist-packages/sklearn/metrics/_classification.py:1318: UndefinedMetricWarning: Precision and F-score are ill-defined and being set to 0.0 in labels with no predicted samples. Use `zero_division` parameter to control this behavior.\n",
            "  _warn_prf(average, modifier, msg_start, len(result))\n"
          ]
        },
        {
          "output_type": "execute_result",
          "data": {
            "text/plain": [
              "'              precision    recall  f1-score   support\\n\\n         0.0       0.00      0.00      0.00     33435\\n         1.0       0.83      1.00      0.91    164091\\n\\n    accuracy                           0.83    197526\\n   macro avg       0.42      0.50      0.45    197526\\nweighted avg       0.69      0.83      0.75    197526\\n'"
            ],
            "application/vnd.google.colaboratory.intrinsic+json": {
              "type": "string"
            }
          },
          "metadata": {},
          "execution_count": 64
        }
      ]
    },
    {
      "cell_type": "markdown",
      "source": [
        "### Combined Paternal and Maternal Classification Model"
      ],
      "metadata": {
        "id": "ym2j5cDQYem5"
      },
      "id": "ym2j5cDQYem5"
    },
    {
      "cell_type": "code",
      "source": [
        "cr_clf_combined_wic = classification_report(y_clf_test.iloc[:,0],y_pred_rf_clf_combined_optimal[:,0])\n",
        "cr_clf_combined_wic"
      ],
      "metadata": {
        "colab": {
          "base_uri": "https://localhost:8080/",
          "height": 53
        },
        "id": "IoqUd53oYj-5",
        "outputId": "0cc3bc0d-ac3a-4318-d48d-604de42f227a"
      },
      "id": "IoqUd53oYj-5",
      "execution_count": null,
      "outputs": [
        {
          "output_type": "execute_result",
          "data": {
            "text/plain": [
              "'              precision    recall  f1-score   support\\n\\n         0.0       0.79      0.86      0.83    138572\\n         1.0       0.59      0.47      0.52     58954\\n\\n    accuracy                           0.74    197526\\n   macro avg       0.69      0.67      0.67    197526\\nweighted avg       0.73      0.74      0.74    197526\\n'"
            ],
            "application/vnd.google.colaboratory.intrinsic+json": {
              "type": "string"
            }
          },
          "metadata": {},
          "execution_count": 65
        }
      ]
    },
    {
      "cell_type": "code",
      "source": [
        "cr_clf_combined_trial = classification_report(y_clf_test.iloc[:,1],y_pred_rf_clf_combined_optimal[:,1])\n",
        "cr_clf_combined_trial"
      ],
      "metadata": {
        "colab": {
          "base_uri": "https://localhost:8080/",
          "height": 53
        },
        "id": "jxQAIbDDdvX3",
        "outputId": "e5ce517f-6ea3-44c3-f7e4-cbbc7406bebc"
      },
      "id": "jxQAIbDDdvX3",
      "execution_count": null,
      "outputs": [
        {
          "output_type": "execute_result",
          "data": {
            "text/plain": [
              "'              precision    recall  f1-score   support\\n\\n         0.0       0.55      0.00      0.00     45203\\n         1.0       0.77      1.00      0.87    152323\\n\\n    accuracy                           0.77    197526\\n   macro avg       0.66      0.50      0.44    197526\\nweighted avg       0.72      0.77      0.67    197526\\n'"
            ],
            "application/vnd.google.colaboratory.intrinsic+json": {
              "type": "string"
            }
          },
          "metadata": {},
          "execution_count": 66
        }
      ]
    },
    {
      "cell_type": "code",
      "source": [
        "cr_clf_combined_delivery = classification_report(y_clf_test.iloc[:,2],y_pred_rf_clf_combined_optimal[:,2])\n",
        "cr_clf_combined_delivery"
      ],
      "metadata": {
        "colab": {
          "base_uri": "https://localhost:8080/",
          "height": 53
        },
        "id": "y_IYRCnydvwV",
        "outputId": "c3157997-2440-40bf-a4ac-064ea7380156"
      },
      "id": "y_IYRCnydvwV",
      "execution_count": null,
      "outputs": [
        {
          "output_type": "execute_result",
          "data": {
            "text/plain": [
              "'              precision    recall  f1-score   support\\n\\n         0.0       0.56      0.01      0.02     62863\\n         1.0       0.68      1.00      0.81    134663\\n\\n    accuracy                           0.68    197526\\n   macro avg       0.62      0.50      0.41    197526\\nweighted avg       0.64      0.68      0.56    197526\\n'"
            ],
            "application/vnd.google.colaboratory.intrinsic+json": {
              "type": "string"
            }
          },
          "metadata": {},
          "execution_count": 67
        }
      ]
    },
    {
      "cell_type": "code",
      "source": [
        "cr_clf_combined_bfed = classification_report(y_clf_test.iloc[:,3],y_pred_rf_clf_combined_optimal[:,3])\n",
        "cr_clf_combined_bfed"
      ],
      "metadata": {
        "colab": {
          "base_uri": "https://localhost:8080/",
          "height": 53
        },
        "id": "SMdl_8Psdv_F",
        "outputId": "f61df618-46bf-4526-d189-a6f698e09624"
      },
      "id": "SMdl_8Psdv_F",
      "execution_count": null,
      "outputs": [
        {
          "output_type": "execute_result",
          "data": {
            "text/plain": [
              "'              precision    recall  f1-score   support\\n\\n         0.0       0.50      0.00      0.00     33435\\n         1.0       0.83      1.00      0.91    164091\\n\\n    accuracy                           0.83    197526\\n   macro avg       0.67      0.50      0.45    197526\\nweighted avg       0.77      0.83      0.75    197526\\n'"
            ],
            "application/vnd.google.colaboratory.intrinsic+json": {
              "type": "string"
            }
          },
          "metadata": {},
          "execution_count": 68
        }
      ]
    },
    {
      "cell_type": "markdown",
      "id": "46ffe089",
      "metadata": {
        "id": "46ffe089"
      },
      "source": [
        "## Permutation Importance for RandomForestClassifier() Models"
      ]
    },
    {
      "cell_type": "markdown",
      "source": [
        "### Paternal Model"
      ],
      "metadata": {
        "id": "ODQ59oy3-vah"
      },
      "id": "ODQ59oy3-vah"
    },
    {
      "cell_type": "code",
      "execution_count": null,
      "id": "0c99495b",
      "metadata": {
        "id": "0c99495b"
      },
      "outputs": [],
      "source": [
        "# permutation importance for paternal RandomForestClassifier Model\n",
        "r_clf_paternal = permutation_importance(optimal_rf_clf_paternal, X_paternal_test, y_clf_test, n_repeats=5, random_state=42)"
      ]
    },
    {
      "cell_type": "code",
      "source": [
        "joblib.dump(r_clf_paternal, 'pi_clf_paternal.pkl')"
      ],
      "metadata": {
        "colab": {
          "base_uri": "https://localhost:8080/"
        },
        "id": "J-SRgHXZDQ01",
        "outputId": "ba07f8c6-161e-4134-c392-2bb97acccf28"
      },
      "id": "J-SRgHXZDQ01",
      "execution_count": null,
      "outputs": [
        {
          "output_type": "execute_result",
          "data": {
            "text/plain": [
              "['pi_clf_paternal.pkl']"
            ]
          },
          "metadata": {},
          "execution_count": 95
        }
      ]
    },
    {
      "cell_type": "code",
      "source": [
        "joblib.load('pi_clf_paternal.pkl')"
      ],
      "metadata": {
        "id": "V6E2J5B9DsV0"
      },
      "id": "V6E2J5B9DsV0",
      "execution_count": null,
      "outputs": []
    },
    {
      "cell_type": "code",
      "source": [
        "sorted_importances_idx_clf_paternal = r_clf_paternal.importances_mean.argsort()"
      ],
      "metadata": {
        "id": "QD0ba1sh1u5o"
      },
      "id": "QD0ba1sh1u5o",
      "execution_count": null,
      "outputs": []
    },
    {
      "cell_type": "code",
      "source": [
        "importances_clf_paternal = pd.DataFrame(r_clf_paternal.importances[sorted_importances_idx_clf_paternal].T, columns=X_paternal_test.columns[sorted_importances_idx_clf_paternal])"
      ],
      "metadata": {
        "id": "ifaPvsNz2BxD"
      },
      "id": "ifaPvsNz2BxD",
      "execution_count": null,
      "outputs": []
    },
    {
      "cell_type": "code",
      "source": [
        "ax_clf_paternal = importances_clf_paternal.plot.barh(figsize=(24, 18))\n",
        "ax_clf_paternal.set_title('Permutation Importances for Features of the Paternal Classification Model')\n"
      ],
      "metadata": {
        "colab": {
          "base_uri": "https://localhost:8080/",
          "height": 1000
        },
        "id": "cc4sIWYD2jJ4",
        "outputId": "26e06a00-5784-4a5d-8d0a-54f6b1cc62cc"
      },
      "id": "cc4sIWYD2jJ4",
      "execution_count": null,
      "outputs": [
        {
          "output_type": "execute_result",
          "data": {
            "text/plain": [
              "Text(0.5, 1.0, 'Permutation Importances for Features of the Paternal Classification Model')"
            ]
          },
          "metadata": {},
          "execution_count": 115
        },
        {
          "output_type": "display_data",
          "data": {
            "text/plain": [
              "<Figure size 1728x1296 with 1 Axes>"
            ],
            "image/png": "[encoded data removed]"
          },
          "metadata": {
            "needs_background": "light"
          }
        }
      ]
    },
    {
      "cell_type": "code",
      "execution_count": null,
      "id": "8d3b4f9b",
      "metadata": {
        "id": "8d3b4f9b",
        "colab": {
          "base_uri": "https://localhost:8080/"
        },
        "outputId": "1439fa6f-51e9-4fa8-8704-cbdd2632fe5f"
      },
      "outputs": [
        {
          "output_type": "execute_result",
          "data": {
            "text/plain": [
              "array([ 6.96617154e-03,  3.29931250e-03,  1.52030619e-03, -8.10019947e-06,\n",
              "        4.50067333e-04,  6.93579579e-05,  2.83506981e-05, -4.40448346e-05,\n",
              "       -7.08767453e-06,  7.08767453e-06,  2.88569606e-05, -1.01252493e-06,\n",
              "        1.51878740e-06,  1.16440367e-05, -1.11377743e-05,  3.03757480e-06,\n",
              "       -5.06262467e-07,  5.06262467e-07,  0.00000000e+00,  1.21502992e-05,\n",
              "        0.00000000e+00,  5.06262467e-07, -3.03757480e-06, -5.06262467e-07,\n",
              "        0.00000000e+00,  6.07514960e-06,  0.00000000e+00,  0.00000000e+00,\n",
              "        0.00000000e+00,  0.00000000e+00,  2.02504987e-06,  0.00000000e+00,\n",
              "        2.99606128e-03,  2.55662546e-04,  1.42259753e-04,  1.73141764e-03,\n",
              "        6.86491905e-04,  1.86912103e-03, -4.96643480e-04,  9.55823537e-04,\n",
              "        7.01173516e-04,  2.70445410e-03,  8.10019947e-04,  2.97682330e-04])"
            ]
          },
          "metadata": {},
          "execution_count": 34
        }
      ],
      "source": [
        "r_clf_paternal.importances_mean"
      ]
    },
    {
      "cell_type": "code",
      "execution_count": null,
      "id": "a2e906a3",
      "metadata": {
        "id": "a2e906a3",
        "colab": {
          "base_uri": "https://localhost:8080/"
        },
        "outputId": "b4794da4-8fd8-428f-9b4e-342d97e087f8"
      },
      "outputs": [
        {
          "output_type": "execute_result",
          "data": {
            "text/plain": [
              "array([[ 7.03198566e-03,  7.43193301e-03,  6.74847868e-03,\n",
              "         6.58141207e-03,  6.64216356e-03,  6.97123417e-03,\n",
              "         7.50280976e-03,  6.99148467e-03,  6.88516955e-03,\n",
              "         6.87504430e-03],\n",
              "       [ 3.32108178e-03,  3.12363942e-03,  2.93632231e-03,\n",
              "         3.50333627e-03,  3.42739690e-03,  3.72102913e-03,\n",
              "         3.12363942e-03,  3.15401517e-03,  3.34133228e-03,\n",
              "         3.34133228e-03],\n",
              "       [ 1.27578142e-03,  1.63016514e-03,  1.65547827e-03,\n",
              "         1.20490467e-03,  1.74660551e-03,  1.72635501e-03,\n",
              "         1.33147029e-03,  1.56941365e-03,  1.49853690e-03,\n",
              "         1.56435102e-03],\n",
              "       [-2.53131233e-05, -1.01252493e-05,  1.51878740e-05,\n",
              "         3.54383727e-05, -1.01252493e-05, -3.03757480e-05,\n",
              "        -2.53131233e-05, -1.51878740e-05,  1.51878740e-05,\n",
              "        -3.03757480e-05],\n",
              "       [ 3.29070603e-04,  4.45510971e-04,  4.70824094e-04,\n",
              "         3.99947349e-04,  5.82201837e-04,  2.12630236e-04,\n",
              "         4.40448346e-04,  6.32828083e-04,  4.96137217e-04,\n",
              "         4.91074593e-04],\n",
              "       [ 1.06315118e-04,  1.16440367e-04,  3.54383727e-05,\n",
              "         1.26565617e-04,  5.06262467e-05,  8.60646193e-05,\n",
              "         3.03757480e-05,  0.00000000e+00,  8.10019947e-05,\n",
              "         6.07514960e-05],\n",
              "       [ 7.59393700e-05,  0.00000000e+00, -2.53131233e-05,\n",
              "         2.53131233e-05,  9.11272440e-05,  1.01252493e-05,\n",
              "         5.56888713e-05,  5.56888713e-05, -5.06262467e-05,\n",
              "         4.55636220e-05],\n",
              "       [-6.58141207e-05, -4.55636220e-05, -2.02504987e-05,\n",
              "        -2.02504987e-05, -5.06262467e-05, -5.56888713e-05,\n",
              "        -2.53131233e-05, -4.55636220e-05, -6.58141207e-05,\n",
              "        -4.55636220e-05],\n",
              "       [-2.02504987e-05, -1.01252493e-05, -2.02504987e-05,\n",
              "         2.53131233e-05, -1.01252493e-05,  5.06262467e-06,\n",
              "        -1.01252493e-05,  5.06262467e-06, -3.54383727e-05,\n",
              "         0.00000000e+00],\n",
              "       [ 1.51878740e-05,  5.06262467e-06,  1.01252493e-05,\n",
              "         1.01252493e-05,  1.01252493e-05,  0.00000000e+00,\n",
              "         0.00000000e+00,  5.06262467e-06,  1.01252493e-05,\n",
              "         5.06262467e-06],\n",
              "       [ 7.59393700e-05,  5.56888713e-05,  3.03757480e-05,\n",
              "        -5.06262467e-06,  2.53131233e-05,  1.01252493e-05,\n",
              "        -1.01252493e-05,  5.56888713e-05,  3.03757480e-05,\n",
              "         2.02504987e-05],\n",
              "       [ 0.00000000e+00,  0.00000000e+00,  0.00000000e+00,\n",
              "        -5.06262467e-06,  0.00000000e+00,  0.00000000e+00,\n",
              "        -5.06262467e-06,  0.00000000e+00,  0.00000000e+00,\n",
              "         0.00000000e+00],\n",
              "       [ 0.00000000e+00,  0.00000000e+00,  0.00000000e+00,\n",
              "         5.06262467e-06,  5.06262467e-06,  0.00000000e+00,\n",
              "         5.06262467e-06,  0.00000000e+00,  0.00000000e+00,\n",
              "         0.00000000e+00],\n",
              "       [ 4.55636220e-05,  2.53131233e-05,  5.06262467e-06,\n",
              "         6.58141207e-05, -4.05009973e-05, -5.56888713e-05,\n",
              "        -2.02504987e-05,  7.59393700e-05, -5.06262467e-05,\n",
              "         6.58141207e-05],\n",
              "       [-2.53131233e-05, -1.01252493e-05, -2.02504987e-05,\n",
              "        -5.06262467e-06,  1.01252493e-05, -2.02504987e-05,\n",
              "        -2.02504987e-05, -1.01252493e-05,  0.00000000e+00,\n",
              "        -1.01252493e-05],\n",
              "       [ 1.51878740e-05,  2.02504987e-05,  5.06262467e-06,\n",
              "         5.06262467e-06, -5.06262467e-06,  5.06262467e-06,\n",
              "         0.00000000e+00,  0.00000000e+00, -1.51878740e-05,\n",
              "         0.00000000e+00],\n",
              "       [-5.06262467e-06,  5.06262467e-06, -5.06262467e-06,\n",
              "        -2.02504987e-05,  2.02504987e-05, -1.51878740e-05,\n",
              "        -1.01252493e-05,  5.06262467e-06,  1.01252493e-05,\n",
              "         1.01252493e-05],\n",
              "       [ 0.00000000e+00,  0.00000000e+00,  5.06262467e-06,\n",
              "         0.00000000e+00,  0.00000000e+00,  0.00000000e+00,\n",
              "         0.00000000e+00,  0.00000000e+00,  0.00000000e+00,\n",
              "         0.00000000e+00],\n",
              "       [ 0.00000000e+00,  0.00000000e+00,  0.00000000e+00,\n",
              "         0.00000000e+00,  0.00000000e+00,  0.00000000e+00,\n",
              "         0.00000000e+00,  0.00000000e+00,  0.00000000e+00,\n",
              "         0.00000000e+00],\n",
              "       [ 1.51878740e-05,  1.01252493e-05,  1.51878740e-05,\n",
              "         1.51878740e-05,  5.06262467e-06,  1.51878740e-05,\n",
              "         1.01252493e-05,  1.01252493e-05,  1.01252493e-05,\n",
              "         1.51878740e-05],\n",
              "       [ 0.00000000e+00,  0.00000000e+00,  0.00000000e+00,\n",
              "         0.00000000e+00,  0.00000000e+00,  0.00000000e+00,\n",
              "         0.00000000e+00,  0.00000000e+00,  0.00000000e+00,\n",
              "         0.00000000e+00],\n",
              "       [ 0.00000000e+00,  0.00000000e+00,  0.00000000e+00,\n",
              "         0.00000000e+00,  0.00000000e+00,  0.00000000e+00,\n",
              "         5.06262467e-06,  0.00000000e+00,  0.00000000e+00,\n",
              "         0.00000000e+00],\n",
              "       [ 0.00000000e+00, -1.01252493e-05,  0.00000000e+00,\n",
              "         0.00000000e+00, -1.51878740e-05,  5.06262467e-06,\n",
              "         5.06262467e-06, -5.06262467e-06, -5.06262467e-06,\n",
              "        -5.06262467e-06],\n",
              "       [-5.06262467e-06,  0.00000000e+00,  0.00000000e+00,\n",
              "         0.00000000e+00, -5.06262467e-06,  0.00000000e+00,\n",
              "         5.06262467e-06,  0.00000000e+00,  0.00000000e+00,\n",
              "         0.00000000e+00],\n",
              "       [ 0.00000000e+00,  0.00000000e+00,  0.00000000e+00,\n",
              "         0.00000000e+00,  0.00000000e+00,  0.00000000e+00,\n",
              "         0.00000000e+00,  0.00000000e+00,  0.00000000e+00,\n",
              "         0.00000000e+00],\n",
              "       [ 2.53131233e-05,  2.53131233e-05,  5.06262467e-06,\n",
              "        -2.02504987e-05,  0.00000000e+00,  2.53131233e-05,\n",
              "        -5.06262467e-06,  1.01252493e-05,  5.06262467e-06,\n",
              "        -1.01252493e-05],\n",
              "       [ 0.00000000e+00,  0.00000000e+00,  0.00000000e+00,\n",
              "         0.00000000e+00,  0.00000000e+00,  0.00000000e+00,\n",
              "         0.00000000e+00,  0.00000000e+00,  0.00000000e+00,\n",
              "         0.00000000e+00],\n",
              "       [ 0.00000000e+00,  0.00000000e+00,  0.00000000e+00,\n",
              "         0.00000000e+00,  0.00000000e+00,  0.00000000e+00,\n",
              "         0.00000000e+00,  0.00000000e+00,  0.00000000e+00,\n",
              "         0.00000000e+00],\n",
              "       [ 0.00000000e+00,  0.00000000e+00,  0.00000000e+00,\n",
              "         0.00000000e+00,  0.00000000e+00,  0.00000000e+00,\n",
              "         0.00000000e+00,  0.00000000e+00,  0.00000000e+00,\n",
              "         0.00000000e+00],\n",
              "       [ 0.00000000e+00,  0.00000000e+00,  0.00000000e+00,\n",
              "         0.00000000e+00,  0.00000000e+00,  0.00000000e+00,\n",
              "         0.00000000e+00,  0.00000000e+00,  0.00000000e+00,\n",
              "         0.00000000e+00],\n",
              "       [ 0.00000000e+00,  0.00000000e+00,  0.00000000e+00,\n",
              "         0.00000000e+00,  0.00000000e+00,  0.00000000e+00,\n",
              "         1.01252493e-05,  0.00000000e+00,  5.06262467e-06,\n",
              "         5.06262467e-06],\n",
              "       [ 0.00000000e+00,  0.00000000e+00,  0.00000000e+00,\n",
              "         0.00000000e+00,  0.00000000e+00,  0.00000000e+00,\n",
              "         0.00000000e+00,  0.00000000e+00,  0.00000000e+00,\n",
              "         0.00000000e+00],\n",
              "       [ 2.71862945e-03,  2.77938094e-03,  3.44258477e-03,\n",
              "         2.81988194e-03,  2.72369207e-03,  3.29070603e-03,\n",
              "         3.13882729e-03,  3.03251218e-03,  2.80975669e-03,\n",
              "         3.20464141e-03],\n",
              "       [ 1.51878740e-04,  2.98694855e-04,  2.32880735e-04,\n",
              "         3.03757480e-04,  2.78444357e-04,  2.37943359e-04,\n",
              "         1.67066614e-04,  2.78444357e-04,  2.78444357e-04,\n",
              "         3.29070603e-04],\n",
              "       [ 1.41753491e-04,  1.21502992e-04,  1.41753491e-04,\n",
              "         1.01252493e-04,  2.43005984e-04,  1.26565617e-04,\n",
              "         1.16440367e-04,  1.82254488e-04,  1.26565617e-04,\n",
              "         1.21502992e-04],\n",
              "       [ 1.69091664e-03,  1.68585401e-03,  1.75166813e-03,\n",
              "         1.82254488e-03,  1.84785800e-03,  1.71622976e-03,\n",
              "         1.60991464e-03,  1.73141764e-03,  1.75673076e-03,\n",
              "         1.70104189e-03],\n",
              "       [ 6.63203831e-04,  4.30323097e-04,  6.58141207e-04,\n",
              "         8.30270445e-04,  5.77139212e-04,  8.15082571e-04,\n",
              "         7.13830078e-04,  8.80896692e-04,  6.63203831e-04,\n",
              "         6.32828083e-04],\n",
              "       [ 1.93392262e-03,  1.85292063e-03,  2.08073874e-03,\n",
              "         1.80229438e-03,  1.90860950e-03,  1.77191863e-03,\n",
              "         1.94404787e-03,  1.94404787e-03,  1.68079139e-03,\n",
              "         1.77191863e-03],\n",
              "       [-8.50520944e-04, -5.31575590e-04, -3.13882729e-04,\n",
              "        -7.08767453e-04, -3.89822099e-04, -4.65761469e-04,\n",
              "        -7.54331075e-04, -3.03757480e-04, -5.67013963e-04,\n",
              "        -8.10019947e-05],\n",
              "       [ 8.60646193e-04,  1.10365218e-03,  1.02771281e-03,\n",
              "         9.06209815e-04,  1.18971680e-03,  9.36585563e-04,\n",
              "         1.39728441e-03,  7.03704829e-04,  7.99894697e-04,\n",
              "         6.32828083e-04],\n",
              "       [ 7.44205826e-04,  6.32828083e-04,  7.08767453e-04,\n",
              "         6.68266456e-04,  6.73329081e-04,  6.93579579e-04,\n",
              "         8.25207821e-04,  8.25207821e-04,  4.80949343e-04,\n",
              "         7.59393700e-04],\n",
              "       [ 2.61737695e-03,  2.87050819e-03,  2.62243958e-03,\n",
              "         2.48068609e-03,  2.57687596e-03,  2.61231433e-03,\n",
              "         2.81481931e-03,  2.68319107e-03,  2.38955884e-03,\n",
              "         3.37677065e-03],\n",
              "       [ 6.63203831e-04,  8.60646193e-04,  7.94832073e-04,\n",
              "         7.74581574e-04,  5.06262467e-04,  7.03704829e-04,\n",
              "         1.01252493e-03,  9.16335065e-04,  1.26565617e-03,\n",
              "         6.02452335e-04],\n",
              "       [ 2.58193858e-04, -9.61898687e-05,  3.99947349e-04,\n",
              "         6.58141207e-04,  4.70824094e-04,  4.25260472e-04,\n",
              "         2.48068609e-04,  2.83506981e-04,  1.82254488e-04,\n",
              "         1.46816115e-04]])"
            ]
          },
          "metadata": {},
          "execution_count": 35
        }
      ],
      "source": [
        "r_clf_paternal.importances"
      ]
    },
    {
      "cell_type": "markdown",
      "source": [
        "### Maternal Model"
      ],
      "metadata": {
        "id": "wTCmoDbv_2nB"
      },
      "id": "wTCmoDbv_2nB"
    },
    {
      "cell_type": "code",
      "execution_count": null,
      "id": "848df26b",
      "metadata": {
        "id": "848df26b"
      },
      "outputs": [],
      "source": [
        "# permutation importance for maternal RandomForestClassifier Model\n",
        "r_clf_maternal = permutation_importance(optimal_rf_clf_maternal, X_maternal_test, y_clf_test, n_repeats=10, random_state=42)"
      ]
    },
    {
      "cell_type": "code",
      "source": [
        "joblib.dump(r_clf_maternal, 'pi_clf_maternal.pkl')"
      ],
      "metadata": {
        "id": "4gDxfc_NgU6p",
        "colab": {
          "base_uri": "https://localhost:8080/"
        },
        "outputId": "13622444-a295-470c-e9f8-2c93c777b711"
      },
      "id": "4gDxfc_NgU6p",
      "execution_count": 21,
      "outputs": [
        {
          "output_type": "execute_result",
          "data": {
            "text/plain": [
              "['pi_clf_maternal.pkl']"
            ]
          },
          "metadata": {},
          "execution_count": 21
        }
      ]
    },
    {
      "cell_type": "code",
      "source": [
        "sorted_importances_idx_clf_maternal = r_clf_maternal.importances_mean.argsort()"
      ],
      "metadata": {
        "id": "bPRWyOuh_6dp"
      },
      "id": "bPRWyOuh_6dp",
      "execution_count": null,
      "outputs": []
    },
    {
      "cell_type": "code",
      "source": [
        "importances_clf_maternal = pd.DataFrame(r_clf_maternal.importances[sorted_importances_idx_clf_maternal].T, columns=X_maternal_test.columns[sorted_importances_idx_clf_maternal])"
      ],
      "metadata": {
        "id": "xIABx57g_6mn"
      },
      "id": "xIABx57g_6mn",
      "execution_count": null,
      "outputs": []
    },
    {
      "cell_type": "code",
      "source": [
        "ax_clf_maternal = importances_clf_maternal.plot.barh(figsize=(24, 18))\n",
        "ax_clf_maternal.set_title('Permutation Importances for Features of the Maternal Classification Model')"
      ],
      "metadata": {
        "id": "HQU3yG3z_6uX",
        "colab": {
          "base_uri": "https://localhost:8080/",
          "height": 1000
        },
        "outputId": "9a79cf60-6a89-40b4-eac7-60b1c2227b23"
      },
      "id": "HQU3yG3z_6uX",
      "execution_count": null,
      "outputs": [
        {
          "output_type": "execute_result",
          "data": {
            "text/plain": [
              "Text(0.5, 1.0, 'Permutation Importances for Features of the Maternal Classification Model')"
            ]
          },
          "metadata": {},
          "execution_count": 17
        },
        {
          "output_type": "display_data",
          "data": {
            "text/plain": [
              "<Figure size 1728x1296 with 1 Axes>"
            ],
            "image/png": "[encoded data removed]"
          },
          "metadata": {
            "needs_background": "light"
          }
        }
      ]
    },
    {
      "cell_type": "code",
      "execution_count": null,
      "id": "19e6d9bc",
      "metadata": {
        "id": "19e6d9bc",
        "colab": {
          "base_uri": "https://localhost:8080/"
        },
        "outputId": "3faa83be-a9dd-45ac-9a4c-b905356c9a98"
      },
      "outputs": [
        {
          "output_type": "execute_result",
          "data": {
            "text/plain": [
              "array([ 6.08122475e-03,  5.42156476e-03,  2.67762219e-03,  1.23325537e-03,\n",
              "        4.41460871e-04,  2.37943359e-04,  2.54700647e-03,  1.15934105e-03,\n",
              "        1.24540567e-04,  1.21351113e-03,  4.75886719e-05,  8.80896692e-05,\n",
              "        3.49321102e-05,  5.61951338e-05,  3.24007979e-05, -1.51878740e-05,\n",
              "       -5.06262467e-06,  2.98694855e-05,  1.51878740e-06, -5.55111512e-18,\n",
              "        6.83454330e-05, -1.46816115e-05, -2.02504987e-06, -1.01252493e-06,\n",
              "        5.06262467e-07, -5.06262467e-06, -7.08767453e-06,  1.01252493e-06,\n",
              "       -5.55111512e-18,  2.53131233e-06, -5.06262467e-06,  0.00000000e+00,\n",
              "        1.31628241e-05, -5.06262467e-07,  0.00000000e+00,  0.00000000e+00,\n",
              "       -4.55636220e-06, -1.01252493e-06,  0.00000000e+00,  2.12731489e-03,\n",
              "        3.07301317e-04,  7.79644199e-05,  1.73394895e-03,  5.95870923e-04])"
            ]
          },
          "metadata": {},
          "execution_count": 18
        }
      ],
      "source": [
        "r_clf_maternal.importances_mean"
      ]
    },
    {
      "cell_type": "code",
      "execution_count": null,
      "id": "fd5f0a1e",
      "metadata": {
        "id": "fd5f0a1e",
        "colab": {
          "base_uri": "https://localhost:8080/"
        },
        "outputId": "58e6f545-3bfd-48f1-883f-52cb49098e31"
      },
      "outputs": [
        {
          "output_type": "execute_result",
          "data": {
            "text/plain": [
              "array([[ 6.12577585e-03,  6.33840608e-03,  6.20677784e-03,\n",
              "         6.09033747e-03,  5.43219627e-03,  6.39915758e-03,\n",
              "         6.33840608e-03,  5.89795774e-03,  5.97389711e-03,\n",
              "         6.00933548e-03],\n",
              "       [ 5.48282251e-03,  5.05249942e-03,  5.40688314e-03,\n",
              "         5.19931553e-03,  5.33600640e-03,  5.48282251e-03,\n",
              "         5.59420026e-03,  5.78151737e-03,  5.56888713e-03,\n",
              "         5.31069328e-03],\n",
              "       [ 2.54650021e-03,  2.57687596e-03,  2.64269008e-03,\n",
              "         2.88569606e-03,  2.63762745e-03,  2.87050819e-03,\n",
              "         2.93632231e-03,  2.72369207e-03,  2.43005984e-03,\n",
              "         2.52624971e-03],\n",
              "       [ 1.08340168e-03,  1.18465417e-03,  1.09352693e-03,\n",
              "         1.53903790e-03,  9.41648188e-04,  1.43272278e-03,\n",
              "         1.17959155e-03,  1.46816115e-03,  1.11884005e-03,\n",
              "         1.29096929e-03],\n",
              "       [ 4.10072598e-04,  3.59446351e-04,  5.16387716e-04,\n",
              "         4.60698845e-04,  5.16387716e-04,  3.44258477e-04,\n",
              "         5.92327086e-04,  3.99947349e-04,  5.11325091e-04,\n",
              "         3.03757480e-04],\n",
              "       [ 1.46816115e-04,  1.46816115e-04,  2.12630236e-04,\n",
              "         4.80949343e-04,  2.58193858e-04,  2.53131233e-04,\n",
              "        -5.06262467e-06,  4.65761469e-04,  2.12630236e-04,\n",
              "         2.07567611e-04],\n",
              "       [ 2.40980934e-03,  2.81988194e-03,  2.54650021e-03,\n",
              "         2.54143758e-03,  2.35918309e-03,  2.68319107e-03,\n",
              "         2.41487197e-03,  2.47056084e-03,  2.58193858e-03,\n",
              "         2.64269008e-03],\n",
              "       [ 1.16440367e-03,  1.16946630e-03,  1.34665816e-03,\n",
              "         8.60646193e-04,  1.32134504e-03,  1.05808856e-03,\n",
              "         1.38715916e-03,  1.37703391e-03,  8.50520944e-04,\n",
              "         1.05808856e-03],\n",
              "       [ 8.60646193e-05,  1.01252493e-04,  1.16440367e-04,\n",
              "         2.68319107e-04,  2.02504987e-05,  1.82254488e-04,\n",
              "         1.01252493e-04,  1.26565617e-04,  1.46816115e-04,\n",
              "         9.61898687e-05],\n",
              "       [ 1.50866215e-03,  1.13909055e-03,  1.22009254e-03,\n",
              "         1.18971680e-03,  8.55583569e-04,  1.11884005e-03,\n",
              "         1.17959155e-03,  1.35678341e-03,  1.36184604e-03,\n",
              "         1.20490467e-03],\n",
              "       [ 3.54383727e-05, -1.51878740e-05,  8.10019947e-05,\n",
              "         1.51878740e-05,  2.53131233e-05,  8.10019947e-05,\n",
              "         1.16440367e-04,  5.06262467e-06,  6.58141207e-05,\n",
              "         6.58141207e-05],\n",
              "       [ 6.07514960e-05,  8.60646193e-05,  2.83506981e-04,\n",
              "         2.63256483e-04,  6.07514960e-05, -4.05009973e-05,\n",
              "         7.59393700e-05,  1.06315118e-04, -5.06262467e-06,\n",
              "        -1.01252493e-05],\n",
              "       [ 2.53131233e-05,  5.56888713e-05,  2.02504987e-05,\n",
              "         3.03757480e-05, -2.53131233e-05,  7.08767453e-05,\n",
              "        -5.06262467e-06,  6.58141207e-05,  4.55636220e-05,\n",
              "         6.58141207e-05],\n",
              "       [ 1.26565617e-04,  5.56888713e-05,  1.01252493e-05,\n",
              "         8.60646193e-05,  9.11272440e-05,  3.03757480e-05,\n",
              "        -3.03757480e-05,  7.59393700e-05,  7.59393700e-05,\n",
              "         4.05009973e-05],\n",
              "       [ 3.54383727e-05,  5.56888713e-05,  4.05009973e-05,\n",
              "         3.54383727e-05,  1.01252493e-05,  3.54383727e-05,\n",
              "         2.02504987e-05,  2.53131233e-05,  3.03757480e-05,\n",
              "         3.54383727e-05],\n",
              "       [-1.01252493e-05, -1.51878740e-05, -5.06262467e-06,\n",
              "        -2.02504987e-05, -2.02504987e-05, -2.53131233e-05,\n",
              "        -2.53131233e-05,  5.06262467e-06, -1.01252493e-05,\n",
              "        -2.53131233e-05],\n",
              "       [-5.06262467e-06, -5.06262467e-06, -5.06262467e-06,\n",
              "        -5.06262467e-06, -5.06262467e-06, -5.06262467e-06,\n",
              "        -5.06262467e-06, -5.06262467e-06, -5.06262467e-06,\n",
              "        -5.06262467e-06],\n",
              "       [ 1.01252493e-05,  2.02504987e-05,  3.54383727e-05,\n",
              "         4.55636220e-05,  2.02504987e-05,  4.55636220e-05,\n",
              "         1.01252493e-05,  2.53131233e-05,  1.01252493e-05,\n",
              "         7.59393700e-05],\n",
              "       [ 0.00000000e+00,  0.00000000e+00,  5.06262467e-06,\n",
              "         0.00000000e+00,  5.06262467e-06,  0.00000000e+00,\n",
              "         0.00000000e+00,  0.00000000e+00,  5.06262467e-06,\n",
              "         0.00000000e+00],\n",
              "       [ 0.00000000e+00,  0.00000000e+00,  0.00000000e+00,\n",
              "         0.00000000e+00,  0.00000000e+00,  0.00000000e+00,\n",
              "         0.00000000e+00,  5.06262467e-06,  0.00000000e+00,\n",
              "        -5.06262467e-06],\n",
              "       [ 1.11377743e-04,  7.08767453e-05,  1.01252493e-04,\n",
              "         1.01252493e-05,  5.56888713e-05,  1.06315118e-04,\n",
              "         6.58141207e-05,  6.07514960e-05,  8.10019947e-05,\n",
              "         2.02504987e-05],\n",
              "       [-5.06262467e-06, -1.01252493e-05, -3.03757480e-05,\n",
              "        -1.01252493e-05, -2.02504987e-05, -1.51878740e-05,\n",
              "        -1.51878740e-05,  0.00000000e+00, -1.51878740e-05,\n",
              "        -2.53131233e-05],\n",
              "       [-5.06262467e-06,  5.06262467e-06, -1.51878740e-05,\n",
              "        -5.06262467e-06,  5.06262467e-06, -1.51878740e-05,\n",
              "         0.00000000e+00,  0.00000000e+00,  5.06262467e-06,\n",
              "         5.06262467e-06],\n",
              "       [ 0.00000000e+00,  5.06262467e-06, -1.51878740e-05,\n",
              "         0.00000000e+00, -5.06262467e-06,  0.00000000e+00,\n",
              "         5.06262467e-06, -5.06262467e-06, -5.06262467e-06,\n",
              "         1.01252493e-05],\n",
              "       [ 0.00000000e+00,  0.00000000e+00,  0.00000000e+00,\n",
              "         0.00000000e+00,  0.00000000e+00,  0.00000000e+00,\n",
              "         0.00000000e+00,  0.00000000e+00,  5.06262467e-06,\n",
              "         0.00000000e+00],\n",
              "       [-5.06262467e-06, -5.06262467e-06, -5.06262467e-06,\n",
              "        -5.06262467e-06, -5.06262467e-06, -5.06262467e-06,\n",
              "        -5.06262467e-06, -5.06262467e-06, -5.06262467e-06,\n",
              "        -5.06262467e-06],\n",
              "       [-5.06262467e-06, -2.02504987e-05, -5.06262467e-06,\n",
              "         0.00000000e+00, -1.01252493e-05, -1.01252493e-05,\n",
              "        -1.01252493e-05,  0.00000000e+00, -5.06262467e-06,\n",
              "        -5.06262467e-06],\n",
              "       [ 0.00000000e+00,  0.00000000e+00,  5.06262467e-06,\n",
              "         0.00000000e+00,  0.00000000e+00,  0.00000000e+00,\n",
              "         0.00000000e+00,  0.00000000e+00,  0.00000000e+00,\n",
              "         5.06262467e-06],\n",
              "       [ 0.00000000e+00,  5.06262467e-06, -5.06262467e-06,\n",
              "         0.00000000e+00,  0.00000000e+00,  0.00000000e+00,\n",
              "         0.00000000e+00,  0.00000000e+00,  0.00000000e+00,\n",
              "         0.00000000e+00],\n",
              "       [ 5.06262467e-06,  0.00000000e+00,  0.00000000e+00,\n",
              "         5.06262467e-06,  0.00000000e+00,  0.00000000e+00,\n",
              "         1.01252493e-05,  5.06262467e-06,  5.06262467e-06,\n",
              "        -5.06262467e-06],\n",
              "       [-5.06262467e-06, -5.06262467e-06, -5.06262467e-06,\n",
              "        -5.06262467e-06, -5.06262467e-06, -5.06262467e-06,\n",
              "         0.00000000e+00, -5.06262467e-06, -5.06262467e-06,\n",
              "        -1.01252493e-05],\n",
              "       [ 0.00000000e+00,  0.00000000e+00,  0.00000000e+00,\n",
              "         0.00000000e+00,  0.00000000e+00,  0.00000000e+00,\n",
              "         0.00000000e+00,  0.00000000e+00,  0.00000000e+00,\n",
              "         0.00000000e+00],\n",
              "       [ 2.02504987e-05,  5.06262467e-06,  1.01252493e-05,\n",
              "         1.01252493e-05,  1.51878740e-05,  5.06262467e-06,\n",
              "         2.53131233e-05,  5.06262467e-06,  2.02504987e-05,\n",
              "         1.51878740e-05],\n",
              "       [ 0.00000000e+00, -5.06262467e-06,  0.00000000e+00,\n",
              "        -5.06262467e-06,  0.00000000e+00,  0.00000000e+00,\n",
              "         0.00000000e+00,  0.00000000e+00,  0.00000000e+00,\n",
              "         5.06262467e-06],\n",
              "       [ 0.00000000e+00,  0.00000000e+00,  0.00000000e+00,\n",
              "         0.00000000e+00,  0.00000000e+00,  0.00000000e+00,\n",
              "         0.00000000e+00,  0.00000000e+00,  0.00000000e+00,\n",
              "         0.00000000e+00],\n",
              "       [ 0.00000000e+00,  0.00000000e+00,  0.00000000e+00,\n",
              "         0.00000000e+00,  0.00000000e+00,  0.00000000e+00,\n",
              "         0.00000000e+00,  0.00000000e+00,  0.00000000e+00,\n",
              "         0.00000000e+00],\n",
              "       [-5.06262467e-06, -5.06262467e-06,  0.00000000e+00,\n",
              "        -5.06262467e-06, -5.06262467e-06, -5.06262467e-06,\n",
              "        -5.06262467e-06, -5.06262467e-06, -5.06262467e-06,\n",
              "        -5.06262467e-06],\n",
              "       [ 0.00000000e+00,  0.00000000e+00,  0.00000000e+00,\n",
              "         0.00000000e+00,  0.00000000e+00,  0.00000000e+00,\n",
              "         0.00000000e+00, -5.06262467e-06, -5.06262467e-06,\n",
              "         0.00000000e+00],\n",
              "       [ 0.00000000e+00,  0.00000000e+00,  0.00000000e+00,\n",
              "         0.00000000e+00,  0.00000000e+00,  0.00000000e+00,\n",
              "         0.00000000e+00,  0.00000000e+00,  0.00000000e+00,\n",
              "         0.00000000e+00],\n",
              "       [ 1.77698126e-03,  2.01492462e-03,  2.22249223e-03,\n",
              "         2.10098924e-03,  2.22249223e-03,  2.41993459e-03,\n",
              "         2.41993459e-03,  2.14655286e-03,  1.48841165e-03,\n",
              "         2.46043559e-03],\n",
              "       [ 3.24007979e-04,  3.84759475e-04,  3.49321102e-04,\n",
              "         3.13882729e-04,  2.58193858e-04,  2.53131233e-04,\n",
              "         3.84759475e-04,  2.02504987e-04,  3.08820105e-04,\n",
              "         2.93632231e-04],\n",
              "       [ 5.06262467e-05,  7.08767453e-05,  8.10019947e-05,\n",
              "         1.01252493e-04,  9.61898687e-05,  0.00000000e+00,\n",
              "         1.16440367e-04,  8.60646193e-05,  1.46816115e-04,\n",
              "         3.03757480e-05],\n",
              "       [ 1.67572876e-03,  1.48841165e-03,  1.80735701e-03,\n",
              "         1.72129239e-03,  1.81241963e-03,  1.78710651e-03,\n",
              "         1.71116714e-03,  1.82760750e-03,  1.77191863e-03,\n",
              "         1.73648026e-03],\n",
              "       [ 5.82201837e-04,  5.87264461e-04,  5.16387716e-04,\n",
              "         6.27765459e-04,  6.22702834e-04,  5.51826089e-04,\n",
              "         6.68266456e-04,  7.18892703e-04,  5.41700839e-04,\n",
              "         5.41700839e-04]])"
            ]
          },
          "metadata": {},
          "execution_count": 19
        }
      ],
      "source": [
        "r_clf_maternal.importances"
      ]
    },
    {
      "cell_type": "markdown",
      "source": [
        "### Combined Model"
      ],
      "metadata": {
        "id": "sfM8KGn8ApkR"
      },
      "id": "sfM8KGn8ApkR"
    },
    {
      "cell_type": "code",
      "execution_count": null,
      "id": "0911c142",
      "metadata": {
        "id": "0911c142"
      },
      "outputs": [],
      "source": [
        "# permutation importance for combined RandomForestClassifier Model\n",
        "r_clf_combined = permutation_importance(optimal_rf_clf_combined, X_combined_test, y_clf_test, n_repeats=10, random_state=42, n_jobs=-1)"
      ]
    },
    {
      "cell_type": "code",
      "source": [
        "joblib.dump(r_clf_combined, 'pi_clf_combined.pkl')"
      ],
      "metadata": {
        "id": "dozHgCnwuhcQ"
      },
      "id": "dozHgCnwuhcQ",
      "execution_count": null,
      "outputs": []
    },
    {
      "cell_type": "code",
      "source": [
        "sorted_clf_combined_importances_idx = r_clf_combined.importances_mean.argsort()"
      ],
      "metadata": {
        "id": "rMsMwO_DH_s7"
      },
      "id": "rMsMwO_DH_s7",
      "execution_count": null,
      "outputs": []
    },
    {
      "cell_type": "code",
      "source": [
        "clf_combined_importances = pd.DataFrame(r_clf_combined.importances[sorted_clf_combined_importances_idx].T, columns=X_combined_train.columns[sorted_clf_combined_importances_idx])"
      ],
      "metadata": {
        "id": "VLrLAeSSIhsb"
      },
      "id": "VLrLAeSSIhsb",
      "execution_count": null,
      "outputs": []
    },
    {
      "cell_type": "code",
      "source": [
        "ax_clf_combined = clf_combined_importances.plot.barh(figsize=(24, 18))\n",
        "ax_clf_combined.set_title('Permutation Importances for Combined Model Features')"
      ],
      "metadata": {
        "id": "7pc3aDLcJEM5"
      },
      "id": "7pc3aDLcJEM5",
      "execution_count": null,
      "outputs": []
    },
    {
      "cell_type": "code",
      "execution_count": null,
      "id": "c7af9264",
      "metadata": {
        "id": "c7af9264"
      },
      "outputs": [],
      "source": [
        "r_clf_combined.importances_mean"
      ]
    },
    {
      "cell_type": "code",
      "execution_count": null,
      "id": "b8ec0998",
      "metadata": {
        "id": "b8ec0998"
      },
      "outputs": [],
      "source": [
        "r_clf_combined.importances"
      ]
    },
    {
      "cell_type": "markdown",
      "id": "a13619bd",
      "metadata": {
        "id": "a13619bd"
      },
      "source": [
        "### Accuracy, Precision, Recall, and F1 Scores for RandomForestClassifier() Models"
      ]
    },
    {
      "cell_type": "markdown",
      "source": [
        "Accuracy"
      ],
      "metadata": {
        "id": "IR-fcCjUDCZl"
      },
      "id": "IR-fcCjUDCZl"
    },
    {
      "cell_type": "code",
      "execution_count": null,
      "id": "53902c2a",
      "metadata": {
        "id": "53902c2a",
        "colab": {
          "base_uri": "https://localhost:8080/"
        },
        "outputId": "9ec044d5-99e1-4e38-8d96-fe4fafc65725"
      },
      "outputs": [
        {
          "output_type": "execute_result",
          "data": {
            "text/plain": [
              "0.4312141186476717"
            ]
          },
          "metadata": {},
          "execution_count": 15
        }
      ],
      "source": [
        "#RandomForestClassifier accuracy of default paternal model\n",
        "rf_paternal_accuracy = accuracy_score(y_clf_test, y_pred_rf_clf_paternal)\n",
        "rf_paternal_accuracy"
      ]
    },
    {
      "cell_type": "code",
      "source": [
        "#RandomForestClassifier accuracy of optimal paternal model\n",
        "optimal_rf_paternal_accuracy = accuracy_score(y_clf_test, y_pred_rf_clf_paternal_optimal)\n",
        "optimal_rf_paternal_accuracy"
      ],
      "metadata": {
        "id": "FAN6ya2GxCaG",
        "colab": {
          "base_uri": "https://localhost:8080/"
        },
        "outputId": "2d2495f0-92cd-4d4a-e3c3-f9e955a076ea"
      },
      "id": "FAN6ya2GxCaG",
      "execution_count": null,
      "outputs": [
        {
          "output_type": "execute_result",
          "data": {
            "text/plain": [
              "0.4318874477284003"
            ]
          },
          "metadata": {},
          "execution_count": 19
        }
      ]
    },
    {
      "cell_type": "code",
      "execution_count": null,
      "id": "3b526b2c",
      "metadata": {
        "id": "3b526b2c",
        "colab": {
          "base_uri": "https://localhost:8080/"
        },
        "outputId": "16f1b0d8-09d1-476b-b611-857560a47a58"
      },
      "outputs": [
        {
          "output_type": "execute_result",
          "data": {
            "text/plain": [
              "0.43215576683575835"
            ]
          },
          "metadata": {},
          "execution_count": 16
        }
      ],
      "source": [
        "#RandomForestClassifier accuracy of default maternal model\n",
        "rf_maternal_accuracy = accuracy_score(y_clf_test, y_pred_rf_clf_maternal)\n",
        "rf_maternal_accuracy"
      ]
    },
    {
      "cell_type": "code",
      "source": [
        "#RandomForestClassifier accuracy of optimal maternal model\n",
        "optimal_rf_maternal_accuracy = accuracy_score(y_clf_test, y_pred_rf_clf_maternal_optimal)\n",
        "optimal_rf_maternal_accuracy"
      ],
      "metadata": {
        "colab": {
          "base_uri": "https://localhost:8080/"
        },
        "id": "L9ZqTHLK6eAA",
        "outputId": "06606446-7e1e-47a2-8e74-43a2d17e2eed"
      },
      "id": "L9ZqTHLK6eAA",
      "execution_count": null,
      "outputs": [
        {
          "output_type": "execute_result",
          "data": {
            "text/plain": [
              "0.43372518048256936"
            ]
          },
          "metadata": {},
          "execution_count": 22
        }
      ]
    },
    {
      "cell_type": "code",
      "execution_count": null,
      "id": "3e9c0290",
      "metadata": {
        "id": "3e9c0290",
        "colab": {
          "base_uri": "https://localhost:8080/"
        },
        "outputId": "2c681b9b-b3ef-4eb6-ddfa-2b3117051662"
      },
      "outputs": [
        {
          "output_type": "execute_result",
          "data": {
            "text/plain": [
              "0.4365754381701649"
            ]
          },
          "metadata": {},
          "execution_count": 27
        }
      ],
      "source": [
        "#RandomForestClassifier accuracy of default combined model\n",
        "rf_combined_accuracy = accuracy_score(y_clf_test, y_pred_rf_clf_combined)\n",
        "rf_combined_accuracy"
      ]
    },
    {
      "cell_type": "code",
      "source": [
        "#RandomForestClassifier accuracy of optimal combined model\n",
        "optimal_rf_combined_accuracy = accuracy_score(y_clf_test, y_pred_rf_clf_combined_optimal)\n",
        "optimal_rf_combined_accuracy"
      ],
      "metadata": {
        "id": "tkwBIayM6jxX",
        "colab": {
          "base_uri": "https://localhost:8080/"
        },
        "outputId": "d40b4841-17e9-4774-aec0-4d9c46b15dec"
      },
      "id": "tkwBIayM6jxX",
      "execution_count": null,
      "outputs": [
        {
          "output_type": "execute_result",
          "data": {
            "text/plain": [
              "0.4373652076182376"
            ]
          },
          "metadata": {},
          "execution_count": 11
        }
      ]
    },
    {
      "cell_type": "markdown",
      "source": [
        "Precision"
      ],
      "metadata": {
        "id": "N0QdEv1hDOI1"
      },
      "id": "N0QdEv1hDOI1"
    },
    {
      "cell_type": "code",
      "execution_count": null,
      "id": "81be8bb0",
      "metadata": {
        "id": "81be8bb0",
        "colab": {
          "base_uri": "https://localhost:8080/"
        },
        "outputId": "05841fa1-2456-4984-c08e-ecad5e25c529"
      },
      "outputs": [
        {
          "output_type": "execute_result",
          "data": {
            "text/plain": [
              "0.7469327383567577"
            ]
          },
          "metadata": {},
          "execution_count": 18
        }
      ],
      "source": [
        "#RandomForestClassifier precision of default paternal model\n",
        "rf_paternal_precision = precision_score(y_clf_test, y_pred_rf_clf_paternal, average='micro')\n",
        "rf_paternal_precision"
      ]
    },
    {
      "cell_type": "code",
      "source": [
        "#RandomForestClassifier precision of optimal paternal model\n",
        "optimal_rf_paternal_precision = precision_score(y_clf_test, y_pred_rf_clf_paternal_optimal, average='micro')\n",
        "optimal_rf_paternal_precision"
      ],
      "metadata": {
        "colab": {
          "base_uri": "https://localhost:8080/"
        },
        "id": "dEiuvVyT61d3",
        "outputId": "55448918-62b8-4404-fc11-4a58b4503d17"
      },
      "id": "dEiuvVyT61d3",
      "execution_count": null,
      "outputs": [
        {
          "output_type": "execute_result",
          "data": {
            "text/plain": [
              "0.747431627560148"
            ]
          },
          "metadata": {},
          "execution_count": 25
        }
      ]
    },
    {
      "cell_type": "code",
      "execution_count": null,
      "id": "ec39cc29",
      "metadata": {
        "id": "ec39cc29",
        "colab": {
          "base_uri": "https://localhost:8080/"
        },
        "outputId": "21f2237d-f03e-4491-c7c0-5c3ad3e7de71"
      },
      "outputs": [
        {
          "output_type": "execute_result",
          "data": {
            "text/plain": [
              "0.7489995487158844"
            ]
          },
          "metadata": {},
          "execution_count": 19
        }
      ],
      "source": [
        "#RandomForestClassifier precision of default maternal model\n",
        "rf_maternal_precision = precision_score(y_clf_test, y_pred_rf_clf_maternal, average='micro')\n",
        "rf_maternal_precision"
      ]
    },
    {
      "cell_type": "code",
      "source": [
        "#RandomForestClassifier precision of optimal maternal model\n",
        "optimal_rf_maternal_precision = precision_score(y_clf_test, y_pred_rf_clf_maternal_optimal, average='micro')\n",
        "optimal_rf_maternal_precision"
      ],
      "metadata": {
        "colab": {
          "base_uri": "https://localhost:8080/"
        },
        "id": "74ExKbWE7DBH",
        "outputId": "120f930b-db4a-4e88-d21b-e5260828ec31"
      },
      "id": "74ExKbWE7DBH",
      "execution_count": null,
      "outputs": [
        {
          "output_type": "execute_result",
          "data": {
            "text/plain": [
              "0.7489924922774789"
            ]
          },
          "metadata": {},
          "execution_count": 26
        }
      ]
    },
    {
      "cell_type": "code",
      "execution_count": null,
      "id": "539ccac3",
      "metadata": {
        "id": "539ccac3",
        "colab": {
          "base_uri": "https://localhost:8080/"
        },
        "outputId": "4d9eebf9-220a-41b3-b641-557cc4bb30e9"
      },
      "outputs": [
        {
          "output_type": "execute_result",
          "data": {
            "text/plain": [
              "0.7489207271976747"
            ]
          },
          "metadata": {},
          "execution_count": 28
        }
      ],
      "source": [
        "#RandomForestClassifier precision of default combined model\n",
        "rf_combined_precision = precision_score(y_clf_test, y_pred_rf_clf_combined, average='micro')\n",
        "rf_combined_precision"
      ]
    },
    {
      "cell_type": "code",
      "source": [
        "#RandomForestClassifier precision of optimal combined model\n",
        "optimal_rf_combined_precision = precision_score(y_clf_test, y_pred_rf_clf_combined_optimal, average='micro')\n",
        "optimal_rf_combined_precision"
      ],
      "metadata": {
        "id": "JdA6JAnw7H_R",
        "colab": {
          "base_uri": "https://localhost:8080/"
        },
        "outputId": "17ac7066-88be-4a45-d8ce-769b7b2d2092"
      },
      "id": "JdA6JAnw7H_R",
      "execution_count": null,
      "outputs": [
        {
          "output_type": "execute_result",
          "data": {
            "text/plain": [
              "0.748821655253571"
            ]
          },
          "metadata": {},
          "execution_count": 12
        }
      ]
    },
    {
      "cell_type": "markdown",
      "source": [
        "Recall"
      ],
      "metadata": {
        "id": "Qb2tVsvCDjX8"
      },
      "id": "Qb2tVsvCDjX8"
    },
    {
      "cell_type": "code",
      "execution_count": null,
      "id": "81b62566",
      "metadata": {
        "id": "81b62566",
        "colab": {
          "base_uri": "https://localhost:8080/"
        },
        "outputId": "3ebac27f-15be-4457-aaa6-cbbd4bf9efd8"
      },
      "outputs": [
        {
          "output_type": "execute_result",
          "data": {
            "text/plain": [
              "0.9366509094545233"
            ]
          },
          "metadata": {},
          "execution_count": 20
        }
      ],
      "source": [
        "#RandomForestClassifier recall of default paternal model\n",
        "rf_paternal_recall = recall_score(y_clf_test, y_pred_rf_clf_paternal, average='micro')\n",
        "rf_paternal_recall"
      ]
    },
    {
      "cell_type": "code",
      "source": [
        "#RandomForestClassifier recall of optimal paternal model\n",
        "optimal_rf_paternal_recall = recall_score(y_clf_test, y_pred_rf_clf_paternal_optimal, average='micro')\n",
        "optimal_rf_paternal_recall"
      ],
      "metadata": {
        "colab": {
          "base_uri": "https://localhost:8080/"
        },
        "id": "viK9zcZN8npG",
        "outputId": "4f9d6905-02ea-4194-fdcf-cc5c49b475be"
      },
      "id": "viK9zcZN8npG",
      "execution_count": null,
      "outputs": [
        {
          "output_type": "execute_result",
          "data": {
            "text/plain": [
              "0.9354666677123548"
            ]
          },
          "metadata": {},
          "execution_count": 28
        }
      ]
    },
    {
      "cell_type": "code",
      "execution_count": null,
      "id": "7752919e",
      "metadata": {
        "id": "7752919e",
        "colab": {
          "base_uri": "https://localhost:8080/"
        },
        "outputId": "2348adf9-13e2-48c5-ed84-d8a8413d1ac1"
      },
      "outputs": [
        {
          "output_type": "execute_result",
          "data": {
            "text/plain": [
              "0.9339353882411069"
            ]
          },
          "metadata": {},
          "execution_count": 21
        }
      ],
      "source": [
        "#RandomForestClassifier recall of default maternal model\n",
        "rf_maternal_recall = recall_score(y_clf_test, y_pred_rf_clf_maternal, average='micro')\n",
        "rf_maternal_recall"
      ]
    },
    {
      "cell_type": "code",
      "source": [
        "#RandomForestClassifier recall of optimal maternal model\n",
        "optimal_rf_maternal_recall = recall_score(y_clf_test, y_pred_rf_clf_maternal_optimal, average='micro')\n",
        "optimal_rf_maternal_recall"
      ],
      "metadata": {
        "colab": {
          "base_uri": "https://localhost:8080/"
        },
        "id": "aKrXiQ-u8u-W",
        "outputId": "16554255-c599-4d94-8275-ac0ac1ef27f3"
      },
      "id": "aKrXiQ-u8u-W",
      "execution_count": null,
      "outputs": [
        {
          "output_type": "execute_result",
          "data": {
            "text/plain": [
              "0.93321582413618"
            ]
          },
          "metadata": {},
          "execution_count": 29
        }
      ]
    },
    {
      "cell_type": "code",
      "execution_count": null,
      "id": "8aab6ce3",
      "metadata": {
        "id": "8aab6ce3",
        "colab": {
          "base_uri": "https://localhost:8080/"
        },
        "outputId": "b41d58d5-4fe4-4ccb-fd74-a36fc390e5bc"
      },
      "outputs": [
        {
          "output_type": "execute_result",
          "data": {
            "text/plain": [
              "0.9391056622048464"
            ]
          },
          "metadata": {},
          "execution_count": 29
        }
      ],
      "source": [
        "#RandomForestClassifier recall of default combined model\n",
        "rf_combined_recall = recall_score(y_clf_test, y_pred_rf_clf_combined, average='micro')\n",
        "rf_combined_recall"
      ]
    },
    {
      "cell_type": "code",
      "source": [
        "#RandomForestClassifier recall of optimal combined model\n",
        "optimal_rf_combined_recall = recall_score(y_clf_test, y_pred_rf_clf_combined_optimal, average='micro')\n",
        "optimal_rf_combined_recall"
      ],
      "metadata": {
        "id": "n6Vn_GHi82X3",
        "colab": {
          "base_uri": "https://localhost:8080/"
        },
        "outputId": "b04464a0-cdb0-4dc9-9a3e-431173166210"
      },
      "id": "n6Vn_GHi82X3",
      "execution_count": null,
      "outputs": [
        {
          "output_type": "execute_result",
          "data": {
            "text/plain": [
              "0.9382194415633559"
            ]
          },
          "metadata": {},
          "execution_count": 13
        }
      ]
    },
    {
      "cell_type": "markdown",
      "source": [
        "F1 Scores"
      ],
      "metadata": {
        "id": "hH6ZOtr_D2UE"
      },
      "id": "hH6ZOtr_D2UE"
    },
    {
      "cell_type": "code",
      "execution_count": null,
      "id": "d70d8cdc",
      "metadata": {
        "id": "d70d8cdc",
        "colab": {
          "base_uri": "https://localhost:8080/"
        },
        "outputId": "389d6786-d926-4b3e-c5df-45c72881de91"
      },
      "outputs": [
        {
          "output_type": "execute_result",
          "data": {
            "text/plain": [
              "0.8311024279580517"
            ]
          },
          "metadata": {},
          "execution_count": 23
        }
      ],
      "source": [
        "#RandomForestClassifier F1 scores of default paternal model\n",
        "rf_paternal_f1 = f1_score(y_clf_test, y_pred_rf_clf_paternal, average='micro')\n",
        "rf_paternal_f1"
      ]
    },
    {
      "cell_type": "code",
      "source": [
        "#RandomForestClassifier F1 scores of optimal paternal model\n",
        "optimal_rf_paternal_f1 = f1_score(y_clf_test, y_pred_rf_clf_paternal_optimal, average='micro')\n",
        "optimal_rf_paternal_f1"
      ],
      "metadata": {
        "colab": {
          "base_uri": "https://localhost:8080/"
        },
        "id": "lCaDuIM59NzD",
        "outputId": "c54c2388-3160-4aed-dbe4-ed2f6e96763a"
      },
      "id": "lCaDuIM59NzD",
      "execution_count": null,
      "outputs": [
        {
          "output_type": "execute_result",
          "data": {
            "text/plain": [
              "0.8309443011983041"
            ]
          },
          "metadata": {},
          "execution_count": 31
        }
      ]
    },
    {
      "cell_type": "code",
      "execution_count": null,
      "id": "655aef33",
      "metadata": {
        "id": "655aef33",
        "colab": {
          "base_uri": "https://localhost:8080/"
        },
        "outputId": "1037fbb7-ae52-42e2-f059-0193abbe1d7e"
      },
      "outputs": [
        {
          "output_type": "execute_result",
          "data": {
            "text/plain": [
              "0.831306272109627"
            ]
          },
          "metadata": {},
          "execution_count": 24
        }
      ],
      "source": [
        "#RandomForestClassifier F1 scores of default maternal model\n",
        "rf_maternal_f1 = f1_score(y_clf_test, y_pred_rf_clf_maternal, average='micro')\n",
        "rf_maternal_f1"
      ]
    },
    {
      "cell_type": "code",
      "source": [
        "#RandomForestClassifier F1 scores of optimal maternal model\n",
        "optimal_rf_maternal_f1 = f1_score(y_clf_test, y_pred_rf_clf_maternal_optimal, average='micro')\n",
        "optimal_rf_maternal_f1"
      ],
      "metadata": {
        "colab": {
          "base_uri": "https://localhost:8080/"
        },
        "id": "pnaRoRsp-Uyu",
        "outputId": "1f7d0ab5-4670-4ca3-f469-e57ef320ad0f"
      },
      "id": "pnaRoRsp-Uyu",
      "execution_count": null,
      "outputs": [
        {
          "output_type": "execute_result",
          "data": {
            "text/plain": [
              "0.8310167523635761"
            ]
          },
          "metadata": {},
          "execution_count": 32
        }
      ]
    },
    {
      "cell_type": "code",
      "execution_count": null,
      "id": "461d14c3",
      "metadata": {
        "id": "461d14c3",
        "colab": {
          "base_uri": "https://localhost:8080/"
        },
        "outputId": "9dc0e0d2-e745-4123-b3f9-4a53f97c85e2"
      },
      "outputs": [
        {
          "output_type": "execute_result",
          "data": {
            "text/plain": [
              "0.8332994079587189"
            ]
          },
          "metadata": {},
          "execution_count": 31
        }
      ],
      "source": [
        "#RandomForestClassifier F1 scores of default combined model\n",
        "rf_combined_f1 = f1_score(y_clf_test, y_pred_rf_clf_combined, average='micro')\n",
        "rf_combined_f1"
      ]
    },
    {
      "cell_type": "code",
      "source": [
        "#RandomForestClassifier F1 scores of optimal combined model\n",
        "optimal_rf_combined_f1 = f1_score(y_clf_test, y_pred_rf_clf_combined_optimal, average='micro')\n",
        "optimal_rf_combined_f1"
      ],
      "metadata": {
        "id": "B9iyII3P-V3n",
        "colab": {
          "base_uri": "https://localhost:8080/"
        },
        "outputId": "c2e92239-5786-4beb-fbf6-1c98841a7530"
      },
      "id": "B9iyII3P-V3n",
      "execution_count": null,
      "outputs": [
        {
          "output_type": "execute_result",
          "data": {
            "text/plain": [
              "0.8328890583022863"
            ]
          },
          "metadata": {},
          "execution_count": 14
        }
      ]
    },
    {
      "cell_type": "markdown",
      "source": [
        "## Visual Comparison of MultiOutputClassification Models"
      ],
      "metadata": {
        "id": "PIgu90kQstTx"
      },
      "id": "PIgu90kQstTx"
    },
    {
      "cell_type": "code",
      "source": [
        "# Plot the results\n",
        "plt.figure()\n",
        "s = 50\n",
        "a = 0.4\n",
        "# Data\n",
        "plt.scatter(\n",
        "    y_clf_test[:, 0],\n",
        "    y_clf_test[:, 1],\n",
        "    y_clf_test[:, 2],\n",
        "    y_clf_test[:, 3],\n",
        "    edgecolor=\"k\",\n",
        "    # c=\"navy\",\n",
        "    s=s,\n",
        "    marker=\"s\",\n",
        "    alpha=a,\n",
        "    label=\"Data\",\n",
        ")\n",
        "# Paternal features\n",
        "plt.scatter(\n",
        "    y_pred_rf_clf_paternal_optimal[:, 0],\n",
        "    y_pred_rf_clf_paternal_optimal[:, 1],\n",
        "    y_pred_rf_clf_paternal_optimal[:, 2],\n",
        "    y_pred_rf_clf_paternal_optimal[:, 3],\n",
        "    edgecolor=\"k\",\n",
        "    # c=\"cornflowerblue\",\n",
        "    s=s,\n",
        "    marker='o'\n",
        "    alpha=a,\n",
        "    label=\"MultiOutputClassifier RF Paternal score=%.2f\" % optimal_rf_clf_paternal.score(X_paternal_test, y_clf_test),\n",
        ")\n",
        "# Maternal features\n",
        "plt.scatter(\n",
        "    y_pred_rf_clf_maternal_optimal[:, 0],\n",
        "    y_pred_rf_clf_maternal_optimal[:, 1],\n",
        "    y_pred_rf_clf_maternal_optimal[:, 2],\n",
        "    y_pred_rf_clf_maternal_optimal[:, 3],\n",
        "    edgecolor=\"k\",\n",
        "    # c=\"lightsteelblue\",\n",
        "    s=s,\n",
        "    marker='^'\n",
        "    alpha=a,\n",
        "    label=\"MultiOutputClassifier RF Maternal score=%.2f\" % optimal_rf_clf_maternal.score(X_maternal_test, y_clf_test),\n",
        ")\n",
        "# Combined Paternal and Maternal features\n",
        "plt.scatter(\n",
        "    y_pred_rf_clf_combined_optimal[:, 0],\n",
        "    y_pred_rf_clf_combined_optimal[:, 1],\n",
        "    y_pred_rf_clf_combined_optimal[:, 2],\n",
        "    y_pred_rf_clf_combined_optimal[:, 3],\n",
        "    edgecolor=\"k\",\n",
        "    # c=\"mediumpurple\",\n",
        "    s=s,\n",
        "    marker='*'\n",
        "    alpha=a,\n",
        "    label=\"MultiOutputClassifier RF Combined Paternal & Maternal score=%.2f\" % optimal_rf_clf_combined.score(X_combined_test, y_clf_test),\n",
        ")\n",
        "\n",
        "plt.xlim([-6, 6])\n",
        "plt.ylim([-6, 6])\n",
        "plt.zlim([-6, 6])\n",
        "plt.xlabel(\"WIC Benefits Received\")\n",
        "plt.ylabel(\"Trial of Labor\")\n",
        "plt.zlabel(\"Vaginal Delivery\")\n",
        "plt.clabel('Breastfeeding at Discharge')\n",
        "plt.title(\"Comparing MultiOutputClassifier Models with Paternal, Maternal, and Combined Features\")\n",
        "plt.legend()\n",
        "plt.show()"
      ],
      "metadata": {
        "colab": {
          "base_uri": "https://localhost:8080/",
          "height": 130
        },
        "id": "8Nd6aHIus2so",
        "outputId": "1ff8d25b-9309-4e07-e5d5-a7d123dc9a00"
      },
      "id": "8Nd6aHIus2so",
      "execution_count": null,
      "outputs": [
        {
          "output_type": "error",
          "ename": "SyntaxError",
          "evalue": "ignored",
          "traceback": [
            "\u001b[0;36m  File \u001b[0;32m\"<ipython-input-12-c1d5c58fe28c>\"\u001b[0;36m, line \u001b[0;32m28\u001b[0m\n\u001b[0;31m    alpha=a,\u001b[0m\n\u001b[0m    ^\u001b[0m\n\u001b[0;31mSyntaxError\u001b[0m\u001b[0;31m:\u001b[0m invalid syntax\n"
          ]
        }
      ]
    },
    {
      "cell_type": "markdown",
      "id": "bbbe4618",
      "metadata": {
        "id": "bbbe4618"
      },
      "source": [
        "## RandomForestRegressor() Models"
      ]
    },
    {
      "cell_type": "markdown",
      "source": [
        "### Paternal Model"
      ],
      "metadata": {
        "id": "t63ncd9gzbiX"
      },
      "id": "t63ncd9gzbiX"
    },
    {
      "cell_type": "code",
      "execution_count": null,
      "id": "a7667feb",
      "metadata": {
        "id": "a7667feb"
      },
      "outputs": [],
      "source": [
        "# RandomForestRegressor model on paternal features using default hyperparameter values\n",
        "rf_reg_paternal = MultiOutputRegressor(RandomForestRegressor(max_depth=20, random_state=42)).fit(X_paternal_train, y_reg_train)"
      ]
    },
    {
      "cell_type": "code",
      "execution_count": null,
      "id": "1393f7a8",
      "metadata": {
        "id": "1393f7a8",
        "colab": {
          "base_uri": "https://localhost:8080/"
        },
        "outputId": "5b1804dd-29df-4e25-82ea-f3e36ca8ea1a"
      },
      "outputs": [
        {
          "output_type": "execute_result",
          "data": {
            "text/plain": [
              "array([[  11.39048315, 3307.77177097,   38.25474835],\n",
              "       [  11.45855102, 3288.47827941,   38.27528491],\n",
              "       [  11.05104166, 3132.30925627,   37.74003829],\n",
              "       ...,\n",
              "       [  10.50712116, 3293.6082583 ,   38.12360387],\n",
              "       [  11.09820264, 3236.99167276,   38.62276032],\n",
              "       [  10.54311823, 3213.17291354,   38.27903393]])"
            ]
          },
          "metadata": {},
          "execution_count": 33
        }
      ],
      "source": [
        "#predict responses based on the paternal RandomForestRegressor model\n",
        "y_pred_rf_reg_paternal = rf_reg_paternal.predict(X_paternal_test)\n",
        "y_pred_rf_reg_paternal"
      ]
    },
    {
      "cell_type": "code",
      "source": [
        "# Optimal RandomForestRegressor Model based on GridSearch results for paternal features - hard coded to reduce need to run GridSearchCV again\n",
        "\n",
        "optimal_rf_reg_paternal = MultiOutputRegressor(RandomForestRegressor(max_depth=12, n_estimators=350, random_state=42)).fit(X_paternal_train, y_reg_train)"
      ],
      "metadata": {
        "id": "TlDS6FQgp4U6"
      },
      "id": "TlDS6FQgp4U6",
      "execution_count": null,
      "outputs": []
    },
    {
      "cell_type": "code",
      "source": [
        "# Pickle optimal paternal model\n",
        "joblib.dump(optimal_rf_reg_paternal, 'reg_paternal_model.pkl')"
      ],
      "metadata": {
        "colab": {
          "base_uri": "https://localhost:8080/"
        },
        "id": "V9aJsxFn3PI1",
        "outputId": "ae5251c6-0e15-4e32-912a-22499f4402e8"
      },
      "id": "V9aJsxFn3PI1",
      "execution_count": null,
      "outputs": [
        {
          "output_type": "execute_result",
          "data": {
            "text/plain": [
              "['reg_paternal_model.pkl']"
            ]
          },
          "metadata": {},
          "execution_count": 11
        }
      ]
    },
    {
      "cell_type": "markdown",
      "source": [
        "### Maternal Model"
      ],
      "metadata": {
        "id": "DNUFbzf7zfM1"
      },
      "id": "DNUFbzf7zfM1"
    },
    {
      "cell_type": "code",
      "source": [
        "# RandomForestClassifier model on maternal features using default hyperparameter values\n",
        "rf_reg_maternal = MultiOutputRegressor(RandomForestRegressor(max_depth=20, random_state=42)).fit(X_maternal_train, y_reg_train)"
      ],
      "metadata": {
        "id": "lpdH5Z8mKuTV"
      },
      "id": "lpdH5Z8mKuTV",
      "execution_count": null,
      "outputs": []
    },
    {
      "cell_type": "code",
      "execution_count": null,
      "id": "43eeafb7",
      "metadata": {
        "id": "43eeafb7",
        "colab": {
          "base_uri": "https://localhost:8080/"
        },
        "outputId": "5642a0c0-04d8-4520-affa-659f9b04f980"
      },
      "outputs": [
        {
          "output_type": "execute_result",
          "data": {
            "text/plain": [
              "array([[  11.1099296 , 3294.59810081,   38.30883496],\n",
              "       [  11.48794209, 3267.48933515,   38.03821731],\n",
              "       [  11.16630066, 3029.67878902,   37.77649994],\n",
              "       ...,\n",
              "       [  10.95386638, 3284.23851661,   38.11784988],\n",
              "       [  11.16602987, 3297.32887096,   38.53938926],\n",
              "       [  10.4337081 , 3225.99920299,   38.22980417]])"
            ]
          },
          "metadata": {},
          "execution_count": 38
        }
      ],
      "source": [
        "#predict responses based on the maternal RandomForestRegressor model\n",
        "y_pred_rf_reg_maternal = rf_reg_maternal.predict(X_maternal_test)\n",
        "y_pred_rf_reg_maternal"
      ]
    },
    {
      "cell_type": "code",
      "source": [
        "# Optimal RandomForestRegressor Model based on GridSearch results for maternal features - hard coded to reduce need to run RandomizedSearchCV again\n",
        "\n",
        "optimal_rf_reg_maternal = MultiOutputRegressor(RandomForestRegressor(max_depth=12, n_estimators=950, random_state=42)).fit(X_maternal_train, y_reg_train)"
      ],
      "metadata": {
        "id": "L05WPc8_qOdp"
      },
      "id": "L05WPc8_qOdp",
      "execution_count": null,
      "outputs": []
    },
    {
      "cell_type": "code",
      "source": [
        "# Pickle optimal maternal model\n",
        "joblib.dump(optimal_rf_reg_maternal, 'reg_maternal_model.pkl')"
      ],
      "metadata": {
        "colab": {
          "base_uri": "https://localhost:8080/"
        },
        "id": "lpaqDtv03fAD",
        "outputId": "182778d9-51b7-4270-9988-c47d0730f11b"
      },
      "id": "lpaqDtv03fAD",
      "execution_count": null,
      "outputs": [
        {
          "output_type": "execute_result",
          "data": {
            "text/plain": [
              "['reg_maternal_model.pkl']"
            ]
          },
          "metadata": {},
          "execution_count": 13
        }
      ]
    },
    {
      "cell_type": "code",
      "source": [
        "optimal_rf_reg_maternal = joblib.load('reg_maternal_model.pkl')"
      ],
      "metadata": {
        "id": "UulPhW5Kxt1f"
      },
      "id": "UulPhW5Kxt1f",
      "execution_count": 8,
      "outputs": []
    },
    {
      "cell_type": "markdown",
      "source": [
        "### Combined Model"
      ],
      "metadata": {
        "id": "UbmG0wdGzi8d"
      },
      "id": "UbmG0wdGzi8d"
    },
    {
      "cell_type": "code",
      "execution_count": null,
      "id": "55ae150b",
      "metadata": {
        "id": "55ae150b"
      },
      "outputs": [],
      "source": [
        "# RandomForestClassifier model on combined paternal and maternal features using default hyperparameter values\n",
        "rf_reg_combined = MultiOutputRegressor(RandomForestRegressor(max_depth=20, random_state=42)).fit(X_combined_train, y_reg_train)"
      ]
    },
    {
      "cell_type": "code",
      "execution_count": null,
      "id": "03065c9d",
      "metadata": {
        "id": "03065c9d",
        "colab": {
          "base_uri": "https://localhost:8080/"
        },
        "outputId": "b4d7f9f6-aec2-42da-f4da-56839e2c33e5"
      },
      "outputs": [
        {
          "output_type": "execute_result",
          "data": {
            "text/plain": [
              "array([[  11.04423097, 3287.21054361,   38.26774216],\n",
              "       [  11.17458874, 3265.00916202,   37.95966898],\n",
              "       [  11.12634603, 3056.56636242,   37.33041177],\n",
              "       ...,\n",
              "       [  10.71252286, 3256.777225  ,   37.82706267],\n",
              "       [  11.11888344, 3213.81876954,   38.48181137],\n",
              "       [  10.56187618, 3244.77889299,   38.33209164]])"
            ]
          },
          "metadata": {},
          "execution_count": 41
        }
      ],
      "source": [
        "#predict responses based on the combined RandomForestRegressor model\n",
        "y_pred_rf_reg_combined = rf_reg_combined.predict(X_combined_test)\n",
        "y_pred_rf_reg_combined"
      ]
    },
    {
      "cell_type": "code",
      "source": [
        "# Optimal RandomForestRegressor Model based on GridSearch results for combined paternal and maternal features - hard coded to reduce need to run RandomizedSearchCV again\n",
        "\n",
        "optimal_rf_reg_combined = MultiOutputRegressor(RandomForestRegressor(max_depth=12, n_estimators=350, random_state=42)).fit(X_combined_train, y_reg_train)"
      ],
      "metadata": {
        "id": "N245EA1CqRYA"
      },
      "id": "N245EA1CqRYA",
      "execution_count": null,
      "outputs": []
    },
    {
      "cell_type": "code",
      "source": [
        "#generalization error default paternal RandomForestRegressor model\n",
        "rf_reg_paternal_y_pred = rf_reg_paternal.predict(X_paternal_test)\n",
        "mse_rf_reg_paternal = mean_squared_error(y_reg_test, rf_reg_paternal_y_pred)\n",
        "mse_rf_reg_paternal"
      ],
      "metadata": {
        "colab": {
          "base_uri": "https://localhost:8080/"
        },
        "id": "pe3RdA6XLqiN",
        "outputId": "2be6a1a3-3f2b-4d30-bc54-792c6ad63b16"
      },
      "id": "pe3RdA6XLqiN",
      "execution_count": null,
      "outputs": [
        {
          "output_type": "execute_result",
          "data": {
            "text/plain": [
              "102731.99931139528"
            ]
          },
          "metadata": {},
          "execution_count": 36
        }
      ]
    },
    {
      "cell_type": "code",
      "source": [
        "#generalization error optimal paternal RandomForestRegressor model\n",
        "optimal_rf_reg_paternal_y_pred = optimal_rf_reg_paternal.predict(X_paternal_test)\n",
        "optimal_mse_rf_reg_paternal = mean_squared_error(y_reg_test, optimal_rf_reg_paternal_y_pred)\n",
        "optimal_mse_rf_reg_paternal"
      ],
      "metadata": {
        "colab": {
          "base_uri": "https://localhost:8080/"
        },
        "id": "lYVklfwAqsNS",
        "outputId": "12c28cff-34c7-4380-c255-928a5a6f6a3a"
      },
      "id": "lYVklfwAqsNS",
      "execution_count": null,
      "outputs": [
        {
          "output_type": "execute_result",
          "data": {
            "text/plain": [
              "102267.73397776876"
            ]
          },
          "metadata": {},
          "execution_count": 8
        }
      ]
    },
    {
      "cell_type": "code",
      "source": [
        "#generalization error default maternal RandomForestRegressor model\n",
        "rf_reg_maternal_y_pred = rf_reg_maternal.predict(X_maternal_test)\n",
        "mse_rf_reg_maternal = mean_squared_error(y_reg_test, rf_reg_maternal_y_pred)\n",
        "mse_rf_reg_maternal"
      ],
      "metadata": {
        "colab": {
          "base_uri": "https://localhost:8080/"
        },
        "id": "rPZTVg3LLqvU",
        "outputId": "01a4e488-de05-4571-a05d-55211775c944"
      },
      "id": "rPZTVg3LLqvU",
      "execution_count": null,
      "outputs": [
        {
          "output_type": "execute_result",
          "data": {
            "text/plain": [
              "102429.51807068492"
            ]
          },
          "metadata": {},
          "execution_count": 39
        }
      ]
    },
    {
      "cell_type": "code",
      "source": [
        "#generalization error optimal maternal RandomForestRegressor model\n",
        "optimal_rf_reg_maternal_y_pred = optimal_rf_reg_maternal.predict(X_maternal_test)\n",
        "optimal_mse_rf_reg_maternal = mean_squared_error(y_reg_test, optimal_rf_reg_maternal_y_pred)\n",
        "optimal_mse_rf_reg_maternal"
      ],
      "metadata": {
        "colab": {
          "base_uri": "https://localhost:8080/"
        },
        "id": "sQecj4AjrI05",
        "outputId": "6216ce6b-b54c-42fb-db11-40121c40ed19"
      },
      "id": "sQecj4AjrI05",
      "execution_count": null,
      "outputs": [
        {
          "output_type": "execute_result",
          "data": {
            "text/plain": [
              "101870.9797665844"
            ]
          },
          "metadata": {},
          "execution_count": 10
        }
      ]
    },
    {
      "cell_type": "code",
      "source": [
        "#generalization error default combined RandomForestRegressor model\n",
        "rf_reg_combined_y_pred = rf_reg_combined.predict(X_combined_test)\n",
        "mse_rf_reg_combined = mean_squared_error(y_reg_test, rf_reg_combined_y_pred)\n",
        "mse_rf_reg_combined"
      ],
      "metadata": {
        "colab": {
          "base_uri": "https://localhost:8080/"
        },
        "id": "14adq4ZwLAGN",
        "outputId": "cfdd0036-f76e-4543-8bd6-29a130a0090e"
      },
      "id": "14adq4ZwLAGN",
      "execution_count": null,
      "outputs": [
        {
          "output_type": "execute_result",
          "data": {
            "text/plain": [
              "102165.19081679532"
            ]
          },
          "metadata": {},
          "execution_count": 43
        }
      ]
    },
    {
      "cell_type": "code",
      "source": [
        "#generalization error optimal combined RandomForestRegressor model\n",
        "optimal_rf_reg_combined_y_pred = optimal_rf_reg_combined.predict(X_combined_test)\n",
        "optimal_mse_rf_reg_combined = mean_squared_error(y_reg_test, optimal_rf_reg_combined_y_pred)\n",
        "optimal_mse_rf_reg_combined"
      ],
      "metadata": {
        "id": "HQcS2H4IrSCv"
      },
      "id": "HQcS2H4IrSCv",
      "execution_count": null,
      "outputs": []
    },
    {
      "cell_type": "markdown",
      "id": "5fde1e5f",
      "metadata": {
        "id": "5fde1e5f"
      },
      "source": [
        "### Hyperparameter Tuning for RandomForestRegressor() Models"
      ]
    },
    {
      "cell_type": "code",
      "source": [
        "rf_reg = RandomForestRegressor(n_estimators=100, max_depth=6, min_samples_split=2, random_state=42)\n",
        "reg_model = MultiOutputClassifier(estimator=rf_reg)"
      ],
      "metadata": {
        "id": "vZUEgRYNBXkh"
      },
      "id": "vZUEgRYNBXkh",
      "execution_count": null,
      "outputs": []
    },
    {
      "cell_type": "markdown",
      "id": "32be9470",
      "metadata": {
        "id": "32be9470"
      },
      "source": [
        "#### Paternal Features Model"
      ]
    },
    {
      "cell_type": "code",
      "source": [
        "# Coarse RandomForestRegressor GridSearch - paternal\n",
        "param_grid_coarse_reg_paternal = {'estimator__max_depth':[2, 4, 5, 8],\n",
        "              'estimator__n_estimators':[250, 500, 750, 1000],\n",
        "              'estimator__min_samples_split':[3, 5, 7, 9]}\n",
        "\n",
        "gscv_paternal_reg_coarse = GridSearchCV(reg_model, param_grid_coarse_reg_paternal, n_jobs=-1, cv=3)\n",
        "gscv_paternal_reg_coarse.fit(X_paternal_train, y_clf_train)\n",
        "\n",
        "print(\"The best coarse parameters are: \", gscv_paternal_reg_coarse.best_params_)"
      ],
      "metadata": {
        "id": "s8xxGSOPC-eq"
      },
      "id": "s8xxGSOPC-eq",
      "execution_count": null,
      "outputs": []
    },
    {
      "cell_type": "code",
      "source": [
        "# Refined RandomForestRegressor GridSearch - paternal\n",
        "param_grid_refined_reg_paternal = {'estimator__max_depth':[2, 4, 5, 8],\n",
        "              'estimator__n_estimators':[250, 500, 750, 1000],\n",
        "              'estimator__min_samples_split':[3, 5, 7, 9]}\n",
        "\n",
        "gscv_paternal_reg_refined = GridSearchCV(reg_model, param_grid_refined_reg_paternal, n_jobs=-1, cv=3)\n",
        "gscv_paternal_reg_refined.fit(X_paternal_train, y_clf_train)\n",
        "\n",
        "print(\"The best coarse parameters are: \", gscv_paternal_reg_refined.best_params_)"
      ],
      "metadata": {
        "id": "iU3fJrR0FixA"
      },
      "id": "iU3fJrR0FixA",
      "execution_count": null,
      "outputs": []
    },
    {
      "cell_type": "code",
      "source": [
        "# Final RandomForestRegressor GridSearch - paternal\n",
        "param_grid_final_reg_paternal = {'estimator__max_depth':[2, 4, 5, 8],\n",
        "              'estimator__n_estimators':[250, 500, 750, 1000],\n",
        "              'estimator__min_samples_split':[3, 5, 7, 9]}\n",
        "\n",
        "gscv_paternal_reg_final = GridSearchCV(reg_model, param_grid_final_reg_paternal, n_jobs=-1, cv=3)\n",
        "gscv_paternal_reg_final.fit(X_paternal_train, y_clf_train)\n",
        "\n",
        "print(\"The best coarse parameters are: \", gscv_paternal_reg_final.best_params_)"
      ],
      "metadata": {
        "id": "HhOCR0yQFyYH"
      },
      "id": "HhOCR0yQFyYH",
      "execution_count": null,
      "outputs": []
    },
    {
      "cell_type": "code",
      "execution_count": null,
      "id": "f80a3af0",
      "metadata": {
        "id": "f80a3af0"
      },
      "outputs": [],
      "source": [
        "# Optimal RandomForestRegressor Model based on GridSearch results for paternal features\n",
        "# optimal_rf_reg_paternal = RandomForestRegressor(max_depth=grid_search_cv_final_rf_reg_paternal.best_params_['max_depth'],\n",
        "#                                    n_estimators=grid_search_cv_final_rf_reg_paternal.best_params_['n_estimators'],\n",
        "#                                    min_samples_split=grid_search_cv_final_rf_reg_paternal.best_params_['min_samples_split'],\n",
        "#                                    random_state=42)\n",
        "# optimal_rf_reg_paternal.fit(X_paternal_train, y_reg_train)"
      ]
    },
    {
      "cell_type": "markdown",
      "id": "ff9e18b3",
      "metadata": {
        "id": "ff9e18b3"
      },
      "source": [
        "#### Maternal Features Model"
      ]
    },
    {
      "cell_type": "code",
      "source": [
        "# Coarse RandomForestRegressor GridSearch - maternal\n",
        "param_grid_coarse_reg_maternal = {'estimator__max_depth':[2, 4, 5, 8],\n",
        "              'estimator__n_estimators':[250, 500, 750, 1000],\n",
        "              'estimator__min_samples_split':[3, 5, 7, 9]}\n",
        "\n",
        "gscv_maternal_reg_coarse = GridSearchCV(reg_model, param_grid_coarse_reg_maternal, n_jobs=-1, cv=3)\n",
        "gscv_maternal_reg_coarse.fit(X_maternal_train, y_clf_train)\n",
        "\n",
        "print(\"The best coarse parameters are: \", gscv_maternal_reg_coarse.best_params_)"
      ],
      "metadata": {
        "id": "0QOv46OlJIke"
      },
      "id": "0QOv46OlJIke",
      "execution_count": null,
      "outputs": []
    },
    {
      "cell_type": "code",
      "execution_count": null,
      "id": "4e6f4d97",
      "metadata": {
        "id": "4e6f4d97"
      },
      "outputs": [],
      "source": [
        "# Coarse RandomForestRegressor GridSearch - maternal\n",
        "# param_grid_coarse_maternal = {'estimator__max_depth':[2, 4, 5, 8],\n",
        "#               'estimator__n_estimators':[250, 500, 750, 1000],\n",
        "#               'estimator__min_samples_split':[3, 5, 7, 9]}\n",
        "\n",
        "# gscv_maternal_reg_coarse = GridSearchCV(reg_model, param_grid_coarse_maternal, n_jobs=-1, cv=3)\n",
        "# gscv_maternal_reg_coarse.fit(X_maternal_train, y_clf_train)\n",
        "\n",
        "# print(\"The best coarse parameters are: \", gscv_maternal_reg_coarse.best_params_)"
      ]
    },
    {
      "cell_type": "code",
      "execution_count": null,
      "id": "15800822",
      "metadata": {
        "id": "15800822"
      },
      "outputs": [],
      "source": [
        "# Refined RandomForestRegressor GridSearch - maternal\n",
        "\n",
        "param_grid_refined_rf_reg_maternal = {'max_depth':[4,5,6,7,8], \n",
        "              'n_estimators': [900, 950, 1000, 1050, 1100], \n",
        "              'min_samples_split': [5,6,7,8,9,10,11,12]}\n",
        "\n",
        "grid_search_cv_refined_rf_reg_maternal = GridSearchCV(RandomForestRegressor(random_state=42), \n",
        "                                                      param_grid_refined_rf_reg_maternal, verbose=1, cv=3)\n",
        "grid_search_cv_refined_rf_reg_maternal.fit(X_maternal_train, y_reg_train)\n",
        "\n",
        "print(\"The best parameters are: \", grid_search_cv_refined_rf_reg_maternal.best_params_)"
      ]
    },
    {
      "cell_type": "code",
      "execution_count": null,
      "id": "fab42afb",
      "metadata": {
        "id": "fab42afb"
      },
      "outputs": [],
      "source": [
        "# Final RandomForestRegressor GridSearch - maternal\n",
        "\n",
        "param_grid_final_rf_reg_maternal = {'max_depth':[5], \n",
        "              'n_estimators': [750, 800, 850, 900, 950, 1000], \n",
        "              'min_samples_split': [8]}\n",
        "\n",
        "grid_search_cv_final_rf_reg_maternal = GridSearchCV(RandomForestRegressor(random_state=42), \n",
        "                                                    param_grid_final_rf_reg_maternal, verbose=1, cv=3)\n",
        "grid_search_cv_final_rf_reg_maternal.fit(X_maternal_train, y_reg_train)\n",
        "\n",
        "print(\"The best parameters are: \", grid_search_cv_final_rf_reg_maternal.best_params_)"
      ]
    },
    {
      "cell_type": "code",
      "execution_count": null,
      "id": "813066b4",
      "metadata": {
        "id": "813066b4"
      },
      "outputs": [],
      "source": [
        "# Optimal RandomForestRegressor Model based on GridSearch results for maternal features\n",
        "optimal_rf_reg_maternal = RandomForestRegressor(max_depth=grid_search_cv_final_rf_reg_maternal.best_params_['max_depth'],\n",
        "                                   n_estimators=grid_search_cv_final_rf_reg_maternal.best_params_['n_estimators'],\n",
        "                                   min_samples_split=grid_search_cv_final_rf_reg_maternal.best_params_['min_samples_split'],\n",
        "                                   random_state=42)\n",
        "optimal_rf_reg_maternal.fit(X_maternal_train, y_reg_train)"
      ]
    },
    {
      "cell_type": "markdown",
      "id": "9146e516",
      "metadata": {
        "id": "9146e516"
      },
      "source": [
        "#### Combined Paternal and Maternal Features Model"
      ]
    },
    {
      "cell_type": "code",
      "execution_count": null,
      "id": "5b91bf8a",
      "metadata": {
        "id": "5b91bf8a"
      },
      "outputs": [],
      "source": [
        "# Coarse-Grained RandomForestRegressor GridSearch - combined\n",
        "\n",
        "param_grid_coarse_rf_reg_combined = {'max_depth':[1,2,4,5,8,20], \n",
        "              'n_estimators': [250, 500, 1000], \n",
        "              'min_samples_split': [2,4,5,8,12,20]}\n",
        "\n",
        "grid_search_cv_coarse_rf_reg_combined = GridSearchCV(RandomForestRegressor(random_state=42), \n",
        "                                                     param_grid_coarse_rf_reg_combined, verbose=1, cv=3)\n",
        "grid_search_cv_coarse_rf_reg_combined.fit(X_combined_train, y_reg_train)\n",
        "\n",
        "print(\"The best parameters are: \", grid_search_cv_coarse_rf_reg_combined.best_params_)"
      ]
    },
    {
      "cell_type": "code",
      "execution_count": null,
      "id": "de67fea1",
      "metadata": {
        "id": "de67fea1"
      },
      "outputs": [],
      "source": [
        "# Refined RandomForestRegressor GridSearch - combined\n",
        "\n",
        "param_grid_refined_rf_reg_combined = {'max_depth':[4,5,6,7,8], \n",
        "              'n_estimators': [900, 950, 1000, 1050, 1100], \n",
        "              'min_samples_split': [5,6,7,8,9,10,11,12]}\n",
        "\n",
        "grid_search_cv_refined_rf_reg_combined = GridSearchCV(RandomForestRegressor(random_state=42), \n",
        "                                                      param_grid_refined_rf_reg_combined, verbose=1, cv=3)\n",
        "grid_search_cv_refined_rf_reg_combined.fit(X_combined_train, y_reg_train)\n",
        "\n",
        "print(\"The best parameters are: \", grid_search_cv_refined_rf_reg_combined.best_params_)"
      ]
    },
    {
      "cell_type": "code",
      "execution_count": null,
      "id": "e17b7de3",
      "metadata": {
        "id": "e17b7de3"
      },
      "outputs": [],
      "source": [
        "# Final RandomForestRegressor GridSearch - combined\n",
        "\n",
        "param_grid_final_rf_reg_combined = {'max_depth':[5], \n",
        "              'n_estimators': [750, 800, 850, 900, 950, 1000], \n",
        "              'min_samples_split': [8]}\n",
        "\n",
        "grid_search_cv_final_rf_reg_combined = GridSearchCV(RandomForestRegressor(random_state=42), \n",
        "                                                    param_grid_final_rf_reg_combined, verbose=1, cv=3)\n",
        "grid_search_cv_final_rf_reg_combined.fit(X_combined_train, y_reg_train)\n",
        "\n",
        "print(\"The best parameters are: \", grid_search_cv_final_rf_reg_combined.best_params_)"
      ]
    },
    {
      "cell_type": "code",
      "execution_count": null,
      "id": "7a8f8937",
      "metadata": {
        "id": "7a8f8937"
      },
      "outputs": [],
      "source": [
        "# Optimal RandomForestRegressor Model based on GridSearch results for combined paternal and maternal features\n",
        "optimal_rf_reg_combined = RandomForestRegressor(max_depth=grid_search_cv_final_rf_reg_combined.best_params_['max_depth'],\n",
        "                                   n_estimators=grid_search_cv_final_rf_reg_combined.best_params_['n_estimators'],\n",
        "                                   min_samples_split=grid_search_cv_final_rf_reg_combined.best_params_['min_samples_split'],\n",
        "                                   random_state=42)\n",
        "optimal_rf_reg_combined.fit(X_combined_train, y_reg_train)"
      ]
    },
    {
      "cell_type": "markdown",
      "id": "b2443bec",
      "metadata": {
        "id": "b2443bec"
      },
      "source": [
        "## Permutation Importance for RandomForestRegressor() Models"
      ]
    },
    {
      "cell_type": "markdown",
      "source": [
        "### Paternal Model "
      ],
      "metadata": {
        "id": "FsKSiQ289q4i"
      },
      "id": "FsKSiQ289q4i"
    },
    {
      "cell_type": "code",
      "execution_count": null,
      "id": "8d543514",
      "metadata": {
        "id": "8d543514"
      },
      "outputs": [],
      "source": [
        "# permutation importance for paternal RandomForestRegressor Model\n",
        "r_reg_paternal = permutation_importance(optimal_rf_reg_paternal, X_paternal_test, y_reg_test, n_repeats=10, random_state=42)"
      ]
    },
    {
      "cell_type": "code",
      "source": [
        "joblib.dump(r_reg_paternal, 'pi_reg_paternal.pkl')"
      ],
      "metadata": {
        "id": "1_O5RR9ZMVdt",
        "outputId": "e7bf7d78-5d26-466d-c3b8-9e24be6b8217",
        "colab": {
          "base_uri": "https://localhost:8080/"
        }
      },
      "id": "1_O5RR9ZMVdt",
      "execution_count": null,
      "outputs": [
        {
          "output_type": "execute_result",
          "data": {
            "text/plain": [
              "['pi_reg_paternal.pkl']"
            ]
          },
          "metadata": {},
          "execution_count": 22
        }
      ]
    },
    {
      "cell_type": "code",
      "source": [
        "sorted_importances_idx_reg_paternal = r_reg_paternal.importances_mean.argsort()"
      ],
      "metadata": {
        "id": "R-W7cCyw8sxq"
      },
      "id": "R-W7cCyw8sxq",
      "execution_count": null,
      "outputs": []
    },
    {
      "cell_type": "code",
      "source": [
        "importances_reg_paternal = pd.DataFrame(r_reg_paternal.importances[sorted_importances_idx_reg_paternal].T, columns=X_paternal_test.columns[sorted_importances_idx_reg_paternal])"
      ],
      "metadata": {
        "id": "zKZeY3WF8tqJ"
      },
      "id": "zKZeY3WF8tqJ",
      "execution_count": null,
      "outputs": []
    },
    {
      "cell_type": "code",
      "source": [
        "ax_reg_paternal = importances_reg_paternal.plot.barh(figsize=(24, 18))\n",
        "ax_reg_paternal.set_title('Permutation Importances for Features of the Paternal Regression Model')\n"
      ],
      "metadata": {
        "colab": {
          "base_uri": "https://localhost:8080/",
          "height": 1000
        },
        "id": "76Kn08yV8FuN",
        "outputId": "db209157-d023-499d-954c-e69ae6767ec5"
      },
      "id": "76Kn08yV8FuN",
      "execution_count": null,
      "outputs": [
        {
          "output_type": "execute_result",
          "data": {
            "text/plain": [
              "Text(0.5, 1.0, 'Permutation Importances for Features of the Paternal Regression Model')"
            ]
          },
          "metadata": {},
          "execution_count": 18
        },
        {
          "output_type": "display_data",
          "data": {
            "text/plain": [
              "<Figure size 1728x1296 with 1 Axes>"
            ],
            "image/png": "[encoded data removed]"
          },
          "metadata": {
            "needs_background": "light"
          }
        }
      ]
    },
    {
      "cell_type": "code",
      "execution_count": null,
      "id": "b0e7b99e",
      "metadata": {
        "id": "b0e7b99e",
        "colab": {
          "base_uri": "https://localhost:8080/"
        },
        "outputId": "d1f78f38-410d-476b-e523-1dd73d247e5e"
      },
      "outputs": [
        {
          "output_type": "execute_result",
          "data": {
            "text/plain": [
              "array([ 1.02642744e-02,  7.84430102e-03,  1.25086954e-02,  3.56184495e-04,\n",
              "        4.11938698e-03,  1.32879193e-04,  1.74940543e-05,  3.78597388e-05,\n",
              "       -2.15204325e-06,  1.96444623e-06,  2.06037778e-05,  1.74508315e-07,\n",
              "       -1.23546170e-07,  6.52539687e-05, -5.62930249e-06,  1.37864483e-05,\n",
              "        4.24193527e-06, -1.84552653e-08,  3.22722434e-07,  3.66848664e-07,\n",
              "       -4.04509990e-09,  6.52611215e-07,  3.78421674e-06, -2.04602417e-06,\n",
              "       -8.10943161e-10,  2.30239630e-05,  5.97664768e-08,  0.00000000e+00,\n",
              "        6.20023388e-10, -1.02962291e-05,  1.86591671e-06,  2.96659038e-09,\n",
              "        2.69422640e-03,  2.04237840e-04,  2.44738289e-04,  1.63753281e-03,\n",
              "        1.07875496e-03,  2.80529776e-03,  8.07999334e-03,  6.66149082e-03,\n",
              "        3.43572550e-03,  9.68019007e-03,  3.68487209e-03,  2.01522387e-03])"
            ]
          },
          "metadata": {},
          "execution_count": 19
        }
      ],
      "source": [
        "r_reg_paternal.importances_mean"
      ]
    },
    {
      "cell_type": "code",
      "execution_count": null,
      "id": "86045792",
      "metadata": {
        "id": "86045792",
        "colab": {
          "base_uri": "https://localhost:8080/"
        },
        "outputId": "58c020e1-28a4-4ec4-c95f-c8d95b6d8df7"
      },
      "outputs": [
        {
          "output_type": "execute_result",
          "data": {
            "text/plain": [
              "array([[ 1.04629201e-02,  1.01861770e-02,  1.02094926e-02,\n",
              "         1.00798942e-02,  1.00921630e-02,  1.01184388e-02,\n",
              "         1.03012587e-02,  9.96964355e-03,  1.08483288e-02,\n",
              "         1.03744278e-02],\n",
              "       [ 7.96573593e-03,  7.78619577e-03,  7.64509126e-03,\n",
              "         8.05825943e-03,  7.74163822e-03,  7.59387188e-03,\n",
              "         7.92788454e-03,  7.85516192e-03,  7.85303107e-03,\n",
              "         8.01614021e-03],\n",
              "       [ 1.28066886e-02,  1.23604389e-02,  1.25291129e-02,\n",
              "         1.25007452e-02,  1.24105604e-02,  1.20494709e-02,\n",
              "         1.27864560e-02,  1.27449763e-02,  1.23206628e-02,\n",
              "         1.25778420e-02],\n",
              "       [ 3.64936306e-04,  3.83492271e-04,  3.34484729e-04,\n",
              "         3.19043424e-04,  3.40049136e-04,  3.34542414e-04,\n",
              "         3.57037354e-04,  4.35180213e-04,  3.91219270e-04,\n",
              "         3.01859830e-04],\n",
              "       [ 4.01892309e-03,  4.13095350e-03,  3.89870428e-03,\n",
              "         4.26756004e-03,  4.06790304e-03,  4.24885422e-03,\n",
              "         4.11930818e-03,  4.10051136e-03,  4.33015987e-03,\n",
              "         4.01099222e-03],\n",
              "       [ 1.56305674e-04,  8.54341669e-05,  1.73692051e-04,\n",
              "         1.15439984e-04,  1.09759651e-04,  1.09314232e-04,\n",
              "         1.70851127e-04,  1.75757929e-04,  1.33119615e-04,\n",
              "         9.91175035e-05],\n",
              "       [-1.07113506e-05, -1.53858711e-07,  1.68813279e-05,\n",
              "         5.97555310e-05,  2.41023725e-05, -1.05356315e-05,\n",
              "         4.55227753e-05,  3.14528042e-05,  4.57098417e-06,\n",
              "         1.40555889e-05],\n",
              "       [ 3.10012289e-05,  1.69815149e-05,  2.60924864e-05,\n",
              "         4.76261318e-05,  4.70975914e-05,  2.16471789e-05,\n",
              "         6.43373180e-05,  4.09086131e-05,  3.48467505e-05,\n",
              "         4.80585740e-05],\n",
              "       [-7.35055559e-06, -2.15817071e-05,  2.87899109e-06,\n",
              "         1.23468472e-05, -1.05169755e-05,  3.27365619e-06,\n",
              "         6.93399990e-06, -4.84156698e-06, -1.23135697e-06,\n",
              "        -1.43176487e-06],\n",
              "       [-1.66738097e-05,  2.11736386e-06, -6.75090178e-06,\n",
              "         1.85128097e-05,  9.63431930e-06,  3.50268237e-06,\n",
              "         4.03121137e-06,  3.68094845e-06,  1.12239628e-05,\n",
              "        -9.63412410e-06],\n",
              "       [ 8.53037942e-06, -3.78659143e-06,  6.42404634e-05,\n",
              "         8.39767126e-07,  3.88592520e-05,  3.49618489e-05,\n",
              "         2.31618393e-05,  1.94844423e-05, -5.10030818e-06,\n",
              "         2.48466857e-05],\n",
              "       [-4.42991262e-07, -5.21502825e-07, -1.05296983e-06,\n",
              "        -8.32457136e-07,  1.87987513e-06, -6.16191184e-07,\n",
              "        -1.94622395e-06,  2.42308875e-06,  3.13217467e-06,\n",
              "        -2.77719218e-07],\n",
              "       [-1.88185130e-06, -4.98964638e-07,  4.00309802e-07,\n",
              "         1.00311084e-07,  8.56985405e-07,  1.18208553e-06,\n",
              "        -6.38893710e-07,  2.76384064e-07, -8.91699637e-07,\n",
              "        -1.40128297e-07],\n",
              "       [ 7.11014666e-05,  6.48819248e-05,  7.46655824e-05,\n",
              "         5.44967861e-05,  7.01657969e-05,  7.45055411e-05,\n",
              "         6.01160343e-05,  7.61423614e-05,  6.58883798e-05,\n",
              "         4.05758141e-05],\n",
              "       [-1.57685229e-05, -9.82031447e-06,  2.26113200e-05,\n",
              "        -1.13990356e-05, -1.39424140e-05, -7.28508842e-06,\n",
              "        -4.06122167e-06, -2.09473600e-06, -1.37777196e-05,\n",
              "        -7.55292347e-07],\n",
              "       [ 8.32583205e-06,  8.42528298e-06,  2.09646349e-05,\n",
              "         7.11154728e-06,  1.81574752e-05,  3.72000892e-05,\n",
              "         2.86798449e-05,  3.99586454e-06, -2.80367920e-07,\n",
              "         5.28428041e-06],\n",
              "       [ 9.21543452e-06, -2.16591951e-07, -4.45980820e-06,\n",
              "         9.69904605e-06,  1.00092219e-05,  2.30670231e-05,\n",
              "         7.75716586e-06,  9.29150513e-06, -1.97019468e-05,\n",
              "        -2.24169703e-06],\n",
              "       [-1.60002034e-07,  4.19461063e-08,  0.00000000e+00,\n",
              "        -2.55049130e-09, -6.45212994e-10,  0.00000000e+00,\n",
              "         0.00000000e+00, -4.68208358e-09,  0.00000000e+00,\n",
              "        -5.86189375e-08],\n",
              "       [-1.80114273e-06, -1.84145887e-08,  5.28435135e-07,\n",
              "        -1.84145887e-08,  7.55751010e-08, -1.21470994e-08,\n",
              "        -1.91797685e-08,  3.78919746e-10,  4.51054854e-06,\n",
              "        -1.84145887e-08],\n",
              "       [ 1.00101358e-06, -6.09405250e-06,  2.79723921e-06,\n",
              "         1.72540049e-06,  2.14056278e-06,  6.08227205e-06,\n",
              "         1.97351227e-06,  1.62006286e-07, -3.78287589e-06,\n",
              "        -2.33659164e-06],\n",
              "       [-4.61767654e-09, -1.41488433e-08, -4.61767654e-09,\n",
              "        -4.61767654e-09, -4.61767654e-09, -4.61767654e-09,\n",
              "        -4.61767654e-09, -4.61767654e-09,  2.25786341e-08,\n",
              "        -1.65570540e-08],\n",
              "       [ 7.53089411e-07,  7.83820622e-07, -7.25743208e-07,\n",
              "         4.64713612e-07,  3.50839965e-07,  1.23701659e-06,\n",
              "         7.96761817e-07,  8.84569176e-07,  8.01864613e-07,\n",
              "         1.17917954e-06],\n",
              "       [ 1.56937856e-06,  2.91239204e-06,  3.08317062e-06,\n",
              "         2.11955894e-06,  1.66040742e-06,  2.12050618e-06,\n",
              "         1.39303008e-05,  2.99490967e-06,  1.30703434e-06,\n",
              "         6.14450886e-06],\n",
              "       [-3.01357854e-06, -3.58427149e-06, -1.52360381e-06,\n",
              "        -2.92459158e-06, -1.33961256e-06, -1.45426286e-06,\n",
              "        -1.86766239e-06, -2.62630009e-06, -5.80335948e-07,\n",
              "        -1.54602244e-06],\n",
              "       [ 0.00000000e+00,  0.00000000e+00,  0.00000000e+00,\n",
              "         0.00000000e+00,  6.01671498e-09,  4.40184230e-09,\n",
              "        -1.85279889e-08,  0.00000000e+00,  0.00000000e+00,\n",
              "         0.00000000e+00],\n",
              "       [ 2.35004166e-05,  3.39277016e-05,  3.19381479e-05,\n",
              "         1.73377201e-05,  2.22796149e-05,  1.82094386e-05,\n",
              "         4.49563465e-07,  2.20460836e-05,  1.26020518e-05,\n",
              "         4.79488913e-05],\n",
              "       [-1.72962128e-07,  4.56513908e-08,  4.56513908e-08,\n",
              "         4.00819220e-07,  2.69723360e-07, -2.17765144e-08,\n",
              "         4.85792785e-08, -1.09324012e-07,  4.56513908e-08,\n",
              "         4.56513908e-08],\n",
              "       [ 0.00000000e+00,  0.00000000e+00,  0.00000000e+00,\n",
              "         0.00000000e+00,  0.00000000e+00,  0.00000000e+00,\n",
              "         0.00000000e+00,  0.00000000e+00,  0.00000000e+00,\n",
              "         0.00000000e+00],\n",
              "       [ 0.00000000e+00,  0.00000000e+00,  0.00000000e+00,\n",
              "         0.00000000e+00, -3.61726060e-09,  9.81749448e-09,\n",
              "         0.00000000e+00,  0.00000000e+00,  0.00000000e+00,\n",
              "         0.00000000e+00],\n",
              "       [ 3.40945546e-05, -1.74259759e-05, -1.53719832e-05,\n",
              "        -1.31999516e-05, -1.56872285e-05, -1.19410667e-05,\n",
              "        -1.56392896e-05,  4.17442119e-05, -7.22590438e-05,\n",
              "        -1.72765184e-05],\n",
              "       [ 2.43933131e-06,  1.49446807e-06,  2.13111959e-06,\n",
              "         1.79020545e-06,  7.35569695e-06,  2.85527668e-06,\n",
              "         2.38391613e-06,  1.68428771e-06,  1.79540878e-06,\n",
              "        -5.27054362e-06],\n",
              "       [ 2.23853317e-08,  0.00000000e+00,  0.00000000e+00,\n",
              "         0.00000000e+00, -7.46023634e-08,  0.00000000e+00,\n",
              "         8.51575977e-08,  0.00000000e+00, -3.27466225e-09,\n",
              "         0.00000000e+00],\n",
              "       [ 2.77721512e-03,  2.54680824e-03,  2.68327222e-03,\n",
              "         2.71714445e-03,  2.89010654e-03,  2.56618343e-03,\n",
              "         2.86729356e-03,  2.58659681e-03,  2.61694033e-03,\n",
              "         2.69070327e-03],\n",
              "       [ 1.78186711e-04,  1.95728138e-04,  1.85458498e-04,\n",
              "         1.70516894e-04,  2.93219059e-04,  1.62729559e-04,\n",
              "         2.21040596e-04,  1.14131939e-04,  2.92519866e-04,\n",
              "         2.28847143e-04],\n",
              "       [ 2.14290825e-04,  2.39731592e-04,  2.32056290e-04,\n",
              "         2.84077397e-04,  2.58095183e-04,  2.18282290e-04,\n",
              "         2.20892704e-04,  3.08372602e-04,  1.88833453e-04,\n",
              "         2.82750553e-04],\n",
              "       [ 1.73959816e-03,  1.58158491e-03,  1.72910160e-03,\n",
              "         1.66541017e-03,  1.47151397e-03,  1.66604433e-03,\n",
              "         1.63365323e-03,  1.63662812e-03,  1.70530364e-03,\n",
              "         1.54648997e-03],\n",
              "       [ 1.05406395e-03,  1.08007630e-03,  1.01491522e-03,\n",
              "         1.03449620e-03,  1.06455854e-03,  9.27888921e-04,\n",
              "         1.08438083e-03,  1.17882691e-03,  1.18053784e-03,\n",
              "         1.16780493e-03],\n",
              "       [ 2.85330344e-03,  2.63110105e-03,  2.58189249e-03,\n",
              "         2.80389667e-03,  2.99849665e-03,  2.71846348e-03,\n",
              "         2.93702849e-03,  2.94633613e-03,  2.77976798e-03,\n",
              "         2.80269121e-03],\n",
              "       [ 8.14405036e-03,  8.14598931e-03,  8.18091448e-03,\n",
              "         7.92919333e-03,  8.47152185e-03,  8.03470739e-03,\n",
              "         7.90539916e-03,  8.11446769e-03,  7.96650585e-03,\n",
              "         7.90718399e-03],\n",
              "       [ 6.64099669e-03,  6.69380110e-03,  6.55182120e-03,\n",
              "         6.63969848e-03,  6.78908770e-03,  6.71592852e-03,\n",
              "         6.67731565e-03,  6.74081572e-03,  6.51302393e-03,\n",
              "         6.65241920e-03],\n",
              "       [ 3.43358331e-03,  3.41495064e-03,  3.52169327e-03,\n",
              "         3.42931712e-03,  3.52103917e-03,  3.43466835e-03,\n",
              "         3.39250485e-03,  3.38169677e-03,  3.46400565e-03,\n",
              "         3.36379592e-03],\n",
              "       [ 9.67035127e-03,  9.58895968e-03,  9.65520158e-03,\n",
              "         9.79960945e-03,  1.00975405e-02,  9.59296071e-03,\n",
              "         9.60269891e-03,  9.76107446e-03,  9.60177178e-03,\n",
              "         9.43173232e-03],\n",
              "       [ 3.76795747e-03,  3.66108773e-03,  3.68960144e-03,\n",
              "         3.68380068e-03,  3.66757324e-03,  3.68642638e-03,\n",
              "         3.76734723e-03,  3.56317876e-03,  3.71303897e-03,\n",
              "         3.64870897e-03],\n",
              "       [ 2.02973265e-03,  2.04837226e-03,  2.05629061e-03,\n",
              "         2.04967641e-03,  1.93854360e-03,  2.10599912e-03,\n",
              "         1.90807992e-03,  1.95487403e-03,  2.10255639e-03,\n",
              "         1.95811372e-03]])"
            ]
          },
          "metadata": {},
          "execution_count": 20
        }
      ],
      "source": [
        "r_reg_paternal.importances"
      ]
    },
    {
      "cell_type": "markdown",
      "source": [
        "### Maternal Model"
      ],
      "metadata": {
        "id": "umnQmpav9uCq"
      },
      "id": "umnQmpav9uCq"
    },
    {
      "cell_type": "code",
      "execution_count": 9,
      "id": "ea9bb582",
      "metadata": {
        "id": "ea9bb582"
      },
      "outputs": [],
      "source": [
        "# permutation importance for maternal RandomForestRegressor Model\n",
        "r_reg_maternal = permutation_importance(optimal_rf_reg_maternal, X_maternal_test, y_reg_test, n_repeats=10, random_state=42)"
      ]
    },
    {
      "cell_type": "code",
      "source": [
        "joblib.dump(r_reg_maternal, 'pi_reg_maternal.pkl')"
      ],
      "metadata": {
        "colab": {
          "base_uri": "https://localhost:8080/"
        },
        "id": "0tjYvIyGydI-",
        "outputId": "29308fbb-1c46-4ef5-9cec-6a76d35e3b1b"
      },
      "id": "0tjYvIyGydI-",
      "execution_count": 10,
      "outputs": [
        {
          "output_type": "execute_result",
          "data": {
            "text/plain": [
              "['pi_reg_maternal.pkl']"
            ]
          },
          "metadata": {},
          "execution_count": 10
        }
      ]
    },
    {
      "cell_type": "code",
      "source": [
        "sorted_importances_idx_reg_maternal = r_reg_maternal.importances_mean.argsort()"
      ],
      "metadata": {
        "id": "qVnZOnUs9K46"
      },
      "id": "qVnZOnUs9K46",
      "execution_count": 11,
      "outputs": []
    },
    {
      "cell_type": "code",
      "source": [
        "importances_reg_maternal = pd.DataFrame(r_reg_maternal.importances[sorted_importances_idx_reg_maternal].T, columns=X_maternal_test.columns[sorted_importances_idx_reg_maternal])"
      ],
      "metadata": {
        "id": "4p9Buqya9LAR"
      },
      "id": "4p9Buqya9LAR",
      "execution_count": 12,
      "outputs": []
    },
    {
      "cell_type": "code",
      "source": [
        "ax_reg_maternal = importances_reg_maternal.plot.barh(figsize=(24, 18))\n",
        "ax_reg_maternal.set_title('Permutation Importances for Features of the Maternal Regression Model')"
      ],
      "metadata": {
        "id": "CL0c-kol8R1E",
        "colab": {
          "base_uri": "https://localhost:8080/",
          "height": 1000
        },
        "outputId": "9de3b28a-990e-4f46-9ae3-fac991142339"
      },
      "id": "CL0c-kol8R1E",
      "execution_count": 13,
      "outputs": [
        {
          "output_type": "execute_result",
          "data": {
            "text/plain": [
              "Text(0.5, 1.0, 'Permutation Importances for Features of the Maternal Regression Model')"
            ]
          },
          "metadata": {},
          "execution_count": 13
        },
        {
          "output_type": "display_data",
          "data": {
            "text/plain": [
              "<Figure size 1728x1296 with 1 Axes>"
            ],
            "image/png": "[encoded data removed]"
          },
          "metadata": {
            "needs_background": "light"
          }
        }
      ]
    },
    {
      "cell_type": "code",
      "execution_count": 14,
      "id": "2d156271",
      "metadata": {
        "id": "2d156271",
        "colab": {
          "base_uri": "https://localhost:8080/"
        },
        "outputId": "36cdafd6-9128-4118-c676-3e73efeee907"
      },
      "outputs": [
        {
          "output_type": "execute_result",
          "data": {
            "text/plain": [
              "array([ 7.13761056e-03,  1.19723272e-02,  5.24614367e-03,  1.08975683e-02,\n",
              "        1.15517284e-02,  7.57996736e-03,  2.11702250e-02,  1.36433772e-02,\n",
              "        3.65396262e-03,  1.37368048e-02,  4.38427197e-04,  3.84597099e-03,\n",
              "        2.69423959e-04,  1.00009426e-04,  2.47767795e-05, -1.82975459e-05,\n",
              "        1.13571188e-05,  1.22341907e-05,  1.65987368e-06, -4.64879119e-07,\n",
              "        1.98068210e-05,  2.24534543e-05,  5.98487968e-06, -1.11996917e-06,\n",
              "       -2.39952668e-06,  1.08731345e-07, -4.99881436e-05,  4.31660766e-07,\n",
              "       -1.12580563e-06, -2.34158448e-06,  1.73579526e-07,  0.00000000e+00,\n",
              "        6.44051494e-06,  2.56994159e-07,  0.00000000e+00,  3.56196709e-09,\n",
              "        9.50783252e-07,  1.37519425e-06,  1.40200111e-06,  4.09362174e-03,\n",
              "        4.57661395e-04,  1.57390831e-04,  2.43365117e-03,  9.20347855e-04])"
            ]
          },
          "metadata": {},
          "execution_count": 14
        }
      ],
      "source": [
        "r_reg_maternal.importances_mean"
      ]
    },
    {
      "cell_type": "code",
      "execution_count": 15,
      "id": "7ea5812a",
      "metadata": {
        "id": "7ea5812a",
        "colab": {
          "base_uri": "https://localhost:8080/"
        },
        "outputId": "660805cb-dad7-41ce-c8cf-32f8b5979b64"
      },
      "outputs": [
        {
          "output_type": "execute_result",
          "data": {
            "text/plain": [
              "array([[ 7.45858084e-03,  7.01462236e-03,  7.26343003e-03,\n",
              "         7.04502412e-03,  7.23569873e-03,  6.96506674e-03,\n",
              "         7.08981059e-03,  6.96510371e-03,  7.22497673e-03,\n",
              "         7.11379175e-03],\n",
              "       [ 1.19558538e-02,  1.19322728e-02,  1.18560185e-02,\n",
              "         1.20617088e-02,  1.16686862e-02,  1.18465395e-02,\n",
              "         1.21601280e-02,  1.18174721e-02,  1.20952167e-02,\n",
              "         1.23293754e-02],\n",
              "       [ 5.18295939e-03,  5.40335474e-03,  5.36416924e-03,\n",
              "         5.09461994e-03,  5.36556409e-03,  5.04534738e-03,\n",
              "         5.32840073e-03,  5.23480656e-03,  5.21510716e-03,\n",
              "         5.22710746e-03],\n",
              "       [ 1.07249331e-02,  1.07009255e-02,  1.07597195e-02,\n",
              "         1.12655050e-02,  1.11016594e-02,  1.10019647e-02,\n",
              "         1.09018456e-02,  1.11287737e-02,  1.07360412e-02,\n",
              "         1.06543151e-02],\n",
              "       [ 1.13709055e-02,  1.17705558e-02,  1.14979863e-02,\n",
              "         1.16282288e-02,  1.16688934e-02,  1.16129871e-02,\n",
              "         1.15026734e-02,  1.15932374e-02,  1.13452433e-02,\n",
              "         1.15265731e-02],\n",
              "       [ 7.69464016e-03,  7.63781719e-03,  7.48001211e-03,\n",
              "         7.55504087e-03,  7.62102400e-03,  7.60415852e-03,\n",
              "         7.60834985e-03,  7.39162676e-03,  7.55394960e-03,\n",
              "         7.65305452e-03],\n",
              "       [ 2.09361846e-02,  2.14703461e-02,  2.12126974e-02,\n",
              "         2.15759448e-02,  2.10725161e-02,  2.07313563e-02,\n",
              "         2.10079323e-02,  2.12879489e-02,  2.11855623e-02,\n",
              "         2.12217608e-02],\n",
              "       [ 1.37253935e-02,  1.35300481e-02,  1.33693374e-02,\n",
              "         1.35757755e-02,  1.38836307e-02,  1.37288678e-02,\n",
              "         1.38399013e-02,  1.34990882e-02,  1.37266065e-02,\n",
              "         1.35551230e-02],\n",
              "       [ 3.66573795e-03,  3.64520312e-03,  3.70067047e-03,\n",
              "         3.63352476e-03,  3.63574225e-03,  3.63810296e-03,\n",
              "         3.70104891e-03,  3.65298562e-03,  3.63710897e-03,\n",
              "         3.62950115e-03],\n",
              "       [ 1.44537671e-02,  1.38647708e-02,  1.36315450e-02,\n",
              "         1.36531547e-02,  1.33551911e-02,  1.31406798e-02,\n",
              "         1.38450774e-02,  1.35276055e-02,  1.37607610e-02,\n",
              "         1.41354955e-02],\n",
              "       [ 4.86917396e-04,  5.05961860e-04,  3.80333671e-04,\n",
              "         3.74446807e-04,  4.61864604e-04,  4.16987801e-04,\n",
              "         4.64165025e-04,  3.70059613e-04,  4.17878241e-04,\n",
              "         5.05656956e-04],\n",
              "       [ 3.60772842e-03,  4.00604136e-03,  3.61473329e-03,\n",
              "         3.79635416e-03,  3.82091000e-03,  3.72799345e-03,\n",
              "         4.11711553e-03,  3.96928988e-03,  3.94965101e-03,\n",
              "         3.84989282e-03],\n",
              "       [ 2.66996494e-04,  2.09538762e-04,  2.62555465e-04,\n",
              "         3.39553670e-04,  2.27983462e-04,  2.45212107e-04,\n",
              "         2.87654601e-04,  2.90488150e-04,  2.85161017e-04,\n",
              "         2.79095863e-04],\n",
              "       [ 1.15064642e-04,  1.16544390e-04,  9.72343021e-05,\n",
              "         9.50278621e-05,  6.68550422e-05,  6.59554382e-05,\n",
              "         1.72078441e-04,  8.60937877e-05,  7.23604080e-05,\n",
              "         1.12879942e-04],\n",
              "       [ 2.84782404e-05,  1.56267500e-05,  1.76538659e-05,\n",
              "         2.27326052e-05,  6.18088703e-05,  2.61618999e-05,\n",
              "         2.39227399e-05,  1.79958571e-05,  1.43829705e-05,\n",
              "         1.90039959e-05],\n",
              "       [-2.89879720e-05,  4.25567970e-06, -2.27973033e-05,\n",
              "        -3.88261064e-05, -7.28345318e-06, -3.79202660e-05,\n",
              "         2.21113435e-06,  9.41744823e-06, -2.68973762e-05,\n",
              "        -3.61472440e-05],\n",
              "       [ 2.44681036e-05,  1.20531309e-05, -1.71554192e-05,\n",
              "         4.21824538e-06, -1.49119423e-05,  9.69438790e-06,\n",
              "        -1.47077370e-05,  8.85012409e-05,  1.55541524e-05,\n",
              "         5.85702571e-06],\n",
              "       [ 1.81064325e-05,  2.61341567e-05, -5.68756460e-06,\n",
              "         4.44811305e-05,  1.48602346e-05, -6.06632438e-06,\n",
              "         1.37552377e-05,  6.06228053e-07,  3.59161264e-05,\n",
              "        -1.97637508e-05],\n",
              "       [ 4.18182648e-06, -1.06424993e-06,  8.83667856e-07,\n",
              "        -2.19637448e-06, -1.86980423e-06, -1.62198610e-06,\n",
              "        -3.18781365e-06,  8.79097662e-06,  5.79142604e-06,\n",
              "         6.89106822e-06],\n",
              "       [ 4.39014701e-06, -2.00821041e-06, -1.50797151e-07,\n",
              "        -2.03769801e-06, -6.09334944e-07, -6.87084793e-07,\n",
              "        -6.88334621e-07, -1.56930342e-06, -7.68184505e-07,\n",
              "        -5.19990348e-07],\n",
              "       [-5.44559114e-06,  6.53892311e-05,  3.34499949e-05,\n",
              "        -4.56455118e-06,  3.43884948e-05,  1.49889556e-05,\n",
              "         1.00234014e-05,  1.01279161e-05,  1.60451762e-05,\n",
              "         2.36651819e-05],\n",
              "       [ 1.86960062e-05,  2.92756478e-05,  1.61594145e-05,\n",
              "         1.58737239e-05,  1.49161567e-05,  2.50492371e-05,\n",
              "         3.50593641e-05,  1.66967464e-05,  2.55156997e-05,\n",
              "         2.72925466e-05],\n",
              "       [-6.00811940e-06, -2.53413781e-06,  1.03433757e-05,\n",
              "         1.67310916e-06,  2.07728494e-06,  7.17310090e-06,\n",
              "         2.48999221e-05,  1.60666279e-05,  6.62221502e-06,\n",
              "        -4.64581720e-07],\n",
              "       [ 1.57302567e-05,  9.84583336e-06,  8.21460986e-06,\n",
              "        -9.95949987e-06, -3.69076367e-06, -4.22971566e-06,\n",
              "        -6.92694042e-07, -1.68122387e-06, -1.80996061e-05,\n",
              "        -6.63688835e-06],\n",
              "       [-2.16478274e-06, -2.23218550e-06, -2.59548617e-06,\n",
              "        -2.35394644e-06, -2.51002658e-06, -2.52426722e-06,\n",
              "        -2.50177692e-06, -2.52898483e-06, -2.85337230e-06,\n",
              "        -1.73043811e-06],\n",
              "       [-6.40449336e-08, -6.40449336e-08, -1.56766166e-07,\n",
              "        -6.40449336e-08, -6.40449336e-08, -6.40449336e-08,\n",
              "        -5.34026546e-08,  1.29584670e-06,  3.85905174e-07,\n",
              "        -6.40449336e-08],\n",
              "       [-4.97237636e-05, -3.11613770e-05, -8.08463520e-05,\n",
              "        -3.43395979e-06, -7.57979726e-05, -2.96980603e-06,\n",
              "        -1.41782929e-05, -6.96700632e-05, -8.16874240e-05,\n",
              "        -9.04124248e-05],\n",
              "       [ 3.86848760e-07,  2.20825930e-07,  6.59961869e-07,\n",
              "         2.92180443e-06,  3.17735037e-07, -1.40292173e-06,\n",
              "         1.22950896e-07,  2.26403896e-07,  1.26042823e-07,\n",
              "         7.36955741e-07],\n",
              "       [ 9.28031406e-06,  1.26176120e-06, -2.55926622e-06,\n",
              "        -1.92692528e-06, -5.07542095e-06, -1.27750186e-07,\n",
              "        -2.55945842e-06, -4.37888719e-06, -2.51604042e-06,\n",
              "        -2.65638289e-06],\n",
              "       [-6.16846291e-06, -3.64451466e-07, -3.10052901e-06,\n",
              "         7.63059873e-06,  1.24191915e-06, -1.25169977e-06,\n",
              "        -1.86944788e-05, -1.26869162e-07,  2.84134810e-07,\n",
              "        -2.86600633e-06],\n",
              "       [ 4.34540934e-07,  5.63881229e-07,  2.54724086e-07,\n",
              "        -3.14441265e-08,  1.21085565e-07, -1.59368698e-07,\n",
              "         1.91453006e-07,  1.63351062e-07,  8.80171888e-08,\n",
              "         1.09555011e-07],\n",
              "       [ 0.00000000e+00,  0.00000000e+00,  0.00000000e+00,\n",
              "         0.00000000e+00,  0.00000000e+00,  0.00000000e+00,\n",
              "         0.00000000e+00,  0.00000000e+00,  0.00000000e+00,\n",
              "         0.00000000e+00],\n",
              "       [ 2.25454078e-05,  2.90925210e-06,  1.51406514e-05,\n",
              "        -6.50465267e-06,  3.20308012e-05,  3.20103830e-07,\n",
              "        -2.53907003e-06,  5.59111643e-06, -2.09263001e-05,\n",
              "         1.58378394e-05],\n",
              "       [-1.95532278e-07, -9.07991156e-08, -9.56487202e-08,\n",
              "         1.94182633e-06,  1.23525017e-07, -1.02807990e-07,\n",
              "        -8.37178561e-08,  1.41748707e-06, -8.37178561e-08,\n",
              "        -2.60673011e-07],\n",
              "       [ 0.00000000e+00,  0.00000000e+00,  0.00000000e+00,\n",
              "         0.00000000e+00,  0.00000000e+00,  0.00000000e+00,\n",
              "         0.00000000e+00,  0.00000000e+00,  0.00000000e+00,\n",
              "         0.00000000e+00],\n",
              "       [ 3.56196709e-09,  3.56196709e-09,  3.56196709e-09,\n",
              "         3.56196709e-09,  3.56196709e-09,  3.56196709e-09,\n",
              "         3.56196709e-09,  3.56196709e-09,  3.56196709e-09,\n",
              "         3.56196709e-09],\n",
              "       [ 7.65438703e-07,  8.27858088e-07,  1.81337378e-06,\n",
              "         1.16213168e-06,  7.64839216e-07,  6.61260329e-07,\n",
              "         8.01551940e-07,  6.59682151e-07,  7.64839216e-07,\n",
              "         1.28685742e-06],\n",
              "       [ 2.06842748e-07, -1.84900443e-06,  7.77622651e-06,\n",
              "        -1.21077276e-06,  3.38571757e-07,  5.85021869e-07,\n",
              "         6.33252369e-07,  3.13904372e-06,  3.93423718e-07,\n",
              "         3.73933695e-06],\n",
              "       [ 3.21216153e-08,  3.54273514e-09, -3.24800895e-08,\n",
              "         6.49707859e-08, -1.87267207e-08,  1.10317014e-08,\n",
              "        -1.62828879e-08,  1.49675448e-05, -1.22659259e-08,\n",
              "        -9.79444905e-07],\n",
              "       [ 4.38618593e-03,  4.21693881e-03,  4.16585795e-03,\n",
              "         4.24240401e-03,  4.26494178e-03,  4.17105498e-03,\n",
              "         3.91896645e-03,  3.93074491e-03,  3.80313106e-03,\n",
              "         3.83599155e-03],\n",
              "       [ 5.43932606e-04,  3.95912297e-04,  5.37907863e-04,\n",
              "         5.73274469e-04,  4.13311021e-04,  4.35955021e-04,\n",
              "         5.61233959e-04,  4.24742487e-04,  4.09093412e-04,\n",
              "         2.81250819e-04],\n",
              "       [ 1.80766571e-04,  2.05321803e-04,  1.51073889e-04,\n",
              "         9.91402714e-05,  1.60469836e-04,  1.54790912e-04,\n",
              "         1.73688266e-04,  1.75577666e-04,  1.36681521e-04,\n",
              "         1.36397574e-04],\n",
              "       [ 2.21379991e-03,  2.56314438e-03,  2.37549420e-03,\n",
              "         2.51121253e-03,  2.20179712e-03,  2.60831683e-03,\n",
              "         2.45000612e-03,  2.70449967e-03,  2.36200571e-03,\n",
              "         2.34623524e-03],\n",
              "       [ 9.21102765e-04,  8.71299748e-04,  9.46073621e-04,\n",
              "         9.16578756e-04,  9.96681099e-04,  9.01706244e-04,\n",
              "         9.90290696e-04,  9.00712137e-04,  9.00111447e-04,\n",
              "         8.58922038e-04]])"
            ]
          },
          "metadata": {},
          "execution_count": 15
        }
      ],
      "source": [
        "r_reg_maternal.importances"
      ]
    },
    {
      "cell_type": "markdown",
      "source": [
        "### Combined Model"
      ],
      "metadata": {
        "id": "R8SBVF-29x1j"
      },
      "id": "R8SBVF-29x1j"
    },
    {
      "cell_type": "code",
      "execution_count": null,
      "id": "bc5e6bd6",
      "metadata": {
        "id": "bc5e6bd6"
      },
      "outputs": [],
      "source": [
        "# permutation importance for combined RandomForestRegressor Model\n",
        "r_reg_combined = permutation_importance(rf_reg_combined, X_combined_test, y_reg_test, n_repeats=10, random_state=42)"
      ]
    },
    {
      "cell_type": "code",
      "source": [
        "sorted_importances_idx_reg_combined = r_reg_combined.importances_mean.argsort()"
      ],
      "metadata": {
        "id": "-C3tF4lP90sR"
      },
      "id": "-C3tF4lP90sR",
      "execution_count": null,
      "outputs": []
    },
    {
      "cell_type": "code",
      "source": [
        "importances_reg_combined = pd.DataFrame(r_reg_combined.importances[sorted_importances_idx_reg_combined].T, columns=X_combined_test.columns[sorted_importances_idx_reg_combined])"
      ],
      "metadata": {
        "id": "Iz2MFnKa90vp"
      },
      "id": "Iz2MFnKa90vp",
      "execution_count": null,
      "outputs": []
    },
    {
      "cell_type": "code",
      "source": [
        "ax_reg_combined = importances_reg_combined.plot.barh(figsize=(24, 18))\n",
        "ax_reg_combined.set_title('Permutation Importances for Features of the Combined Paternal and Maternal Regression Model')"
      ],
      "metadata": {
        "id": "QbGINITR91Nh"
      },
      "id": "QbGINITR91Nh",
      "execution_count": null,
      "outputs": []
    },
    {
      "cell_type": "code",
      "execution_count": null,
      "id": "370a3d70",
      "metadata": {
        "id": "370a3d70"
      },
      "outputs": [],
      "source": [
        "r_reg_combined.importances_mean"
      ]
    },
    {
      "cell_type": "code",
      "execution_count": null,
      "id": "d96f8bc1",
      "metadata": {
        "id": "d96f8bc1"
      },
      "outputs": [],
      "source": [
        "r_reg_combined.importances"
      ]
    },
    {
      "cell_type": "markdown",
      "source": [
        "## Visual Comparison of MultiOutputRegressor Models"
      ],
      "metadata": {
        "id": "W3UO6kOb7JB2"
      },
      "id": "W3UO6kOb7JB2"
    },
    {
      "cell_type": "code",
      "source": [
        "# Plot the results\n",
        "plt.figure()\n",
        "s = 50\n",
        "a = 0.4\n",
        "# Data\n",
        "plt.scatter(\n",
        "    y_reg_test[:, 0],\n",
        "    y_reg_test[:, 1],\n",
        "    y_reg_test[:, 2],\n",
        "    edgecolor=\"k\",\n",
        "    c=\"navy\",\n",
        "    s=s,\n",
        "    marker=\"s\",\n",
        "    alpha=a,\n",
        "    label=\"Data\",\n",
        ")\n",
        "# Paternal features\n",
        "plt.scatter(\n",
        "    optimal_rf_reg_paternal_y_pred[:, 0],\n",
        "    optimal_rf_reg_paternal_y_pred[:, 1],\n",
        "    optimal_rf_reg_paternal_y_pred[:, 2],\n",
        "    edgecolor=\"k\",\n",
        "    c=\"cornflowerblue\",\n",
        "    s=s,\n",
        "    marker='o'\n",
        "    alpha=a,\n",
        "    label=\"MultiOutputRegressor RF Paternal score=%.2f\" % optimal_rf_reg_paternal.score(X_paternal_test, y_reg_test),\n",
        ")\n",
        "# Maternal features  *** USE BEST MODEL\n",
        "plt.scatter(\n",
        "    y_pred_rf_reg_maternal[:, 0],\n",
        "    y_pred_rf_reg_maternal[:, 1],\n",
        "    y_pred_rf_reg_maternal[:, 2],\n",
        "    edgecolor=\"k\",\n",
        "    c=\"lightsteelblue\",\n",
        "    s=s,\n",
        "    marker='^'\n",
        "    alpha=a,\n",
        "    label=\"MultiOutputRegressor RF Maternal score=%.2f\" % rf_reg_maternal.score(X_maternal_test, y_reg_test),\n",
        ")\n",
        "# Combined Paternal and Maternal features  ***USE BEST MODEL\n",
        "plt.scatter(\n",
        "    y_pred_rf_reg_combined[:, 0],\n",
        "    y_pred_rf_reg_combined[:, 1],\n",
        "    y_pred_rf_reg_combined[:, 2],\n",
        "    edgecolor=\"k\",\n",
        "    c=\"mediumpurple\",\n",
        "    s=s,\n",
        "    marker='*'\n",
        "    alpha=a,\n",
        "    label=\"MultiOutputRegressor RF Combined Paternal & Maternal score=%.2f\" % rf_reg_combined.score(X_combined_test, y_reg_test),\n",
        ")\n",
        "\n",
        "plt.xlim([-6, 6])\n",
        "plt.ylim([-6, 6])\n",
        "plt.zlim([-6, 6])\n",
        "plt.xlabel(\"Prenatal Visits\")\n",
        "plt.ylabel(\"Birth Weight\")\n",
        "plt.zlabel('Gestational Age')\n",
        "plt.title(\"Comparing MultiOutputRegressor Models with Paternal, Maternal, and Combined Features\")\n",
        "plt.legend()\n",
        "plt.show()"
      ],
      "metadata": {
        "id": "BsmTzpQJ7ZXn"
      },
      "id": "BsmTzpQJ7ZXn",
      "execution_count": null,
      "outputs": []
    },
    {
      "cell_type": "markdown",
      "id": "9bb9c28f",
      "metadata": {
        "id": "9bb9c28f"
      },
      "source": [
        "### Generalization Error for RandomForestRegressor() Models"
      ]
    },
    {
      "cell_type": "code",
      "execution_count": null,
      "id": "c26bb2e0",
      "metadata": {
        "id": "c26bb2e0"
      },
      "outputs": [],
      "source": [
        "from sklearn.metrics import mean_squared_error\n",
        "\n",
        "#https://scikit-learn.org/stable/auto_examples/ensemble/plot_random_forest_regression_multioutput.html#sphx-glr-auto-examples-ensemble-plot-random-forest-regression-multioutput-py\n",
        "# rf_reg_paternal.score()\n",
        "\n",
        "#generalization error paternal RandomForestRegressor model\n",
        "optimal_rf_reg_paternal_y_pred = optimal_rf_reg_paternal.predict(X_paternal_test)\n",
        "optimal_mse_rf_reg_paternal = mean_squared_error(y_reg_test, optimal_rf_reg_paternal_y_pred)\n",
        "\n",
        "#generalization error maternal RandomForestRegressor model\n",
        "optimal_rf_reg_maternal_y_pred = optimal_rf_reg_maternal.predict(X_maternal_test)\n",
        "optimal_mse_rf_reg_maternal = mean_squared_error(y_reg_test, optimal_rf_reg_maternal_y_pred)\n",
        "\n",
        "#generalization error combined RandomForestRegressor model\n",
        "optimal_rf_reg_combined_y_pred = optimal_rf_reg_combined.predict(X_combined_test)\n",
        "optimal_mse_rf_reg_combined = mean_squared_error(y_reg_test, optimal_rf_reg_combined_y_pred)\n",
        "\n",
        "\n",
        "print(\"Generalization error for Optimal Paternal MultiOutputRegressor RandomForest Model: \", round(optimal_mse_rf_reg_paternal, 4))\n",
        "print(\"Generalization error for Optimal Maternal MultiOutputRegressor RandomForest Model: \", round(optimal_mse_rf_reg_maternal, 4))\n",
        "print(\"Generalization error for Optimal Combined MultiOutputRegressor RandomForest Model: \", round(optimal_mse_rf_reg_combined, 4))"
      ]
    },
    {
      "cell_type": "markdown",
      "source": [
        "## References\n",
        "\n",
        "Mutsaerts, M. A. Q., Groen, H., Buiter-Van der Meer, A., Sijtsma, A., Sauer, P. J. J., Land, J. A., Mol, B. W., Corpeleijn, E., & Hoek, A.  (2014).  Effects of paternal and maternal lifestyle factors on pregnancy complications and perinatal outcome.  A population-based birth-cohort study: the GECKO Drenthe cohort.  Human Reproduction, 29(4), 824-834.  https://doi.org/10.1093/humrep/deu006 \n"
      ],
      "metadata": {
        "id": "uzvHW4WxMK-A"
      },
      "id": "uzvHW4WxMK-A"
    }
  ],
  "metadata": {
    "kernelspec": {
      "display_name": "Python 3",
      "language": "python",
      "name": "python3"
    },
    "language_info": {
      "codemirror_mode": {
        "name": "ipython",
        "version": 3
      },
      "file_extension": ".py",
      "mimetype": "text/x-python",
      "name": "python",
      "nbconvert_exporter": "python",
      "pygments_lexer": "ipython3",
      "version": "3.8.8"
    },
    "colab": {
      "provenance": [],
      "collapsed_sections": [
        "4688cbfa",
        "b620eed5",
        "0d447675",
        "8be6c862",
        "7470922c",
        "c3002daa",
        "ce138805",
        "0e53ed3c",
        "093f0636"
      ],
      "include_colab_link": true
    }
  },
  "nbformat": 4,
  "nbformat_minor": 5
}