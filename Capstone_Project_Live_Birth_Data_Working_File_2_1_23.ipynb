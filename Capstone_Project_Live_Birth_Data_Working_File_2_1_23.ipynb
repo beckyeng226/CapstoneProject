{
  "cells": [
    {
      "cell_type": "markdown",
      "metadata": {
        "id": "view-in-github",
        "colab_type": "text"
      },
      "source": [
        "<a href=\"https://colab.research.google.com/github/beckyeng226/CapstoneProject/blob/main/Capstone_Project_Live_Birth_Data_Working_File_2_1_23.ipynb\" target=\"_parent\"><img src=\"https://colab.research.google.com/assets/colab-badge.svg\" alt=\"Open In Colab\"/></a>"
      ]
    },
    {
      "cell_type": "markdown",
      "source": [
        "# DTSC 691 Machine Learning Capstone Project:\n",
        "# Predictive Ability of Paternal Characteristics on Prenatal and Perinatal Outcomes\n",
        "## Rebecca Eng\n",
        "## Spring 1 2023"
      ],
      "metadata": {
        "id": "-Xq5l1kfdcmh"
      },
      "id": "-Xq5l1kfdcmh"
    },
    {
      "cell_type": "markdown",
      "source": [
        "## Goals of the project\n",
        "\n",
        "Most of the research on prenatal and perinatal outcomes for mothers and infants focuses on maternal characteristics and demographics, and research on the impact of paternal characteristics and demographics is scarce (Mutsaerts et a., 2014).  However, the potential emotional and physical support fathers provide for the mother during the prenatal period may also play a role in outcomes for both the mother and the child.  Therefore, the intent of this project is to take a closer look at what paternal demographic characteristics can predict with regard to characteristics of the pregnancy and delivery and outcomes of the infant at birth.\n",
        "\n",
        "A study by Mutsaerts et al. (2014) examined paternal and maternal lifestyle characteristics and the effect those had on the mother’s health during pregnancy.  Specifically, the study considered paternal age, height, weight, smoking habits, alcohol consumption, level of physical activity, educational level, number of hours worked per week, and household income as predictors of complications during pregnancy or delivery, such as issues related to hypertension, and gestational diabetes, preterm birth, infants born small for gestational age (Mutsaerts et al., 2014).  Results indicated that paternal factors were correlated with maternal factors and were not associated with the measured pregnancy outcomes after controlling for maternal factors (Mutsaerts et al., 2014).  \n",
        "\n",
        "These results were not surprising given that the mother’s behaviors and lifestyle choices would be expected to have better predictive ability with these physical outcomes of the mother (hypertension, gestational diabetes, etc.) because they are more directly related to the mother’s physical health.  The proposed project attempts to examine social and environmental factors related to pregnancy and birth outcomes because fathers may have a more significant contribution to outcomes in those areas rather than on the physical health outcomes of the mother.  \n",
        "\n",
        "Using the 2021 Natality Public Use File from the CDC (https://www.cdc.gov/nchs/data_access/VitalStatsOnline.htm#Births), the proposed project will examine the predictive ability of paternal characteristics to pregnancy outcomes for the mother and infant.  Specifically, machine learning models will be used to measure how the demographic characteristics of the father (race, age, marital status, and education) predict: \n",
        "\n",
        "Characteristics of the pregnancy and delivery:\n",
        "Number of prenatal care visits\n",
        "WIC\n",
        "Method of delivery (vaginal or cesarean section)\n",
        "Trial of labor was attempted (if delivery was via cesarean)\n",
        "\n",
        "Infant:\n",
        "Period of gestation\n",
        "Birth weight\n",
        "Infant breastfed at discharge\n",
        "\n",
        "In addition, to determine how valuable the contribution of paternal characteristics is to predicting maternal and infant outcomes, I will also compare the paternal results with the predictive ability of the maternal demographics on the same variables, as well as examine the combination of the maternal and paternal characteristics to see if this improves the predictive ability of the model.  It is hypothesized that paternal demographic characteristics will be predictive of the characteristics of the pregnancy and delivery and infant outcomes at birth and that inclusion of these paternal characteristics will improve the predictive ability of the maternal characteristics only model when both sets of characteristics are combined.\n",
        "Models of paternal demographic characteristics, maternal demographic characteristics, and the combined parental characteristics will be deployed on a personal website for examination.  The website will also include a resume and a projects page that will link to other completed projects.\n"
      ],
      "metadata": {
        "id": "5HCeAiA3d9Aw"
      },
      "id": "5HCeAiA3d9Aw"
    },
    {
      "cell_type": "code",
      "execution_count": 76,
      "id": "e440de4f",
      "metadata": {
        "id": "e440de4f"
      },
      "outputs": [],
      "source": [
        "#import standard libraries\n",
        "\n",
        "import numpy as np\n",
        "import pandas as pd\n",
        "import joblib\n",
        "\n",
        "import matplotlib.pyplot as plt\n",
        "import matplotlib as mpl\n",
        "from matplotlib import cm\n",
        "\n",
        "from sklearn.impute import KNNImputer\n",
        "from sklearn.preprocessing import OneHotEncoder\n",
        "from sklearn.model_selection import train_test_split\n",
        "from sklearn.ensemble import RandomForestClassifier\n",
        "from sklearn.multioutput import MultiOutputClassifier\n",
        "from sklearn.ensemble import RandomForestRegressor\n",
        "from sklearn.multioutput import MultiOutputRegressor\n",
        "from sklearn.model_selection import GridSearchCV\n",
        "from sklearn.inspection import permutation_importance\n",
        "from sklearn.metrics import confusion_matrix, ConfusionMatrixDisplay\n",
        "from sklearn.metrics import classification_report\n",
        "from sklearn.metrics import accuracy_score, precision_score, recall_score, f1_score\n",
        "from sklearn.metrics import mean_squared_error\n",
        "\n",
        "%matplotlib inline\n",
        "mpl.rc('axes', labelsize=14)\n",
        "mpl.rc('xtick', labelsize=12)\n",
        "mpl.rc('ytick', labelsize=12)"
      ]
    },
    {
      "cell_type": "markdown",
      "source": [
        "## Data Description"
      ],
      "metadata": {
        "id": "NU4SzblHreF7"
      },
      "id": "NU4SzblHreF7"
    },
    {
      "cell_type": "markdown",
      "source": [
        "The full proposed dataset consists of 3,669,928 records of live births of US residents born in the United States from the 50 states, New York City, and Washington DC during the year 2021.  Data were reported to the Centers for Disease Control and Prevention’s (CDC) National Center for Health Statistics (NCHS) by each state’s and city’s Vital Statistics Cooperative Program and aggregated at a national level.  Data includes all births occurring in the US to both US residents and non-residents, but does not include births to residents living in other countries.\n",
        "\n",
        "The full dataset includes 225 variables, some of which are re-coded versions of other variables.  For example, mother’s race is reported in 31 potential categories, but then this information is re-coded into a 6 category variable and a 15 category variable.  Also, the data include variables indicating if data for variables was imputed or not reported.  The proposed project will use 17 variables: mother’s age, race, Hispanic origin, paternity acknowledged, marital status, and education level, father’s age, race, Hispanic origin, and education level, number of prenatal visits, whether or not WIC (support for Women, Infants and Children) was received during pregnancy, trial of labor attempted (if delivered by cesarean), delivery method, number of weeks of gestation, birth weight, and report of whether or not the infant was breastfed at discharge.\n",
        "\n",
        "Data files and the User’s Guide can be downloaded from https://www.cdc.gov/nchs/data_access/VitalStatsOnline.htm \n"
      ],
      "metadata": {
        "id": "eEdbPXZIrZz0"
      },
      "id": "eEdbPXZIrZz0"
    },
    {
      "cell_type": "code",
      "execution_count": null,
      "id": "3d039c46",
      "metadata": {
        "scrolled": true,
        "id": "3d039c46"
      },
      "outputs": [],
      "source": [
        "#import data\n",
        "\n",
        "colspecs = [(74, 76), (104, 106), (114, 115), (118, 119), (119, 120), (123, 124), (146, 148), (150, 152), (159, 160), \n",
        "            (162, 163), (237, 239), (250, 251), (402, 403), (407, 408), (498, 500), (502, 503), (503, 507), (568, 569)]\n",
        "colnames = ['MAGER', 'MRACE31', 'MHISP_R', 'MAR_P', 'DMAR', 'MEDUC', 'FAGECOMB', 'FRACE31', 'FHISP_R', 'FEDUC', 'PREVIS', \n",
        "           'WIC', 'ME_TRIAL', 'DMETH_REC', 'OEGEST_COMB', 'OEGEST_R3', 'DBWT', 'BFED']\n",
        "\n",
        "data = pd.read_fwf('Nat2021US.txt', colspecs=colspecs, names=colnames)\n",
        "data.head()"
      ]
    },
    {
      "cell_type": "markdown",
      "id": "4688cbfa",
      "metadata": {
        "id": "4688cbfa"
      },
      "source": [
        "## Descriptive and Exploratory Analyses"
      ]
    },
    {
      "cell_type": "code",
      "execution_count": null,
      "id": "d693bb15",
      "metadata": {
        "id": "d693bb15"
      },
      "outputs": [],
      "source": [
        "data.info()"
      ]
    },
    {
      "cell_type": "code",
      "execution_count": null,
      "id": "cecd2f2e",
      "metadata": {
        "id": "cecd2f2e"
      },
      "outputs": [],
      "source": [
        "data.describe()"
      ]
    },
    {
      "cell_type": "code",
      "execution_count": null,
      "id": "847cda1b",
      "metadata": {
        "id": "847cda1b"
      },
      "outputs": [],
      "source": [
        "data.corr()"
      ]
    },
    {
      "cell_type": "code",
      "source": [
        "data.corr.style.background_gradient(cmap='coolwarm')"
      ],
      "metadata": {
        "id": "Yf1wcq4Yeshx"
      },
      "id": "Yf1wcq4Yeshx",
      "execution_count": null,
      "outputs": []
    },
    {
      "cell_type": "code",
      "execution_count": null,
      "id": "10b12291",
      "metadata": {
        "id": "10b12291"
      },
      "outputs": [],
      "source": [
        "data.isna().sum()"
      ]
    },
    {
      "cell_type": "code",
      "execution_count": null,
      "id": "fa32df0e",
      "metadata": {
        "id": "fa32df0e"
      },
      "outputs": [],
      "source": [
        "### marital status of mother: 1=married, 2=unmarried\n",
        "data['DMAR'].value_counts()"
      ]
    },
    {
      "cell_type": "code",
      "execution_count": null,
      "id": "e56a3ab5",
      "metadata": {
        "id": "e56a3ab5"
      },
      "outputs": [],
      "source": [
        "### percentage marital status of mother: 1=married, 2=unmarried\n",
        "data['DMAR'].value_counts(normalize=True)"
      ]
    },
    {
      "cell_type": "code",
      "execution_count": null,
      "id": "cf57db5d",
      "metadata": {
        "id": "cf57db5d"
      },
      "outputs": [],
      "source": [
        "### paternity acknowledged: Y, N, U=Unknown, X=Not applicable (because reported married, paternity assumed)\n",
        "data['MAR_P'].value_counts()"
      ]
    },
    {
      "cell_type": "markdown",
      "id": "7b540ac6",
      "metadata": {
        "id": "7b540ac6"
      },
      "source": [
        "### Maternal Demographic Characteristics"
      ]
    },
    {
      "cell_type": "code",
      "execution_count": null,
      "id": "400f8220",
      "metadata": {
        "id": "400f8220"
      },
      "outputs": [],
      "source": [
        "### mother education level, replaced unknowns with np.nan for imputing\n",
        "data['MEDUC'] = data.MEDUC.replace([9], [np.nan])\n",
        "data['MEDUC'].value_counts(normalize=True)"
      ]
    },
    {
      "cell_type": "code",
      "execution_count": null,
      "id": "66b1b692",
      "metadata": {
        "id": "66b1b692"
      },
      "outputs": [],
      "source": [
        "plt.hist(data.MEDUC.loc[data.MEDUC != 99], bins=8)"
      ]
    },
    {
      "cell_type": "code",
      "execution_count": null,
      "id": "db41811a",
      "metadata": {
        "id": "db41811a"
      },
      "outputs": [],
      "source": [
        "### mother age\n",
        "data['MAGER'].value_counts()"
      ]
    },
    {
      "cell_type": "code",
      "execution_count": null,
      "id": "3fd83d41",
      "metadata": {
        "id": "3fd83d41"
      },
      "outputs": [],
      "source": [
        "# mean maternal age, excluding missing values\n",
        "data['MAGER'].loc[data['MAGER'] != 99].mean()"
      ]
    },
    {
      "cell_type": "code",
      "execution_count": null,
      "id": "10bab74a",
      "metadata": {
        "id": "10bab74a"
      },
      "outputs": [],
      "source": [
        "plt.hist(data.MAGER, bins=10)"
      ]
    },
    {
      "cell_type": "code",
      "execution_count": null,
      "id": "ccec1215",
      "metadata": {
        "id": "ccec1215"
      },
      "outputs": [],
      "source": [
        "plt.boxplot(data.MAGER)"
      ]
    },
    {
      "cell_type": "code",
      "execution_count": null,
      "id": "ecc6cb39",
      "metadata": {
        "id": "ecc6cb39"
      },
      "outputs": [],
      "source": [
        "### mother race\n",
        "data['MRACE31'].value_counts(normalize=True)"
      ]
    },
    {
      "cell_type": "code",
      "execution_count": null,
      "id": "afdbcf54",
      "metadata": {
        "id": "afdbcf54"
      },
      "outputs": [],
      "source": [
        "### mother Hispanic origin, replaced unknowns with np.nan for imputing\n",
        "data['MHISP_R'] = data.MHISP_R.replace([9], [np.nan])\n",
        "data['MHISP_R'].value_counts(normalize=True)"
      ]
    },
    {
      "cell_type": "markdown",
      "id": "0d095484",
      "metadata": {
        "id": "0d095484"
      },
      "source": [
        "\n",
        "### Paternal Demographic Characteristics"
      ]
    },
    {
      "cell_type": "code",
      "execution_count": null,
      "id": "eb393a65",
      "metadata": {
        "id": "eb393a65"
      },
      "outputs": [],
      "source": [
        "### father age, replaced unknowns with np.nan for imputing\n",
        "data['FAGECOMB'] = data.FAGECOMB.replace([99], [np.nan])\n",
        "data['FAGECOMB'].value_counts(normalize=True)"
      ]
    },
    {
      "cell_type": "code",
      "execution_count": null,
      "id": "4d08134b",
      "metadata": {
        "id": "4d08134b"
      },
      "outputs": [],
      "source": [
        "# mean paternal age, excluding missing values\n",
        "data['FAGECOMB'].loc[data['FAGECOMB'] != 99].mean()"
      ]
    },
    {
      "cell_type": "code",
      "execution_count": null,
      "id": "53fb2d97",
      "metadata": {
        "id": "53fb2d97"
      },
      "outputs": [],
      "source": [
        "plt.boxplot(data.FAGECOMB)"
      ]
    },
    {
      "cell_type": "code",
      "execution_count": null,
      "id": "cd930c70",
      "metadata": {
        "id": "cd930c70"
      },
      "outputs": [],
      "source": [
        "plt.hist(data.FAGECOMB, bins=9)"
      ]
    },
    {
      "cell_type": "code",
      "execution_count": null,
      "id": "cb733dd1",
      "metadata": {
        "id": "cb733dd1"
      },
      "outputs": [],
      "source": [
        "### father race, replaced unknowns with np.nan for imputing\n",
        "data['FRACE31'] = data.FRACE31.replace([99], [np.nan])\n",
        "data['FRACE31'].value_counts(normalize=True)"
      ]
    },
    {
      "cell_type": "code",
      "execution_count": null,
      "id": "b50ad237",
      "metadata": {
        "id": "b50ad237"
      },
      "outputs": [],
      "source": [
        "### father Hispanic origin, replaced unknowns with np.nan for imputing\n",
        "data['FHISP_R'] = data.FHISP_R.replace([9], [np.nan])\n",
        "data['FHISP_R'].value_counts()"
      ]
    },
    {
      "cell_type": "code",
      "execution_count": null,
      "id": "c577fb4e",
      "metadata": {
        "id": "c577fb4e"
      },
      "outputs": [],
      "source": [
        "### father education level, replaced unknowns with np.nan for imputing\n",
        "data['FEDUC'] = data.FEDUC.replace([9], [np.nan])\n",
        "data['FEDUC'].value_counts(normalize=True)"
      ]
    },
    {
      "cell_type": "code",
      "execution_count": null,
      "id": "61623389",
      "metadata": {
        "id": "61623389"
      },
      "outputs": [],
      "source": [
        "plt.hist(data.FEDUC.loc[data.FEDUC != 99], bins=8)"
      ]
    },
    {
      "cell_type": "markdown",
      "id": "16ecc5c3",
      "metadata": {
        "id": "16ecc5c3"
      },
      "source": [
        "### Pregnancy and Infant Outcomes"
      ]
    },
    {
      "cell_type": "code",
      "execution_count": null,
      "id": "c4ce1609",
      "metadata": {
        "id": "c4ce1609"
      },
      "outputs": [],
      "source": [
        "### number of prenatal visits, replaced unknowns with np.nan for imputing\n",
        "data['PREVIS'] = data.PREVIS.replace([99], [np.nan])\n",
        "data['PREVIS'].value_counts()"
      ]
    },
    {
      "cell_type": "code",
      "execution_count": null,
      "id": "8e13155e",
      "metadata": {
        "id": "8e13155e"
      },
      "outputs": [],
      "source": [
        "#number of observations with 0 prenatal visits\n",
        "data['PREVIS'].loc[data['PREVIS'] == 0].count()"
      ]
    },
    {
      "cell_type": "code",
      "execution_count": null,
      "id": "3f828b41",
      "metadata": {
        "id": "3f828b41"
      },
      "outputs": [],
      "source": [
        "#mean number of visits among those who had at least 1 prenatal visit\n",
        "data['PREVIS'].loc[(data['PREVIS'] != 0)].mean()"
      ]
    },
    {
      "cell_type": "code",
      "execution_count": null,
      "id": "f578a351",
      "metadata": {
        "id": "f578a351"
      },
      "outputs": [],
      "source": [
        "#mean number of visits including those who had 0 prenatal visits\n",
        "data['PREVIS'].mean()"
      ]
    },
    {
      "cell_type": "code",
      "execution_count": null,
      "id": "1d7f3544",
      "metadata": {
        "id": "1d7f3544"
      },
      "outputs": [],
      "source": [
        "plt.boxplot(data.PREVIS)"
      ]
    },
    {
      "cell_type": "code",
      "execution_count": null,
      "id": "e54d9e84",
      "metadata": {
        "id": "e54d9e84"
      },
      "outputs": [],
      "source": [
        "# received WIC during pregnancy\n",
        "data['WIC'].value_counts(normalize=True)"
      ]
    },
    {
      "cell_type": "code",
      "execution_count": null,
      "id": "defb822a",
      "metadata": {
        "id": "defb822a"
      },
      "outputs": [],
      "source": [
        "# attempted a trial of labor prior to cesarean Y=yes, N=no, U=unknown, X=not applicable (delivered vaginally)\n",
        "data['ME_TRIAL'].value_counts(normalize=True)"
      ]
    },
    {
      "cell_type": "code",
      "execution_count": null,
      "id": "5bf93e0c",
      "metadata": {
        "id": "5bf93e0c"
      },
      "outputs": [],
      "source": [
        "# method of delivery 1=vaginal, 2=cesarean, 9=missing, replaced unknowns with np.nan for imputing\n",
        "data['DMETH_REC'] = data.DMETH_REC.replace([9], [np.nan])\n",
        "data['DMETH_REC'].value_counts(normalize=True)"
      ]
    },
    {
      "cell_type": "code",
      "execution_count": null,
      "id": "3d2a1f8f",
      "metadata": {
        "id": "3d2a1f8f"
      },
      "outputs": [],
      "source": [
        "# weeks of gestation, range= 17-47, 99=missing, replaced unknowns with np.nan for imputing\n",
        "data['OEGEST_COMB'] = data.OEGEST_COMB.replace([99], [np.nan])\n",
        "data['OEGEST_COMB'].value_counts()"
      ]
    },
    {
      "cell_type": "code",
      "execution_count": null,
      "id": "c7b25a33",
      "metadata": {
        "id": "c7b25a33"
      },
      "outputs": [],
      "source": [
        "plt.hist(data.OEGEST_COMB.loc[data.OEGEST_COMB != 99], bins=5)"
      ]
    },
    {
      "cell_type": "code",
      "execution_count": null,
      "id": "64ebb1aa",
      "metadata": {
        "id": "64ebb1aa"
      },
      "outputs": [],
      "source": [
        "plt.boxplot(data.OEGEST_COMB)"
      ]
    },
    {
      "cell_type": "code",
      "execution_count": null,
      "id": "25636880",
      "metadata": {
        "id": "25636880"
      },
      "outputs": [],
      "source": [
        "# infant weight in grams at birth, 9999=missing, replaced unknowns with np.nan for imputing\n",
        "data['DBWT'] = data.DBWT.replace([9999], [np.nan])\n",
        "data['DBWT'].value_counts(normalize=True)"
      ]
    },
    {
      "cell_type": "code",
      "execution_count": null,
      "id": "f3f440e6",
      "metadata": {
        "id": "f3f440e6"
      },
      "outputs": [],
      "source": [
        "plt.boxplot(data.DBWT)"
      ]
    },
    {
      "cell_type": "code",
      "execution_count": null,
      "id": "c619fadf",
      "metadata": {
        "id": "c619fadf"
      },
      "outputs": [],
      "source": [
        "# infant being breastfed at discharge Y=yes, N=no, U=unknown\n",
        "data['BFED'].value_counts(normalize=True)"
      ]
    },
    {
      "cell_type": "markdown",
      "id": "b620eed5",
      "metadata": {
        "id": "b620eed5"
      },
      "source": [
        "## Recoding of Data to Numeric"
      ]
    },
    {
      "cell_type": "code",
      "execution_count": null,
      "id": "2f6b96a1",
      "metadata": {
        "id": "2f6b96a1"
      },
      "outputs": [],
      "source": [
        "# recode letters to numbers for WIC data\n",
        "data['WIC_R'] = data.WIC.replace(['Y', 'N', 'U'], [1, 0, np.nan])"
      ]
    },
    {
      "cell_type": "code",
      "execution_count": null,
      "id": "6c167f9e",
      "metadata": {
        "id": "6c167f9e"
      },
      "outputs": [],
      "source": [
        "# recode letters to numbers for labor trial data, labor trial includes vaginal delivery and those who attempted before cesarean=1\n",
        "data['TRIAL_R'] = data.ME_TRIAL.replace(['Y', 'N', 'U', 'X'], [1, 0, np.nan, 1])\n",
        "data['TRIAL_R'].value_counts(normalize=True)"
      ]
    },
    {
      "cell_type": "code",
      "execution_count": null,
      "id": "8b2cd29f",
      "metadata": {
        "id": "8b2cd29f"
      },
      "outputs": [],
      "source": [
        "# recode letters to numbers for breastfeeding data\n",
        "data['BFED_R'] = data.BFED.replace(['Y', 'N', 'U'], [1, 0, np.nan])\n",
        "data['BFED_R'].value_counts(normalize=True)"
      ]
    },
    {
      "cell_type": "code",
      "execution_count": null,
      "id": "56a634fd",
      "metadata": {
        "id": "56a634fd"
      },
      "outputs": [],
      "source": [
        "# recode paternity acknowledged to numeric, paternity known either by marriage or legal documentation = 1\n",
        "data['PATERNITY_R'] = data.MAR_P.replace(['Y', 'N', 'U', 'X'], [1, 0, np.nan, 1])\n",
        "data.head()"
      ]
    },
    {
      "cell_type": "code",
      "execution_count": null,
      "id": "1a2c13a2",
      "metadata": {
        "id": "1a2c13a2"
      },
      "outputs": [],
      "source": [
        "data.PATERNITY_R.value_counts()"
      ]
    },
    {
      "cell_type": "code",
      "execution_count": null,
      "id": "77dec774",
      "metadata": {
        "id": "77dec774"
      },
      "outputs": [],
      "source": [
        "data.isnull().sum()"
      ]
    },
    {
      "cell_type": "code",
      "execution_count": null,
      "id": "99c1ad84",
      "metadata": {
        "id": "99c1ad84"
      },
      "outputs": [],
      "source": [
        "data.info()"
      ]
    },
    {
      "cell_type": "markdown",
      "id": "0d447675",
      "metadata": {
        "id": "0d447675"
      },
      "source": [
        "## Taking a Stratified Random Sample for Analyses"
      ]
    },
    {
      "cell_type": "markdown",
      "source": [
        "Because the size of the initial dataset was making the running of analyses for imputing the data too slow, the decision was made to take a stratified random sample of 1,000,000 observations for the remaining analyses.  The sample was stratified based on percentages of the target labels WIC benefits, labor attempted, vaginal delivery, and breastfed at discharge.  Percentages closely matched those for the full dataset, so the sample is felt to be a representative sample of the population."
      ],
      "metadata": {
        "id": "TcO5hABahTdW"
      },
      "id": "TcO5hABahTdW"
    },
    {
      "cell_type": "code",
      "execution_count": null,
      "id": "09d034b6",
      "metadata": {
        "id": "09d034b6"
      },
      "outputs": [],
      "source": [
        "# take a sample of 1,000,000 from the full dataset\n",
        "sample_data = data.sample(n=1000000)\n",
        "sample_data.info()"
      ]
    },
    {
      "cell_type": "code",
      "execution_count": null,
      "id": "1932c9e5",
      "metadata": {
        "id": "1932c9e5"
      },
      "outputs": [],
      "source": [
        "# check that the percentages for the target labels are consistent with the full dataset \n",
        "sample_data['WIC'].value_counts(normalize=True)"
      ]
    },
    {
      "cell_type": "code",
      "execution_count": null,
      "id": "2b539056",
      "metadata": {
        "id": "2b539056"
      },
      "outputs": [],
      "source": [
        "sample_data['ME_TRIAL'].value_counts(normalize=True)"
      ]
    },
    {
      "cell_type": "code",
      "execution_count": null,
      "id": "3d5e09a8",
      "metadata": {
        "id": "3d5e09a8"
      },
      "outputs": [],
      "source": [
        "sample_data['DMETH_REC'].value_counts(normalize=True)"
      ]
    },
    {
      "cell_type": "code",
      "execution_count": null,
      "id": "933273bd",
      "metadata": {
        "id": "933273bd"
      },
      "outputs": [],
      "source": [
        "sample_data['BFED'].value_counts(normalize=True)"
      ]
    },
    {
      "cell_type": "code",
      "execution_count": null,
      "id": "93b39dd8",
      "metadata": {
        "id": "93b39dd8"
      },
      "outputs": [],
      "source": [
        "### mother education level\n",
        "sample_data['MEDUC'] = sample_data.MEDUC.replace([9], [np.nan])\n",
        "sample_data['MEDUC'].value_counts(normalize=True)"
      ]
    },
    {
      "cell_type": "code",
      "execution_count": null,
      "id": "b395b0b0",
      "metadata": {
        "id": "b395b0b0"
      },
      "outputs": [],
      "source": [
        "### mother Hispanic origin\n",
        "sample_data['MHISP_R'] = sample_data.MHISP_R.replace([9], [np.nan])\n",
        "sample_data['MHISP_R'].value_counts(normalize=True)"
      ]
    },
    {
      "cell_type": "code",
      "execution_count": null,
      "id": "ff4c022d",
      "metadata": {
        "id": "ff4c022d"
      },
      "outputs": [],
      "source": [
        "### father age\n",
        "sample_data['FAGECOMB'] = sample_data.FAGECOMB.replace([99], [np.nan])\n",
        "sample_data['FAGECOMB'].value_counts(normalize=True)"
      ]
    },
    {
      "cell_type": "code",
      "execution_count": null,
      "id": "df61cd1a",
      "metadata": {
        "id": "df61cd1a"
      },
      "outputs": [],
      "source": [
        "### father race\n",
        "sample_data['FRACE31'] = sample_data.FRACE31.replace([99], [np.nan])\n",
        "sample_data['FRACE31'].value_counts(normalize=True)"
      ]
    },
    {
      "cell_type": "code",
      "execution_count": null,
      "id": "1ef6a7cd",
      "metadata": {
        "id": "1ef6a7cd"
      },
      "outputs": [],
      "source": [
        "### father Hispanic origin\n",
        "sample_data['FHISP_R'] = sample_data.FHISP_R.replace([9], [np.nan])\n",
        "sample_data['FHISP_R'].value_counts()"
      ]
    },
    {
      "cell_type": "code",
      "execution_count": null,
      "id": "f1c6decf",
      "metadata": {
        "id": "f1c6decf"
      },
      "outputs": [],
      "source": [
        "### father education level\n",
        "sample_data['FEDUC'] = sample_data.FEDUC.replace([9], [np.nan])\n",
        "sample_data['FEDUC'].value_counts(normalize=True)"
      ]
    },
    {
      "cell_type": "code",
      "execution_count": null,
      "id": "d1e0f21b",
      "metadata": {
        "id": "d1e0f21b"
      },
      "outputs": [],
      "source": [
        "### number of prenatal visits\n",
        "sample_data['PREVIS'] = sample_data.PREVIS.replace([99], [np.nan])\n",
        "sample_data['PREVIS'].value_counts()"
      ]
    },
    {
      "cell_type": "code",
      "execution_count": null,
      "id": "14f0fa37",
      "metadata": {
        "id": "14f0fa37"
      },
      "outputs": [],
      "source": [
        "# method of delivery 1=vaginal, 2=cesarean, 9=missing\n",
        "sample_data['DMETH_REC'] = sample_data.DMETH_REC.replace([9], [np.nan])\n",
        "sample_data['DMETH_REC'].value_counts(normalize=True)"
      ]
    },
    {
      "cell_type": "code",
      "execution_count": null,
      "id": "74734436",
      "metadata": {
        "id": "74734436"
      },
      "outputs": [],
      "source": [
        "# weeks of gestation, range= 17-47, 99=missing\n",
        "sample_data['OEGEST_COMB'] = sample_data.OEGEST_COMB.replace([99], [np.nan])\n",
        "sample_data['OEGEST_COMB'].value_counts()"
      ]
    },
    {
      "cell_type": "code",
      "execution_count": null,
      "id": "a21871ab",
      "metadata": {
        "id": "a21871ab"
      },
      "outputs": [],
      "source": [
        "# infant weight in grams at birth, 9999=missing\n",
        "sample_data['DBWT'] = sample_data.DBWT.replace([9999], [np.nan])\n",
        "sample_data['DBWT'].value_counts(normalize=True)"
      ]
    },
    {
      "cell_type": "code",
      "execution_count": null,
      "id": "f2bb8420",
      "metadata": {
        "id": "f2bb8420"
      },
      "outputs": [],
      "source": [
        "# infant being breastfed at discharge Y=yes, N=no, U=unknown\n",
        "sample_data['BFED'].value_counts(normalize=True)"
      ]
    },
    {
      "cell_type": "code",
      "execution_count": null,
      "id": "9e773624",
      "metadata": {
        "id": "9e773624"
      },
      "outputs": [],
      "source": [
        "# recode letters to numbers for WIC data\n",
        "sample_data['WIC_R'] = sample_data.WIC.replace(['Y', 'N', 'U'], [1, 0, np.nan])"
      ]
    },
    {
      "cell_type": "code",
      "execution_count": null,
      "id": "575a67ce",
      "metadata": {
        "id": "575a67ce"
      },
      "outputs": [],
      "source": [
        "# recode letters to numbers for labor trial data \n",
        "sample_data['TRIAL_R'] = sample_data.ME_TRIAL.replace(['Y', 'N', 'U', 'X'], [1, 0, np.nan, 1])"
      ]
    },
    {
      "cell_type": "code",
      "execution_count": null,
      "id": "c8a15ece",
      "metadata": {
        "id": "c8a15ece"
      },
      "outputs": [],
      "source": [
        "# recode letters to numbers for breastfeeding data\n",
        "sample_data['BFED_R'] = sample_data.BFED.replace(['Y', 'N', 'U'], [1, 0, np.nan])"
      ]
    },
    {
      "cell_type": "code",
      "execution_count": null,
      "id": "07b70768",
      "metadata": {
        "id": "07b70768"
      },
      "outputs": [],
      "source": [
        "# recode paternity acknowledged to numeric\n",
        "sample_data['PATERNITY_R'] = sample_data.MAR_P.replace(['Y', 'N', 'U', 'X'], [1, 0, np.nan, 1])"
      ]
    },
    {
      "cell_type": "markdown",
      "id": "8be6c862",
      "metadata": {
        "id": "8be6c862"
      },
      "source": [
        "## Imputing Missing Values using KNNImputer()"
      ]
    },
    {
      "cell_type": "code",
      "execution_count": null,
      "id": "660e4a51",
      "metadata": {
        "id": "660e4a51"
      },
      "outputs": [],
      "source": [
        "# data with missing values that will be imputed using KNNImputer()\n",
        "impute_data=sample_data[['DMAR', 'PATERNITY_R', 'MEDUC', 'MAGER', 'MRACE31', 'MHISP_R', 'FAGECOMB', 'FRACE31', 'FHISP_R', \n",
        "                         'FEDUC', 'PREVIS', 'WIC_R', 'TRIAL_R', 'BFED_R', 'DMETH_REC', 'DBWT', 'OEGEST_COMB']]"
      ]
    },
    {
      "cell_type": "code",
      "execution_count": null,
      "id": "39983000",
      "metadata": {
        "id": "39983000"
      },
      "outputs": [],
      "source": [
        "impute_data.info()"
      ]
    },
    {
      "cell_type": "code",
      "execution_count": null,
      "id": "e51c2221",
      "metadata": {
        "id": "e51c2221"
      },
      "outputs": [],
      "source": [
        "# impute missing values\n",
        "imputer = KNNImputer(n_neighbors=1)\n",
        "imputed_data = imputer.fit_transform(impute_data)"
      ]
    },
    {
      "cell_type": "code",
      "execution_count": null,
      "id": "cd55af0d",
      "metadata": {
        "id": "cd55af0d"
      },
      "outputs": [],
      "source": [
        "# Make df of imputed data\n",
        "column_values = ['DMAR', 'PATERNITY_R', 'MEDUC', 'MAGER', 'MRACE31', 'MHISP_R', 'FAGECOMB', 'FRACE31', 'FHISP_R', 'FEDUC',\n",
        "       'PREVIS', 'DMETH_REC', 'DBWT', 'OEGEST_COMB']\n",
        "imputed_data = pd.DataFrame(data=imputed_data, columns=column_values)\n",
        "imputed_data.head()"
      ]
    },
    {
      "cell_type": "markdown",
      "id": "7470922c",
      "metadata": {
        "id": "7470922c"
      },
      "source": [
        "## Export of Imputed Data \n",
        "### Once all data is imputed, will use this data file so do not have to re-run KNNImputer because it is so time-intensive."
      ]
    },
    {
      "cell_type": "code",
      "execution_count": null,
      "id": "4d92349b",
      "metadata": {
        "id": "4d92349b"
      },
      "outputs": [],
      "source": [
        "# saves imputed_data as a csv file\n",
        "imputed_data.to_csv('imputed_data.csv')"
      ]
    },
    {
      "cell_type": "markdown",
      "id": "c3002daa",
      "metadata": {
        "id": "c3002daa"
      },
      "source": [
        "## Import Imputed Data"
      ]
    },
    {
      "cell_type": "code",
      "execution_count": null,
      "id": "50903736",
      "metadata": {
        "id": "50903736"
      },
      "outputs": [],
      "source": [
        "# Because running the imputer takes multiple hours, the dataset was exported so can be imported as needed without having to run imputer\n",
        "imputed_data = pd.read_csv('full_sample.csv')"
      ]
    },
    {
      "cell_type": "code",
      "execution_count": null,
      "id": "09317b73",
      "metadata": {
        "id": "09317b73"
      },
      "outputs": [],
      "source": [
        "imputed_data.head()"
      ]
    },
    {
      "cell_type": "code",
      "execution_count": null,
      "id": "82e29272",
      "metadata": {
        "id": "82e29272"
      },
      "outputs": [],
      "source": [
        "# to remove extra unnecessary column\n",
        "imputed_data = imputed_data.drop(labels='Unnamed: 0', axis=1)"
      ]
    },
    {
      "cell_type": "code",
      "execution_count": null,
      "id": "8bf8595a",
      "metadata": {
        "id": "8bf8595a"
      },
      "outputs": [],
      "source": [
        "# variables that were coded 1 or 2 are changed to 1 or 0\n",
        "imputed_data['DMAR'] = imputed_data.DMAR.replace([2.0], [0])\n",
        "imputed_data['DMETH_REC'] = imputed_data.DMETH_REC.replace([2.0], [0])"
      ]
    },
    {
      "cell_type": "code",
      "execution_count": null,
      "id": "fc4c9119",
      "metadata": {
        "id": "fc4c9119"
      },
      "outputs": [],
      "source": [
        "imputed_data.info()"
      ]
    },
    {
      "cell_type": "markdown",
      "id": "ce138805",
      "metadata": {
        "id": "ce138805"
      },
      "source": [
        "## One Hot Encoding of Categorical Features"
      ]
    },
    {
      "cell_type": "code",
      "execution_count": null,
      "id": "1db85ba2",
      "metadata": {
        "id": "1db85ba2"
      },
      "outputs": [],
      "source": [
        "#OneHotEncoder is used to change categorical features into binary \n",
        "categorical_cols = ['MEDUC', 'MRACE31', 'MHISP_R', 'FRACE31', 'FHISP_R', 'FEDUC']\n",
        "\n",
        "encoder = OneHotEncoder(drop='first', sparse=False)\n",
        "OHE_encoded_data = pd.DataFrame(encoder.fit_transform(imputed_data[categorical_cols]))\n",
        "OHE_encoded_data.columns = encoder.get_feature_names_out(input_features=categorical_cols)"
      ]
    },
    {
      "cell_type": "code",
      "execution_count": null,
      "id": "b34f426f",
      "metadata": {
        "id": "b34f426f"
      },
      "outputs": [],
      "source": [
        "OHE_encoded_data.info()"
      ]
    },
    {
      "cell_type": "code",
      "execution_count": null,
      "id": "42e54e79",
      "metadata": {
        "id": "42e54e79"
      },
      "outputs": [],
      "source": [
        "OHE_encoded_data.columns"
      ]
    },
    {
      "cell_type": "code",
      "execution_count": null,
      "id": "6d233187",
      "metadata": {
        "id": "6d233187"
      },
      "outputs": [],
      "source": [
        "OHE_encoded_data.isna().sum()"
      ]
    },
    {
      "cell_type": "code",
      "execution_count": null,
      "id": "9b0689ea",
      "metadata": {
        "id": "9b0689ea"
      },
      "outputs": [],
      "source": [
        "# OHE_encoded_data is concatenated to the imputed_data to make a full df\n",
        "imputed_encoded_data = pd.concat([imputed_data, OHE_encoded_data], axis=1)"
      ]
    },
    {
      "cell_type": "markdown",
      "id": "0e53ed3c",
      "metadata": {
        "id": "0e53ed3c"
      },
      "source": [
        "## Treatment of Outliers"
      ]
    },
    {
      "cell_type": "markdown",
      "source": [
        "After imputing missing values, variables with continuous values were examined for potential outliers.  Paternal age and number of Prenatal Visits had values greater than 3 standard deviations from the mean removed, while Infant Birth Weight had values greater than and less than 3 standard deviations from the mean removed."
      ],
      "metadata": {
        "id": "f6-YzcetlFOF"
      },
      "id": "f6-YzcetlFOF"
    },
    {
      "cell_type": "markdown",
      "id": "def2c79e",
      "metadata": {
        "id": "def2c79e"
      },
      "source": [
        "### Paternal Age"
      ]
    },
    {
      "cell_type": "code",
      "execution_count": null,
      "id": "2f36a476",
      "metadata": {
        "id": "2f36a476"
      },
      "outputs": [],
      "source": [
        "# visual examination of distribution of data\n",
        "plt.boxplot(imputed_data.FAGECOMB)"
      ]
    },
    {
      "cell_type": "code",
      "execution_count": null,
      "id": "cfdfea59",
      "metadata": {
        "id": "cfdfea59"
      },
      "outputs": [],
      "source": [
        "# determine value 3 std dev above the mean\n",
        "q_FAGECOMB = imputed_data.FAGECOMB.quantile(0.997)\n",
        "q_FAGECOMB"
      ]
    },
    {
      "cell_type": "markdown",
      "id": "52ba82c2",
      "metadata": {
        "id": "52ba82c2"
      },
      "source": [
        "### Prenatal Visits"
      ]
    },
    {
      "cell_type": "code",
      "execution_count": null,
      "id": "df7268cc",
      "metadata": {
        "id": "df7268cc"
      },
      "outputs": [],
      "source": [
        "# visual examination of distribution of data\n",
        "plt.boxplot(imputed_data.PREVIS)"
      ]
    },
    {
      "cell_type": "code",
      "execution_count": null,
      "id": "1410bd34",
      "metadata": {
        "id": "1410bd34"
      },
      "outputs": [],
      "source": [
        "# determine value 3 std dev above the mean\n",
        "q_PREVIS = imputed_data.PREVIS.quantile(0.997)\n",
        "q_PREVIS"
      ]
    },
    {
      "cell_type": "markdown",
      "id": "d488c94f",
      "metadata": {
        "id": "d488c94f"
      },
      "source": [
        "### Infant Birth Weight"
      ]
    },
    {
      "cell_type": "code",
      "execution_count": null,
      "id": "efaf91a1",
      "metadata": {
        "id": "efaf91a1"
      },
      "outputs": [],
      "source": [
        "# visual examination of distribution of data\n",
        "plt.boxplot(imputed_data.DBWT)"
      ]
    },
    {
      "cell_type": "code",
      "execution_count": null,
      "id": "c5aa1e21",
      "metadata": {
        "id": "c5aa1e21"
      },
      "outputs": [],
      "source": [
        "# determine value 3 std dev above the mean\n",
        "q_DBWT_high = imputed_data.DBWT.quantile(0.997)\n",
        "q_DBWT_high"
      ]
    },
    {
      "cell_type": "code",
      "execution_count": null,
      "id": "6ba30391",
      "metadata": {
        "id": "6ba30391"
      },
      "outputs": [],
      "source": [
        "# determine value 3 std dev below the mean\n",
        "q_DBWT_low = imputed_data.DBWT.quantile(0.003)\n",
        "q_DBWT_low"
      ]
    },
    {
      "cell_type": "code",
      "execution_count": null,
      "id": "4c9c323c",
      "metadata": {
        "id": "4c9c323c"
      },
      "outputs": [],
      "source": [
        "# examination of number of potential outliers from above and below 3 std dev\n",
        "imputed_data['DBWT'].loc[(imputed_data.DBWT < 4840) & (imputed_data.DBWT > 619)].count()"
      ]
    },
    {
      "cell_type": "markdown",
      "id": "3e926bf8",
      "metadata": {
        "id": "3e926bf8"
      },
      "source": [
        "## Final Cleaned and Encoded Data Set"
      ]
    },
    {
      "cell_type": "code",
      "execution_count": null,
      "id": "c7adb28e",
      "metadata": {
        "id": "c7adb28e"
      },
      "outputs": [],
      "source": [
        "# removal of observations with outliers\n",
        "final_data = imputed_encoded_data[(imputed_encoded_data['FAGECOMB'] < q_FAGECOMB) & \n",
        "                                                     (imputed_encoded_data['PREVIS'] < q_PREVIS) & \n",
        "                                                     (imputed_encoded_data['DBWT'] > q_DBWT_low) & \n",
        "                                                     (imputed_encoded_data['DBWT'] < q_DBWT_high)]"
      ]
    },
    {
      "cell_type": "code",
      "execution_count": null,
      "id": "f6e95970",
      "metadata": {
        "id": "f6e95970"
      },
      "outputs": [],
      "source": [
        "final_data.info()"
      ]
    },
    {
      "cell_type": "code",
      "execution_count": null,
      "id": "ee7f63a4",
      "metadata": {
        "id": "ee7f63a4"
      },
      "outputs": [],
      "source": [
        "# final_data saved to csv to so can be used without running previous analyses\n",
        "final_data.to_csv('final_data.csv')"
      ]
    },
    {
      "cell_type": "code",
      "execution_count": 2,
      "id": "549ef69b",
      "metadata": {
        "id": "549ef69b"
      },
      "outputs": [],
      "source": [
        "# to import final_data as needed\n",
        "final_data = pd.read_csv('final_data.csv')"
      ]
    },
    {
      "cell_type": "code",
      "execution_count": 3,
      "id": "8b4fb853",
      "metadata": {
        "colab": {
          "base_uri": "https://localhost:8080/"
        },
        "id": "8b4fb853",
        "outputId": "7c884db1-78d0-482d-8a84-7bd2d4f6c862"
      },
      "outputs": [
        {
          "output_type": "stream",
          "name": "stdout",
          "text": [
            "<class 'pandas.core.frame.DataFrame'>\n",
            "RangeIndex: 987629 entries, 0 to 987628\n",
            "Columns: 102 entries, Unnamed: 0 to FEDUC_8.0\n",
            "dtypes: float64(101), int64(1)\n",
            "memory usage: 768.6 MB\n"
          ]
        }
      ],
      "source": [
        "final_data.info()"
      ]
    },
    {
      "cell_type": "markdown",
      "id": "657378f9",
      "metadata": {
        "id": "657378f9"
      },
      "source": [
        "## Split Data into Train and Test Sets"
      ]
    },
    {
      "cell_type": "code",
      "execution_count": 5,
      "id": "00379d12",
      "metadata": {
        "id": "00379d12"
      },
      "outputs": [],
      "source": [
        "# split data into train_set (80%) and test_set (20%)\n",
        "train_set, test_set = train_test_split(final_data, test_size=0.2, random_state=0)"
      ]
    },
    {
      "cell_type": "code",
      "execution_count": 6,
      "id": "2955bfc2",
      "metadata": {
        "id": "2955bfc2"
      },
      "outputs": [],
      "source": [
        "#features training sets for the paternal, maternal, and combined models\n",
        "X_paternal_train = train_set[['DMAR', 'FAGECOMB', 'FRACE31_2.0', 'FRACE31_3.0', 'FRACE31_4.0', 'FRACE31_5.0', \n",
        "                              'FRACE31_6.0', 'FRACE31_7.0', 'FRACE31_8.0', 'FRACE31_9.0', 'FRACE31_10.0', \n",
        "                              'FRACE31_11.0', 'FRACE31_12.0', 'FRACE31_13.0', 'FRACE31_14.0', 'FRACE31_15.0', \n",
        "                              'FRACE31_16.0', 'FRACE31_17.0', 'FRACE31_18.0', 'FRACE31_19.0', 'FRACE31_20.0', \n",
        "                              'FRACE31_21.0', 'FRACE31_22.0', 'FRACE31_23.0', 'FRACE31_24.0', 'FRACE31_25.0',\n",
        "                              'FRACE31_26.0', 'FRACE31_27.0', 'FRACE31_28.0', 'FRACE31_29.0', 'FRACE31_30.0', \n",
        "                              'FRACE31_31.0', 'FHISP_R_1.0', 'FHISP_R_2.0', 'FHISP_R_3.0', 'FHISP_R_4.0', \n",
        "                              'FHISP_R_5.0', 'FEDUC_2.0', 'FEDUC_3.0', 'FEDUC_4.0', 'FEDUC_5.0', 'FEDUC_6.0', \n",
        "                              'FEDUC_7.0', 'FEDUC_8.0']]\n",
        "\n",
        "X_maternal_train = train_set[['DMAR', 'MAGER', 'MEDUC_2.0', 'MEDUC_3.0', 'MEDUC_4.0', 'MEDUC_5.0', 'MEDUC_6.0',\n",
        "                              'MEDUC_7.0', 'MEDUC_8.0', 'MRACE31_2.0', 'MRACE31_3.0', 'MRACE31_4.0', 'MRACE31_5.0', \n",
        "                              'MRACE31_6.0', 'MRACE31_7.0', 'MRACE31_8.0', 'MRACE31_9.0', 'MRACE31_10.0', \n",
        "                              'MRACE31_11.0', 'MRACE31_12.0', 'MRACE31_13.0', 'MRACE31_14.0', 'MRACE31_15.0', \n",
        "                              'MRACE31_16.0', 'MRACE31_17.0', 'MRACE31_18.0', 'MRACE31_19.0', 'MRACE31_20.0',\n",
        "                              'MRACE31_21.0', 'MRACE31_22.0', 'MRACE31_23.0', 'MRACE31_24.0', 'MRACE31_25.0', \n",
        "                              'MRACE31_26.0', 'MRACE31_27.0', 'MRACE31_28.0', 'MRACE31_29.0', 'MRACE31_30.0', \n",
        "                              'MRACE31_31.0', 'MHISP_R_1.0', 'MHISP_R_2.0', 'MHISP_R_3.0', 'MHISP_R_4.0', 'MHISP_R_5.0',]]\n",
        "\n",
        "X_combined_train = train_set[['DMAR', 'FAGECOMB', 'MAGER', 'MEDUC_2.0', 'MEDUC_3.0', 'MEDUC_4.0', 'MEDUC_5.0', 'MEDUC_6.0',\n",
        "                              'MEDUC_7.0', 'MEDUC_8.0', 'MRACE31_2.0', 'MRACE31_3.0', 'MRACE31_4.0', 'MRACE31_5.0', \n",
        "                              'MRACE31_6.0', 'MRACE31_7.0', 'MRACE31_8.0', 'MRACE31_9.0', 'MRACE31_10.0', 'MRACE31_11.0', \n",
        "                              'MRACE31_12.0', 'MRACE31_13.0', 'MRACE31_14.0', 'MRACE31_15.0', 'MRACE31_16.0', \n",
        "                              'MRACE31_17.0', 'MRACE31_18.0', 'MRACE31_19.0', 'MRACE31_20.0', 'MRACE31_21.0', \n",
        "                              'MRACE31_22.0', 'MRACE31_23.0', 'MRACE31_24.0', 'MRACE31_25.0', 'MRACE31_26.0', \n",
        "                              'MRACE31_27.0', 'MRACE31_28.0', 'MRACE31_29.0', 'MRACE31_30.0', 'MRACE31_31.0', \n",
        "                              'MHISP_R_1.0', 'MHISP_R_2.0', 'MHISP_R_3.0', 'MHISP_R_4.0', 'MHISP_R_5.0', 'FRACE31_2.0', \n",
        "                              'FRACE31_3.0', 'FRACE31_4.0', 'FRACE31_5.0', 'FRACE31_6.0', 'FRACE31_7.0', 'FRACE31_8.0', \n",
        "                              'FRACE31_9.0', 'FRACE31_10.0', 'FRACE31_11.0', 'FRACE31_12.0', 'FRACE31_13.0', 'FRACE31_14.0',\n",
        "                              'FRACE31_15.0', 'FRACE31_16.0', 'FRACE31_17.0', 'FRACE31_18.0', 'FRACE31_19.0', \n",
        "                              'FRACE31_20.0', 'FRACE31_21.0', 'FRACE31_22.0', 'FRACE31_23.0', 'FRACE31_24.0', \n",
        "                              'FRACE31_25.0', 'FRACE31_26.0', 'FRACE31_27.0', 'FRACE31_28.0', 'FRACE31_29.0', \n",
        "                              'FRACE31_30.0', 'FRACE31_31.0', 'FHISP_R_1.0', 'FHISP_R_2.0', 'FHISP_R_3.0', 'FHISP_R_4.0', \n",
        "                              'FHISP_R_5.0', 'FEDUC_2.0', 'FEDUC_3.0', 'FEDUC_4.0', 'FEDUC_5.0', 'FEDUC_6.0', \n",
        "                              'FEDUC_7.0', 'FEDUC_8.0']]\n",
        "\n",
        "# responses training sets \n",
        "y_clf_train = train_set[['WIC_R', 'TRIAL_R', 'DMETH_REC', 'BFED_R']]\n",
        "y_reg_train = train_set[['PREVIS', 'DBWT', 'OEGEST_COMB']]"
      ]
    },
    {
      "cell_type": "code",
      "execution_count": 7,
      "id": "85443597",
      "metadata": {
        "id": "85443597"
      },
      "outputs": [],
      "source": [
        "# features test sets for the paternal, maternal, and combined models\n",
        "X_paternal_test = test_set[['DMAR', 'FAGECOMB', 'FRACE31_2.0', 'FRACE31_3.0', 'FRACE31_4.0', 'FRACE31_5.0', \n",
        "                              'FRACE31_6.0', 'FRACE31_7.0', 'FRACE31_8.0', 'FRACE31_9.0', 'FRACE31_10.0', \n",
        "                              'FRACE31_11.0', 'FRACE31_12.0', 'FRACE31_13.0', 'FRACE31_14.0', 'FRACE31_15.0', \n",
        "                              'FRACE31_16.0', 'FRACE31_17.0', 'FRACE31_18.0', 'FRACE31_19.0', 'FRACE31_20.0', \n",
        "                              'FRACE31_21.0', 'FRACE31_22.0', 'FRACE31_23.0', 'FRACE31_24.0', 'FRACE31_25.0',\n",
        "                              'FRACE31_26.0', 'FRACE31_27.0', 'FRACE31_28.0', 'FRACE31_29.0', 'FRACE31_30.0', \n",
        "                              'FRACE31_31.0', 'FHISP_R_1.0', 'FHISP_R_2.0', 'FHISP_R_3.0', 'FHISP_R_4.0', \n",
        "                              'FHISP_R_5.0', 'FEDUC_2.0', 'FEDUC_3.0', 'FEDUC_4.0', 'FEDUC_5.0', 'FEDUC_6.0', \n",
        "                              'FEDUC_7.0', 'FEDUC_8.0']]\n",
        "\n",
        "X_maternal_test = test_set[['DMAR', 'MAGER', 'MEDUC_2.0', 'MEDUC_3.0', 'MEDUC_4.0', 'MEDUC_5.0', 'MEDUC_6.0',\n",
        "                              'MEDUC_7.0', 'MEDUC_8.0', 'MRACE31_2.0', 'MRACE31_3.0', 'MRACE31_4.0', 'MRACE31_5.0', \n",
        "                              'MRACE31_6.0', 'MRACE31_7.0', 'MRACE31_8.0', 'MRACE31_9.0', 'MRACE31_10.0', \n",
        "                              'MRACE31_11.0', 'MRACE31_12.0', 'MRACE31_13.0', 'MRACE31_14.0', 'MRACE31_15.0', \n",
        "                              'MRACE31_16.0', 'MRACE31_17.0', 'MRACE31_18.0', 'MRACE31_19.0', 'MRACE31_20.0',\n",
        "                              'MRACE31_21.0', 'MRACE31_22.0', 'MRACE31_23.0', 'MRACE31_24.0', 'MRACE31_25.0', \n",
        "                              'MRACE31_26.0', 'MRACE31_27.0', 'MRACE31_28.0', 'MRACE31_29.0', 'MRACE31_30.0', \n",
        "                              'MRACE31_31.0', 'MHISP_R_1.0', 'MHISP_R_2.0', 'MHISP_R_3.0', 'MHISP_R_4.0', 'MHISP_R_5.0',]]\n",
        "\n",
        "X_combined_test = test_set[['DMAR', 'FAGECOMB', 'MAGER', 'MEDUC_2.0', 'MEDUC_3.0', 'MEDUC_4.0', 'MEDUC_5.0', 'MEDUC_6.0',\n",
        "                              'MEDUC_7.0', 'MEDUC_8.0', 'MRACE31_2.0', 'MRACE31_3.0', 'MRACE31_4.0', 'MRACE31_5.0', \n",
        "                              'MRACE31_6.0', 'MRACE31_7.0', 'MRACE31_8.0', 'MRACE31_9.0', 'MRACE31_10.0', 'MRACE31_11.0', \n",
        "                              'MRACE31_12.0', 'MRACE31_13.0', 'MRACE31_14.0', 'MRACE31_15.0', 'MRACE31_16.0', \n",
        "                              'MRACE31_17.0', 'MRACE31_18.0', 'MRACE31_19.0', 'MRACE31_20.0', 'MRACE31_21.0', \n",
        "                              'MRACE31_22.0', 'MRACE31_23.0', 'MRACE31_24.0', 'MRACE31_25.0', 'MRACE31_26.0', \n",
        "                              'MRACE31_27.0', 'MRACE31_28.0', 'MRACE31_29.0', 'MRACE31_30.0', 'MRACE31_31.0', \n",
        "                              'MHISP_R_1.0', 'MHISP_R_2.0', 'MHISP_R_3.0', 'MHISP_R_4.0', 'MHISP_R_5.0', 'FRACE31_2.0', \n",
        "                              'FRACE31_3.0', 'FRACE31_4.0', 'FRACE31_5.0', 'FRACE31_6.0', 'FRACE31_7.0', 'FRACE31_8.0', \n",
        "                              'FRACE31_9.0', 'FRACE31_10.0', 'FRACE31_11.0', 'FRACE31_12.0', 'FRACE31_13.0', 'FRACE31_14.0',\n",
        "                              'FRACE31_15.0', 'FRACE31_16.0', 'FRACE31_17.0', 'FRACE31_18.0', 'FRACE31_19.0', \n",
        "                              'FRACE31_20.0', 'FRACE31_21.0', 'FRACE31_22.0', 'FRACE31_23.0', 'FRACE31_24.0', \n",
        "                              'FRACE31_25.0', 'FRACE31_26.0', 'FRACE31_27.0', 'FRACE31_28.0', 'FRACE31_29.0', \n",
        "                              'FRACE31_30.0', 'FRACE31_31.0', 'FHISP_R_1.0', 'FHISP_R_2.0', 'FHISP_R_3.0', 'FHISP_R_4.0', \n",
        "                              'FHISP_R_5.0', 'FEDUC_2.0', 'FEDUC_3.0', 'FEDUC_4.0', 'FEDUC_5.0', 'FEDUC_6.0', \n",
        "                              'FEDUC_7.0', 'FEDUC_8.0']]\n",
        "\n",
        "# responses test sets\n",
        "y_clf_test = test_set[['WIC_R', 'TRIAL_R', 'DMETH_REC', 'BFED_R']]\n",
        "y_reg_test = test_set[['PREVIS', 'DBWT', 'OEGEST_COMB']]"
      ]
    },
    {
      "cell_type": "code",
      "execution_count": null,
      "id": "c6821b83",
      "metadata": {
        "id": "c6821b83",
        "colab": {
          "base_uri": "https://localhost:8080/"
        },
        "outputId": "518ce117-0cdd-4f63-84c4-9478ab62b59f"
      },
      "outputs": [
        {
          "output_type": "stream",
          "name": "stdout",
          "text": [
            "<class 'pandas.core.frame.DataFrame'>\n",
            "Int64Index: 790103 entries, 88550 to 985772\n",
            "Columns: 102 entries, Unnamed: 0 to FEDUC_8.0\n",
            "dtypes: float64(101), int64(1)\n",
            "memory usage: 620.9 MB\n"
          ]
        }
      ],
      "source": [
        "train_set.info()"
      ]
    },
    {
      "cell_type": "code",
      "execution_count": null,
      "id": "a1561bec",
      "metadata": {
        "id": "a1561bec"
      },
      "outputs": [],
      "source": [
        "test_set.info()"
      ]
    },
    {
      "cell_type": "markdown",
      "id": "00adfe2b",
      "metadata": {
        "id": "00adfe2b"
      },
      "source": [
        "## Hyperparameter Tuning for RandomForestClassifier() Models"
      ]
    },
    {
      "cell_type": "code",
      "source": [
        "rf_clf = RandomForestClassifier(n_estimators=100, max_depth=6, min_samples_split=2, random_state=42)\n",
        "clf_model = MultiOutputClassifier(estimator=rf_clf)"
      ],
      "metadata": {
        "id": "eo1UT1U5phaI"
      },
      "id": "eo1UT1U5phaI",
      "execution_count": 8,
      "outputs": []
    },
    {
      "cell_type": "markdown",
      "id": "bf1d3e86",
      "metadata": {
        "id": "bf1d3e86"
      },
      "source": [
        "### Paternal Features"
      ]
    },
    {
      "cell_type": "code",
      "execution_count": null,
      "id": "cb173f89",
      "metadata": {
        "id": "cb173f89",
        "outputId": "4b60dcaf-bd03-4ab8-caf3-f1942f5aa946"
      },
      "outputs": [
        {
          "name": "stdout",
          "output_type": "stream",
          "text": [
            "The best coarse parameters are:  {'estimator__max_depth': 5, 'estimator__min_samples_split': 5, 'estimator__n_estimators': 1000}\n"
          ]
        }
      ],
      "source": [
        "# Coarse RandomClassifier GridSearch - paternal\n",
        "\n",
        "param_grid_coarse_paternal = {'estimator__max_depth':[2, 4, 5],\n",
        "              'estimator__n_estimators':[250, 500, 1000],\n",
        "              'estimator__min_samples_split':[3, 5, 7]}\n",
        "\n",
        "gscv_paternal_clf_coarse = GridSearchCV(clf_model, param_grid_coarse_paternal, n_jobs=-1, cv=3)\n",
        "gscv_paternal_clf_coarse.fit(X_paternal_train.iloc[:200000], y_clf_train.iloc[:200000])\n",
        "\n",
        "print(\"The best coarse parameters are: \", gscv_paternal_clf_coarse.best_params_)"
      ]
    },
    {
      "cell_type": "code",
      "execution_count": null,
      "id": "e85891a1",
      "metadata": {
        "id": "e85891a1"
      },
      "outputs": [],
      "source": [
        "# Refined RandomForestClassifier GridSearch - paternal\n",
        "\n",
        "param_grid_refined_paternal = {'estimator__max_depth':[4,5,6,7,8], \n",
        "              'estimator__n_estimators': [900, 950, 1000, 1050, 1100], \n",
        "              'estimator__min_samples_split': [5,6,7,8,9,10,11,12]}\n",
        "\n",
        "gscv_paternal_clf_refined = GridSearchCV(clf_model, param_grid_refined_paternal, n_jobs=-1, cv=3)\n",
        "gscv_paternal_clf_refined.fit(X_paternal_train, y_clf_train)\n",
        "\n",
        "print(\"The best refined parameters are: \", gscv_paternal_clf_refined.best_params_)"
      ]
    },
    {
      "cell_type": "code",
      "execution_count": null,
      "id": "0d9bd3d5",
      "metadata": {
        "id": "0d9bd3d5",
        "colab": {
          "base_uri": "https://localhost:8080/"
        },
        "outputId": "11cc2171-98c2-4921-d0cd-bef1b6b6960d"
      },
      "outputs": [
        {
          "output_type": "stream",
          "name": "stdout",
          "text": [
            "The best refined parameters are:  {'estimator__max_depth': 14, 'estimator__min_samples_split': 2, 'estimator__n_estimators': 250}\n"
          ]
        }
      ],
      "source": [
        "# Final RandomForestClassifier GridSearch - paternal\n",
        "param_grid_final_paternal = {'estimator__max_depth':[14], \n",
        "              'estimator__n_estimators': [250], \n",
        "              'estimator__min_samples_split': [2]}\n",
        "\n",
        "gscv_paternal_clf_final = GridSearchCV(clf_model, param_grid_final_paternal, n_jobs=-1, cv=3)\n",
        "gscv_paternal_clf_final.fit(X_paternal_train, y_clf_train)\n",
        "\n",
        "print(\"The best refined parameters are: \", gscv_paternal_clf_final.best_params_)"
      ]
    },
    {
      "cell_type": "markdown",
      "id": "c23fce25",
      "metadata": {
        "id": "c23fce25"
      },
      "source": [
        "### Maternal Features "
      ]
    },
    {
      "cell_type": "code",
      "execution_count": null,
      "id": "719bf5d9",
      "metadata": {
        "id": "719bf5d9"
      },
      "outputs": [],
      "source": [
        "# Coarse RandomClassifier GridSearch - maternal\n",
        "param_grid_coarse_maternal = {'estimator__max_depth':[2,4,5,8],\n",
        "              'estimator__n_estimators':[250, 500, 750, 1000],\n",
        "              'estimator__min_samples_split':[3, 5, 7, 9]}\n",
        "\n",
        "gscv_maternal_clf_coarse = GridSearchCV(clf_model, param_grid_coarse_maternal, n_jobs=-1, cv=3)\n",
        "gscv_maternal_clf_coarse.fit(X_maternal_train, y_clf_train)\n",
        "\n",
        "print(\"The best coarse parameters are: \", gscv_maternal_clf_coarse.best_params_)"
      ]
    },
    {
      "cell_type": "code",
      "execution_count": null,
      "id": "1c274cfb",
      "metadata": {
        "id": "1c274cfb"
      },
      "outputs": [],
      "source": [
        "# Refined RandomForestClassifier GridSearch - maternal\n",
        "\n",
        "param_grid_refined_maternal = {'estimator__max_depth':[4,5,6, 8], \n",
        "              'estimator__n_estimators': [900, 950, 1000, 1050, 1100], \n",
        "              'estimator__min_samples_split': [5,6,7,8,9,10,11,12]}\n",
        "\n",
        "gscv_maternal_clf_refined = GridSearchCV(clf_model, param_grid_refined_maternal, n_jobs=-1, cv=3)\n",
        "gscv_maternal_clf_refined.fit(X_maternal_train, y_clf_train)\n",
        "\n",
        "print(\"The best refined parameters are: \", gscv_maternal_clf_refined.best_params_)"
      ]
    },
    {
      "cell_type": "code",
      "execution_count": null,
      "id": "cd738617",
      "metadata": {
        "id": "cd738617",
        "colab": {
          "base_uri": "https://localhost:8080/"
        },
        "outputId": "58f0d8ed-0925-481a-b3ae-ff2373c4b093"
      },
      "outputs": [
        {
          "output_type": "stream",
          "name": "stdout",
          "text": [
            "The best refined parameters are:  {'estimator__max_depth': 12, 'estimator__min_samples_split': 10, 'estimator__n_estimators': 150}\n"
          ]
        }
      ],
      "source": [
        "# Final RandomForestClassifier GridSearch - maternal\n",
        "\n",
        "param_grid_final_maternal = {'estimator__max_depth':[12], \n",
        "              'estimator__n_estimators': [150], \n",
        "              'estimator__min_samples_split': [10]}\n",
        "\n",
        "gscv_maternal_clf_final = GridSearchCV(clf_model, param_grid_final_maternal, n_jobs=-1, cv=3)\n",
        "gscv_maternal_clf_final.fit(X_maternal_train, y_clf_train)\n",
        "\n",
        "print(\"The best refined parameters are: \", gscv_maternal_clf_final.best_params_)"
      ]
    },
    {
      "cell_type": "markdown",
      "id": "093f0636",
      "metadata": {
        "id": "093f0636"
      },
      "source": [
        "### Combined Paternal and Maternal Features"
      ]
    },
    {
      "cell_type": "code",
      "execution_count": null,
      "id": "fbfcd44d",
      "metadata": {
        "id": "fbfcd44d"
      },
      "outputs": [],
      "source": [
        "# Coarse RandomClassifier GridSearch - combined\n",
        "param_grid_coarse_combined = {'estimator__max_depth':[2, 4, 5],\n",
        "              'estimator__n_estimators':[250, 500, 1000],\n",
        "              'estimator__min_samples_split':[3, 5, 7]}\n",
        "\n",
        "gscv_combined_clf_coarse = GridSearchCV(clf_model, param_grid_coarse_combined, n_jobs=-1, cv=3)\n",
        "gscv_combined_clf_coarse.fit(X_combined_train, y_clf_train)\n",
        "\n",
        "print(\"The best coarse parameters are: \", gscv_combined_clf_coarse.best_params_)"
      ]
    },
    {
      "cell_type": "code",
      "execution_count": null,
      "id": "0f1b9a8c",
      "metadata": {
        "id": "0f1b9a8c"
      },
      "outputs": [],
      "source": [
        "# Refined RandomForestClassifier GridSearch - combined\n",
        "\n",
        "param_grid_refined_combined = {'estimator__max_depth':[4,5,6,7,8], \n",
        "              'estimator__n_estimators': [900, 950, 1000, 1050, 1100], \n",
        "              'estimator__min_samples_split': [5,6,7,8,9,10,11,12]}\n",
        "\n",
        "gscv_combined_clf_refined = GridSearchCV(clf_model, param_grid_refined_combined, n_jobs=-1, cv=3)\n",
        "gscv_combined_clf_refined.fit(X_combined_train, y_clf_train)\n",
        "\n",
        "print(\"The best refined parameters are: \", gscv_combined_clf_refined.best_params_)"
      ]
    },
    {
      "cell_type": "code",
      "execution_count": null,
      "id": "83bfa122",
      "metadata": {
        "id": "83bfa122",
        "colab": {
          "base_uri": "https://localhost:8080/"
        },
        "outputId": "a3e8858d-bcdb-46e0-e130-c4f045ea67e9"
      },
      "outputs": [
        {
          "output_type": "stream",
          "name": "stdout",
          "text": [
            "The best refined parameters are:  {'estimator__max_depth': 17, 'estimator__min_samples_split': 4, 'estimator__n_estimators': 350}\n"
          ]
        }
      ],
      "source": [
        "# Final RandomForestClassifier GridSearch - combined\n",
        "param_grid_final_combined = {'estimator__max_depth':[17], \n",
        "              'estimator__n_estimators': [350], \n",
        "              'estimator__min_samples_split': [4]}\n",
        "\n",
        "gscv_combined_clf_final = GridSearchCV(clf_model, param_grid_final_combined, n_jobs=-1, cv=3)\n",
        "gscv_combined_clf_final.fit(X_combined_train, y_clf_train)\n",
        "\n",
        "print(\"The best refined parameters are: \", gscv_combined_clf_final.best_params_)"
      ]
    },
    {
      "cell_type": "markdown",
      "id": "7ecea9ae",
      "metadata": {
        "id": "7ecea9ae"
      },
      "source": [
        "## RandomForestClassifier() Models"
      ]
    },
    {
      "cell_type": "code",
      "source": [
        "rf_clf = RandomForestClassifier(n_estimators=100, max_depth=6, min_samples_split=2, random_state=42)\n",
        "clf_model = MultiOutputClassifier(estimator=rf_clf)"
      ],
      "metadata": {
        "id": "s0vSoMDqKgSV"
      },
      "id": "s0vSoMDqKgSV",
      "execution_count": null,
      "outputs": []
    },
    {
      "cell_type": "code",
      "source": [
        "# RandomForestClassifier model on paternal features using default hyperparameter values\n",
        "rf_clf_paternal = MultiOutputClassifier(RandomForestClassifier(max_depth=20, random_state=42))\n",
        "rf_clf_paternal.fit(X_paternal_train, y_clf_train)"
      ],
      "metadata": {
        "colab": {
          "base_uri": "https://localhost:8080/"
        },
        "id": "4EkMv47Bv34X",
        "outputId": "ea848a73-22fc-4b93-d63d-57fe240450b2"
      },
      "id": "4EkMv47Bv34X",
      "execution_count": null,
      "outputs": [
        {
          "output_type": "execute_result",
          "data": {
            "text/plain": [
              "MultiOutputClassifier(estimator=RandomForestClassifier(max_depth=20,\n",
              "                                                       random_state=42))"
            ]
          },
          "metadata": {},
          "execution_count": 11
        }
      ]
    },
    {
      "cell_type": "code",
      "source": [
        "# predict responses based on the default paternal RandomForestClassifier model\n",
        "y_pred_rf_clf_paternal = rf_clf_paternal.predict(X_paternal_test)\n",
        "y_pred_rf_clf_paternal"
      ],
      "metadata": {
        "colab": {
          "base_uri": "https://localhost:8080/"
        },
        "id": "5DqEbMalwNyf",
        "outputId": "ee072cb7-35ce-4c1e-93cc-3e7397c4076f"
      },
      "id": "5DqEbMalwNyf",
      "execution_count": null,
      "outputs": [
        {
          "output_type": "execute_result",
          "data": {
            "text/plain": [
              "array([[0., 1., 1., 1.],\n",
              "       [0., 1., 1., 1.],\n",
              "       [0., 1., 1., 1.],\n",
              "       ...,\n",
              "       [1., 1., 1., 1.],\n",
              "       [0., 1., 1., 1.],\n",
              "       [0., 1., 1., 1.]])"
            ]
          },
          "metadata": {},
          "execution_count": 12
        }
      ]
    },
    {
      "cell_type": "code",
      "source": [
        "# Optimal RandomForestClassifier Model based on GridSearch results for paternal features - hard coded to reduce need to run GridSearchCV again\n",
        "\n",
        "optimal_rf_clf_paternal = MultiOutputClassifier(RandomForestClassifier(max_depth=14, n_estimators=250, min_samples_split=2, random_state=42)).fit(X_paternal_train, y_clf_train)"
      ],
      "metadata": {
        "id": "B2d67bv1fgmu"
      },
      "id": "B2d67bv1fgmu",
      "execution_count": 27,
      "outputs": []
    },
    {
      "cell_type": "code",
      "source": [
        "joblib.dump(optimal_rf_clf_paternal, 'clf_paternal_model.pkl')"
      ],
      "metadata": {
        "colab": {
          "base_uri": "https://localhost:8080/"
        },
        "id": "gz-4VUHwfCiP",
        "outputId": "a1b984ca-93a3-4d4e-8d15-fc1fd6c326eb"
      },
      "id": "gz-4VUHwfCiP",
      "execution_count": 70,
      "outputs": [
        {
          "output_type": "execute_result",
          "data": {
            "text/plain": [
              "['clf_paternal_model.pkl']"
            ]
          },
          "metadata": {},
          "execution_count": 70
        }
      ]
    },
    {
      "cell_type": "code",
      "execution_count": 28,
      "id": "f396260b",
      "metadata": {
        "id": "f396260b",
        "colab": {
          "base_uri": "https://localhost:8080/"
        },
        "outputId": "67ba6e7d-8e56-465b-fff2-a96cc6007fc5"
      },
      "outputs": [
        {
          "output_type": "execute_result",
          "data": {
            "text/plain": [
              "array([[0., 1., 1., 1.],\n",
              "       [0., 1., 1., 1.],\n",
              "       [0., 1., 1., 1.],\n",
              "       ...,\n",
              "       [0., 1., 1., 1.],\n",
              "       [0., 1., 1., 1.],\n",
              "       [0., 1., 1., 1.]])"
            ]
          },
          "metadata": {},
          "execution_count": 28
        }
      ],
      "source": [
        "#predict responses based on the optimal paternal RandomForestClassifier model\n",
        "y_pred_rf_clf_paternal_optimal = optimal_rf_clf_paternal.predict(X_paternal_test)\n",
        "y_pred_rf_clf_paternal_optimal"
      ]
    },
    {
      "cell_type": "code",
      "source": [
        "# RandomForestClassifier model on maternal features using default hyperparameter values\n",
        "rf_clf_maternal = MultiOutputClassifier(RandomForestClassifier(max_depth=20, random_state=42))\n",
        "rf_clf_maternal.fit(X_maternal_train, y_clf_train)"
      ],
      "metadata": {
        "id": "yKnz47jhxpAu"
      },
      "id": "yKnz47jhxpAu",
      "execution_count": null,
      "outputs": []
    },
    {
      "cell_type": "code",
      "source": [
        "# predict responses based on the default maternal RandomForestClassifier model\n",
        "y_pred_rf_clf_maternal = rf_clf_maternal.predict(X_maternal_test)\n",
        "y_pred_rf_clf_maternal"
      ],
      "metadata": {
        "colab": {
          "base_uri": "https://localhost:8080/"
        },
        "id": "aSAACeBjyqpt",
        "outputId": "d608eeb5-5a09-453c-f7a0-f2a188719975"
      },
      "id": "aSAACeBjyqpt",
      "execution_count": null,
      "outputs": [
        {
          "output_type": "execute_result",
          "data": {
            "text/plain": [
              "array([[0., 1., 1., 1.],\n",
              "       [0., 1., 1., 1.],\n",
              "       [0., 1., 1., 1.],\n",
              "       ...,\n",
              "       [0., 1., 1., 1.],\n",
              "       [0., 1., 1., 1.],\n",
              "       [0., 1., 1., 1.]])"
            ]
          },
          "metadata": {},
          "execution_count": 14
        }
      ]
    },
    {
      "cell_type": "code",
      "source": [
        "# Optimal RandomForestClassifier Model based on GridSearch results for maternal features - hard coded to reduce need to run GridSearchCV again\n",
        "\n",
        "optimal_rf_clf_maternal = MultiOutputClassifier(RandomForestClassifier(max_depth=12, n_estimators=150, min_samples_split=10, random_state=42)).fit(X_maternal_train, y_clf_train)"
      ],
      "metadata": {
        "id": "M7rAl8JifS7b"
      },
      "id": "M7rAl8JifS7b",
      "execution_count": 20,
      "outputs": []
    },
    {
      "cell_type": "code",
      "source": [
        "joblib.dump(optimal_rf_clf_maternal, 'clf_maternal_model.pkl')"
      ],
      "metadata": {
        "colab": {
          "base_uri": "https://localhost:8080/"
        },
        "id": "czXucnZmltHe",
        "outputId": "c2ff127a-0b6e-4bbb-e97f-e4035eb3504a"
      },
      "id": "czXucnZmltHe",
      "execution_count": 72,
      "outputs": [
        {
          "output_type": "execute_result",
          "data": {
            "text/plain": [
              "['clf_maternal_model.pkl']"
            ]
          },
          "metadata": {},
          "execution_count": 72
        }
      ]
    },
    {
      "cell_type": "code",
      "execution_count": 21,
      "id": "50f2066b",
      "metadata": {
        "id": "50f2066b",
        "colab": {
          "base_uri": "https://localhost:8080/"
        },
        "outputId": "a7fe31ab-1f12-4529-bbae-7b570052a039"
      },
      "outputs": [
        {
          "output_type": "execute_result",
          "data": {
            "text/plain": [
              "array([[0., 1., 1., 1.],\n",
              "       [0., 1., 1., 1.],\n",
              "       [0., 1., 1., 1.],\n",
              "       ...,\n",
              "       [0., 1., 1., 1.],\n",
              "       [0., 1., 1., 1.],\n",
              "       [0., 1., 1., 1.]])"
            ]
          },
          "metadata": {},
          "execution_count": 21
        }
      ],
      "source": [
        "#predict responses based on the optimal maternal RandomForestClassifier model\n",
        "y_pred_rf_clf_maternal_optimal = optimal_rf_clf_maternal.predict(X_maternal_test)\n",
        "y_pred_rf_clf_maternal_optimal"
      ]
    },
    {
      "cell_type": "code",
      "source": [
        "# RandomForestClassifier model on combined paternal and maternal features using default hyperparameter values\n",
        "rf_clf_combined = MultiOutputClassifier(RandomForestClassifier(max_depth=20, random_state=42))\n",
        "rf_clf_combined.fit(X_combined_train, y_clf_train)"
      ],
      "metadata": {
        "colab": {
          "base_uri": "https://localhost:8080/"
        },
        "id": "4mt7Q7hoyc-2",
        "outputId": "c79ba765-d741-4bb8-9afa-16769eec59fa"
      },
      "id": "4mt7Q7hoyc-2",
      "execution_count": null,
      "outputs": [
        {
          "output_type": "execute_result",
          "data": {
            "text/plain": [
              "MultiOutputClassifier(estimator=RandomForestClassifier(max_depth=20,\n",
              "                                                       random_state=42))"
            ]
          },
          "metadata": {},
          "execution_count": 25
        }
      ]
    },
    {
      "cell_type": "code",
      "source": [
        "# predict responses based on the default combined RandomForestClassifier model\n",
        "y_pred_rf_clf_combined = rf_clf_combined.predict(X_combined_test)\n",
        "y_pred_rf_clf_combined"
      ],
      "metadata": {
        "colab": {
          "base_uri": "https://localhost:8080/"
        },
        "id": "k3C22L-4yyZd",
        "outputId": "bee08565-4e8f-4ce9-cf86-02b867703259"
      },
      "id": "k3C22L-4yyZd",
      "execution_count": null,
      "outputs": [
        {
          "output_type": "execute_result",
          "data": {
            "text/plain": [
              "array([[0., 1., 1., 1.],\n",
              "       [0., 1., 1., 1.],\n",
              "       [0., 1., 1., 1.],\n",
              "       ...,\n",
              "       [1., 1., 1., 1.],\n",
              "       [0., 1., 1., 1.],\n",
              "       [0., 1., 1., 1.]])"
            ]
          },
          "metadata": {},
          "execution_count": 26
        }
      ]
    },
    {
      "cell_type": "code",
      "source": [
        "# Optimal RandomForestClassifier Model based on GridSearch results for combined paternal and maternal features - hard coded to reduce need to run GridSearchCV again\n",
        "\n",
        "optimal_rf_clf_combined = MultiOutputClassifier(RandomForestClassifier(max_depth=17, n_estimators=350, min_samples_split=4, random_state=42)).fit(X_combined_train, y_clf_train)"
      ],
      "metadata": {
        "id": "vIPCklIKe5Sb"
      },
      "id": "vIPCklIKe5Sb",
      "execution_count": 52,
      "outputs": []
    },
    {
      "cell_type": "code",
      "source": [
        "joblib.dump(optimal_rf_clf_combined, 'clf_combined_model.pkl')"
      ],
      "metadata": {
        "colab": {
          "base_uri": "https://localhost:8080/"
        },
        "id": "1ql_nB7Ml3TM",
        "outputId": "40666c26-3ed7-490d-fd40-7c1de0cc3c85"
      },
      "id": "1ql_nB7Ml3TM",
      "execution_count": 73,
      "outputs": [
        {
          "output_type": "execute_result",
          "data": {
            "text/plain": [
              "['clf_combined_model.pkl']"
            ]
          },
          "metadata": {},
          "execution_count": 73
        }
      ]
    },
    {
      "cell_type": "code",
      "execution_count": 53,
      "id": "1b5637dc",
      "metadata": {
        "id": "1b5637dc",
        "colab": {
          "base_uri": "https://localhost:8080/"
        },
        "outputId": "58124c80-49d7-4432-b8ad-2669e455c335"
      },
      "outputs": [
        {
          "output_type": "execute_result",
          "data": {
            "text/plain": [
              "array([[0., 1., 1., 1.],\n",
              "       [0., 1., 1., 1.],\n",
              "       [0., 1., 1., 1.],\n",
              "       ...,\n",
              "       [1., 1., 1., 1.],\n",
              "       [0., 1., 1., 1.],\n",
              "       [0., 1., 1., 1.]])"
            ]
          },
          "metadata": {},
          "execution_count": 53
        }
      ],
      "source": [
        "#predict responses based on the optimal combined paternal and maternal RandomForestClassifier model\n",
        "y_pred_rf_clf_combined_optimal = optimal_rf_clf_combined.predict(X_combined_test)\n",
        "y_pred_rf_clf_combined_optimal"
      ]
    },
    {
      "cell_type": "code",
      "source": [
        "ax = optimal_rf_clf_combined.plot.scatter()\n"
      ],
      "metadata": {
        "id": "Qm0vc8RgkSIh"
      },
      "id": "Qm0vc8RgkSIh",
      "execution_count": null,
      "outputs": []
    },
    {
      "cell_type": "markdown",
      "source": [
        "## Confusion Matrices for RandomForestClassifier() Models"
      ],
      "metadata": {
        "id": "ExEjXmKGUGtS"
      },
      "id": "ExEjXmKGUGtS"
    },
    {
      "cell_type": "markdown",
      "source": [
        "### Paternal Classification Model"
      ],
      "metadata": {
        "id": "V7vEZg1EUO6b"
      },
      "id": "V7vEZg1EUO6b"
    },
    {
      "cell_type": "code",
      "source": [
        "cm_clf_paternal_wic = confusion_matrix(y_clf_test.iloc[:,0], y_pred_rf_clf_paternal_optimal[:,0])\n",
        "cm_clf_paternal_wic"
      ],
      "metadata": {
        "colab": {
          "base_uri": "https://localhost:8080/"
        },
        "id": "w89LdSPeUOfq",
        "outputId": "25bbda02-562f-405f-c9cd-6a02a5a364b2"
      },
      "id": "w89LdSPeUOfq",
      "execution_count": 43,
      "outputs": [
        {
          "output_type": "execute_result",
          "data": {
            "text/plain": [
              "array([[118621,  19951],\n",
              "       [ 32593,  26361]])"
            ]
          },
          "metadata": {},
          "execution_count": 43
        }
      ]
    },
    {
      "cell_type": "code",
      "source": [
        "disp_clf_paternal_wic = ConfusionMatrixDisplay(confusion_matrix=cm_clf_paternal_wic)\n",
        "disp_clf_paternal_wic.plot()\n",
        "plt.show()"
      ],
      "metadata": {
        "colab": {
          "base_uri": "https://localhost:8080/",
          "height": 286
        },
        "id": "WTB5N9alu-Wb",
        "outputId": "2796bed3-7963-43cb-f227-c07b1e3efd45"
      },
      "id": "WTB5N9alu-Wb",
      "execution_count": 81,
      "outputs": [
        {
          "output_type": "display_data",
          "data": {
            "text/plain": [
              "<Figure size 432x288 with 2 Axes>"
            ],
            "image/png": "[encoded data removed]"
          },
          "metadata": {
            "needs_background": "light"
          }
        }
      ]
    },
    {
      "cell_type": "code",
      "source": [
        "cm_clf_paternal_trial = confusion_matrix(y_clf_test.iloc[:,1], y_pred_rf_clf_paternal_optimal[:,1])\n",
        "cm_clf_paternal_trial"
      ],
      "metadata": {
        "colab": {
          "base_uri": "https://localhost:8080/"
        },
        "id": "epLVqvspUNHy",
        "outputId": "6c6fc803-f330-4af8-d7b9-594cd5ded398"
      },
      "id": "epLVqvspUNHy",
      "execution_count": 44,
      "outputs": [
        {
          "output_type": "execute_result",
          "data": {
            "text/plain": [
              "array([[    14,  45189],\n",
              "       [    40, 152283]])"
            ]
          },
          "metadata": {},
          "execution_count": 44
        }
      ]
    },
    {
      "cell_type": "code",
      "source": [
        "disp_clf_paternal_trial = ConfusionMatrixDisplay(confusion_matrix=cm_clf_paternal_trial)\n",
        "disp_clf_paternal_trial.plot()\n",
        "plt.show()"
      ],
      "metadata": {
        "colab": {
          "base_uri": "https://localhost:8080/",
          "height": 286
        },
        "id": "XRGbg-9ix_mg",
        "outputId": "3a808299-2784-4e3e-8bf7-447446748df0"
      },
      "id": "XRGbg-9ix_mg",
      "execution_count": 82,
      "outputs": [
        {
          "output_type": "display_data",
          "data": {
            "text/plain": [
              "<Figure size 432x288 with 2 Axes>"
            ],
            "image/png": "[encoded data removed]"
          },
          "metadata": {
            "needs_background": "light"
          }
        }
      ]
    },
    {
      "cell_type": "code",
      "source": [
        "cm_clf_paternal_delivery = confusion_matrix(y_clf_test.iloc[:,2], y_pred_rf_clf_paternal_optimal[:,2])\n",
        "cm_clf_paternal_delivery"
      ],
      "metadata": {
        "colab": {
          "base_uri": "https://localhost:8080/"
        },
        "id": "hsaNkuyYbbto",
        "outputId": "af582674-c149-4190-ddba-9534e0c809e9"
      },
      "id": "hsaNkuyYbbto",
      "execution_count": 45,
      "outputs": [
        {
          "output_type": "execute_result",
          "data": {
            "text/plain": [
              "array([[   162,  62701],\n",
              "       [   208, 134455]])"
            ]
          },
          "metadata": {},
          "execution_count": 45
        }
      ]
    },
    {
      "cell_type": "code",
      "source": [
        "disp_clf_paternal_delivery = ConfusionMatrixDisplay(confusion_matrix=cm_clf_paternal_delivery)\n",
        "disp_clf_paternal_delivery.plot()\n",
        "plt.show()"
      ],
      "metadata": {
        "colab": {
          "base_uri": "https://localhost:8080/",
          "height": 286
        },
        "id": "xgwqEMD-yBMy",
        "outputId": "c73ac5aa-3208-41aa-c2d3-994a6e29b8c2"
      },
      "id": "xgwqEMD-yBMy",
      "execution_count": 83,
      "outputs": [
        {
          "output_type": "display_data",
          "data": {
            "text/plain": [
              "<Figure size 432x288 with 2 Axes>"
            ],
            "image/png": "[encoded data removed]"
          },
          "metadata": {
            "needs_background": "light"
          }
        }
      ]
    },
    {
      "cell_type": "code",
      "source": [
        "cm_clf_paternal_bfed = confusion_matrix(y_clf_test.iloc[:,3], y_pred_rf_clf_paternal_optimal[:,3])\n",
        "cm_clf_paternal_bfed"
      ],
      "metadata": {
        "colab": {
          "base_uri": "https://localhost:8080/"
        },
        "id": "OL6nFHYlbb1u",
        "outputId": "621eff1c-35e8-4aae-c6b7-dc93875c14fe"
      },
      "id": "OL6nFHYlbb1u",
      "execution_count": 46,
      "outputs": [
        {
          "output_type": "execute_result",
          "data": {
            "text/plain": [
              "array([[     4,  33431],\n",
              "       [    13, 164078]])"
            ]
          },
          "metadata": {},
          "execution_count": 46
        }
      ]
    },
    {
      "cell_type": "code",
      "source": [
        "disp_clf_paternal_bfed = ConfusionMatrixDisplay(confusion_matrix=cm_clf_paternal_bfed)\n",
        "disp_clf_paternal_bfed.plot()\n",
        "plt.show()"
      ],
      "metadata": {
        "colab": {
          "base_uri": "https://localhost:8080/",
          "height": 286
        },
        "id": "huBMK2a4yCJK",
        "outputId": "42998b5f-277a-4ccb-b115-cc6a5c8a4b8e"
      },
      "id": "huBMK2a4yCJK",
      "execution_count": 84,
      "outputs": [
        {
          "output_type": "display_data",
          "data": {
            "text/plain": [
              "<Figure size 432x288 with 2 Axes>"
            ],
            "image/png": "[encoded data removed]"
          },
          "metadata": {
            "needs_background": "light"
          }
        }
      ]
    },
    {
      "cell_type": "markdown",
      "source": [
        "### Maternal Classification Model"
      ],
      "metadata": {
        "id": "5PUA6AZOYGvu"
      },
      "id": "5PUA6AZOYGvu"
    },
    {
      "cell_type": "code",
      "source": [
        "cm_clf_maternal_wic = confusion_matrix(y_clf_test.iloc[:,0], y_pred_rf_clf_maternal_optimal[:,0])\n",
        "cm_clf_maternal_wic"
      ],
      "metadata": {
        "colab": {
          "base_uri": "https://localhost:8080/"
        },
        "id": "VTtkNuMtYQ6_",
        "outputId": "8c3cab48-f6d4-42bf-acb8-9675287c48d8"
      },
      "id": "VTtkNuMtYQ6_",
      "execution_count": 47,
      "outputs": [
        {
          "output_type": "execute_result",
          "data": {
            "text/plain": [
              "array([[120499,  18073],\n",
              "       [ 33969,  24985]])"
            ]
          },
          "metadata": {},
          "execution_count": 47
        }
      ]
    },
    {
      "cell_type": "code",
      "source": [
        "disp_clf_maternal_wic = ConfusionMatrixDisplay(confusion_matrix=cm_clf_maternal_wic)\n",
        "disp_clf_maternal_wic.plot()\n",
        "plt.show()"
      ],
      "metadata": {
        "colab": {
          "base_uri": "https://localhost:8080/",
          "height": 290
        },
        "id": "a-Nt76Z1yDmA",
        "outputId": "4c92ee21-afef-44e6-a1ea-622c413e8e4e"
      },
      "id": "a-Nt76Z1yDmA",
      "execution_count": 85,
      "outputs": [
        {
          "output_type": "display_data",
          "data": {
            "text/plain": [
              "<Figure size 432x288 with 2 Axes>"
            ],
            "image/png": "[encoded data removed]"
          },
          "metadata": {
            "needs_background": "light"
          }
        }
      ]
    },
    {
      "cell_type": "code",
      "source": [
        "cm_clf_maternal_trial = confusion_matrix(y_clf_test.iloc[:,1], y_pred_rf_clf_maternal_optimal[:,1])\n",
        "cm_clf_maternal_trial"
      ],
      "metadata": {
        "colab": {
          "base_uri": "https://localhost:8080/"
        },
        "id": "4_k2UeETb-jg",
        "outputId": "75391b33-faa9-4e04-be96-bda6d6cdaaa6"
      },
      "id": "4_k2UeETb-jg",
      "execution_count": 48,
      "outputs": [
        {
          "output_type": "execute_result",
          "data": {
            "text/plain": [
              "array([[    14,  45189],\n",
              "       [     7, 152316]])"
            ]
          },
          "metadata": {},
          "execution_count": 48
        }
      ]
    },
    {
      "cell_type": "code",
      "source": [
        "disp_clf_maternal_trial = ConfusionMatrixDisplay(confusion_matrix=cm_clf_maternal_trial)\n",
        "disp_clf_maternal_trial.plot()\n",
        "plt.show()"
      ],
      "metadata": {
        "colab": {
          "base_uri": "https://localhost:8080/",
          "height": 286
        },
        "id": "0q4kfIs4ynxR",
        "outputId": "af03ab7c-22b9-4f4f-feae-64c15567a09b"
      },
      "id": "0q4kfIs4ynxR",
      "execution_count": 86,
      "outputs": [
        {
          "output_type": "display_data",
          "data": {
            "text/plain": [
              "<Figure size 432x288 with 2 Axes>"
            ],
            "image/png": "[encoded data removed]"
          },
          "metadata": {
            "needs_background": "light"
          }
        }
      ]
    },
    {
      "cell_type": "code",
      "source": [
        "cm_clf_maternal_delivery = confusion_matrix(y_clf_test.iloc[:,2], y_pred_rf_clf_maternal_optimal[:,2])\n",
        "cm_clf_maternal_delivery"
      ],
      "metadata": {
        "colab": {
          "base_uri": "https://localhost:8080/"
        },
        "id": "-FqoVZjvb-nS",
        "outputId": "5682fbd8-6265-49ee-bd8a-9e9a371e94e1"
      },
      "id": "-FqoVZjvb-nS",
      "execution_count": 49,
      "outputs": [
        {
          "output_type": "execute_result",
          "data": {
            "text/plain": [
              "array([[   239,  62624],\n",
              "       [   189, 134474]])"
            ]
          },
          "metadata": {},
          "execution_count": 49
        }
      ]
    },
    {
      "cell_type": "code",
      "source": [
        "disp_clf_maternal_delivery = ConfusionMatrixDisplay(confusion_matrix=cm_clf_maternal_delivery)\n",
        "disp_clf_maternal_delivery.plot()\n",
        "plt.show()"
      ],
      "metadata": {
        "colab": {
          "base_uri": "https://localhost:8080/",
          "height": 286
        },
        "id": "Zt05WrtMys9p",
        "outputId": "73461f65-9ad6-46a1-8023-f7a93ebb5ca7"
      },
      "id": "Zt05WrtMys9p",
      "execution_count": 87,
      "outputs": [
        {
          "output_type": "display_data",
          "data": {
            "text/plain": [
              "<Figure size 432x288 with 2 Axes>"
            ],
            "image/png": "[encoded data removed]"
          },
          "metadata": {
            "needs_background": "light"
          }
        }
      ]
    },
    {
      "cell_type": "code",
      "source": [
        "cm_clf_maternal_bfed = confusion_matrix(y_clf_test.iloc[:,3], y_pred_rf_clf_maternal_optimal[:,3])\n",
        "cm_clf_maternal_bfed"
      ],
      "metadata": {
        "colab": {
          "base_uri": "https://localhost:8080/"
        },
        "id": "gISlFvjvb-rQ",
        "outputId": "6737d5b9-7c7b-41e3-fe7f-6ed562cb6593"
      },
      "id": "gISlFvjvb-rQ",
      "execution_count": 50,
      "outputs": [
        {
          "output_type": "execute_result",
          "data": {
            "text/plain": [
              "array([[     0,  33435],\n",
              "       [     0, 164091]])"
            ]
          },
          "metadata": {},
          "execution_count": 50
        }
      ]
    },
    {
      "cell_type": "code",
      "source": [
        "disp_clf_maternal_bfed = ConfusionMatrixDisplay(confusion_matrix=cm_clf_maternal_bfed)\n",
        "disp_clf_maternal_bfed.plot()\n",
        "plt.show()"
      ],
      "metadata": {
        "colab": {
          "base_uri": "https://localhost:8080/",
          "height": 286
        },
        "id": "hh6eoX_-yttw",
        "outputId": "f6181a84-4c21-415b-e8ea-a5fbc2e75631"
      },
      "id": "hh6eoX_-yttw",
      "execution_count": 88,
      "outputs": [
        {
          "output_type": "display_data",
          "data": {
            "text/plain": [
              "<Figure size 432x288 with 2 Axes>"
            ],
            "image/png": "[encoded data removed]"
          },
          "metadata": {
            "needs_background": "light"
          }
        }
      ]
    },
    {
      "cell_type": "markdown",
      "source": [
        "### Combined Paternal and Maternal Classificiation Model"
      ],
      "metadata": {
        "id": "_9gKVjmsYJ9Z"
      },
      "id": "_9gKVjmsYJ9Z"
    },
    {
      "cell_type": "code",
      "source": [
        "cm_clf_combined_wic = confusion_matrix(y_clf_test.iloc[:,0], y_pred_rf_clf_combined_optimal[:,0])\n",
        "cm_clf_combined_wic"
      ],
      "metadata": {
        "colab": {
          "base_uri": "https://localhost:8080/"
        },
        "id": "iuxyMkV2YSIB",
        "outputId": "087f0173-a0b7-4226-a026-76cb0729c5ab"
      },
      "id": "iuxyMkV2YSIB",
      "execution_count": 54,
      "outputs": [
        {
          "output_type": "execute_result",
          "data": {
            "text/plain": [
              "array([[119125,  19447],\n",
              "       [ 31056,  27898]])"
            ]
          },
          "metadata": {},
          "execution_count": 54
        }
      ]
    },
    {
      "cell_type": "code",
      "source": [
        "disp_clf_combined_wic = ConfusionMatrixDisplay(confusion_matrix=cm_clf_combined_wic)\n",
        "disp_clf_combined_wic.plot()\n",
        "plt.show()"
      ],
      "metadata": {
        "colab": {
          "base_uri": "https://localhost:8080/",
          "height": 286
        },
        "id": "4lVQyaj5yup5",
        "outputId": "92de8aa4-531e-4c47-826b-78bba4b4c25f"
      },
      "id": "4lVQyaj5yup5",
      "execution_count": 89,
      "outputs": [
        {
          "output_type": "display_data",
          "data": {
            "text/plain": [
              "<Figure size 432x288 with 2 Axes>"
            ],
            "image/png": "[encoded data removed]"
          },
          "metadata": {
            "needs_background": "light"
          }
        }
      ]
    },
    {
      "cell_type": "code",
      "source": [
        "cm_clf_combined_trial = confusion_matrix(y_clf_test.iloc[:,1], y_pred_rf_clf_combined_optimal[:,1])\n",
        "cm_clf_combined_trial"
      ],
      "metadata": {
        "colab": {
          "base_uri": "https://localhost:8080/"
        },
        "id": "MgUZ_7ntcXow",
        "outputId": "477b2c82-97b5-4780-a869-a7c14e1605fc"
      },
      "id": "MgUZ_7ntcXow",
      "execution_count": 55,
      "outputs": [
        {
          "output_type": "execute_result",
          "data": {
            "text/plain": [
              "array([[    55,  45148],\n",
              "       [    45, 152278]])"
            ]
          },
          "metadata": {},
          "execution_count": 55
        }
      ]
    },
    {
      "cell_type": "code",
      "source": [
        "disp_clf_combined_trial = ConfusionMatrixDisplay(confusion_matrix=cm_clf_combined_trial)\n",
        "disp_clf_combined_trial.plot()\n",
        "plt.show()"
      ],
      "metadata": {
        "colab": {
          "base_uri": "https://localhost:8080/",
          "height": 286
        },
        "id": "wqigL3JFzI6R",
        "outputId": "7fa6c2ac-b8d9-450b-8002-a3fe137703fc"
      },
      "id": "wqigL3JFzI6R",
      "execution_count": 90,
      "outputs": [
        {
          "output_type": "display_data",
          "data": {
            "text/plain": [
              "<Figure size 432x288 with 2 Axes>"
            ],
            "image/png": "[encoded data removed]"
          },
          "metadata": {
            "needs_background": "light"
          }
        }
      ]
    },
    {
      "cell_type": "code",
      "source": [
        "cm_clf_combined_delivery = confusion_matrix(y_clf_test.iloc[:,2], y_pred_rf_clf_combined_optimal[:,2])\n",
        "cm_clf_combined_delivery"
      ],
      "metadata": {
        "colab": {
          "base_uri": "https://localhost:8080/"
        },
        "id": "V2fHLYyOcXtn",
        "outputId": "772dc828-9a7c-45aa-dca2-4781a6934f61"
      },
      "id": "V2fHLYyOcXtn",
      "execution_count": 56,
      "outputs": [
        {
          "output_type": "execute_result",
          "data": {
            "text/plain": [
              "array([[   512,  62351],\n",
              "       [   404, 134259]])"
            ]
          },
          "metadata": {},
          "execution_count": 56
        }
      ]
    },
    {
      "cell_type": "code",
      "source": [
        "disp_clf_combined_delivery = ConfusionMatrixDisplay(confusion_matrix=cm_clf_combined_delivery)\n",
        "disp_clf_combined_delivery.plot()\n",
        "plt.show()"
      ],
      "metadata": {
        "colab": {
          "base_uri": "https://localhost:8080/",
          "height": 286
        },
        "id": "AVcT40SVzJ6Y",
        "outputId": "14d04257-90c0-4e9d-c2d9-257c2d6d4ab6"
      },
      "id": "AVcT40SVzJ6Y",
      "execution_count": 91,
      "outputs": [
        {
          "output_type": "display_data",
          "data": {
            "text/plain": [
              "<Figure size 432x288 with 2 Axes>"
            ],
            "image/png": "[encoded data removed]"
          },
          "metadata": {
            "needs_background": "light"
          }
        }
      ]
    },
    {
      "cell_type": "code",
      "source": [
        "cm_clf_combined_bfed = confusion_matrix(y_clf_test.iloc[:,3], y_pred_rf_clf_combined_optimal[:,3])\n",
        "cm_clf_combined_bfed"
      ],
      "metadata": {
        "colab": {
          "base_uri": "https://localhost:8080/"
        },
        "id": "lxOBAFaOcXx-",
        "outputId": "3b347639-caa0-4173-d591-85ab19ab2736"
      },
      "id": "lxOBAFaOcXx-",
      "execution_count": 57,
      "outputs": [
        {
          "output_type": "execute_result",
          "data": {
            "text/plain": [
              "array([[     9,  33426],\n",
              "       [     9, 164082]])"
            ]
          },
          "metadata": {},
          "execution_count": 57
        }
      ]
    },
    {
      "cell_type": "code",
      "source": [
        "disp_clf_combined_bfed = ConfusionMatrixDisplay(confusion_matrix=cm_clf_combined_bfed)\n",
        "disp_clf_combined_bfed.plot()\n",
        "plt.show()"
      ],
      "metadata": {
        "colab": {
          "base_uri": "https://localhost:8080/",
          "height": 286
        },
        "id": "4adchaKkzKxB",
        "outputId": "3c315983-c2d5-4679-f5fc-2c7516ef0510"
      },
      "id": "4adchaKkzKxB",
      "execution_count": 92,
      "outputs": [
        {
          "output_type": "display_data",
          "data": {
            "text/plain": [
              "<Figure size 432x288 with 2 Axes>"
            ],
            "image/png": "[encoded data removed]"
          },
          "metadata": {
            "needs_background": "light"
          }
        }
      ]
    },
    {
      "cell_type": "markdown",
      "source": [
        "## Classification Reports for RandomForestClassifier() Models"
      ],
      "metadata": {
        "id": "zC7ky3X0XPnp"
      },
      "id": "zC7ky3X0XPnp"
    },
    {
      "cell_type": "markdown",
      "source": [
        "### Paternal Classification Model"
      ],
      "metadata": {
        "id": "i5rf-4v3YY5I"
      },
      "id": "i5rf-4v3YY5I"
    },
    {
      "cell_type": "code",
      "source": [
        "cr_clf_paternal_wic = classification_report(y_clf_test.iloc[:,0],y_pred_rf_clf_paternal_optimal[:,0])\n",
        "cr_clf_paternal_wic"
      ],
      "metadata": {
        "colab": {
          "base_uri": "https://localhost:8080/",
          "height": 53
        },
        "id": "x1SiSLKgXXMZ",
        "outputId": "6c77bc89-8f10-4d91-809b-6b5c0dd4b800"
      },
      "id": "x1SiSLKgXXMZ",
      "execution_count": 40,
      "outputs": [
        {
          "output_type": "execute_result",
          "data": {
            "text/plain": [
              "'              precision    recall  f1-score   support\\n\\n         0.0       0.78      0.86      0.82    138572\\n         1.0       0.57      0.45      0.50     58954\\n\\n    accuracy                           0.73    197526\\n   macro avg       0.68      0.65      0.66    197526\\nweighted avg       0.72      0.73      0.72    197526\\n'"
            ],
            "application/vnd.google.colaboratory.intrinsic+json": {
              "type": "string"
            }
          },
          "metadata": {},
          "execution_count": 40
        }
      ]
    },
    {
      "cell_type": "code",
      "source": [
        "cr_clf_paternal_trial = classification_report(y_clf_test.iloc[:,1],y_pred_rf_clf_paternal_optimal[:,1])\n",
        "cr_clf_paternal_trial"
      ],
      "metadata": {
        "colab": {
          "base_uri": "https://localhost:8080/",
          "height": 53
        },
        "id": "h1Pc2RdOdCX3",
        "outputId": "6c5eea11-19dc-4698-adfd-ffc5b33ba4a6"
      },
      "id": "h1Pc2RdOdCX3",
      "execution_count": 58,
      "outputs": [
        {
          "output_type": "execute_result",
          "data": {
            "text/plain": [
              "'              precision    recall  f1-score   support\\n\\n         0.0       0.26      0.00      0.00     45203\\n         1.0       0.77      1.00      0.87    152323\\n\\n    accuracy                           0.77    197526\\n   macro avg       0.52      0.50      0.44    197526\\nweighted avg       0.65      0.77      0.67    197526\\n'"
            ],
            "application/vnd.google.colaboratory.intrinsic+json": {
              "type": "string"
            }
          },
          "metadata": {},
          "execution_count": 58
        }
      ]
    },
    {
      "cell_type": "code",
      "source": [
        "cr_clf_paternal_delivery = classification_report(y_clf_test.iloc[:,2],y_pred_rf_clf_paternal_optimal[:,2])\n",
        "cr_clf_paternal_delivery"
      ],
      "metadata": {
        "colab": {
          "base_uri": "https://localhost:8080/",
          "height": 53
        },
        "id": "d_PD3LjxdCgv",
        "outputId": "4c0dc967-1230-4c62-b52e-ada65d33e726"
      },
      "id": "d_PD3LjxdCgv",
      "execution_count": 59,
      "outputs": [
        {
          "output_type": "execute_result",
          "data": {
            "text/plain": [
              "'              precision    recall  f1-score   support\\n\\n         0.0       0.44      0.00      0.01     62863\\n         1.0       0.68      1.00      0.81    134663\\n\\n    accuracy                           0.68    197526\\n   macro avg       0.56      0.50      0.41    197526\\nweighted avg       0.60      0.68      0.55    197526\\n'"
            ],
            "application/vnd.google.colaboratory.intrinsic+json": {
              "type": "string"
            }
          },
          "metadata": {},
          "execution_count": 59
        }
      ]
    },
    {
      "cell_type": "code",
      "source": [
        "cr_clf_paternal_bfed = classification_report(y_clf_test.iloc[:,3],y_pred_rf_clf_paternal_optimal[:,3])\n",
        "cr_clf_paternal_bfed"
      ],
      "metadata": {
        "id": "q8_e54VXdC3u"
      },
      "id": "q8_e54VXdC3u",
      "execution_count": null,
      "outputs": []
    },
    {
      "cell_type": "markdown",
      "source": [
        "### Maternal Classification Model "
      ],
      "metadata": {
        "id": "NcCKKF6BYa9Z"
      },
      "id": "NcCKKF6BYa9Z"
    },
    {
      "cell_type": "code",
      "source": [
        "cr_clf_maternal_wic = classification_report(y_clf_test.iloc[:,0],y_pred_rf_clf_maternal_optimal[:,0])\n",
        "cr_clf_maternal_wic"
      ],
      "metadata": {
        "colab": {
          "base_uri": "https://localhost:8080/",
          "height": 53
        },
        "id": "7c6bjGdLdVQb",
        "outputId": "4383ef0d-9ce8-467c-83fb-7e0c90987779"
      },
      "id": "7c6bjGdLdVQb",
      "execution_count": 60,
      "outputs": [
        {
          "output_type": "execute_result",
          "data": {
            "text/plain": [
              "'              precision    recall  f1-score   support\\n\\n         0.0       0.78      0.87      0.82    138572\\n         1.0       0.58      0.42      0.49     58954\\n\\n    accuracy                           0.74    197526\\n   macro avg       0.68      0.65      0.66    197526\\nweighted avg       0.72      0.74      0.72    197526\\n'"
            ],
            "application/vnd.google.colaboratory.intrinsic+json": {
              "type": "string"
            }
          },
          "metadata": {},
          "execution_count": 60
        }
      ]
    },
    {
      "cell_type": "code",
      "source": [
        "cr_clf_maternal_trial = classification_report(y_clf_test.iloc[:,1],y_pred_rf_clf_maternal_optimal[:,1])\n",
        "cr_clf_maternal_trial"
      ],
      "metadata": {
        "colab": {
          "base_uri": "https://localhost:8080/",
          "height": 53
        },
        "id": "lZSGw9BpYksJ",
        "outputId": "5cc892c3-244a-4597-f925-04d6331ececa"
      },
      "id": "lZSGw9BpYksJ",
      "execution_count": 61,
      "outputs": [
        {
          "output_type": "execute_result",
          "data": {
            "text/plain": [
              "'              precision    recall  f1-score   support\\n\\n         0.0       0.67      0.00      0.00     45203\\n         1.0       0.77      1.00      0.87    152323\\n\\n    accuracy                           0.77    197526\\n   macro avg       0.72      0.50      0.44    197526\\nweighted avg       0.75      0.77      0.67    197526\\n'"
            ],
            "application/vnd.google.colaboratory.intrinsic+json": {
              "type": "string"
            }
          },
          "metadata": {},
          "execution_count": 61
        }
      ]
    },
    {
      "cell_type": "code",
      "source": [
        "cr_clf_maternal_delivery = classification_report(y_clf_test.iloc[:,2],y_pred_rf_clf_maternal_optimal[:,2])\n",
        "cr_clf_maternal_delivery"
      ],
      "metadata": {
        "colab": {
          "base_uri": "https://localhost:8080/",
          "height": 53
        },
        "id": "IVLXNXEJdb44",
        "outputId": "2dcbf244-9c63-47e5-a454-fdd6a760d145"
      },
      "id": "IVLXNXEJdb44",
      "execution_count": 62,
      "outputs": [
        {
          "output_type": "execute_result",
          "data": {
            "text/plain": [
              "'              precision    recall  f1-score   support\\n\\n         0.0       0.56      0.00      0.01     62863\\n         1.0       0.68      1.00      0.81    134663\\n\\n    accuracy                           0.68    197526\\n   macro avg       0.62      0.50      0.41    197526\\nweighted avg       0.64      0.68      0.56    197526\\n'"
            ],
            "application/vnd.google.colaboratory.intrinsic+json": {
              "type": "string"
            }
          },
          "metadata": {},
          "execution_count": 62
        }
      ]
    },
    {
      "cell_type": "code",
      "source": [
        "cr_clf_maternal_bfed = classification_report(y_clf_test.iloc[:,3],y_pred_rf_clf_maternal_optimal[:,3])\n",
        "cr_clf_maternal_bfed"
      ],
      "metadata": {
        "colab": {
          "base_uri": "https://localhost:8080/",
          "height": 177
        },
        "id": "3gvS4UbpdcN5",
        "outputId": "3dac89c2-a007-4c16-9a3b-d6574f0528c6"
      },
      "id": "3gvS4UbpdcN5",
      "execution_count": 64,
      "outputs": [
        {
          "output_type": "stream",
          "name": "stderr",
          "text": [
            "/usr/local/lib/python3.8/dist-packages/sklearn/metrics/_classification.py:1318: UndefinedMetricWarning: Precision and F-score are ill-defined and being set to 0.0 in labels with no predicted samples. Use `zero_division` parameter to control this behavior.\n",
            "  _warn_prf(average, modifier, msg_start, len(result))\n",
            "/usr/local/lib/python3.8/dist-packages/sklearn/metrics/_classification.py:1318: UndefinedMetricWarning: Precision and F-score are ill-defined and being set to 0.0 in labels with no predicted samples. Use `zero_division` parameter to control this behavior.\n",
            "  _warn_prf(average, modifier, msg_start, len(result))\n",
            "/usr/local/lib/python3.8/dist-packages/sklearn/metrics/_classification.py:1318: UndefinedMetricWarning: Precision and F-score are ill-defined and being set to 0.0 in labels with no predicted samples. Use `zero_division` parameter to control this behavior.\n",
            "  _warn_prf(average, modifier, msg_start, len(result))\n"
          ]
        },
        {
          "output_type": "execute_result",
          "data": {
            "text/plain": [
              "'              precision    recall  f1-score   support\\n\\n         0.0       0.00      0.00      0.00     33435\\n         1.0       0.83      1.00      0.91    164091\\n\\n    accuracy                           0.83    197526\\n   macro avg       0.42      0.50      0.45    197526\\nweighted avg       0.69      0.83      0.75    197526\\n'"
            ],
            "application/vnd.google.colaboratory.intrinsic+json": {
              "type": "string"
            }
          },
          "metadata": {},
          "execution_count": 64
        }
      ]
    },
    {
      "cell_type": "markdown",
      "source": [
        "### Combined Paternal and Maternal Classification Model"
      ],
      "metadata": {
        "id": "ym2j5cDQYem5"
      },
      "id": "ym2j5cDQYem5"
    },
    {
      "cell_type": "code",
      "source": [
        "cr_clf_combined_wic = classification_report(y_clf_test.iloc[:,0],y_pred_rf_clf_combined_optimal[:,0])\n",
        "cr_clf_combined_wic"
      ],
      "metadata": {
        "colab": {
          "base_uri": "https://localhost:8080/",
          "height": 53
        },
        "id": "IoqUd53oYj-5",
        "outputId": "0cc3bc0d-ac3a-4318-d48d-604de42f227a"
      },
      "id": "IoqUd53oYj-5",
      "execution_count": 65,
      "outputs": [
        {
          "output_type": "execute_result",
          "data": {
            "text/plain": [
              "'              precision    recall  f1-score   support\\n\\n         0.0       0.79      0.86      0.83    138572\\n         1.0       0.59      0.47      0.52     58954\\n\\n    accuracy                           0.74    197526\\n   macro avg       0.69      0.67      0.67    197526\\nweighted avg       0.73      0.74      0.74    197526\\n'"
            ],
            "application/vnd.google.colaboratory.intrinsic+json": {
              "type": "string"
            }
          },
          "metadata": {},
          "execution_count": 65
        }
      ]
    },
    {
      "cell_type": "code",
      "source": [
        "cr_clf_combined_trial = classification_report(y_clf_test.iloc[:,1],y_pred_rf_clf_combined_optimal[:,1])\n",
        "cr_clf_combined_trial"
      ],
      "metadata": {
        "colab": {
          "base_uri": "https://localhost:8080/",
          "height": 53
        },
        "id": "jxQAIbDDdvX3",
        "outputId": "e5ce517f-6ea3-44c3-f7e4-cbbc7406bebc"
      },
      "id": "jxQAIbDDdvX3",
      "execution_count": 66,
      "outputs": [
        {
          "output_type": "execute_result",
          "data": {
            "text/plain": [
              "'              precision    recall  f1-score   support\\n\\n         0.0       0.55      0.00      0.00     45203\\n         1.0       0.77      1.00      0.87    152323\\n\\n    accuracy                           0.77    197526\\n   macro avg       0.66      0.50      0.44    197526\\nweighted avg       0.72      0.77      0.67    197526\\n'"
            ],
            "application/vnd.google.colaboratory.intrinsic+json": {
              "type": "string"
            }
          },
          "metadata": {},
          "execution_count": 66
        }
      ]
    },
    {
      "cell_type": "code",
      "source": [
        "cr_clf_combined_delivery = classification_report(y_clf_test.iloc[:,2],y_pred_rf_clf_combined_optimal[:,2])\n",
        "cr_clf_combined_delivery"
      ],
      "metadata": {
        "colab": {
          "base_uri": "https://localhost:8080/",
          "height": 53
        },
        "id": "y_IYRCnydvwV",
        "outputId": "c3157997-2440-40bf-a4ac-064ea7380156"
      },
      "id": "y_IYRCnydvwV",
      "execution_count": 67,
      "outputs": [
        {
          "output_type": "execute_result",
          "data": {
            "text/plain": [
              "'              precision    recall  f1-score   support\\n\\n         0.0       0.56      0.01      0.02     62863\\n         1.0       0.68      1.00      0.81    134663\\n\\n    accuracy                           0.68    197526\\n   macro avg       0.62      0.50      0.41    197526\\nweighted avg       0.64      0.68      0.56    197526\\n'"
            ],
            "application/vnd.google.colaboratory.intrinsic+json": {
              "type": "string"
            }
          },
          "metadata": {},
          "execution_count": 67
        }
      ]
    },
    {
      "cell_type": "code",
      "source": [
        "cr_clf_combined_bfed = classification_report(y_clf_test.iloc[:,3],y_pred_rf_clf_combined_optimal[:,3])\n",
        "cr_clf_combined_bfed"
      ],
      "metadata": {
        "colab": {
          "base_uri": "https://localhost:8080/",
          "height": 53
        },
        "id": "SMdl_8Psdv_F",
        "outputId": "f61df618-46bf-4526-d189-a6f698e09624"
      },
      "id": "SMdl_8Psdv_F",
      "execution_count": 68,
      "outputs": [
        {
          "output_type": "execute_result",
          "data": {
            "text/plain": [
              "'              precision    recall  f1-score   support\\n\\n         0.0       0.50      0.00      0.00     33435\\n         1.0       0.83      1.00      0.91    164091\\n\\n    accuracy                           0.83    197526\\n   macro avg       0.67      0.50      0.45    197526\\nweighted avg       0.77      0.83      0.75    197526\\n'"
            ],
            "application/vnd.google.colaboratory.intrinsic+json": {
              "type": "string"
            }
          },
          "metadata": {},
          "execution_count": 68
        }
      ]
    },
    {
      "cell_type": "markdown",
      "id": "46ffe089",
      "metadata": {
        "id": "46ffe089"
      },
      "source": [
        "## Permutation Importance for RandomForestClassifier() Models"
      ]
    },
    {
      "cell_type": "code",
      "execution_count": null,
      "id": "0c99495b",
      "metadata": {
        "id": "0c99495b"
      },
      "outputs": [],
      "source": [
        "# permutation importance for paternal RandomForestClassifier Model\n",
        "r_clf_paternal = permutation_importance(optimal_rf_clf_paternal, X_paternal_test, y_clf_test, n_repeats=10, random_state=42)"
      ]
    },
    {
      "cell_type": "code",
      "execution_count": null,
      "id": "8d3b4f9b",
      "metadata": {
        "id": "8d3b4f9b",
        "colab": {
          "base_uri": "https://localhost:8080/"
        },
        "outputId": "1439fa6f-51e9-4fa8-8704-cbdd2632fe5f"
      },
      "outputs": [
        {
          "output_type": "execute_result",
          "data": {
            "text/plain": [
              "array([ 6.96617154e-03,  3.29931250e-03,  1.52030619e-03, -8.10019947e-06,\n",
              "        4.50067333e-04,  6.93579579e-05,  2.83506981e-05, -4.40448346e-05,\n",
              "       -7.08767453e-06,  7.08767453e-06,  2.88569606e-05, -1.01252493e-06,\n",
              "        1.51878740e-06,  1.16440367e-05, -1.11377743e-05,  3.03757480e-06,\n",
              "       -5.06262467e-07,  5.06262467e-07,  0.00000000e+00,  1.21502992e-05,\n",
              "        0.00000000e+00,  5.06262467e-07, -3.03757480e-06, -5.06262467e-07,\n",
              "        0.00000000e+00,  6.07514960e-06,  0.00000000e+00,  0.00000000e+00,\n",
              "        0.00000000e+00,  0.00000000e+00,  2.02504987e-06,  0.00000000e+00,\n",
              "        2.99606128e-03,  2.55662546e-04,  1.42259753e-04,  1.73141764e-03,\n",
              "        6.86491905e-04,  1.86912103e-03, -4.96643480e-04,  9.55823537e-04,\n",
              "        7.01173516e-04,  2.70445410e-03,  8.10019947e-04,  2.97682330e-04])"
            ]
          },
          "metadata": {},
          "execution_count": 34
        }
      ],
      "source": [
        "r_clf_paternal.importances_mean"
      ]
    },
    {
      "cell_type": "code",
      "execution_count": null,
      "id": "a2e906a3",
      "metadata": {
        "id": "a2e906a3",
        "colab": {
          "base_uri": "https://localhost:8080/"
        },
        "outputId": "b4794da4-8fd8-428f-9b4e-342d97e087f8"
      },
      "outputs": [
        {
          "output_type": "execute_result",
          "data": {
            "text/plain": [
              "array([[ 7.03198566e-03,  7.43193301e-03,  6.74847868e-03,\n",
              "         6.58141207e-03,  6.64216356e-03,  6.97123417e-03,\n",
              "         7.50280976e-03,  6.99148467e-03,  6.88516955e-03,\n",
              "         6.87504430e-03],\n",
              "       [ 3.32108178e-03,  3.12363942e-03,  2.93632231e-03,\n",
              "         3.50333627e-03,  3.42739690e-03,  3.72102913e-03,\n",
              "         3.12363942e-03,  3.15401517e-03,  3.34133228e-03,\n",
              "         3.34133228e-03],\n",
              "       [ 1.27578142e-03,  1.63016514e-03,  1.65547827e-03,\n",
              "         1.20490467e-03,  1.74660551e-03,  1.72635501e-03,\n",
              "         1.33147029e-03,  1.56941365e-03,  1.49853690e-03,\n",
              "         1.56435102e-03],\n",
              "       [-2.53131233e-05, -1.01252493e-05,  1.51878740e-05,\n",
              "         3.54383727e-05, -1.01252493e-05, -3.03757480e-05,\n",
              "        -2.53131233e-05, -1.51878740e-05,  1.51878740e-05,\n",
              "        -3.03757480e-05],\n",
              "       [ 3.29070603e-04,  4.45510971e-04,  4.70824094e-04,\n",
              "         3.99947349e-04,  5.82201837e-04,  2.12630236e-04,\n",
              "         4.40448346e-04,  6.32828083e-04,  4.96137217e-04,\n",
              "         4.91074593e-04],\n",
              "       [ 1.06315118e-04,  1.16440367e-04,  3.54383727e-05,\n",
              "         1.26565617e-04,  5.06262467e-05,  8.60646193e-05,\n",
              "         3.03757480e-05,  0.00000000e+00,  8.10019947e-05,\n",
              "         6.07514960e-05],\n",
              "       [ 7.59393700e-05,  0.00000000e+00, -2.53131233e-05,\n",
              "         2.53131233e-05,  9.11272440e-05,  1.01252493e-05,\n",
              "         5.56888713e-05,  5.56888713e-05, -5.06262467e-05,\n",
              "         4.55636220e-05],\n",
              "       [-6.58141207e-05, -4.55636220e-05, -2.02504987e-05,\n",
              "        -2.02504987e-05, -5.06262467e-05, -5.56888713e-05,\n",
              "        -2.53131233e-05, -4.55636220e-05, -6.58141207e-05,\n",
              "        -4.55636220e-05],\n",
              "       [-2.02504987e-05, -1.01252493e-05, -2.02504987e-05,\n",
              "         2.53131233e-05, -1.01252493e-05,  5.06262467e-06,\n",
              "        -1.01252493e-05,  5.06262467e-06, -3.54383727e-05,\n",
              "         0.00000000e+00],\n",
              "       [ 1.51878740e-05,  5.06262467e-06,  1.01252493e-05,\n",
              "         1.01252493e-05,  1.01252493e-05,  0.00000000e+00,\n",
              "         0.00000000e+00,  5.06262467e-06,  1.01252493e-05,\n",
              "         5.06262467e-06],\n",
              "       [ 7.59393700e-05,  5.56888713e-05,  3.03757480e-05,\n",
              "        -5.06262467e-06,  2.53131233e-05,  1.01252493e-05,\n",
              "        -1.01252493e-05,  5.56888713e-05,  3.03757480e-05,\n",
              "         2.02504987e-05],\n",
              "       [ 0.00000000e+00,  0.00000000e+00,  0.00000000e+00,\n",
              "        -5.06262467e-06,  0.00000000e+00,  0.00000000e+00,\n",
              "        -5.06262467e-06,  0.00000000e+00,  0.00000000e+00,\n",
              "         0.00000000e+00],\n",
              "       [ 0.00000000e+00,  0.00000000e+00,  0.00000000e+00,\n",
              "         5.06262467e-06,  5.06262467e-06,  0.00000000e+00,\n",
              "         5.06262467e-06,  0.00000000e+00,  0.00000000e+00,\n",
              "         0.00000000e+00],\n",
              "       [ 4.55636220e-05,  2.53131233e-05,  5.06262467e-06,\n",
              "         6.58141207e-05, -4.05009973e-05, -5.56888713e-05,\n",
              "        -2.02504987e-05,  7.59393700e-05, -5.06262467e-05,\n",
              "         6.58141207e-05],\n",
              "       [-2.53131233e-05, -1.01252493e-05, -2.02504987e-05,\n",
              "        -5.06262467e-06,  1.01252493e-05, -2.02504987e-05,\n",
              "        -2.02504987e-05, -1.01252493e-05,  0.00000000e+00,\n",
              "        -1.01252493e-05],\n",
              "       [ 1.51878740e-05,  2.02504987e-05,  5.06262467e-06,\n",
              "         5.06262467e-06, -5.06262467e-06,  5.06262467e-06,\n",
              "         0.00000000e+00,  0.00000000e+00, -1.51878740e-05,\n",
              "         0.00000000e+00],\n",
              "       [-5.06262467e-06,  5.06262467e-06, -5.06262467e-06,\n",
              "        -2.02504987e-05,  2.02504987e-05, -1.51878740e-05,\n",
              "        -1.01252493e-05,  5.06262467e-06,  1.01252493e-05,\n",
              "         1.01252493e-05],\n",
              "       [ 0.00000000e+00,  0.00000000e+00,  5.06262467e-06,\n",
              "         0.00000000e+00,  0.00000000e+00,  0.00000000e+00,\n",
              "         0.00000000e+00,  0.00000000e+00,  0.00000000e+00,\n",
              "         0.00000000e+00],\n",
              "       [ 0.00000000e+00,  0.00000000e+00,  0.00000000e+00,\n",
              "         0.00000000e+00,  0.00000000e+00,  0.00000000e+00,\n",
              "         0.00000000e+00,  0.00000000e+00,  0.00000000e+00,\n",
              "         0.00000000e+00],\n",
              "       [ 1.51878740e-05,  1.01252493e-05,  1.51878740e-05,\n",
              "         1.51878740e-05,  5.06262467e-06,  1.51878740e-05,\n",
              "         1.01252493e-05,  1.01252493e-05,  1.01252493e-05,\n",
              "         1.51878740e-05],\n",
              "       [ 0.00000000e+00,  0.00000000e+00,  0.00000000e+00,\n",
              "         0.00000000e+00,  0.00000000e+00,  0.00000000e+00,\n",
              "         0.00000000e+00,  0.00000000e+00,  0.00000000e+00,\n",
              "         0.00000000e+00],\n",
              "       [ 0.00000000e+00,  0.00000000e+00,  0.00000000e+00,\n",
              "         0.00000000e+00,  0.00000000e+00,  0.00000000e+00,\n",
              "         5.06262467e-06,  0.00000000e+00,  0.00000000e+00,\n",
              "         0.00000000e+00],\n",
              "       [ 0.00000000e+00, -1.01252493e-05,  0.00000000e+00,\n",
              "         0.00000000e+00, -1.51878740e-05,  5.06262467e-06,\n",
              "         5.06262467e-06, -5.06262467e-06, -5.06262467e-06,\n",
              "        -5.06262467e-06],\n",
              "       [-5.06262467e-06,  0.00000000e+00,  0.00000000e+00,\n",
              "         0.00000000e+00, -5.06262467e-06,  0.00000000e+00,\n",
              "         5.06262467e-06,  0.00000000e+00,  0.00000000e+00,\n",
              "         0.00000000e+00],\n",
              "       [ 0.00000000e+00,  0.00000000e+00,  0.00000000e+00,\n",
              "         0.00000000e+00,  0.00000000e+00,  0.00000000e+00,\n",
              "         0.00000000e+00,  0.00000000e+00,  0.00000000e+00,\n",
              "         0.00000000e+00],\n",
              "       [ 2.53131233e-05,  2.53131233e-05,  5.06262467e-06,\n",
              "        -2.02504987e-05,  0.00000000e+00,  2.53131233e-05,\n",
              "        -5.06262467e-06,  1.01252493e-05,  5.06262467e-06,\n",
              "        -1.01252493e-05],\n",
              "       [ 0.00000000e+00,  0.00000000e+00,  0.00000000e+00,\n",
              "         0.00000000e+00,  0.00000000e+00,  0.00000000e+00,\n",
              "         0.00000000e+00,  0.00000000e+00,  0.00000000e+00,\n",
              "         0.00000000e+00],\n",
              "       [ 0.00000000e+00,  0.00000000e+00,  0.00000000e+00,\n",
              "         0.00000000e+00,  0.00000000e+00,  0.00000000e+00,\n",
              "         0.00000000e+00,  0.00000000e+00,  0.00000000e+00,\n",
              "         0.00000000e+00],\n",
              "       [ 0.00000000e+00,  0.00000000e+00,  0.00000000e+00,\n",
              "         0.00000000e+00,  0.00000000e+00,  0.00000000e+00,\n",
              "         0.00000000e+00,  0.00000000e+00,  0.00000000e+00,\n",
              "         0.00000000e+00],\n",
              "       [ 0.00000000e+00,  0.00000000e+00,  0.00000000e+00,\n",
              "         0.00000000e+00,  0.00000000e+00,  0.00000000e+00,\n",
              "         0.00000000e+00,  0.00000000e+00,  0.00000000e+00,\n",
              "         0.00000000e+00],\n",
              "       [ 0.00000000e+00,  0.00000000e+00,  0.00000000e+00,\n",
              "         0.00000000e+00,  0.00000000e+00,  0.00000000e+00,\n",
              "         1.01252493e-05,  0.00000000e+00,  5.06262467e-06,\n",
              "         5.06262467e-06],\n",
              "       [ 0.00000000e+00,  0.00000000e+00,  0.00000000e+00,\n",
              "         0.00000000e+00,  0.00000000e+00,  0.00000000e+00,\n",
              "         0.00000000e+00,  0.00000000e+00,  0.00000000e+00,\n",
              "         0.00000000e+00],\n",
              "       [ 2.71862945e-03,  2.77938094e-03,  3.44258477e-03,\n",
              "         2.81988194e-03,  2.72369207e-03,  3.29070603e-03,\n",
              "         3.13882729e-03,  3.03251218e-03,  2.80975669e-03,\n",
              "         3.20464141e-03],\n",
              "       [ 1.51878740e-04,  2.98694855e-04,  2.32880735e-04,\n",
              "         3.03757480e-04,  2.78444357e-04,  2.37943359e-04,\n",
              "         1.67066614e-04,  2.78444357e-04,  2.78444357e-04,\n",
              "         3.29070603e-04],\n",
              "       [ 1.41753491e-04,  1.21502992e-04,  1.41753491e-04,\n",
              "         1.01252493e-04,  2.43005984e-04,  1.26565617e-04,\n",
              "         1.16440367e-04,  1.82254488e-04,  1.26565617e-04,\n",
              "         1.21502992e-04],\n",
              "       [ 1.69091664e-03,  1.68585401e-03,  1.75166813e-03,\n",
              "         1.82254488e-03,  1.84785800e-03,  1.71622976e-03,\n",
              "         1.60991464e-03,  1.73141764e-03,  1.75673076e-03,\n",
              "         1.70104189e-03],\n",
              "       [ 6.63203831e-04,  4.30323097e-04,  6.58141207e-04,\n",
              "         8.30270445e-04,  5.77139212e-04,  8.15082571e-04,\n",
              "         7.13830078e-04,  8.80896692e-04,  6.63203831e-04,\n",
              "         6.32828083e-04],\n",
              "       [ 1.93392262e-03,  1.85292063e-03,  2.08073874e-03,\n",
              "         1.80229438e-03,  1.90860950e-03,  1.77191863e-03,\n",
              "         1.94404787e-03,  1.94404787e-03,  1.68079139e-03,\n",
              "         1.77191863e-03],\n",
              "       [-8.50520944e-04, -5.31575590e-04, -3.13882729e-04,\n",
              "        -7.08767453e-04, -3.89822099e-04, -4.65761469e-04,\n",
              "        -7.54331075e-04, -3.03757480e-04, -5.67013963e-04,\n",
              "        -8.10019947e-05],\n",
              "       [ 8.60646193e-04,  1.10365218e-03,  1.02771281e-03,\n",
              "         9.06209815e-04,  1.18971680e-03,  9.36585563e-04,\n",
              "         1.39728441e-03,  7.03704829e-04,  7.99894697e-04,\n",
              "         6.32828083e-04],\n",
              "       [ 7.44205826e-04,  6.32828083e-04,  7.08767453e-04,\n",
              "         6.68266456e-04,  6.73329081e-04,  6.93579579e-04,\n",
              "         8.25207821e-04,  8.25207821e-04,  4.80949343e-04,\n",
              "         7.59393700e-04],\n",
              "       [ 2.61737695e-03,  2.87050819e-03,  2.62243958e-03,\n",
              "         2.48068609e-03,  2.57687596e-03,  2.61231433e-03,\n",
              "         2.81481931e-03,  2.68319107e-03,  2.38955884e-03,\n",
              "         3.37677065e-03],\n",
              "       [ 6.63203831e-04,  8.60646193e-04,  7.94832073e-04,\n",
              "         7.74581574e-04,  5.06262467e-04,  7.03704829e-04,\n",
              "         1.01252493e-03,  9.16335065e-04,  1.26565617e-03,\n",
              "         6.02452335e-04],\n",
              "       [ 2.58193858e-04, -9.61898687e-05,  3.99947349e-04,\n",
              "         6.58141207e-04,  4.70824094e-04,  4.25260472e-04,\n",
              "         2.48068609e-04,  2.83506981e-04,  1.82254488e-04,\n",
              "         1.46816115e-04]])"
            ]
          },
          "metadata": {},
          "execution_count": 35
        }
      ],
      "source": [
        "r_clf_paternal.importances"
      ]
    },
    {
      "cell_type": "code",
      "execution_count": null,
      "id": "848df26b",
      "metadata": {
        "id": "848df26b"
      },
      "outputs": [],
      "source": [
        "# permutation importance for maternal RandomForestClassifier Model\n",
        "r_clf_maternal = permutation_importance(optimal_rf_clf_maternal, X_maternal_test, y_clf_test, n_repeats=10, random_state=42)"
      ]
    },
    {
      "cell_type": "code",
      "execution_count": null,
      "id": "19e6d9bc",
      "metadata": {
        "id": "19e6d9bc",
        "colab": {
          "base_uri": "https://localhost:8080/"
        },
        "outputId": "0ac3a3e5-5ba6-403a-fe58-98d6c50de24d"
      },
      "outputs": [
        {
          "output_type": "execute_result",
          "data": {
            "text/plain": [
              "array([ 6.20323400e-03,  4.50472343e-03,  2.58649494e-03,  6.66241406e-04,\n",
              "        4.99681055e-04,  2.39462147e-04,  2.73229853e-03,  1.25350587e-03,\n",
              "        2.42499722e-04,  1.26768122e-03, -4.55636220e-06,  1.33147029e-04,\n",
              "        4.35385721e-05,  3.89822099e-05,  1.56941365e-05, -8.10019947e-06,\n",
              "       -4.55636220e-06,  1.31628241e-05,  2.02504987e-06,  0.00000000e+00,\n",
              "        4.10072598e-05, -1.01252493e-05, -1.31628241e-05,  5.06262467e-06,\n",
              "        0.00000000e+00,  0.00000000e+00, -1.01252493e-06,  0.00000000e+00,\n",
              "       -5.06262467e-06,  0.00000000e+00, -4.55636220e-06,  0.00000000e+00,\n",
              "        6.07514960e-06, -1.01252493e-06,  0.00000000e+00,  0.00000000e+00,\n",
              "       -5.06262467e-06, -5.06262467e-07,  0.00000000e+00,  1.96075453e-03,\n",
              "        1.75166813e-04,  1.02771281e-04,  1.50764963e-03,  6.29284246e-04])"
            ]
          },
          "metadata": {},
          "execution_count": 13
        }
      ],
      "source": [
        "r_clf_maternal.importances_mean"
      ]
    },
    {
      "cell_type": "code",
      "execution_count": null,
      "id": "fd5f0a1e",
      "metadata": {
        "id": "fd5f0a1e",
        "colab": {
          "base_uri": "https://localhost:8080/"
        },
        "outputId": "7997b53b-64df-4cf9-f309-1df4995fa4a2"
      },
      "outputs": [
        {
          "output_type": "execute_result",
          "data": {
            "text/plain": [
              "array([[ 6.25740409e-03,  6.62697569e-03,  6.22196572e-03,\n",
              "         6.09033747e-03,  5.53851139e-03,  6.43459595e-03,\n",
              "         6.66747669e-03,  5.97389711e-03,  6.05996173e-03,\n",
              "         6.16121422e-03],\n",
              "       [ 4.59180057e-03,  4.08047548e-03,  4.63230157e-03,\n",
              "         4.49561070e-03,  4.40448346e-03,  4.22729160e-03,\n",
              "         4.68799044e-03,  4.81455606e-03,  4.57661270e-03,\n",
              "         4.53611170e-03],\n",
              "       [ 2.48574871e-03,  2.53131233e-03,  2.64269008e-03,\n",
              "         2.75913044e-03,  2.62750220e-03,  2.78444357e-03,\n",
              "         2.65787795e-03,  2.48574871e-03,  2.38449622e-03,\n",
              "         2.50599921e-03],\n",
              "       [ 4.40448346e-04,  6.27765459e-04,  5.61951338e-04,\n",
              "         1.04290068e-03,  4.50573595e-04,  6.17640209e-04,\n",
              "         6.02452335e-04,  7.34080577e-04,  6.22702834e-04,\n",
              "         9.61898687e-04],\n",
              "       [ 5.16387716e-04,  5.01199842e-04,  6.02452335e-04,\n",
              "         4.15135223e-04,  5.01199842e-04,  4.70824094e-04,\n",
              "         4.35385721e-04,  6.42953333e-04,  4.20197847e-04,\n",
              "         4.91074593e-04],\n",
              "       [ 1.72129239e-04,  3.39195853e-04,  1.41753491e-04,\n",
              "         6.02452335e-04,  1.82254488e-04,  2.12630236e-04,\n",
              "         2.02504987e-05,  3.84759475e-04,  1.26565617e-04,\n",
              "         2.12630236e-04],\n",
              "       [ 2.50093659e-03,  3.04263742e-03,  2.54650021e-03,\n",
              "         2.80469407e-03,  2.71862945e-03,  2.87557081e-03,\n",
              "         2.81481931e-03,  2.50599921e-03,  2.82494456e-03,\n",
              "         2.68825370e-03],\n",
              "       [ 1.17452892e-03,  1.23021779e-03,  1.46816115e-03,\n",
              "         1.04290068e-03,  1.46816115e-03,  1.05302593e-03,\n",
              "         1.56941365e-03,  1.52385002e-03,  8.85959317e-04,\n",
              "         1.11884005e-03],\n",
              "       [ 1.97442362e-04,  1.67066614e-04,  1.92379737e-04,\n",
              "         4.60698845e-04,  1.77191863e-04,  2.63256483e-04,\n",
              "         2.37943359e-04,  2.07567611e-04,  4.05009973e-04,\n",
              "         1.16440367e-04],\n",
              "       [ 1.39222178e-03,  1.09858955e-03,  1.24034304e-03,\n",
              "         1.12390268e-03,  1.15427842e-03,  1.18465417e-03,\n",
              "         1.15934105e-03,  1.44791065e-03,  1.50866215e-03,\n",
              "         1.36690866e-03],\n",
              "       [-5.06262467e-06, -3.54383727e-05,  0.00000000e+00,\n",
              "        -1.01252493e-05, -3.54383727e-05,  1.01252493e-05,\n",
              "         3.03757480e-05, -1.51878740e-05,  2.53131233e-05,\n",
              "        -1.01252493e-05],\n",
              "       [ 9.11272440e-05,  1.72129239e-04,  3.18945354e-04,\n",
              "         2.07567611e-04,  1.51878740e-04,  4.05009973e-05,\n",
              "         9.61898687e-05,  5.56888713e-05,  6.07514960e-05,\n",
              "         1.36690866e-04],\n",
              "       [ 3.54383727e-05,  6.07514960e-05,  1.51878740e-05,\n",
              "         3.03757480e-05,  4.55636220e-05,  5.06262467e-05,\n",
              "         2.02504987e-05,  1.01252493e-05,  6.07514960e-05,\n",
              "         1.06315118e-04],\n",
              "       [ 9.11272440e-05,  3.54383727e-05,  5.06262467e-06,\n",
              "         1.01252493e-04,  8.10019947e-05,  3.54383727e-05,\n",
              "        -2.53131233e-05,  5.06262467e-05, -1.01252493e-05,\n",
              "         2.53131233e-05],\n",
              "       [ 2.02504987e-05,  2.02504987e-05,  5.06262467e-06,\n",
              "         2.02504987e-05,  2.02504987e-05,  2.02504987e-05,\n",
              "         1.01252493e-05,  5.06262467e-06,  1.51878740e-05,\n",
              "         2.02504987e-05],\n",
              "       [-5.06262467e-06, -2.02504987e-05, -1.51878740e-05,\n",
              "        -5.06262467e-06, -1.01252493e-05, -1.01252493e-05,\n",
              "         5.06262467e-06,  5.06262467e-06, -1.01252493e-05,\n",
              "        -1.51878740e-05],\n",
              "       [-5.06262467e-06, -5.06262467e-06, -5.06262467e-06,\n",
              "        -5.06262467e-06, -5.06262467e-06, -5.06262467e-06,\n",
              "        -5.06262467e-06, -5.06262467e-06,  0.00000000e+00,\n",
              "        -5.06262467e-06],\n",
              "       [-1.01252493e-05,  5.06262467e-06,  1.01252493e-05,\n",
              "         3.54383727e-05,  1.01252493e-05,  0.00000000e+00,\n",
              "         0.00000000e+00,  2.02504987e-05,  1.01252493e-05,\n",
              "         5.06262467e-05],\n",
              "       [ 0.00000000e+00,  0.00000000e+00,  5.06262467e-06,\n",
              "         0.00000000e+00,  5.06262467e-06,  0.00000000e+00,\n",
              "         0.00000000e+00,  0.00000000e+00,  1.01252493e-05,\n",
              "         0.00000000e+00],\n",
              "       [ 0.00000000e+00,  0.00000000e+00,  0.00000000e+00,\n",
              "         0.00000000e+00,  0.00000000e+00,  0.00000000e+00,\n",
              "         0.00000000e+00,  0.00000000e+00,  0.00000000e+00,\n",
              "         0.00000000e+00],\n",
              "       [ 8.10019947e-05,  4.55636220e-05,  7.59393700e-05,\n",
              "        -4.05009973e-05,  5.06262467e-05,  8.10019947e-05,\n",
              "         3.03757480e-05,  3.03757480e-05,  3.54383727e-05,\n",
              "         2.02504987e-05],\n",
              "       [-5.06262467e-06, -5.06262467e-06, -2.02504987e-05,\n",
              "        -1.01252493e-05, -1.01252493e-05, -1.01252493e-05,\n",
              "        -1.01252493e-05,  0.00000000e+00, -1.01252493e-05,\n",
              "        -2.02504987e-05],\n",
              "       [-1.01252493e-05,  5.06262467e-06, -3.03757480e-05,\n",
              "        -2.02504987e-05,  0.00000000e+00, -1.01252493e-05,\n",
              "        -1.51878740e-05, -2.02504987e-05, -2.53131233e-05,\n",
              "        -5.06262467e-06],\n",
              "       [ 1.01252493e-05,  5.06262467e-06, -1.01252493e-05,\n",
              "         5.06262467e-06, -5.06262467e-06,  5.06262467e-06,\n",
              "         1.01252493e-05,  0.00000000e+00,  1.51878740e-05,\n",
              "         1.51878740e-05],\n",
              "       [ 0.00000000e+00,  0.00000000e+00,  0.00000000e+00,\n",
              "         0.00000000e+00,  0.00000000e+00,  0.00000000e+00,\n",
              "         0.00000000e+00,  0.00000000e+00,  0.00000000e+00,\n",
              "         0.00000000e+00],\n",
              "       [ 0.00000000e+00,  0.00000000e+00,  0.00000000e+00,\n",
              "         0.00000000e+00,  0.00000000e+00,  0.00000000e+00,\n",
              "         0.00000000e+00,  0.00000000e+00,  0.00000000e+00,\n",
              "         0.00000000e+00],\n",
              "       [ 0.00000000e+00,  0.00000000e+00,  0.00000000e+00,\n",
              "        -5.06262467e-06, -5.06262467e-06,  0.00000000e+00,\n",
              "         0.00000000e+00,  0.00000000e+00,  0.00000000e+00,\n",
              "         0.00000000e+00],\n",
              "       [ 0.00000000e+00, -5.06262467e-06,  0.00000000e+00,\n",
              "         0.00000000e+00,  0.00000000e+00,  0.00000000e+00,\n",
              "         0.00000000e+00,  0.00000000e+00,  0.00000000e+00,\n",
              "         5.06262467e-06],\n",
              "       [-5.06262467e-06,  0.00000000e+00, -5.06262467e-06,\n",
              "        -5.06262467e-06, -5.06262467e-06, -5.06262467e-06,\n",
              "        -5.06262467e-06, -5.06262467e-06, -5.06262467e-06,\n",
              "        -1.01252493e-05],\n",
              "       [-5.06262467e-06,  0.00000000e+00,  0.00000000e+00,\n",
              "         0.00000000e+00,  0.00000000e+00,  0.00000000e+00,\n",
              "         0.00000000e+00,  5.06262467e-06,  0.00000000e+00,\n",
              "         0.00000000e+00],\n",
              "       [-5.06262467e-06, -5.06262467e-06,  0.00000000e+00,\n",
              "        -5.06262467e-06, -5.06262467e-06, -5.06262467e-06,\n",
              "        -5.06262467e-06, -5.06262467e-06, -5.06262467e-06,\n",
              "        -5.06262467e-06],\n",
              "       [ 0.00000000e+00,  0.00000000e+00,  0.00000000e+00,\n",
              "         0.00000000e+00,  0.00000000e+00,  0.00000000e+00,\n",
              "         0.00000000e+00,  0.00000000e+00,  0.00000000e+00,\n",
              "         0.00000000e+00],\n",
              "       [ 1.01252493e-05,  1.01252493e-05,  5.06262467e-06,\n",
              "         5.06262467e-06,  5.06262467e-06,  1.01252493e-05,\n",
              "         1.01252493e-05, -5.06262467e-06,  5.06262467e-06,\n",
              "         5.06262467e-06],\n",
              "       [ 0.00000000e+00, -5.06262467e-06,  0.00000000e+00,\n",
              "        -5.06262467e-06,  0.00000000e+00,  0.00000000e+00,\n",
              "         0.00000000e+00,  0.00000000e+00,  0.00000000e+00,\n",
              "         0.00000000e+00],\n",
              "       [ 0.00000000e+00,  0.00000000e+00,  0.00000000e+00,\n",
              "         0.00000000e+00,  0.00000000e+00,  0.00000000e+00,\n",
              "         0.00000000e+00,  0.00000000e+00,  0.00000000e+00,\n",
              "         0.00000000e+00],\n",
              "       [ 0.00000000e+00,  0.00000000e+00,  0.00000000e+00,\n",
              "         0.00000000e+00,  0.00000000e+00,  0.00000000e+00,\n",
              "         0.00000000e+00,  0.00000000e+00,  0.00000000e+00,\n",
              "         0.00000000e+00],\n",
              "       [-5.06262467e-06, -5.06262467e-06, -5.06262467e-06,\n",
              "        -5.06262467e-06, -5.06262467e-06, -5.06262467e-06,\n",
              "        -5.06262467e-06, -5.06262467e-06, -5.06262467e-06,\n",
              "        -5.06262467e-06],\n",
              "       [ 0.00000000e+00,  0.00000000e+00,  0.00000000e+00,\n",
              "         0.00000000e+00,  0.00000000e+00,  0.00000000e+00,\n",
              "         0.00000000e+00,  0.00000000e+00, -5.06262467e-06,\n",
              "         0.00000000e+00],\n",
              "       [ 0.00000000e+00,  0.00000000e+00,  0.00000000e+00,\n",
              "         0.00000000e+00,  0.00000000e+00,  0.00000000e+00,\n",
              "         0.00000000e+00,  0.00000000e+00,  0.00000000e+00,\n",
              "         0.00000000e+00],\n",
              "       [ 1.76685601e-03,  1.84785800e-03,  2.13136498e-03,\n",
              "         1.93392262e-03,  1.96936100e-03,  2.16174073e-03,\n",
              "         2.13642761e-03,  2.02504987e-03,  1.38715916e-03,\n",
              "         2.24780535e-03],\n",
              "       [ 1.77191863e-04,  2.17692861e-04,  2.27818110e-04,\n",
              "         1.67066614e-04,  2.12630236e-04,  1.06315118e-04,\n",
              "         1.92379737e-04,  7.59393700e-05,  1.87317113e-04,\n",
              "         1.87317113e-04],\n",
              "       [ 4.55636220e-05,  9.11272440e-05,  1.36690866e-04,\n",
              "         1.06315118e-04,  1.01252493e-04,  6.58141207e-05,\n",
              "         1.26565617e-04,  1.31628241e-04,  1.51878740e-04,\n",
              "         7.08767453e-05],\n",
              "       [ 1.50866215e-03,  1.34159554e-03,  1.51372478e-03,\n",
              "         1.49347428e-03,  1.60991464e-03,  1.63016514e-03,\n",
              "         1.49347428e-03,  1.55422577e-03,  1.46816115e-03,\n",
              "         1.46309853e-03],\n",
              "       [ 6.32828083e-04,  5.26512965e-04,  5.92327086e-04,\n",
              "         5.97389711e-04,  5.97389711e-04,  6.22702834e-04,\n",
              "         6.68266456e-04,  7.64456325e-04,  6.42953333e-04,\n",
              "         6.48015957e-04]])"
            ]
          },
          "metadata": {},
          "execution_count": 14
        }
      ],
      "source": [
        "r_clf_maternal.importances"
      ]
    },
    {
      "cell_type": "code",
      "execution_count": null,
      "id": "0911c142",
      "metadata": {
        "id": "0911c142",
        "colab": {
          "base_uri": "https://localhost:8080/"
        },
        "outputId": "41c9b8b7-c944-4506-baa2-1569ba34cd38"
      },
      "outputs": [
        {
          "output_type": "stream",
          "name": "stderr",
          "text": [
            "/usr/local/lib/python3.8/dist-packages/joblib/externals/loky/process_executor.py:700: UserWarning: A worker stopped while some jobs were given to the executor. This can be caused by a too short worker timeout or by a memory leak.\n",
            "  warnings.warn(\n"
          ]
        }
      ],
      "source": [
        "# permutation importance for combined RandomForestClassifier Model\n",
        "r_clf_combined = permutation_importance(optimal_rf_clf_combined, X_combined_test, y_clf_test, n_repeats=10, random_state=42, n_jobs=-1)"
      ]
    },
    {
      "cell_type": "code",
      "source": [
        "sorted_clf_combined_importances_idx = r_clf_combined.importances_mean.argsort()"
      ],
      "metadata": {
        "id": "rMsMwO_DH_s7"
      },
      "id": "rMsMwO_DH_s7",
      "execution_count": null,
      "outputs": []
    },
    {
      "cell_type": "code",
      "source": [
        "clf_combined_importances = pd.DataFrame(r_clf_combined.importances[sorted_clf_combined_importances_idx].T, columns=X_combined_train.columns[sorted_clf_combined_importances_idx])"
      ],
      "metadata": {
        "id": "VLrLAeSSIhsb"
      },
      "id": "VLrLAeSSIhsb",
      "execution_count": null,
      "outputs": []
    },
    {
      "cell_type": "code",
      "source": [
        "ax3 = clf_combined_importances.plot.barh()\n",
        "ax3.set_title('Permutation Importances for Combined Model Features')\n",
        "ax3.figure.tight_layout()"
      ],
      "metadata": {
        "id": "7pc3aDLcJEM5"
      },
      "id": "7pc3aDLcJEM5",
      "execution_count": null,
      "outputs": []
    },
    {
      "cell_type": "code",
      "execution_count": null,
      "id": "c7af9264",
      "metadata": {
        "id": "c7af9264"
      },
      "outputs": [],
      "source": [
        "r_clf_combined.importances_mean"
      ]
    },
    {
      "cell_type": "code",
      "execution_count": null,
      "id": "b8ec0998",
      "metadata": {
        "id": "b8ec0998"
      },
      "outputs": [],
      "source": [
        "r_clf_combined.importances"
      ]
    },
    {
      "cell_type": "markdown",
      "id": "a13619bd",
      "metadata": {
        "id": "a13619bd"
      },
      "source": [
        "### Accuracy, Precision, Recall, and F1 Scores for RandomForestClassifier() Models"
      ]
    },
    {
      "cell_type": "markdown",
      "source": [
        "Accuracy"
      ],
      "metadata": {
        "id": "IR-fcCjUDCZl"
      },
      "id": "IR-fcCjUDCZl"
    },
    {
      "cell_type": "code",
      "execution_count": null,
      "id": "53902c2a",
      "metadata": {
        "id": "53902c2a",
        "colab": {
          "base_uri": "https://localhost:8080/"
        },
        "outputId": "9ec044d5-99e1-4e38-8d96-fe4fafc65725"
      },
      "outputs": [
        {
          "output_type": "execute_result",
          "data": {
            "text/plain": [
              "0.4312141186476717"
            ]
          },
          "metadata": {},
          "execution_count": 15
        }
      ],
      "source": [
        "#RandomForestClassifier accuracy of default paternal model\n",
        "rf_paternal_accuracy = accuracy_score(y_clf_test, y_pred_rf_clf_paternal)\n",
        "rf_paternal_accuracy"
      ]
    },
    {
      "cell_type": "code",
      "source": [
        "#RandomForestClassifier accuracy of optimal paternal model\n",
        "optimal_rf_paternal_accuracy = accuracy_score(y_clf_test, y_pred_rf_clf_paternal_optimal)\n",
        "optimal_rf_paternal_accuracy"
      ],
      "metadata": {
        "id": "FAN6ya2GxCaG",
        "colab": {
          "base_uri": "https://localhost:8080/"
        },
        "outputId": "2d2495f0-92cd-4d4a-e3c3-f9e955a076ea"
      },
      "id": "FAN6ya2GxCaG",
      "execution_count": 19,
      "outputs": [
        {
          "output_type": "execute_result",
          "data": {
            "text/plain": [
              "0.4318874477284003"
            ]
          },
          "metadata": {},
          "execution_count": 19
        }
      ]
    },
    {
      "cell_type": "code",
      "execution_count": null,
      "id": "3b526b2c",
      "metadata": {
        "id": "3b526b2c",
        "colab": {
          "base_uri": "https://localhost:8080/"
        },
        "outputId": "16f1b0d8-09d1-476b-b611-857560a47a58"
      },
      "outputs": [
        {
          "output_type": "execute_result",
          "data": {
            "text/plain": [
              "0.43215576683575835"
            ]
          },
          "metadata": {},
          "execution_count": 16
        }
      ],
      "source": [
        "#RandomForestClassifier accuracy of default maternal model\n",
        "rf_maternal_accuracy = accuracy_score(y_clf_test, y_pred_rf_clf_maternal)\n",
        "rf_maternal_accuracy"
      ]
    },
    {
      "cell_type": "code",
      "source": [
        "#RandomForestClassifier accuracy of optimal maternal model\n",
        "optimal_rf_maternal_accuracy = accuracy_score(y_clf_test, y_pred_rf_clf_maternal_optimal)\n",
        "optimal_rf_maternal_accuracy"
      ],
      "metadata": {
        "colab": {
          "base_uri": "https://localhost:8080/"
        },
        "id": "L9ZqTHLK6eAA",
        "outputId": "06606446-7e1e-47a2-8e74-43a2d17e2eed"
      },
      "id": "L9ZqTHLK6eAA",
      "execution_count": 22,
      "outputs": [
        {
          "output_type": "execute_result",
          "data": {
            "text/plain": [
              "0.43372518048256936"
            ]
          },
          "metadata": {},
          "execution_count": 22
        }
      ]
    },
    {
      "cell_type": "code",
      "execution_count": null,
      "id": "3e9c0290",
      "metadata": {
        "id": "3e9c0290",
        "colab": {
          "base_uri": "https://localhost:8080/"
        },
        "outputId": "2c681b9b-b3ef-4eb6-ddfa-2b3117051662"
      },
      "outputs": [
        {
          "output_type": "execute_result",
          "data": {
            "text/plain": [
              "0.4365754381701649"
            ]
          },
          "metadata": {},
          "execution_count": 27
        }
      ],
      "source": [
        "#RandomForestClassifier accuracy of default combined model\n",
        "rf_combined_accuracy = accuracy_score(y_clf_test, y_pred_rf_clf_combined)\n",
        "rf_combined_accuracy"
      ]
    },
    {
      "cell_type": "code",
      "source": [
        "#RandomForestClassifier accuracy of optimal combined model\n",
        "optimal_rf_combined_accuracy = accuracy_score(y_clf_test, y_pred_rf_clf_combined_optimal)\n",
        "optimal_rf_combined_accuracy"
      ],
      "metadata": {
        "id": "tkwBIayM6jxX",
        "colab": {
          "base_uri": "https://localhost:8080/"
        },
        "outputId": "d40b4841-17e9-4774-aec0-4d9c46b15dec"
      },
      "id": "tkwBIayM6jxX",
      "execution_count": null,
      "outputs": [
        {
          "output_type": "execute_result",
          "data": {
            "text/plain": [
              "0.4373652076182376"
            ]
          },
          "metadata": {},
          "execution_count": 11
        }
      ]
    },
    {
      "cell_type": "markdown",
      "source": [
        "Precision"
      ],
      "metadata": {
        "id": "N0QdEv1hDOI1"
      },
      "id": "N0QdEv1hDOI1"
    },
    {
      "cell_type": "code",
      "execution_count": null,
      "id": "81be8bb0",
      "metadata": {
        "id": "81be8bb0",
        "colab": {
          "base_uri": "https://localhost:8080/"
        },
        "outputId": "05841fa1-2456-4984-c08e-ecad5e25c529"
      },
      "outputs": [
        {
          "output_type": "execute_result",
          "data": {
            "text/plain": [
              "0.7469327383567577"
            ]
          },
          "metadata": {},
          "execution_count": 18
        }
      ],
      "source": [
        "#RandomForestClassifier precision of default paternal model\n",
        "rf_paternal_precision = precision_score(y_clf_test, y_pred_rf_clf_paternal, average='micro')\n",
        "rf_paternal_precision"
      ]
    },
    {
      "cell_type": "code",
      "source": [
        "#RandomForestClassifier precision of optimal paternal model\n",
        "optimal_rf_paternal_precision = precision_score(y_clf_test, y_pred_rf_clf_paternal_optimal, average='micro')\n",
        "optimal_rf_paternal_precision"
      ],
      "metadata": {
        "colab": {
          "base_uri": "https://localhost:8080/"
        },
        "id": "dEiuvVyT61d3",
        "outputId": "55448918-62b8-4404-fc11-4a58b4503d17"
      },
      "id": "dEiuvVyT61d3",
      "execution_count": null,
      "outputs": [
        {
          "output_type": "execute_result",
          "data": {
            "text/plain": [
              "0.747431627560148"
            ]
          },
          "metadata": {},
          "execution_count": 25
        }
      ]
    },
    {
      "cell_type": "code",
      "execution_count": null,
      "id": "ec39cc29",
      "metadata": {
        "id": "ec39cc29",
        "colab": {
          "base_uri": "https://localhost:8080/"
        },
        "outputId": "21f2237d-f03e-4491-c7c0-5c3ad3e7de71"
      },
      "outputs": [
        {
          "output_type": "execute_result",
          "data": {
            "text/plain": [
              "0.7489995487158844"
            ]
          },
          "metadata": {},
          "execution_count": 19
        }
      ],
      "source": [
        "#RandomForestClassifier precision of default maternal model\n",
        "rf_maternal_precision = precision_score(y_clf_test, y_pred_rf_clf_maternal, average='micro')\n",
        "rf_maternal_precision"
      ]
    },
    {
      "cell_type": "code",
      "source": [
        "#RandomForestClassifier precision of optimal maternal model\n",
        "optimal_rf_maternal_precision = precision_score(y_clf_test, y_pred_rf_clf_maternal_optimal, average='micro')\n",
        "optimal_rf_maternal_precision"
      ],
      "metadata": {
        "colab": {
          "base_uri": "https://localhost:8080/"
        },
        "id": "74ExKbWE7DBH",
        "outputId": "120f930b-db4a-4e88-d21b-e5260828ec31"
      },
      "id": "74ExKbWE7DBH",
      "execution_count": null,
      "outputs": [
        {
          "output_type": "execute_result",
          "data": {
            "text/plain": [
              "0.7489924922774789"
            ]
          },
          "metadata": {},
          "execution_count": 26
        }
      ]
    },
    {
      "cell_type": "code",
      "execution_count": null,
      "id": "539ccac3",
      "metadata": {
        "id": "539ccac3",
        "colab": {
          "base_uri": "https://localhost:8080/"
        },
        "outputId": "4d9eebf9-220a-41b3-b641-557cc4bb30e9"
      },
      "outputs": [
        {
          "output_type": "execute_result",
          "data": {
            "text/plain": [
              "0.7489207271976747"
            ]
          },
          "metadata": {},
          "execution_count": 28
        }
      ],
      "source": [
        "#RandomForestClassifier precision of default combined model\n",
        "rf_combined_precision = precision_score(y_clf_test, y_pred_rf_clf_combined, average='micro')\n",
        "rf_combined_precision"
      ]
    },
    {
      "cell_type": "code",
      "source": [
        "#RandomForestClassifier precision of optimal combined model\n",
        "optimal_rf_combined_precision = precision_score(y_clf_test, y_pred_rf_clf_combined_optimal, average='micro')\n",
        "optimal_rf_combined_precision"
      ],
      "metadata": {
        "id": "JdA6JAnw7H_R",
        "colab": {
          "base_uri": "https://localhost:8080/"
        },
        "outputId": "17ac7066-88be-4a45-d8ce-769b7b2d2092"
      },
      "id": "JdA6JAnw7H_R",
      "execution_count": null,
      "outputs": [
        {
          "output_type": "execute_result",
          "data": {
            "text/plain": [
              "0.748821655253571"
            ]
          },
          "metadata": {},
          "execution_count": 12
        }
      ]
    },
    {
      "cell_type": "markdown",
      "source": [
        "Recall"
      ],
      "metadata": {
        "id": "Qb2tVsvCDjX8"
      },
      "id": "Qb2tVsvCDjX8"
    },
    {
      "cell_type": "code",
      "execution_count": null,
      "id": "81b62566",
      "metadata": {
        "id": "81b62566",
        "colab": {
          "base_uri": "https://localhost:8080/"
        },
        "outputId": "3ebac27f-15be-4457-aaa6-cbbd4bf9efd8"
      },
      "outputs": [
        {
          "output_type": "execute_result",
          "data": {
            "text/plain": [
              "0.9366509094545233"
            ]
          },
          "metadata": {},
          "execution_count": 20
        }
      ],
      "source": [
        "#RandomForestClassifier recall of default paternal model\n",
        "rf_paternal_recall = recall_score(y_clf_test, y_pred_rf_clf_paternal, average='micro')\n",
        "rf_paternal_recall"
      ]
    },
    {
      "cell_type": "code",
      "source": [
        "#RandomForestClassifier recall of optimal paternal model\n",
        "optimal_rf_paternal_recall = recall_score(y_clf_test, y_pred_rf_clf_paternal_optimal, average='micro')\n",
        "optimal_rf_paternal_recall"
      ],
      "metadata": {
        "colab": {
          "base_uri": "https://localhost:8080/"
        },
        "id": "viK9zcZN8npG",
        "outputId": "4f9d6905-02ea-4194-fdcf-cc5c49b475be"
      },
      "id": "viK9zcZN8npG",
      "execution_count": null,
      "outputs": [
        {
          "output_type": "execute_result",
          "data": {
            "text/plain": [
              "0.9354666677123548"
            ]
          },
          "metadata": {},
          "execution_count": 28
        }
      ]
    },
    {
      "cell_type": "code",
      "execution_count": null,
      "id": "7752919e",
      "metadata": {
        "id": "7752919e",
        "colab": {
          "base_uri": "https://localhost:8080/"
        },
        "outputId": "2348adf9-13e2-48c5-ed84-d8a8413d1ac1"
      },
      "outputs": [
        {
          "output_type": "execute_result",
          "data": {
            "text/plain": [
              "0.9339353882411069"
            ]
          },
          "metadata": {},
          "execution_count": 21
        }
      ],
      "source": [
        "#RandomForestClassifier recall of default maternal model\n",
        "rf_maternal_recall = recall_score(y_clf_test, y_pred_rf_clf_maternal, average='micro')\n",
        "rf_maternal_recall"
      ]
    },
    {
      "cell_type": "code",
      "source": [
        "#RandomForestClassifier recall of optimal maternal model\n",
        "optimal_rf_maternal_recall = recall_score(y_clf_test, y_pred_rf_clf_maternal_optimal, average='micro')\n",
        "optimal_rf_maternal_recall"
      ],
      "metadata": {
        "colab": {
          "base_uri": "https://localhost:8080/"
        },
        "id": "aKrXiQ-u8u-W",
        "outputId": "16554255-c599-4d94-8275-ac0ac1ef27f3"
      },
      "id": "aKrXiQ-u8u-W",
      "execution_count": null,
      "outputs": [
        {
          "output_type": "execute_result",
          "data": {
            "text/plain": [
              "0.93321582413618"
            ]
          },
          "metadata": {},
          "execution_count": 29
        }
      ]
    },
    {
      "cell_type": "code",
      "execution_count": null,
      "id": "8aab6ce3",
      "metadata": {
        "id": "8aab6ce3",
        "colab": {
          "base_uri": "https://localhost:8080/"
        },
        "outputId": "b41d58d5-4fe4-4ccb-fd74-a36fc390e5bc"
      },
      "outputs": [
        {
          "output_type": "execute_result",
          "data": {
            "text/plain": [
              "0.9391056622048464"
            ]
          },
          "metadata": {},
          "execution_count": 29
        }
      ],
      "source": [
        "#RandomForestClassifier recall of default combined model\n",
        "rf_combined_recall = recall_score(y_clf_test, y_pred_rf_clf_combined, average='micro')\n",
        "rf_combined_recall"
      ]
    },
    {
      "cell_type": "code",
      "source": [
        "#RandomForestClassifier recall of optimal combined model\n",
        "optimal_rf_combined_recall = recall_score(y_clf_test, y_pred_rf_clf_combined_optimal, average='micro')\n",
        "optimal_rf_combined_recall"
      ],
      "metadata": {
        "id": "n6Vn_GHi82X3",
        "colab": {
          "base_uri": "https://localhost:8080/"
        },
        "outputId": "b04464a0-cdb0-4dc9-9a3e-431173166210"
      },
      "id": "n6Vn_GHi82X3",
      "execution_count": null,
      "outputs": [
        {
          "output_type": "execute_result",
          "data": {
            "text/plain": [
              "0.9382194415633559"
            ]
          },
          "metadata": {},
          "execution_count": 13
        }
      ]
    },
    {
      "cell_type": "markdown",
      "source": [
        "F1 Scores"
      ],
      "metadata": {
        "id": "hH6ZOtr_D2UE"
      },
      "id": "hH6ZOtr_D2UE"
    },
    {
      "cell_type": "code",
      "execution_count": null,
      "id": "d70d8cdc",
      "metadata": {
        "id": "d70d8cdc",
        "colab": {
          "base_uri": "https://localhost:8080/"
        },
        "outputId": "389d6786-d926-4b3e-c5df-45c72881de91"
      },
      "outputs": [
        {
          "output_type": "execute_result",
          "data": {
            "text/plain": [
              "0.8311024279580517"
            ]
          },
          "metadata": {},
          "execution_count": 23
        }
      ],
      "source": [
        "#RandomForestClassifier F1 scores of default paternal model\n",
        "rf_paternal_f1 = f1_score(y_clf_test, y_pred_rf_clf_paternal, average='micro')\n",
        "rf_paternal_f1"
      ]
    },
    {
      "cell_type": "code",
      "source": [
        "#RandomForestClassifier F1 scores of optimal paternal model\n",
        "optimal_rf_paternal_f1 = f1_score(y_clf_test, y_pred_rf_clf_paternal_optimal, average='micro')\n",
        "optimal_rf_paternal_f1"
      ],
      "metadata": {
        "colab": {
          "base_uri": "https://localhost:8080/"
        },
        "id": "lCaDuIM59NzD",
        "outputId": "c54c2388-3160-4aed-dbe4-ed2f6e96763a"
      },
      "id": "lCaDuIM59NzD",
      "execution_count": null,
      "outputs": [
        {
          "output_type": "execute_result",
          "data": {
            "text/plain": [
              "0.8309443011983041"
            ]
          },
          "metadata": {},
          "execution_count": 31
        }
      ]
    },
    {
      "cell_type": "code",
      "execution_count": null,
      "id": "655aef33",
      "metadata": {
        "id": "655aef33",
        "colab": {
          "base_uri": "https://localhost:8080/"
        },
        "outputId": "1037fbb7-ae52-42e2-f059-0193abbe1d7e"
      },
      "outputs": [
        {
          "output_type": "execute_result",
          "data": {
            "text/plain": [
              "0.831306272109627"
            ]
          },
          "metadata": {},
          "execution_count": 24
        }
      ],
      "source": [
        "#RandomForestClassifier F1 scores of default maternal model\n",
        "rf_maternal_f1 = f1_score(y_clf_test, y_pred_rf_clf_maternal, average='micro')\n",
        "rf_maternal_f1"
      ]
    },
    {
      "cell_type": "code",
      "source": [
        "#RandomForestClassifier F1 scores of optimal maternal model\n",
        "optimal_rf_maternal_f1 = f1_score(y_clf_test, y_pred_rf_clf_maternal_optimal, average='micro')\n",
        "optimal_rf_maternal_f1"
      ],
      "metadata": {
        "colab": {
          "base_uri": "https://localhost:8080/"
        },
        "id": "pnaRoRsp-Uyu",
        "outputId": "1f7d0ab5-4670-4ca3-f469-e57ef320ad0f"
      },
      "id": "pnaRoRsp-Uyu",
      "execution_count": null,
      "outputs": [
        {
          "output_type": "execute_result",
          "data": {
            "text/plain": [
              "0.8310167523635761"
            ]
          },
          "metadata": {},
          "execution_count": 32
        }
      ]
    },
    {
      "cell_type": "code",
      "execution_count": null,
      "id": "461d14c3",
      "metadata": {
        "id": "461d14c3",
        "colab": {
          "base_uri": "https://localhost:8080/"
        },
        "outputId": "9dc0e0d2-e745-4123-b3f9-4a53f97c85e2"
      },
      "outputs": [
        {
          "output_type": "execute_result",
          "data": {
            "text/plain": [
              "0.8332994079587189"
            ]
          },
          "metadata": {},
          "execution_count": 31
        }
      ],
      "source": [
        "#RandomForestClassifier F1 scores of default combined model\n",
        "rf_combined_f1 = f1_score(y_clf_test, y_pred_rf_clf_combined, average='micro')\n",
        "rf_combined_f1"
      ]
    },
    {
      "cell_type": "code",
      "source": [
        "#RandomForestClassifier F1 scores of optimal combined model\n",
        "optimal_rf_combined_f1 = f1_score(y_clf_test, y_pred_rf_clf_combined_optimal, average='micro')\n",
        "optimal_rf_combined_f1"
      ],
      "metadata": {
        "id": "B9iyII3P-V3n",
        "colab": {
          "base_uri": "https://localhost:8080/"
        },
        "outputId": "c2e92239-5786-4beb-fbf6-1c98841a7530"
      },
      "id": "B9iyII3P-V3n",
      "execution_count": null,
      "outputs": [
        {
          "output_type": "execute_result",
          "data": {
            "text/plain": [
              "0.8328890583022863"
            ]
          },
          "metadata": {},
          "execution_count": 14
        }
      ]
    },
    {
      "cell_type": "markdown",
      "id": "bbbe4618",
      "metadata": {
        "id": "bbbe4618"
      },
      "source": [
        "## RandomForestRegressor() Models"
      ]
    },
    {
      "cell_type": "code",
      "execution_count": null,
      "id": "a7667feb",
      "metadata": {
        "id": "a7667feb"
      },
      "outputs": [],
      "source": [
        "rf_reg_paternal = MultiOutputRegressor(RandomForestRegressor(max_depth=20, random_state=42)).fit(X_paternal_train, y_reg_train)"
      ]
    },
    {
      "cell_type": "code",
      "execution_count": null,
      "id": "1393f7a8",
      "metadata": {
        "id": "1393f7a8",
        "colab": {
          "base_uri": "https://localhost:8080/"
        },
        "outputId": "5b1804dd-29df-4e25-82ea-f3e36ca8ea1a"
      },
      "outputs": [
        {
          "output_type": "execute_result",
          "data": {
            "text/plain": [
              "array([[  11.39048315, 3307.77177097,   38.25474835],\n",
              "       [  11.45855102, 3288.47827941,   38.27528491],\n",
              "       [  11.05104166, 3132.30925627,   37.74003829],\n",
              "       ...,\n",
              "       [  10.50712116, 3293.6082583 ,   38.12360387],\n",
              "       [  11.09820264, 3236.99167276,   38.62276032],\n",
              "       [  10.54311823, 3213.17291354,   38.27903393]])"
            ]
          },
          "metadata": {},
          "execution_count": 33
        }
      ],
      "source": [
        "#predict responses based on the paternal RandomForestRegressor model\n",
        "y_pred_rf_reg_paternal = rf_reg_paternal.predict(X_paternal_test)\n",
        "y_pred_rf_reg_paternal"
      ]
    },
    {
      "cell_type": "code",
      "source": [
        "rf_reg_maternal = MultiOutputRegressor(RandomForestRegressor(max_depth=20, random_state=42)).fit(X_maternal_train, y_reg_train)"
      ],
      "metadata": {
        "id": "lpdH5Z8mKuTV"
      },
      "id": "lpdH5Z8mKuTV",
      "execution_count": null,
      "outputs": []
    },
    {
      "cell_type": "code",
      "execution_count": null,
      "id": "43eeafb7",
      "metadata": {
        "id": "43eeafb7",
        "colab": {
          "base_uri": "https://localhost:8080/"
        },
        "outputId": "5642a0c0-04d8-4520-affa-659f9b04f980"
      },
      "outputs": [
        {
          "output_type": "execute_result",
          "data": {
            "text/plain": [
              "array([[  11.1099296 , 3294.59810081,   38.30883496],\n",
              "       [  11.48794209, 3267.48933515,   38.03821731],\n",
              "       [  11.16630066, 3029.67878902,   37.77649994],\n",
              "       ...,\n",
              "       [  10.95386638, 3284.23851661,   38.11784988],\n",
              "       [  11.16602987, 3297.32887096,   38.53938926],\n",
              "       [  10.4337081 , 3225.99920299,   38.22980417]])"
            ]
          },
          "metadata": {},
          "execution_count": 38
        }
      ],
      "source": [
        "#predict responses based on the maternal RandomForestRegressor model\n",
        "y_pred_rf_reg_maternal = rf_reg_maternal.predict(X_maternal_test)\n",
        "y_pred_rf_reg_maternal"
      ]
    },
    {
      "cell_type": "code",
      "execution_count": null,
      "id": "55ae150b",
      "metadata": {
        "id": "55ae150b"
      },
      "outputs": [],
      "source": [
        "rf_reg_combined = MultiOutputRegressor(RandomForestRegressor(max_depth=20, random_state=42)).fit(X_combined_train, y_reg_train)"
      ]
    },
    {
      "cell_type": "code",
      "execution_count": null,
      "id": "03065c9d",
      "metadata": {
        "id": "03065c9d",
        "colab": {
          "base_uri": "https://localhost:8080/"
        },
        "outputId": "b4d7f9f6-aec2-42da-f4da-56839e2c33e5"
      },
      "outputs": [
        {
          "output_type": "execute_result",
          "data": {
            "text/plain": [
              "array([[  11.04423097, 3287.21054361,   38.26774216],\n",
              "       [  11.17458874, 3265.00916202,   37.95966898],\n",
              "       [  11.12634603, 3056.56636242,   37.33041177],\n",
              "       ...,\n",
              "       [  10.71252286, 3256.777225  ,   37.82706267],\n",
              "       [  11.11888344, 3213.81876954,   38.48181137],\n",
              "       [  10.56187618, 3244.77889299,   38.33209164]])"
            ]
          },
          "metadata": {},
          "execution_count": 41
        }
      ],
      "source": [
        "#predict responses based on the combined RandomForestRegressor model\n",
        "y_pred_rf_reg_combined = rf_reg_combined.predict(X_combined_test)\n",
        "y_pred_rf_reg_combined"
      ]
    },
    {
      "cell_type": "code",
      "source": [
        "#generalization error default paternal RandomForestRegressor model\n",
        "rf_reg_paternal_y_pred = rf_reg_paternal.predict(X_paternal_test)\n",
        "mse_rf_reg_paternal = mean_squared_error(y_reg_test, rf_reg_paternal_y_pred)\n",
        "mse_rf_reg_paternal"
      ],
      "metadata": {
        "colab": {
          "base_uri": "https://localhost:8080/"
        },
        "id": "pe3RdA6XLqiN",
        "outputId": "2be6a1a3-3f2b-4d30-bc54-792c6ad63b16"
      },
      "id": "pe3RdA6XLqiN",
      "execution_count": null,
      "outputs": [
        {
          "output_type": "execute_result",
          "data": {
            "text/plain": [
              "102731.99931139528"
            ]
          },
          "metadata": {},
          "execution_count": 36
        }
      ]
    },
    {
      "cell_type": "code",
      "source": [
        "#generalization error default maternal RandomForestRegressor model\n",
        "rf_reg_maternal_y_pred = rf_reg_maternal.predict(X_maternal_test)\n",
        "mse_rf_reg_maternal = mean_squared_error(y_reg_test, rf_reg_maternal_y_pred)\n",
        "mse_rf_reg_maternal"
      ],
      "metadata": {
        "colab": {
          "base_uri": "https://localhost:8080/"
        },
        "id": "rPZTVg3LLqvU",
        "outputId": "01a4e488-de05-4571-a05d-55211775c944"
      },
      "id": "rPZTVg3LLqvU",
      "execution_count": null,
      "outputs": [
        {
          "output_type": "execute_result",
          "data": {
            "text/plain": [
              "102429.51807068492"
            ]
          },
          "metadata": {},
          "execution_count": 39
        }
      ]
    },
    {
      "cell_type": "code",
      "source": [
        "#generalization error default combined RandomForestRegressor model\n",
        "rf_reg_combined_y_pred = rf_reg_combined.predict(X_combined_test)\n",
        "mse_rf_reg_combined = mean_squared_error(y_reg_test, rf_reg_combined_y_pred)\n",
        "mse_rf_reg_combined"
      ],
      "metadata": {
        "colab": {
          "base_uri": "https://localhost:8080/"
        },
        "id": "14adq4ZwLAGN",
        "outputId": "cfdd0036-f76e-4543-8bd6-29a130a0090e"
      },
      "id": "14adq4ZwLAGN",
      "execution_count": null,
      "outputs": [
        {
          "output_type": "execute_result",
          "data": {
            "text/plain": [
              "102165.19081679532"
            ]
          },
          "metadata": {},
          "execution_count": 43
        }
      ]
    },
    {
      "cell_type": "markdown",
      "id": "5fde1e5f",
      "metadata": {
        "id": "5fde1e5f"
      },
      "source": [
        "### Hyperparameter Tuning for RandomForestRegressor() Models"
      ]
    },
    {
      "cell_type": "code",
      "source": [
        "rf_reg = RandomForestRegressor(n_estimators=100, max_depth=6, min_samples_split=2, random_state=42)\n",
        "reg_model = MultiOutputClassifier(estimator=rf_reg)"
      ],
      "metadata": {
        "id": "vZUEgRYNBXkh"
      },
      "id": "vZUEgRYNBXkh",
      "execution_count": null,
      "outputs": []
    },
    {
      "cell_type": "markdown",
      "id": "32be9470",
      "metadata": {
        "id": "32be9470"
      },
      "source": [
        "#### Paternal Features Model"
      ]
    },
    {
      "cell_type": "code",
      "source": [
        "# Coarse RandomForestRegressor GridSearch - paternal\n",
        "param_grid_coarse_reg_paternal = {'estimator__max_depth':[2, 4, 5, 8],\n",
        "              'estimator__n_estimators':[250, 500, 750, 1000],\n",
        "              'estimator__min_samples_split':[3, 5, 7, 9]}\n",
        "\n",
        "gscv_paternal_reg_coarse = GridSearchCV(reg_model, param_grid_coarse_reg_paternal, n_jobs=-1, cv=3)\n",
        "gscv_paternal_reg_coarse.fit(X_paternal_train, y_clf_train)\n",
        "\n",
        "print(\"The best coarse parameters are: \", gscv_paternal_reg_coarse.best_params_)"
      ],
      "metadata": {
        "id": "s8xxGSOPC-eq"
      },
      "id": "s8xxGSOPC-eq",
      "execution_count": null,
      "outputs": []
    },
    {
      "cell_type": "code",
      "source": [
        "# Refined RandomForestRegressor GridSearch - paternal\n",
        "param_grid_refined_reg_paternal = {'estimator__max_depth':[2, 4, 5, 8],\n",
        "              'estimator__n_estimators':[250, 500, 750, 1000],\n",
        "              'estimator__min_samples_split':[3, 5, 7, 9]}\n",
        "\n",
        "gscv_paternal_reg_refined = GridSearchCV(reg_model, param_grid_refined_reg_paternal, n_jobs=-1, cv=3)\n",
        "gscv_paternal_reg_refined.fit(X_paternal_train, y_clf_train)\n",
        "\n",
        "print(\"The best coarse parameters are: \", gscv_paternal_reg_refined.best_params_)"
      ],
      "metadata": {
        "id": "iU3fJrR0FixA"
      },
      "id": "iU3fJrR0FixA",
      "execution_count": null,
      "outputs": []
    },
    {
      "cell_type": "code",
      "source": [
        "# Final RandomForestRegressor GridSearch - paternal\n",
        "param_grid_final_reg_paternal = {'estimator__max_depth':[2, 4, 5, 8],\n",
        "              'estimator__n_estimators':[250, 500, 750, 1000],\n",
        "              'estimator__min_samples_split':[3, 5, 7, 9]}\n",
        "\n",
        "gscv_paternal_reg_final = GridSearchCV(reg_model, param_grid_final_reg_paternal, n_jobs=-1, cv=3)\n",
        "gscv_paternal_reg_final.fit(X_paternal_train, y_clf_train)\n",
        "\n",
        "print(\"The best coarse parameters are: \", gscv_paternal_reg_final.best_params_)"
      ],
      "metadata": {
        "id": "HhOCR0yQFyYH"
      },
      "id": "HhOCR0yQFyYH",
      "execution_count": null,
      "outputs": []
    },
    {
      "cell_type": "code",
      "execution_count": null,
      "id": "f80a3af0",
      "metadata": {
        "id": "f80a3af0"
      },
      "outputs": [],
      "source": [
        "# Optimal RandomForestRegressor Model based on GridSearch results for paternal features\n",
        "# optimal_rf_reg_paternal = RandomForestRegressor(max_depth=grid_search_cv_final_rf_reg_paternal.best_params_['max_depth'],\n",
        "#                                    n_estimators=grid_search_cv_final_rf_reg_paternal.best_params_['n_estimators'],\n",
        "#                                    min_samples_split=grid_search_cv_final_rf_reg_paternal.best_params_['min_samples_split'],\n",
        "#                                    random_state=42)\n",
        "# optimal_rf_reg_paternal.fit(X_paternal_train, y_reg_train)"
      ]
    },
    {
      "cell_type": "markdown",
      "id": "ff9e18b3",
      "metadata": {
        "id": "ff9e18b3"
      },
      "source": [
        "#### Maternal Features Model"
      ]
    },
    {
      "cell_type": "code",
      "source": [
        "# Coarse RandomForestRegressor GridSearch - maternal\n",
        "param_grid_coarse_reg_maternal = {'estimator__max_depth':[2, 4, 5, 8],\n",
        "              'estimator__n_estimators':[250, 500, 750, 1000],\n",
        "              'estimator__min_samples_split':[3, 5, 7, 9]}\n",
        "\n",
        "gscv_maternal_reg_coarse = GridSearchCV(reg_model, param_grid_coarse_reg_maternal, n_jobs=-1, cv=3)\n",
        "gscv_maternal_reg_coarse.fit(X_maternal_train, y_clf_train)\n",
        "\n",
        "print(\"The best coarse parameters are: \", gscv_maternal_reg_coarse.best_params_)"
      ],
      "metadata": {
        "id": "0QOv46OlJIke"
      },
      "id": "0QOv46OlJIke",
      "execution_count": null,
      "outputs": []
    },
    {
      "cell_type": "code",
      "execution_count": null,
      "id": "4e6f4d97",
      "metadata": {
        "id": "4e6f4d97"
      },
      "outputs": [],
      "source": [
        "# Coarse RandomForestRegressor GridSearch - maternal\n",
        "# param_grid_coarse_maternal = {'estimator__max_depth':[2, 4, 5, 8],\n",
        "#               'estimator__n_estimators':[250, 500, 750, 1000],\n",
        "#               'estimator__min_samples_split':[3, 5, 7, 9]}\n",
        "\n",
        "# gscv_maternal_reg_coarse = GridSearchCV(reg_model, param_grid_coarse_maternal, n_jobs=-1, cv=3)\n",
        "# gscv_maternal_reg_coarse.fit(X_maternal_train, y_clf_train)\n",
        "\n",
        "# print(\"The best coarse parameters are: \", gscv_maternal_reg_coarse.best_params_)"
      ]
    },
    {
      "cell_type": "code",
      "execution_count": null,
      "id": "15800822",
      "metadata": {
        "id": "15800822"
      },
      "outputs": [],
      "source": [
        "# Refined RandomForestRegressor GridSearch - maternal\n",
        "\n",
        "param_grid_refined_rf_reg_maternal = {'max_depth':[4,5,6,7,8], \n",
        "              'n_estimators': [900, 950, 1000, 1050, 1100], \n",
        "              'min_samples_split': [5,6,7,8,9,10,11,12]}\n",
        "\n",
        "grid_search_cv_refined_rf_reg_maternal = GridSearchCV(RandomForestRegressor(random_state=42), \n",
        "                                                      param_grid_refined_rf_reg_maternal, verbose=1, cv=3)\n",
        "grid_search_cv_refined_rf_reg_maternal.fit(X_maternal_train, y_reg_train)\n",
        "\n",
        "print(\"The best parameters are: \", grid_search_cv_refined_rf_reg_maternal.best_params_)"
      ]
    },
    {
      "cell_type": "code",
      "execution_count": null,
      "id": "fab42afb",
      "metadata": {
        "id": "fab42afb"
      },
      "outputs": [],
      "source": [
        "# Final RandomForestRegressor GridSearch - maternal\n",
        "\n",
        "param_grid_final_rf_reg_maternal = {'max_depth':[5], \n",
        "              'n_estimators': [750, 800, 850, 900, 950, 1000], \n",
        "              'min_samples_split': [8]}\n",
        "\n",
        "grid_search_cv_final_rf_reg_maternal = GridSearchCV(RandomForestRegressor(random_state=42), \n",
        "                                                    param_grid_final_rf_reg_maternal, verbose=1, cv=3)\n",
        "grid_search_cv_final_rf_reg_maternal.fit(X_maternal_train, y_reg_train)\n",
        "\n",
        "print(\"The best parameters are: \", grid_search_cv_final_rf_reg_maternal.best_params_)"
      ]
    },
    {
      "cell_type": "code",
      "execution_count": null,
      "id": "813066b4",
      "metadata": {
        "id": "813066b4"
      },
      "outputs": [],
      "source": [
        "# Optimal RandomForestRegressor Model based on GridSearch results for maternal features\n",
        "optimal_rf_reg_maternal = RandomForestRegressor(max_depth=grid_search_cv_final_rf_reg_maternal.best_params_['max_depth'],\n",
        "                                   n_estimators=grid_search_cv_final_rf_reg_maternal.best_params_['n_estimators'],\n",
        "                                   min_samples_split=grid_search_cv_final_rf_reg_maternal.best_params_['min_samples_split'],\n",
        "                                   random_state=42)\n",
        "optimal_rf_reg_maternal.fit(X_maternal_train, y_reg_train)"
      ]
    },
    {
      "cell_type": "markdown",
      "id": "9146e516",
      "metadata": {
        "id": "9146e516"
      },
      "source": [
        "#### Combined Paternal and Maternal Features Model"
      ]
    },
    {
      "cell_type": "code",
      "source": [
        "!pip install optuna"
      ],
      "metadata": {
        "colab": {
          "base_uri": "https://localhost:8080/"
        },
        "id": "DAUqGkBe2sPW",
        "outputId": "aeb5c237-60de-4d30-f76a-cc621dc62935"
      },
      "id": "DAUqGkBe2sPW",
      "execution_count": null,
      "outputs": [
        {
          "output_type": "stream",
          "name": "stdout",
          "text": [
            "Looking in indexes: https://pypi.org/simple, https://us-python.pkg.dev/colab-wheels/public/simple/\n",
            "Collecting optuna\n",
            "  Downloading optuna-3.1.0-py3-none-any.whl (365 kB)\n",
            "\u001b[2K     \u001b[90m━━━━━━━━━━━━━━━━━━━━━━━━━━━━━━━━━━━━━━━\u001b[0m \u001b[32m365.3/365.3 KB\u001b[0m \u001b[31m9.5 MB/s\u001b[0m eta \u001b[36m0:00:00\u001b[0m\n",
            "\u001b[?25hCollecting colorlog\n",
            "  Downloading colorlog-6.7.0-py2.py3-none-any.whl (11 kB)\n",
            "Requirement already satisfied: numpy in /usr/local/lib/python3.8/dist-packages (from optuna) (1.21.6)\n",
            "Requirement already satisfied: packaging>=20.0 in /usr/local/lib/python3.8/dist-packages (from optuna) (23.0)\n",
            "Requirement already satisfied: tqdm in /usr/local/lib/python3.8/dist-packages (from optuna) (4.64.1)\n",
            "Requirement already satisfied: PyYAML in /usr/local/lib/python3.8/dist-packages (from optuna) (6.0)\n",
            "Requirement already satisfied: sqlalchemy>=1.3.0 in /usr/local/lib/python3.8/dist-packages (from optuna) (1.4.46)\n",
            "Collecting alembic>=1.5.0\n",
            "  Downloading alembic-1.9.3-py3-none-any.whl (210 kB)\n",
            "\u001b[2K     \u001b[90m━━━━━━━━━━━━━━━━━━━━━━━━━━━━━━━━━━━━━━\u001b[0m \u001b[32m210.6/210.6 KB\u001b[0m \u001b[31m21.8 MB/s\u001b[0m eta \u001b[36m0:00:00\u001b[0m\n",
            "\u001b[?25hCollecting cmaes>=0.9.1\n",
            "  Downloading cmaes-0.9.1-py3-none-any.whl (21 kB)\n",
            "Requirement already satisfied: importlib-metadata in /usr/local/lib/python3.8/dist-packages (from alembic>=1.5.0->optuna) (6.0.0)\n",
            "Collecting Mako\n",
            "  Downloading Mako-1.2.4-py3-none-any.whl (78 kB)\n",
            "\u001b[2K     \u001b[90m━━━━━━━━━━━━━━━━━━━━━━━━━━━━━━━━━━━━━━━━\u001b[0m \u001b[32m78.7/78.7 KB\u001b[0m \u001b[31m9.5 MB/s\u001b[0m eta \u001b[36m0:00:00\u001b[0m\n",
            "\u001b[?25hRequirement already satisfied: importlib-resources in /usr/local/lib/python3.8/dist-packages (from alembic>=1.5.0->optuna) (5.10.2)\n",
            "Requirement already satisfied: greenlet!=0.4.17 in /usr/local/lib/python3.8/dist-packages (from sqlalchemy>=1.3.0->optuna) (2.0.2)\n",
            "Requirement already satisfied: zipp>=0.5 in /usr/local/lib/python3.8/dist-packages (from importlib-metadata->alembic>=1.5.0->optuna) (3.12.0)\n",
            "Requirement already satisfied: MarkupSafe>=0.9.2 in /usr/local/lib/python3.8/dist-packages (from Mako->alembic>=1.5.0->optuna) (2.0.1)\n",
            "Installing collected packages: Mako, colorlog, cmaes, alembic, optuna\n",
            "Successfully installed Mako-1.2.4 alembic-1.9.3 cmaes-0.9.1 colorlog-6.7.0 optuna-3.1.0\n"
          ]
        }
      ]
    },
    {
      "cell_type": "code",
      "source": [
        "import optuna\n",
        "from sklearn.model_selection import cross_val_score"
      ],
      "metadata": {
        "id": "OcnLpnFt28Bc"
      },
      "id": "OcnLpnFt28Bc",
      "execution_count": null,
      "outputs": []
    },
    {
      "cell_type": "code",
      "source": [
        "# Coarse Grained Regressor with Optuna\n",
        "def objective(trial):\n",
        "  data = final_data.iloc[:1000]\n",
        "  n_estimators = trial.suggest_int('estimator__n_estimators', 100, 1000)\n",
        "  max_depth = int(trial.suggest_loguniform('estimator__max_depth', 1, 32))\n",
        "  reg = reg_model\n",
        "  return cross_val_score(reg, X_combined_train, y_reg_train, n_jobs=-1, cv=3)\n",
        "\n",
        "study=optuna.create_study(direction='maximize')\n",
        "study.optimize(objective, n_trials=100)\n",
        "\n",
        "trial = study.best_trial\n",
        "print('Accuracy: {}'.format(trial.value))\n",
        "print('Best hyperparameters: {}'.format(trial.params))"
      ],
      "metadata": {
        "colab": {
          "base_uri": "https://localhost:8080/",
          "height": 1000
        },
        "id": "SuJ4UFPww9uG",
        "outputId": "7a3ea4dd-613c-4338-fe44-563cbbd790dc"
      },
      "id": "SuJ4UFPww9uG",
      "execution_count": null,
      "outputs": [
        {
          "output_type": "stream",
          "name": "stderr",
          "text": [
            "\u001b[32m[I 2023-02-10 15:06:49,911]\u001b[0m A new study created in memory with name: no-name-6fa390a0-aa6a-4bb3-b9bf-437315bf8841\u001b[0m\n",
            "<ipython-input-17-003b1e9dba99>:5: FutureWarning: suggest_loguniform has been deprecated in v3.0.0. This feature will be removed in v6.0.0. See https://github.com/optuna/optuna/releases/tag/v3.0.0. Use :func:`~optuna.trial.Trial.suggest_float` instead.\n",
            "  max_depth = int(trial.suggest_loguniform('estimator__max_depth', 1, 32))\n",
            "/usr/local/lib/python3.8/dist-packages/sklearn/model_selection/_validation.py:372: FitFailedWarning: \n",
            "3 fits failed out of a total of 3.\n",
            "The score on these train-test partitions for these parameters will be set to nan.\n",
            "If these failures are not expected, you can try to debug them by setting error_score='raise'.\n",
            "\n",
            "Below are more details about the failures:\n",
            "--------------------------------------------------------------------------------\n",
            "3 fits failed with the following error:\n",
            "Traceback (most recent call last):\n",
            "  File \"/usr/local/lib/python3.8/dist-packages/sklearn/model_selection/_validation.py\", line 680, in _fit_and_score\n",
            "    estimator.fit(X_train, y_train, **fit_params)\n",
            "  File \"/usr/local/lib/python3.8/dist-packages/sklearn/multioutput.py\", line 435, in fit\n",
            "    self.classes_ = [estimator.classes_ for estimator in self.estimators_]\n",
            "  File \"/usr/local/lib/python3.8/dist-packages/sklearn/multioutput.py\", line 435, in <listcomp>\n",
            "    self.classes_ = [estimator.classes_ for estimator in self.estimators_]\n",
            "AttributeError: 'RandomForestRegressor' object has no attribute 'classes_'\n",
            "\n",
            "  warnings.warn(some_fits_failed_message, FitFailedWarning)\n",
            "\u001b[33m[W 2023-02-10 15:36:01,609]\u001b[0m Trial 0 failed with parameters: {'estimator__n_estimators': 592, 'estimator__max_depth': 3.1112553482515} because of the following error: The value array([nan, nan, nan]) could not be cast to float..\u001b[0m\n",
            "\u001b[33m[W 2023-02-10 15:36:01,611]\u001b[0m Trial 0 failed with value array([nan, nan, nan]).\u001b[0m\n",
            "<ipython-input-17-003b1e9dba99>:5: FutureWarning: suggest_loguniform has been deprecated in v3.0.0. This feature will be removed in v6.0.0. See https://github.com/optuna/optuna/releases/tag/v3.0.0. Use :func:`~optuna.trial.Trial.suggest_float` instead.\n",
            "  max_depth = int(trial.suggest_loguniform('estimator__max_depth', 1, 32))\n",
            "/usr/local/lib/python3.8/dist-packages/sklearn/model_selection/_validation.py:372: FitFailedWarning: \n",
            "3 fits failed out of a total of 3.\n",
            "The score on these train-test partitions for these parameters will be set to nan.\n",
            "If these failures are not expected, you can try to debug them by setting error_score='raise'.\n",
            "\n",
            "Below are more details about the failures:\n",
            "--------------------------------------------------------------------------------\n",
            "3 fits failed with the following error:\n",
            "Traceback (most recent call last):\n",
            "  File \"/usr/local/lib/python3.8/dist-packages/sklearn/model_selection/_validation.py\", line 680, in _fit_and_score\n",
            "    estimator.fit(X_train, y_train, **fit_params)\n",
            "  File \"/usr/local/lib/python3.8/dist-packages/sklearn/multioutput.py\", line 435, in fit\n",
            "    self.classes_ = [estimator.classes_ for estimator in self.estimators_]\n",
            "  File \"/usr/local/lib/python3.8/dist-packages/sklearn/multioutput.py\", line 435, in <listcomp>\n",
            "    self.classes_ = [estimator.classes_ for estimator in self.estimators_]\n",
            "AttributeError: 'RandomForestRegressor' object has no attribute 'classes_'\n",
            "\n",
            "  warnings.warn(some_fits_failed_message, FitFailedWarning)\n",
            "\u001b[33m[W 2023-02-10 16:04:43,088]\u001b[0m Trial 1 failed with parameters: {'estimator__n_estimators': 463, 'estimator__max_depth': 13.14365359806863} because of the following error: The value array([nan, nan, nan]) could not be cast to float..\u001b[0m\n",
            "\u001b[33m[W 2023-02-10 16:04:43,095]\u001b[0m Trial 1 failed with value array([nan, nan, nan]).\u001b[0m\n",
            "<ipython-input-17-003b1e9dba99>:5: FutureWarning: suggest_loguniform has been deprecated in v3.0.0. This feature will be removed in v6.0.0. See https://github.com/optuna/optuna/releases/tag/v3.0.0. Use :func:`~optuna.trial.Trial.suggest_float` instead.\n",
            "  max_depth = int(trial.suggest_loguniform('estimator__max_depth', 1, 32))\n",
            "\u001b[33m[W 2023-02-10 16:17:11,519]\u001b[0m Trial 2 failed with parameters: {'estimator__n_estimators': 233, 'estimator__max_depth': 20.621443664184696} because of the following error: KeyboardInterrupt().\u001b[0m\n",
            "Traceback (most recent call last):\n",
            "  File \"/usr/local/lib/python3.8/dist-packages/optuna/study/_optimize.py\", line 200, in _run_trial\n",
            "    value_or_values = func(trial)\n",
            "  File \"<ipython-input-17-003b1e9dba99>\", line 7, in objective\n",
            "    return cross_val_score(reg, X_combined_train, y_reg_train, n_jobs=-1, cv=3)\n",
            "  File \"/usr/local/lib/python3.8/dist-packages/sklearn/model_selection/_validation.py\", line 509, in cross_val_score\n",
            "    cv_results = cross_validate(\n",
            "  File \"/usr/local/lib/python3.8/dist-packages/sklearn/model_selection/_validation.py\", line 267, in cross_validate\n",
            "    results = parallel(\n",
            "  File \"/usr/local/lib/python3.8/dist-packages/joblib/parallel.py\", line 1098, in __call__\n",
            "    self.retrieve()\n",
            "  File \"/usr/local/lib/python3.8/dist-packages/joblib/parallel.py\", line 975, in retrieve\n",
            "    self._output.extend(job.get(timeout=self.timeout))\n",
            "  File \"/usr/local/lib/python3.8/dist-packages/joblib/_parallel_backends.py\", line 567, in wrap_future_result\n",
            "    return future.result(timeout=timeout)\n",
            "  File \"/usr/lib/python3.8/concurrent/futures/_base.py\", line 439, in result\n",
            "    self._condition.wait(timeout)\n",
            "  File \"/usr/lib/python3.8/threading.py\", line 302, in wait\n",
            "    waiter.acquire()\n",
            "KeyboardInterrupt\n",
            "\u001b[33m[W 2023-02-10 16:17:11,527]\u001b[0m Trial 2 failed with value None.\u001b[0m\n"
          ]
        },
        {
          "output_type": "error",
          "ename": "KeyboardInterrupt",
          "evalue": "ignored",
          "traceback": [
            "\u001b[0;31m---------------------------------------------------------------------------\u001b[0m",
            "\u001b[0;31mKeyboardInterrupt\u001b[0m                         Traceback (most recent call last)",
            "\u001b[0;32m<ipython-input-17-003b1e9dba99>\u001b[0m in \u001b[0;36m<module>\u001b[0;34m\u001b[0m\n\u001b[1;32m      8\u001b[0m \u001b[0;34m\u001b[0m\u001b[0m\n\u001b[1;32m      9\u001b[0m \u001b[0mstudy\u001b[0m\u001b[0;34m=\u001b[0m\u001b[0moptuna\u001b[0m\u001b[0;34m.\u001b[0m\u001b[0mcreate_study\u001b[0m\u001b[0;34m(\u001b[0m\u001b[0mdirection\u001b[0m\u001b[0;34m=\u001b[0m\u001b[0;34m'maximize'\u001b[0m\u001b[0;34m)\u001b[0m\u001b[0;34m\u001b[0m\u001b[0;34m\u001b[0m\u001b[0m\n\u001b[0;32m---> 10\u001b[0;31m \u001b[0mstudy\u001b[0m\u001b[0;34m.\u001b[0m\u001b[0moptimize\u001b[0m\u001b[0;34m(\u001b[0m\u001b[0mobjective\u001b[0m\u001b[0;34m,\u001b[0m \u001b[0mn_trials\u001b[0m\u001b[0;34m=\u001b[0m\u001b[0;36m100\u001b[0m\u001b[0;34m)\u001b[0m\u001b[0;34m\u001b[0m\u001b[0;34m\u001b[0m\u001b[0m\n\u001b[0m\u001b[1;32m     11\u001b[0m \u001b[0;34m\u001b[0m\u001b[0m\n\u001b[1;32m     12\u001b[0m \u001b[0mtrial\u001b[0m \u001b[0;34m=\u001b[0m \u001b[0mstudy\u001b[0m\u001b[0;34m.\u001b[0m\u001b[0mbest_trial\u001b[0m\u001b[0;34m\u001b[0m\u001b[0;34m\u001b[0m\u001b[0m\n",
            "\u001b[0;32m/usr/local/lib/python3.8/dist-packages/optuna/study/study.py\u001b[0m in \u001b[0;36moptimize\u001b[0;34m(self, func, n_trials, timeout, n_jobs, catch, callbacks, gc_after_trial, show_progress_bar)\u001b[0m\n\u001b[1;32m    423\u001b[0m         \"\"\"\n\u001b[1;32m    424\u001b[0m \u001b[0;34m\u001b[0m\u001b[0m\n\u001b[0;32m--> 425\u001b[0;31m         _optimize(\n\u001b[0m\u001b[1;32m    426\u001b[0m             \u001b[0mstudy\u001b[0m\u001b[0;34m=\u001b[0m\u001b[0mself\u001b[0m\u001b[0;34m,\u001b[0m\u001b[0;34m\u001b[0m\u001b[0;34m\u001b[0m\u001b[0m\n\u001b[1;32m    427\u001b[0m             \u001b[0mfunc\u001b[0m\u001b[0;34m=\u001b[0m\u001b[0mfunc\u001b[0m\u001b[0;34m,\u001b[0m\u001b[0;34m\u001b[0m\u001b[0;34m\u001b[0m\u001b[0m\n",
            "\u001b[0;32m/usr/local/lib/python3.8/dist-packages/optuna/study/_optimize.py\u001b[0m in \u001b[0;36m_optimize\u001b[0;34m(study, func, n_trials, timeout, n_jobs, catch, callbacks, gc_after_trial, show_progress_bar)\u001b[0m\n\u001b[1;32m     64\u001b[0m     \u001b[0;32mtry\u001b[0m\u001b[0;34m:\u001b[0m\u001b[0;34m\u001b[0m\u001b[0;34m\u001b[0m\u001b[0m\n\u001b[1;32m     65\u001b[0m         \u001b[0;32mif\u001b[0m \u001b[0mn_jobs\u001b[0m \u001b[0;34m==\u001b[0m \u001b[0;36m1\u001b[0m\u001b[0;34m:\u001b[0m\u001b[0;34m\u001b[0m\u001b[0;34m\u001b[0m\u001b[0m\n\u001b[0;32m---> 66\u001b[0;31m             _optimize_sequential(\n\u001b[0m\u001b[1;32m     67\u001b[0m                 \u001b[0mstudy\u001b[0m\u001b[0;34m,\u001b[0m\u001b[0;34m\u001b[0m\u001b[0;34m\u001b[0m\u001b[0m\n\u001b[1;32m     68\u001b[0m                 \u001b[0mfunc\u001b[0m\u001b[0;34m,\u001b[0m\u001b[0;34m\u001b[0m\u001b[0;34m\u001b[0m\u001b[0m\n",
            "\u001b[0;32m/usr/local/lib/python3.8/dist-packages/optuna/study/_optimize.py\u001b[0m in \u001b[0;36m_optimize_sequential\u001b[0;34m(study, func, n_trials, timeout, catch, callbacks, gc_after_trial, reseed_sampler_rng, time_start, progress_bar)\u001b[0m\n\u001b[1;32m    161\u001b[0m \u001b[0;34m\u001b[0m\u001b[0m\n\u001b[1;32m    162\u001b[0m         \u001b[0;32mtry\u001b[0m\u001b[0;34m:\u001b[0m\u001b[0;34m\u001b[0m\u001b[0;34m\u001b[0m\u001b[0m\n\u001b[0;32m--> 163\u001b[0;31m             \u001b[0mfrozen_trial\u001b[0m \u001b[0;34m=\u001b[0m \u001b[0m_run_trial\u001b[0m\u001b[0;34m(\u001b[0m\u001b[0mstudy\u001b[0m\u001b[0;34m,\u001b[0m \u001b[0mfunc\u001b[0m\u001b[0;34m,\u001b[0m \u001b[0mcatch\u001b[0m\u001b[0;34m)\u001b[0m\u001b[0;34m\u001b[0m\u001b[0;34m\u001b[0m\u001b[0m\n\u001b[0m\u001b[1;32m    164\u001b[0m         \u001b[0;32mfinally\u001b[0m\u001b[0;34m:\u001b[0m\u001b[0;34m\u001b[0m\u001b[0;34m\u001b[0m\u001b[0m\n\u001b[1;32m    165\u001b[0m             \u001b[0;31m# The following line mitigates memory problems that can be occurred in some\u001b[0m\u001b[0;34m\u001b[0m\u001b[0;34m\u001b[0m\u001b[0;34m\u001b[0m\u001b[0m\n",
            "\u001b[0;32m/usr/local/lib/python3.8/dist-packages/optuna/study/_optimize.py\u001b[0m in \u001b[0;36m_run_trial\u001b[0;34m(study, func, catch)\u001b[0m\n\u001b[1;32m    249\u001b[0m         \u001b[0;32mand\u001b[0m \u001b[0;32mnot\u001b[0m \u001b[0misinstance\u001b[0m\u001b[0;34m(\u001b[0m\u001b[0mfunc_err\u001b[0m\u001b[0;34m,\u001b[0m \u001b[0mcatch\u001b[0m\u001b[0;34m)\u001b[0m\u001b[0;34m\u001b[0m\u001b[0;34m\u001b[0m\u001b[0m\n\u001b[1;32m    250\u001b[0m     ):\n\u001b[0;32m--> 251\u001b[0;31m         \u001b[0;32mraise\u001b[0m \u001b[0mfunc_err\u001b[0m\u001b[0;34m\u001b[0m\u001b[0;34m\u001b[0m\u001b[0m\n\u001b[0m\u001b[1;32m    252\u001b[0m     \u001b[0;32mreturn\u001b[0m \u001b[0mfrozen_trial\u001b[0m\u001b[0;34m\u001b[0m\u001b[0;34m\u001b[0m\u001b[0m\n\u001b[1;32m    253\u001b[0m \u001b[0;34m\u001b[0m\u001b[0m\n",
            "\u001b[0;32m/usr/local/lib/python3.8/dist-packages/optuna/study/_optimize.py\u001b[0m in \u001b[0;36m_run_trial\u001b[0;34m(study, func, catch)\u001b[0m\n\u001b[1;32m    198\u001b[0m     \u001b[0;32mwith\u001b[0m \u001b[0mget_heartbeat_thread\u001b[0m\u001b[0;34m(\u001b[0m\u001b[0mtrial\u001b[0m\u001b[0;34m.\u001b[0m\u001b[0m_trial_id\u001b[0m\u001b[0;34m,\u001b[0m \u001b[0mstudy\u001b[0m\u001b[0;34m.\u001b[0m\u001b[0m_storage\u001b[0m\u001b[0;34m)\u001b[0m\u001b[0;34m:\u001b[0m\u001b[0;34m\u001b[0m\u001b[0;34m\u001b[0m\u001b[0m\n\u001b[1;32m    199\u001b[0m         \u001b[0;32mtry\u001b[0m\u001b[0;34m:\u001b[0m\u001b[0;34m\u001b[0m\u001b[0;34m\u001b[0m\u001b[0m\n\u001b[0;32m--> 200\u001b[0;31m             \u001b[0mvalue_or_values\u001b[0m \u001b[0;34m=\u001b[0m \u001b[0mfunc\u001b[0m\u001b[0;34m(\u001b[0m\u001b[0mtrial\u001b[0m\u001b[0;34m)\u001b[0m\u001b[0;34m\u001b[0m\u001b[0;34m\u001b[0m\u001b[0m\n\u001b[0m\u001b[1;32m    201\u001b[0m         \u001b[0;32mexcept\u001b[0m \u001b[0mexceptions\u001b[0m\u001b[0;34m.\u001b[0m\u001b[0mTrialPruned\u001b[0m \u001b[0;32mas\u001b[0m \u001b[0me\u001b[0m\u001b[0;34m:\u001b[0m\u001b[0;34m\u001b[0m\u001b[0;34m\u001b[0m\u001b[0m\n\u001b[1;32m    202\u001b[0m             \u001b[0;31m# TODO(mamu): Handle multi-objective cases.\u001b[0m\u001b[0;34m\u001b[0m\u001b[0;34m\u001b[0m\u001b[0;34m\u001b[0m\u001b[0m\n",
            "\u001b[0;32m<ipython-input-17-003b1e9dba99>\u001b[0m in \u001b[0;36mobjective\u001b[0;34m(trial)\u001b[0m\n\u001b[1;32m      5\u001b[0m   \u001b[0mmax_depth\u001b[0m \u001b[0;34m=\u001b[0m \u001b[0mint\u001b[0m\u001b[0;34m(\u001b[0m\u001b[0mtrial\u001b[0m\u001b[0;34m.\u001b[0m\u001b[0msuggest_loguniform\u001b[0m\u001b[0;34m(\u001b[0m\u001b[0;34m'estimator__max_depth'\u001b[0m\u001b[0;34m,\u001b[0m \u001b[0;36m1\u001b[0m\u001b[0;34m,\u001b[0m \u001b[0;36m32\u001b[0m\u001b[0;34m)\u001b[0m\u001b[0;34m)\u001b[0m\u001b[0;34m\u001b[0m\u001b[0;34m\u001b[0m\u001b[0m\n\u001b[1;32m      6\u001b[0m   \u001b[0mreg\u001b[0m \u001b[0;34m=\u001b[0m \u001b[0mreg_model\u001b[0m\u001b[0;34m\u001b[0m\u001b[0;34m\u001b[0m\u001b[0m\n\u001b[0;32m----> 7\u001b[0;31m   \u001b[0;32mreturn\u001b[0m \u001b[0mcross_val_score\u001b[0m\u001b[0;34m(\u001b[0m\u001b[0mreg\u001b[0m\u001b[0;34m,\u001b[0m \u001b[0mX_combined_train\u001b[0m\u001b[0;34m,\u001b[0m \u001b[0my_reg_train\u001b[0m\u001b[0;34m,\u001b[0m \u001b[0mn_jobs\u001b[0m\u001b[0;34m=\u001b[0m\u001b[0;34m-\u001b[0m\u001b[0;36m1\u001b[0m\u001b[0;34m,\u001b[0m \u001b[0mcv\u001b[0m\u001b[0;34m=\u001b[0m\u001b[0;36m3\u001b[0m\u001b[0;34m)\u001b[0m\u001b[0;34m\u001b[0m\u001b[0;34m\u001b[0m\u001b[0m\n\u001b[0m\u001b[1;32m      8\u001b[0m \u001b[0;34m\u001b[0m\u001b[0m\n\u001b[1;32m      9\u001b[0m \u001b[0mstudy\u001b[0m\u001b[0;34m=\u001b[0m\u001b[0moptuna\u001b[0m\u001b[0;34m.\u001b[0m\u001b[0mcreate_study\u001b[0m\u001b[0;34m(\u001b[0m\u001b[0mdirection\u001b[0m\u001b[0;34m=\u001b[0m\u001b[0;34m'maximize'\u001b[0m\u001b[0;34m)\u001b[0m\u001b[0;34m\u001b[0m\u001b[0;34m\u001b[0m\u001b[0m\n",
            "\u001b[0;32m/usr/local/lib/python3.8/dist-packages/sklearn/model_selection/_validation.py\u001b[0m in \u001b[0;36mcross_val_score\u001b[0;34m(estimator, X, y, groups, scoring, cv, n_jobs, verbose, fit_params, pre_dispatch, error_score)\u001b[0m\n\u001b[1;32m    507\u001b[0m     \u001b[0mscorer\u001b[0m \u001b[0;34m=\u001b[0m \u001b[0mcheck_scoring\u001b[0m\u001b[0;34m(\u001b[0m\u001b[0mestimator\u001b[0m\u001b[0;34m,\u001b[0m \u001b[0mscoring\u001b[0m\u001b[0;34m=\u001b[0m\u001b[0mscoring\u001b[0m\u001b[0;34m)\u001b[0m\u001b[0;34m\u001b[0m\u001b[0;34m\u001b[0m\u001b[0m\n\u001b[1;32m    508\u001b[0m \u001b[0;34m\u001b[0m\u001b[0m\n\u001b[0;32m--> 509\u001b[0;31m     cv_results = cross_validate(\n\u001b[0m\u001b[1;32m    510\u001b[0m         \u001b[0mestimator\u001b[0m\u001b[0;34m=\u001b[0m\u001b[0mestimator\u001b[0m\u001b[0;34m,\u001b[0m\u001b[0;34m\u001b[0m\u001b[0;34m\u001b[0m\u001b[0m\n\u001b[1;32m    511\u001b[0m         \u001b[0mX\u001b[0m\u001b[0;34m=\u001b[0m\u001b[0mX\u001b[0m\u001b[0;34m,\u001b[0m\u001b[0;34m\u001b[0m\u001b[0;34m\u001b[0m\u001b[0m\n",
            "\u001b[0;32m/usr/local/lib/python3.8/dist-packages/sklearn/model_selection/_validation.py\u001b[0m in \u001b[0;36mcross_validate\u001b[0;34m(estimator, X, y, groups, scoring, cv, n_jobs, verbose, fit_params, pre_dispatch, return_train_score, return_estimator, error_score)\u001b[0m\n\u001b[1;32m    265\u001b[0m     \u001b[0;31m# independent, and that it is pickle-able.\u001b[0m\u001b[0;34m\u001b[0m\u001b[0;34m\u001b[0m\u001b[0;34m\u001b[0m\u001b[0m\n\u001b[1;32m    266\u001b[0m     \u001b[0mparallel\u001b[0m \u001b[0;34m=\u001b[0m \u001b[0mParallel\u001b[0m\u001b[0;34m(\u001b[0m\u001b[0mn_jobs\u001b[0m\u001b[0;34m=\u001b[0m\u001b[0mn_jobs\u001b[0m\u001b[0;34m,\u001b[0m \u001b[0mverbose\u001b[0m\u001b[0;34m=\u001b[0m\u001b[0mverbose\u001b[0m\u001b[0;34m,\u001b[0m \u001b[0mpre_dispatch\u001b[0m\u001b[0;34m=\u001b[0m\u001b[0mpre_dispatch\u001b[0m\u001b[0;34m)\u001b[0m\u001b[0;34m\u001b[0m\u001b[0;34m\u001b[0m\u001b[0m\n\u001b[0;32m--> 267\u001b[0;31m     results = parallel(\n\u001b[0m\u001b[1;32m    268\u001b[0m         delayed(_fit_and_score)(\n\u001b[1;32m    269\u001b[0m             \u001b[0mclone\u001b[0m\u001b[0;34m(\u001b[0m\u001b[0mestimator\u001b[0m\u001b[0;34m)\u001b[0m\u001b[0;34m,\u001b[0m\u001b[0;34m\u001b[0m\u001b[0;34m\u001b[0m\u001b[0m\n",
            "\u001b[0;32m/usr/local/lib/python3.8/dist-packages/joblib/parallel.py\u001b[0m in \u001b[0;36m__call__\u001b[0;34m(self, iterable)\u001b[0m\n\u001b[1;32m   1096\u001b[0m \u001b[0;34m\u001b[0m\u001b[0m\n\u001b[1;32m   1097\u001b[0m             \u001b[0;32mwith\u001b[0m \u001b[0mself\u001b[0m\u001b[0;34m.\u001b[0m\u001b[0m_backend\u001b[0m\u001b[0;34m.\u001b[0m\u001b[0mretrieval_context\u001b[0m\u001b[0;34m(\u001b[0m\u001b[0;34m)\u001b[0m\u001b[0;34m:\u001b[0m\u001b[0;34m\u001b[0m\u001b[0;34m\u001b[0m\u001b[0m\n\u001b[0;32m-> 1098\u001b[0;31m                 \u001b[0mself\u001b[0m\u001b[0;34m.\u001b[0m\u001b[0mretrieve\u001b[0m\u001b[0;34m(\u001b[0m\u001b[0;34m)\u001b[0m\u001b[0;34m\u001b[0m\u001b[0;34m\u001b[0m\u001b[0m\n\u001b[0m\u001b[1;32m   1099\u001b[0m             \u001b[0;31m# Make sure that we get a last message telling us we are done\u001b[0m\u001b[0;34m\u001b[0m\u001b[0;34m\u001b[0m\u001b[0;34m\u001b[0m\u001b[0m\n\u001b[1;32m   1100\u001b[0m             \u001b[0melapsed_time\u001b[0m \u001b[0;34m=\u001b[0m \u001b[0mtime\u001b[0m\u001b[0;34m.\u001b[0m\u001b[0mtime\u001b[0m\u001b[0;34m(\u001b[0m\u001b[0;34m)\u001b[0m \u001b[0;34m-\u001b[0m \u001b[0mself\u001b[0m\u001b[0;34m.\u001b[0m\u001b[0m_start_time\u001b[0m\u001b[0;34m\u001b[0m\u001b[0;34m\u001b[0m\u001b[0m\n",
            "\u001b[0;32m/usr/local/lib/python3.8/dist-packages/joblib/parallel.py\u001b[0m in \u001b[0;36mretrieve\u001b[0;34m(self)\u001b[0m\n\u001b[1;32m    973\u001b[0m             \u001b[0;32mtry\u001b[0m\u001b[0;34m:\u001b[0m\u001b[0;34m\u001b[0m\u001b[0;34m\u001b[0m\u001b[0m\n\u001b[1;32m    974\u001b[0m                 \u001b[0;32mif\u001b[0m \u001b[0mgetattr\u001b[0m\u001b[0;34m(\u001b[0m\u001b[0mself\u001b[0m\u001b[0;34m.\u001b[0m\u001b[0m_backend\u001b[0m\u001b[0;34m,\u001b[0m \u001b[0;34m'supports_timeout'\u001b[0m\u001b[0;34m,\u001b[0m \u001b[0;32mFalse\u001b[0m\u001b[0;34m)\u001b[0m\u001b[0;34m:\u001b[0m\u001b[0;34m\u001b[0m\u001b[0;34m\u001b[0m\u001b[0m\n\u001b[0;32m--> 975\u001b[0;31m                     \u001b[0mself\u001b[0m\u001b[0;34m.\u001b[0m\u001b[0m_output\u001b[0m\u001b[0;34m.\u001b[0m\u001b[0mextend\u001b[0m\u001b[0;34m(\u001b[0m\u001b[0mjob\u001b[0m\u001b[0;34m.\u001b[0m\u001b[0mget\u001b[0m\u001b[0;34m(\u001b[0m\u001b[0mtimeout\u001b[0m\u001b[0;34m=\u001b[0m\u001b[0mself\u001b[0m\u001b[0;34m.\u001b[0m\u001b[0mtimeout\u001b[0m\u001b[0;34m)\u001b[0m\u001b[0;34m)\u001b[0m\u001b[0;34m\u001b[0m\u001b[0;34m\u001b[0m\u001b[0m\n\u001b[0m\u001b[1;32m    976\u001b[0m                 \u001b[0;32melse\u001b[0m\u001b[0;34m:\u001b[0m\u001b[0;34m\u001b[0m\u001b[0;34m\u001b[0m\u001b[0m\n\u001b[1;32m    977\u001b[0m                     \u001b[0mself\u001b[0m\u001b[0;34m.\u001b[0m\u001b[0m_output\u001b[0m\u001b[0;34m.\u001b[0m\u001b[0mextend\u001b[0m\u001b[0;34m(\u001b[0m\u001b[0mjob\u001b[0m\u001b[0;34m.\u001b[0m\u001b[0mget\u001b[0m\u001b[0;34m(\u001b[0m\u001b[0;34m)\u001b[0m\u001b[0;34m)\u001b[0m\u001b[0;34m\u001b[0m\u001b[0;34m\u001b[0m\u001b[0m\n",
            "\u001b[0;32m/usr/local/lib/python3.8/dist-packages/joblib/_parallel_backends.py\u001b[0m in \u001b[0;36mwrap_future_result\u001b[0;34m(future, timeout)\u001b[0m\n\u001b[1;32m    565\u001b[0m         AsyncResults.get from multiprocessing.\"\"\"\n\u001b[1;32m    566\u001b[0m         \u001b[0;32mtry\u001b[0m\u001b[0;34m:\u001b[0m\u001b[0;34m\u001b[0m\u001b[0;34m\u001b[0m\u001b[0m\n\u001b[0;32m--> 567\u001b[0;31m             \u001b[0;32mreturn\u001b[0m \u001b[0mfuture\u001b[0m\u001b[0;34m.\u001b[0m\u001b[0mresult\u001b[0m\u001b[0;34m(\u001b[0m\u001b[0mtimeout\u001b[0m\u001b[0;34m=\u001b[0m\u001b[0mtimeout\u001b[0m\u001b[0;34m)\u001b[0m\u001b[0;34m\u001b[0m\u001b[0;34m\u001b[0m\u001b[0m\n\u001b[0m\u001b[1;32m    568\u001b[0m         \u001b[0;32mexcept\u001b[0m \u001b[0mCfTimeoutError\u001b[0m \u001b[0;32mas\u001b[0m \u001b[0me\u001b[0m\u001b[0;34m:\u001b[0m\u001b[0;34m\u001b[0m\u001b[0;34m\u001b[0m\u001b[0m\n\u001b[1;32m    569\u001b[0m             \u001b[0;32mraise\u001b[0m \u001b[0mTimeoutError\u001b[0m \u001b[0;32mfrom\u001b[0m \u001b[0me\u001b[0m\u001b[0;34m\u001b[0m\u001b[0;34m\u001b[0m\u001b[0m\n",
            "\u001b[0;32m/usr/lib/python3.8/concurrent/futures/_base.py\u001b[0m in \u001b[0;36mresult\u001b[0;34m(self, timeout)\u001b[0m\n\u001b[1;32m    437\u001b[0m                     \u001b[0;32mreturn\u001b[0m \u001b[0mself\u001b[0m\u001b[0;34m.\u001b[0m\u001b[0m__get_result\u001b[0m\u001b[0;34m(\u001b[0m\u001b[0;34m)\u001b[0m\u001b[0;34m\u001b[0m\u001b[0;34m\u001b[0m\u001b[0m\n\u001b[1;32m    438\u001b[0m \u001b[0;34m\u001b[0m\u001b[0m\n\u001b[0;32m--> 439\u001b[0;31m                 \u001b[0mself\u001b[0m\u001b[0;34m.\u001b[0m\u001b[0m_condition\u001b[0m\u001b[0;34m.\u001b[0m\u001b[0mwait\u001b[0m\u001b[0;34m(\u001b[0m\u001b[0mtimeout\u001b[0m\u001b[0;34m)\u001b[0m\u001b[0;34m\u001b[0m\u001b[0;34m\u001b[0m\u001b[0m\n\u001b[0m\u001b[1;32m    440\u001b[0m \u001b[0;34m\u001b[0m\u001b[0m\n\u001b[1;32m    441\u001b[0m                 \u001b[0;32mif\u001b[0m \u001b[0mself\u001b[0m\u001b[0;34m.\u001b[0m\u001b[0m_state\u001b[0m \u001b[0;32min\u001b[0m \u001b[0;34m[\u001b[0m\u001b[0mCANCELLED\u001b[0m\u001b[0;34m,\u001b[0m \u001b[0mCANCELLED_AND_NOTIFIED\u001b[0m\u001b[0;34m]\u001b[0m\u001b[0;34m:\u001b[0m\u001b[0;34m\u001b[0m\u001b[0;34m\u001b[0m\u001b[0m\n",
            "\u001b[0;32m/usr/lib/python3.8/threading.py\u001b[0m in \u001b[0;36mwait\u001b[0;34m(self, timeout)\u001b[0m\n\u001b[1;32m    300\u001b[0m         \u001b[0;32mtry\u001b[0m\u001b[0;34m:\u001b[0m    \u001b[0;31m# restore state no matter what (e.g., KeyboardInterrupt)\u001b[0m\u001b[0;34m\u001b[0m\u001b[0;34m\u001b[0m\u001b[0m\n\u001b[1;32m    301\u001b[0m             \u001b[0;32mif\u001b[0m \u001b[0mtimeout\u001b[0m \u001b[0;32mis\u001b[0m \u001b[0;32mNone\u001b[0m\u001b[0;34m:\u001b[0m\u001b[0;34m\u001b[0m\u001b[0;34m\u001b[0m\u001b[0m\n\u001b[0;32m--> 302\u001b[0;31m                 \u001b[0mwaiter\u001b[0m\u001b[0;34m.\u001b[0m\u001b[0macquire\u001b[0m\u001b[0;34m(\u001b[0m\u001b[0;34m)\u001b[0m\u001b[0;34m\u001b[0m\u001b[0;34m\u001b[0m\u001b[0m\n\u001b[0m\u001b[1;32m    303\u001b[0m                 \u001b[0mgotit\u001b[0m \u001b[0;34m=\u001b[0m \u001b[0;32mTrue\u001b[0m\u001b[0;34m\u001b[0m\u001b[0;34m\u001b[0m\u001b[0m\n\u001b[1;32m    304\u001b[0m             \u001b[0;32melse\u001b[0m\u001b[0;34m:\u001b[0m\u001b[0;34m\u001b[0m\u001b[0;34m\u001b[0m\u001b[0m\n",
            "\u001b[0;31mKeyboardInterrupt\u001b[0m: "
          ]
        }
      ]
    },
    {
      "cell_type": "code",
      "execution_count": null,
      "id": "5b91bf8a",
      "metadata": {
        "id": "5b91bf8a"
      },
      "outputs": [],
      "source": [
        "# Coarse-Grained RandomForestRegressor GridSearch - combined\n",
        "\n",
        "param_grid_coarse_rf_reg_combined = {'max_depth':[1,2,4,5,8,20], \n",
        "              'n_estimators': [250, 500, 1000], \n",
        "              'min_samples_split': [2,4,5,8,12,20]}\n",
        "\n",
        "grid_search_cv_coarse_rf_reg_combined = GridSearchCV(RandomForestRegressor(random_state=42), \n",
        "                                                     param_grid_coarse_rf_reg_combined, verbose=1, cv=3)\n",
        "grid_search_cv_coarse_rf_reg_combined.fit(X_combined_train, y_reg_train)\n",
        "\n",
        "print(\"The best parameters are: \", grid_search_cv_coarse_rf_reg_combined.best_params_)"
      ]
    },
    {
      "cell_type": "code",
      "execution_count": null,
      "id": "de67fea1",
      "metadata": {
        "id": "de67fea1"
      },
      "outputs": [],
      "source": [
        "# Refined RandomForestRegressor GridSearch - combined\n",
        "\n",
        "param_grid_refined_rf_reg_combined = {'max_depth':[4,5,6,7,8], \n",
        "              'n_estimators': [900, 950, 1000, 1050, 1100], \n",
        "              'min_samples_split': [5,6,7,8,9,10,11,12]}\n",
        "\n",
        "grid_search_cv_refined_rf_reg_combined = GridSearchCV(RandomForestRegressor(random_state=42), \n",
        "                                                      param_grid_refined_rf_reg_combined, verbose=1, cv=3)\n",
        "grid_search_cv_refined_rf_reg_combined.fit(X_combined_train, y_reg_train)\n",
        "\n",
        "print(\"The best parameters are: \", grid_search_cv_refined_rf_reg_combined.best_params_)"
      ]
    },
    {
      "cell_type": "code",
      "execution_count": null,
      "id": "e17b7de3",
      "metadata": {
        "id": "e17b7de3"
      },
      "outputs": [],
      "source": [
        "# Final RandomForestRegressor GridSearch - combined\n",
        "\n",
        "param_grid_final_rf_reg_combined = {'max_depth':[5], \n",
        "              'n_estimators': [750, 800, 850, 900, 950, 1000], \n",
        "              'min_samples_split': [8]}\n",
        "\n",
        "grid_search_cv_final_rf_reg_combined = GridSearchCV(RandomForestRegressor(random_state=42), \n",
        "                                                    param_grid_final_rf_reg_combined, verbose=1, cv=3)\n",
        "grid_search_cv_final_rf_reg_combined.fit(X_combined_train, y_reg_train)\n",
        "\n",
        "print(\"The best parameters are: \", grid_search_cv_final_rf_reg_combined.best_params_)"
      ]
    },
    {
      "cell_type": "code",
      "execution_count": null,
      "id": "7a8f8937",
      "metadata": {
        "id": "7a8f8937"
      },
      "outputs": [],
      "source": [
        "# Optimal RandomForestRegressor Model based on GridSearch results for combined paternal and maternal features\n",
        "optimal_rf_reg_combined = RandomForestRegressor(max_depth=grid_search_cv_final_rf_reg_combined.best_params_['max_depth'],\n",
        "                                   n_estimators=grid_search_cv_final_rf_reg_combined.best_params_['n_estimators'],\n",
        "                                   min_samples_split=grid_search_cv_final_rf_reg_combined.best_params_['min_samples_split'],\n",
        "                                   random_state=42)\n",
        "optimal_rf_reg_combined.fit(X_combined_train, y_reg_train)"
      ]
    },
    {
      "cell_type": "markdown",
      "id": "b2443bec",
      "metadata": {
        "id": "b2443bec"
      },
      "source": [
        "### Permutation Importance for RandomForestRegressor() Models"
      ]
    },
    {
      "cell_type": "code",
      "execution_count": null,
      "id": "8d543514",
      "metadata": {
        "id": "8d543514"
      },
      "outputs": [],
      "source": [
        "# permutation importance for paternal RandomForestRegressor Model\n",
        "r_reg_paternal = permutation_importance(rf_reg_paternal, X_paternal_test, y_reg_test, n_repeats=10, random_state=42)"
      ]
    },
    {
      "cell_type": "code",
      "execution_count": null,
      "id": "b0e7b99e",
      "metadata": {
        "id": "b0e7b99e"
      },
      "outputs": [],
      "source": [
        "r_reg_paternal.importances_mean"
      ]
    },
    {
      "cell_type": "code",
      "execution_count": null,
      "id": "86045792",
      "metadata": {
        "id": "86045792"
      },
      "outputs": [],
      "source": [
        "r_reg_paternal.importances_mean"
      ]
    },
    {
      "cell_type": "code",
      "execution_count": null,
      "id": "ea9bb582",
      "metadata": {
        "id": "ea9bb582"
      },
      "outputs": [],
      "source": [
        "# permutation importance for maternal RandomForestRegressor Model\n",
        "r_reg_maternal = permutation_importance(rf_reg_maternal, X_maternal_test, y_reg_test, n_repeats=10, random_state=42)"
      ]
    },
    {
      "cell_type": "code",
      "execution_count": null,
      "id": "2d156271",
      "metadata": {
        "id": "2d156271"
      },
      "outputs": [],
      "source": [
        "r_reg_maternal.importances_mean"
      ]
    },
    {
      "cell_type": "code",
      "execution_count": null,
      "id": "7ea5812a",
      "metadata": {
        "id": "7ea5812a"
      },
      "outputs": [],
      "source": [
        "r_reg_maternal.importances"
      ]
    },
    {
      "cell_type": "code",
      "execution_count": null,
      "id": "bc5e6bd6",
      "metadata": {
        "id": "bc5e6bd6"
      },
      "outputs": [],
      "source": [
        "# permutation importance for combined RandomForestRegressor Model\n",
        "r_reg_combined = permutation_importance(rf_reg_combined, X_combined_test, y_reg_test, n_repeats=10, random_state=42)"
      ]
    },
    {
      "cell_type": "code",
      "execution_count": null,
      "id": "370a3d70",
      "metadata": {
        "id": "370a3d70"
      },
      "outputs": [],
      "source": [
        "r_reg_combined.importances_mean"
      ]
    },
    {
      "cell_type": "code",
      "execution_count": null,
      "id": "d96f8bc1",
      "metadata": {
        "id": "d96f8bc1"
      },
      "outputs": [],
      "source": [
        "r_reg_combined.importances"
      ]
    },
    {
      "cell_type": "markdown",
      "id": "9bb9c28f",
      "metadata": {
        "id": "9bb9c28f"
      },
      "source": [
        "### Generalization Error for RandomForestRegressor() Models"
      ]
    },
    {
      "cell_type": "code",
      "execution_count": null,
      "id": "c26bb2e0",
      "metadata": {
        "id": "c26bb2e0"
      },
      "outputs": [],
      "source": [
        "from sklearn.metrics import mean_squared_error\n",
        "\n",
        "#https://scikit-learn.org/stable/auto_examples/ensemble/plot_random_forest_regression_multioutput.html#sphx-glr-auto-examples-ensemble-plot-random-forest-regression-multioutput-py\n",
        "# rf_reg_paternal.score()\n",
        "\n",
        "#generalization error paternal RandomForestRegressor model\n",
        "optimal_rf_reg_paternal_y_pred = optimal_rf_reg_paternal.predict(X_paternal_test)\n",
        "optimal_mse_rf_reg_paternal = mean_squared_error(y_reg_test, optimal_rf_reg_paternal_y_pred)\n",
        "\n",
        "#generalization error maternal RandomForestRegressor model\n",
        "optimal_rf_reg_maternal_y_pred = optimal_rf_reg_maternal.predict(X_maternal_test)\n",
        "optimal_mse_rf_reg_maternal = mean_squared_error(y_reg_test, optimal_rf_reg_maternal_y_pred)\n",
        "\n",
        "#generalization error combined RandomForestRegressor model\n",
        "optimal_rf_reg_combined_y_pred = optimal_rf_reg_combined.predict(X_combined_test)\n",
        "optimal_mse_rf_reg_combined = mean_squared_error(y_reg_test, optimal_rf_reg_combined_y_pred)\n",
        "\n",
        "\n",
        "print(\"Generalization error for Optimal Paternal Random Forest Regressor Model: \", round(optimal_mse_rf_reg_paternal, 4))\n",
        "print(\"Generalization error for Optimal Maternal Random Forest Regressor Model: \", round(optimal_mse_rf_reg_maternal, 4))\n",
        "print(\"Generalization error for Optimal Combined Random Forest Regressor Model: \", round(optimal_mse_rf_reg_combined, 4))"
      ]
    },
    {
      "cell_type": "markdown",
      "source": [
        "## References\n",
        "\n",
        "Mutsaerts, M. A. Q., Groen, H., Buiter-Van der Meer, A., Sijtsma, A., Sauer, P. J. J., Land, J. A., Mol, B. W., Corpeleijn, E., & Hoek, A.  (2014).  Effects of paternal and maternal lifestyle factors on pregnancy complications and perinatal outcome.  A population-based birth-cohort study: the GECKO Drenthe cohort.  Human Reproduction, 29(4), 824-834.  https://doi.org/10.1093/humrep/deu006 \n"
      ],
      "metadata": {
        "id": "uzvHW4WxMK-A"
      },
      "id": "uzvHW4WxMK-A"
    }
  ],
  "metadata": {
    "kernelspec": {
      "display_name": "Python 3",
      "language": "python",
      "name": "python3"
    },
    "language_info": {
      "codemirror_mode": {
        "name": "ipython",
        "version": 3
      },
      "file_extension": ".py",
      "mimetype": "text/x-python",
      "name": "python",
      "nbconvert_exporter": "python",
      "pygments_lexer": "ipython3",
      "version": "3.8.8"
    },
    "colab": {
      "provenance": [],
      "collapsed_sections": [
        "4688cbfa",
        "b620eed5",
        "0d447675",
        "8be6c862",
        "7470922c",
        "c3002daa",
        "ce138805",
        "0e53ed3c",
        "093f0636"
      ],
      "include_colab_link": true
    }
  },
  "nbformat": 4,
  "nbformat_minor": 5
}